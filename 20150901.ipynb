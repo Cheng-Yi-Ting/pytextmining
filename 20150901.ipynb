{
 "cells": [
  {
   "cell_type": "code",
   "execution_count": 1,
   "metadata": {
    "collapsed": false
   },
   "outputs": [
    {
     "name": "stderr",
     "output_type": "stream",
     "text": [
      "Building prefix dict from C:\\Python27\\lib\\site-packages\\jieba\\dict.txt ...\n",
      "DEBUG:jieba:Building prefix dict from C:\\Python27\\lib\\site-packages\\jieba\\dict.txt ...\n",
      "Dumping model to file cache c:\\users\\david\\appdata\\local\\temp\\jieba.cache\n",
      "DEBUG:jieba:Dumping model to file cache c:\\users\\david\\appdata\\local\\temp\\jieba.cache\n",
      "Loading model cost 2.01600003242 seconds.\n",
      "DEBUG:jieba:Loading model cost 2.01600003242 seconds.\n",
      "Prefix dict has been built succesfully.\n",
      "DEBUG:jieba:Prefix dict has been built succesfully.\n"
     ]
    },
    {
     "name": "stdout",
     "output_type": "stream",
     "text": [
      "大\n",
      "巨蛋\n",
      "案對\n",
      "市府\n",
      "同仁\n",
      "下\n",
      "封口令\n",
      "？\n",
      "　\n",
      "柯\n",
      "P\n",
      "否認\n"
     ]
    }
   ],
   "source": [
    "import jieba\n",
    "\n",
    "sentence = \"大巨蛋案對市府同仁下封口令？　柯P否認\"\n",
    "words = jieba.cut(sentence, cut_all=False)\n",
    "for word in words:\n",
    "    print word"
   ]
  },
  {
   "cell_type": "code",
   "execution_count": 5,
   "metadata": {
    "collapsed": false
   },
   "outputs": [],
   "source": [
    "import jieba\n",
    "\n",
    "jieba.load_userdict(\"userdict.txt\")"
   ]
  },
  {
   "cell_type": "code",
   "execution_count": 6,
   "metadata": {
    "collapsed": false
   },
   "outputs": [
    {
     "name": "stdout",
     "output_type": "stream",
     "text": [
      "大巨蛋\n",
      "案對\n",
      "市府\n",
      "同仁\n",
      "下\n",
      "封口令\n",
      "？\n",
      "　\n",
      "柯P\n",
      "否認\n"
     ]
    }
   ],
   "source": [
    "import jieba\n",
    "\n",
    "sentence = \"大巨蛋案對市府同仁下封口令？　柯P否認\"\n",
    "words = jieba.cut(sentence, cut_all=False)\n",
    "for word in words:\n",
    "    print word"
   ]
  },
  {
   "cell_type": "code",
   "execution_count": 7,
   "metadata": {
    "collapsed": false,
    "scrolled": true
   },
   "outputs": [
    {
     "name": "stdout",
     "output_type": "stream",
     "text": [
      "大巨蛋\n",
      "案對\n",
      "市府\n",
      "同仁\n",
      "下\n",
      "封口令\n",
      "？\n",
      "　\n",
      "柯\n",
      "P\n",
      "否認\n",
      "大巨蛋\n",
      "案對\n",
      "市府\n",
      "同仁\n",
      "下\n",
      "封口令\n",
      "？\n",
      "　\n",
      "柯P\n",
      "否認\n"
     ]
    }
   ],
   "source": [
    "import jieba\n",
    "jieba.del_word('柯P')\n",
    "sentence = \"大巨蛋案對市府同仁下封口令？　柯P否認\"\n",
    "words = jieba.cut(sentence, cut_all=False)\n",
    "for word in words:\n",
    "    print word\n",
    "jieba.add_word('柯P',100, 'nr')\n",
    "sentence = \"大巨蛋案對市府同仁下封口令？　柯P否認\"\n",
    "words = jieba.cut(sentence, cut_all=False)\n",
    "for word in words:\n",
    "    print word"
   ]
  },
  {
   "cell_type": "code",
   "execution_count": 8,
   "metadata": {
    "collapsed": false
   },
   "outputs": [
    {
     "name": "stdout",
     "output_type": "stream",
     "text": [
      "大巨蛋 n\n",
      "案 ng\n",
      "對 p\n",
      "市府 n\n",
      "同仁 nr\n",
      "下 f\n",
      "封口令 n\n",
      "？ x\n",
      "　x\n",
      "柯P nr\n",
      "否認 v\n"
     ]
    }
   ],
   "source": [
    "import jieba.posseg as pseg\n",
    "words = pseg.cut(\"大巨蛋案對市府同仁下封口令？　柯P否認\")\n",
    "for w in words:\n",
    "    print w.word, w.flag\n"
   ]
  },
  {
   "cell_type": "code",
   "execution_count": 11,
   "metadata": {
    "collapsed": false
   },
   "outputs": [
    {
     "name": "stdout",
     "output_type": "stream",
     "text": [
      "封口令,案對,大巨蛋,否認,柯P,市府,同仁\n",
      "柯P,同仁\n"
     ]
    }
   ],
   "source": [
    "import jieba.analyse\n",
    "tags = jieba.analyse.extract_tags(sentence, 10)\n",
    "print \",\".join(tags)\n",
    "tags = jieba.analyse.extract_tags(sentence, 10, allowPOS = ['nr'])\n",
    "print \",\".join(tags)\n"
   ]
  },
  {
   "cell_type": "code",
   "execution_count": 13,
   "metadata": {
    "collapsed": false
   },
   "outputs": [
    {
     "name": "stdout",
     "output_type": "stream",
     "text": [
      "歐洲/電商/組織/包裹/物流/一來/領域/遞送/緊密/Europe/市場/順暢/根據/決電商/服務/集團/障礙/積極/目標/更為\n"
     ]
    }
   ],
   "source": [
    "import jieba.analyse\n",
    "jieba.analyse.set_stop_words(\"stopword.txt\")\n",
    "\n",
    "sentence = \"根據歐洲電商組織(Ecommerce Europe) 最新消息得知，\\\n",
    "該集團積極讓歐洲的包裹遞送服務與電商領域有更緊密結合。如此一來，\\\n",
    "便可解決電商物流的障礙。此組織總共結合歐洲 16 國的電商協會，\\\n",
    "目標整合歐洲的包裹物流市場，讓商品跨境更為順暢\"\n",
    "tags = jieba.analyse.extract_tags(sentence)\n",
    "print '/'.join(tags)\n"
   ]
  },
  {
   "cell_type": "code",
   "execution_count": 34,
   "metadata": {
    "collapsed": false
   },
   "outputs": [],
   "source": [
    "import sqlite3\n",
    "import jieba\n",
    "db = sqlite3.connect('news.db') \n",
    "cur = db.cursor()\n",
    "sentenceAry = [] \n",
    "cur.execute('select * from news_entry')\n",
    "allNews = cur.fetchall()\n",
    "dic = {}\n",
    "for rec in allNews:\n",
    "    words = jieba.cut(rec[4])\n",
    "    sentenceAry.append(rec[4].encode('utf-8'))\n",
    "    for w in words:\n",
    "        if w not in dic:\n",
    "            dic[w] = 1\n",
    "        else:\n",
    "            dic[w] = dic[w] + 1\n",
    "cur.close()\n",
    "db.close()\n",
    "\n",
    "#for word in dic:\n",
    "#    print word, dic[word]"
   ]
  },
  {
   "cell_type": "code",
   "execution_count": 35,
   "metadata": {
    "collapsed": false
   },
   "outputs": [
    {
     "name": "stdout",
     "output_type": "stream",
     "text": [
      "更新 49\n",
      "悠遊卡 16\n",
      "波多野 14\n",
      "法廣 13\n",
      "RFI 13\n",
      "網友 12\n",
      "台灣 11\n",
      "閱兵 10\n",
      "結衣 9\n"
     ]
    }
   ],
   "source": [
    "from operator import itemgetter\n",
    "swd = sorted(dic.iteritems(), key=itemgetter(1), reverse=True)\n",
    "swd = [w for w in swd[1:50] if w[0] not in ' 「」！：？【】...'.decode('utf-8')]\n",
    "for ele in swd[0:100]:\n",
    "    if len(ele[0]) >= 2:\n",
    "        print ele[0], ele[1]"
   ]
  },
  {
   "cell_type": "code",
   "execution_count": 36,
   "metadata": {
    "collapsed": true
   },
   "outputs": [],
   "source": [
    "def ngram(input_sentence, n = 2):\n",
    "    word_dic = {}\n",
    "    sentence  = input_sentence.decode('utf-8')\n",
    "    for i in range(0, len(sentence) - n + 1):\n",
    "        if sentence[i:i+n] not in word_dic:\n",
    "            word_dic[sentence[i:i+n]] = 1\n",
    "        else:\n",
    "            word_dic[sentence[i:i+n]] = word_dic[sentence[i:i+n]] + 1\n",
    "    return word_dic\n",
    "\n",
    "def removeKey(text, keyword):\n",
    "    textAry= text\n",
    "    for key in keyword:\n",
    "        textAry = ''.join(textAry.split(key))\n",
    "    return textAry"
   ]
  },
  {
   "cell_type": "code",
   "execution_count": 42,
   "metadata": {
    "collapsed": false
   },
   "outputs": [
    {
     "name": "stdout",
     "output_type": "stream",
     "text": [
      "　國 5\n",
      "　小 7\n",
      "　「 12\n",
      "廣RFI】 13\n",
      "了！ 5\n",
      "直擊 5\n",
      "8億 5\n",
      "片　5\n",
      "點　6\n",
      "多野悠遊卡 7\n",
      "悠遊卡 12\n",
      "食品 5\n",
      "國道 5\n",
      "【】 13\n",
      "20 7\n",
      "波多野悠遊 7\n",
      "台灣 16\n",
      "金鐘 5\n",
      "這樣 6\n",
      "北京 5\n",
      "　2 6\n",
      "　3 9\n",
      "　1 6\n",
      "的人 5\n",
      "　男 5\n",
      "網友 6\n",
      "... 95\n",
      "   17\n",
      "AV女優 8\n",
      "　李 5\n",
      "億元 5\n",
      "　民眾 6\n",
      "記者 6\n",
      "影片 6\n",
      "股價 6\n",
      "　警 6\n",
      "　網友 7\n",
      "年　5\n",
      "大雨 5\n",
      "11 5\n",
      "10 12\n",
      "13 5\n",
      "15 5\n",
      "17 5\n",
      "18 10\n",
      ".... 6\n",
      "槍手 6\n",
      "閱兵　7\n",
      "國民 5\n",
      "台股 5\n",
      "少女 6\n",
      "代言 5\n",
      "北市 5\n",
      "！　8\n",
      "【民報 5\n",
      "0億 5\n",
      "80 5\n",
      "連戰 8\n",
      "？　8\n",
      "【法廣RF 13\n",
      "00 14\n",
      "美記者 6\n",
      "閱兵 5\n",
      "時代 6\n",
      "曝光 8\n",
      "募兵 5\n",
      "人　5\n",
      "40 5\n",
      "市場 5\n",
      "釣魚 5\n",
      "處理 5\n",
      "0萬 10\n",
      "是... 5\n",
      "：不 5\n",
      "台北 6\n",
      "0元 5\n",
      "手　6\n",
      "　他 7\n",
      "中國 9\n",
      "經濟 6\n",
      "案　7\n",
      "波多野結衣 8\n",
      "【更新】 48\n",
      "60 6\n",
      "」　11\n",
      "0年 5\n",
      "【公庫】 5\n",
      "30 5\n",
      "槍擊 6\n",
      "法廣RFI 13\n",
      "自拍 6\n",
      "　台 7\n",
      "柯P 6\n",
      "什麼 7\n"
     ]
    }
   ],
   "source": [
    "keywords=[]        \n",
    "ret_terms={}\n",
    "words_freq    = []\n",
    "for term_length in range(5,1,-1):\n",
    "    word_dic = {}\n",
    "    for sentence in sentenceAry:\n",
    "        text_list = removeKey(sentence,keywords)        \n",
    "        ngram_words = ngram(text_list,term_length) \n",
    "        for word in ngram_words:\n",
    "            if word not in word_dic:\n",
    "                word_dic[word] = 1\n",
    "            else:\n",
    "                word_dic[word] += ngram_words[word]   \n",
    "    for word in word_dic:\n",
    "        if word_dic[word] >= 5:\n",
    "            keywords.append(word.encode('utf-8'))            \n",
    "            ret_terms.update({word:word_dic[word]})\n",
    "\n",
    "for ele in ret_terms:\n",
    "    print ele, ret_terms[ele]"
   ]
  },
  {
   "cell_type": "code",
   "execution_count": 48,
   "metadata": {
    "collapsed": false
   },
   "outputs": [
    {
     "data": {
      "text/html": [
       "\n",
       "  <head>\n",
       "    <title>Word Cloud</title>\n",
       "    <script src=\"tagcanvas.min.js\" type=\"text/javascript\"></script>\n",
       "  </head>\n",
       "  <body>\n",
       "    <h1>Word Cloud</h1>\n",
       "    <div id=\"myCanvasContainer\">\n",
       "      <canvas width=\"300\" height=\"300\" id=\"myCanvas\">\n",
       "        <p>Anything in here will be replaced on browsers that support the canvas element</p>\n",
       "      </canvas>\n",
       "    </div>\n",
       "    <div id=\"tags\"><ul id=\"weightTags\"><li><a data-weight=\"1\" style=\"font-size: 國em\">　</a></li><li><a data-weight=\"1\" style=\"font-size: 小em\">　</a></li><li><a data-weight=\"1\" style=\"font-size: 「em\">　</a></li><li><a data-weight=\"1\" style=\"font-size: Rem\">廣</a></li><li><a data-weight=\"1\" style=\"font-size: ！em\">了</a></li><li><a data-weight=\"1\" style=\"font-size: 擊em\">直</a></li><li><a data-weight=\"1\" style=\"font-size: 億em\">8</a></li><li><a data-weight=\"1\" style=\"font-size: 　em\">片</a></li><li><a data-weight=\"1\" style=\"font-size: 　em\">點</a></li><li><a data-weight=\"1\" style=\"font-size: 野em\">多</a></li><li><a data-weight=\"1\" style=\"font-size: 遊em\">悠</a></li><li><a data-weight=\"1\" style=\"font-size: 品em\">食</a></li><li><a data-weight=\"1\" style=\"font-size: 道em\">國</a></li><li><a data-weight=\"1\" style=\"font-size: 】em\">【</a></li><li><a data-weight=\"1\" style=\"font-size: 0em\">2</a></li><li><a data-weight=\"1\" style=\"font-size: 多em\">波</a></li><li><a data-weight=\"1\" style=\"font-size: 灣em\">台</a></li><li><a data-weight=\"1\" style=\"font-size: 鐘em\">金</a></li><li><a data-weight=\"1\" style=\"font-size: 樣em\">這</a></li><li><a data-weight=\"1\" style=\"font-size: 京em\">北</a></li><li><a data-weight=\"1\" style=\"font-size: 2em\">　</a></li><li><a data-weight=\"1\" style=\"font-size: 3em\">　</a></li><li><a data-weight=\"1\" style=\"font-size: 1em\">　</a></li><li><a data-weight=\"1\" style=\"font-size: 人em\">的</a></li><li><a data-weight=\"1\" style=\"font-size: 男em\">　</a></li><li><a data-weight=\"1\" style=\"font-size: 友em\">網</a></li><li><a data-weight=\"1\" style=\"font-size: .em\">.</a></li><li><a data-weight=\"1\" style=\"font-size:  em\"> </a></li><li><a data-weight=\"1\" style=\"font-size: Vem\">A</a></li><li><a data-weight=\"1\" style=\"font-size: 李em\">　</a></li><li><a data-weight=\"1\" style=\"font-size: 元em\">億</a></li><li><a data-weight=\"1\" style=\"font-size: 民em\">　</a></li><li><a data-weight=\"1\" style=\"font-size: 者em\">記</a></li><li><a data-weight=\"1\" style=\"font-size: 片em\">影</a></li><li><a data-weight=\"1\" style=\"font-size: 價em\">股</a></li><li><a data-weight=\"1\" style=\"font-size: 警em\">　</a></li><li><a data-weight=\"1\" style=\"font-size: 網em\">　</a></li><li><a data-weight=\"1\" style=\"font-size: 　em\">年</a></li><li><a data-weight=\"1\" style=\"font-size: 雨em\">大</a></li><li><a data-weight=\"1\" style=\"font-size: 1em\">1</a></li><li><a data-weight=\"1\" style=\"font-size: 0em\">1</a></li><li><a data-weight=\"1\" style=\"font-size: 3em\">1</a></li><li><a data-weight=\"1\" style=\"font-size: 5em\">1</a></li><li><a data-weight=\"1\" style=\"font-size: 7em\">1</a></li><li><a data-weight=\"1\" style=\"font-size: 8em\">1</a></li><li><a data-weight=\"1\" style=\"font-size: .em\">.</a></li><li><a data-weight=\"1\" style=\"font-size: 手em\">槍</a></li><li><a data-weight=\"1\" style=\"font-size: 兵em\">閱</a></li><li><a data-weight=\"1\" style=\"font-size: 民em\">國</a></li><li><a data-weight=\"1\" style=\"font-size: 股em\">台</a></li><li><a data-weight=\"1\" style=\"font-size: 女em\">少</a></li><li><a data-weight=\"1\" style=\"font-size: 言em\">代</a></li><li><a data-weight=\"1\" style=\"font-size: 市em\">北</a></li><li><a data-weight=\"1\" style=\"font-size: 　em\">！</a></li><li><a data-weight=\"1\" style=\"font-size: 民em\">【</a></li><li><a data-weight=\"1\" style=\"font-size: 億em\">0</a></li><li><a data-weight=\"1\" style=\"font-size: 0em\">8</a></li><li><a data-weight=\"1\" style=\"font-size: 戰em\">連</a></li><li><a data-weight=\"1\" style=\"font-size: 　em\">？</a></li><li><a data-weight=\"1\" style=\"font-size: 法em\">【</a></li><li><a data-weight=\"1\" style=\"font-size: 0em\">0</a></li><li><a data-weight=\"1\" style=\"font-size: 記em\">美</a></li><li><a data-weight=\"1\" style=\"font-size: 兵em\">閱</a></li><li><a data-weight=\"1\" style=\"font-size: 代em\">時</a></li><li><a data-weight=\"1\" style=\"font-size: 光em\">曝</a></li><li><a data-weight=\"1\" style=\"font-size: 兵em\">募</a></li><li><a data-weight=\"1\" style=\"font-size: 　em\">人</a></li><li><a data-weight=\"1\" style=\"font-size: 0em\">4</a></li><li><a data-weight=\"1\" style=\"font-size: 場em\">市</a></li><li><a data-weight=\"1\" style=\"font-size: 魚em\">釣</a></li><li><a data-weight=\"1\" style=\"font-size: 理em\">處</a></li><li><a data-weight=\"1\" style=\"font-size: 萬em\">0</a></li><li><a data-weight=\"1\" style=\"font-size: .em\">是</a></li><li><a data-weight=\"1\" style=\"font-size: 不em\">：</a></li><li><a data-weight=\"1\" style=\"font-size: 北em\">台</a></li><li><a data-weight=\"1\" style=\"font-size: 元em\">0</a></li><li><a data-weight=\"1\" style=\"font-size: 　em\">手</a></li><li><a data-weight=\"1\" style=\"font-size: 他em\">　</a></li><li><a data-weight=\"1\" style=\"font-size: 國em\">中</a></li><li><a data-weight=\"1\" style=\"font-size: 濟em\">經</a></li><li><a data-weight=\"1\" style=\"font-size: 　em\">案</a></li><li><a data-weight=\"1\" style=\"font-size: 多em\">波</a></li><li><a data-weight=\"1\" style=\"font-size: 更em\">【</a></li><li><a data-weight=\"1\" style=\"font-size: 0em\">6</a></li><li><a data-weight=\"1\" style=\"font-size: 　em\">」</a></li><li><a data-weight=\"1\" style=\"font-size: 年em\">0</a></li><li><a data-weight=\"1\" style=\"font-size: 公em\">【</a></li><li><a data-weight=\"1\" style=\"font-size: 0em\">3</a></li><li><a data-weight=\"1\" style=\"font-size: 擊em\">槍</a></li><li><a data-weight=\"1\" style=\"font-size: 廣em\">法</a></li><li><a data-weight=\"1\" style=\"font-size: 拍em\">自</a></li><li><a data-weight=\"1\" style=\"font-size: 台em\">　</a></li><li><a data-weight=\"1\" style=\"font-size: Pem\">柯</a></li><li><a data-weight=\"1\" style=\"font-size: 麼em\">什</a></li><li><a data-weight=\"1\" style=\"font-size: 5em\">　國</a></li><li><a data-weight=\"1\" style=\"font-size: 7em\">　小</a></li><li><a data-weight=\"1\" style=\"font-size: 12em\">　「</a></li><li><a data-weight=\"1\" style=\"font-size: 13em\">廣RFI】</a></li><li><a data-weight=\"1\" style=\"font-size: 5em\">了！</a></li><li><a data-weight=\"1\" style=\"font-size: 5em\">直擊</a></li><li><a data-weight=\"1\" style=\"font-size: 5em\">8億</a></li><li><a data-weight=\"1\" style=\"font-size: 5em\">片　</a></li><li><a data-weight=\"1\" style=\"font-size: 6em\">點　</a></li><li><a data-weight=\"1\" style=\"font-size: 7em\">多野悠遊卡</a></li><li><a data-weight=\"1\" style=\"font-size: 12em\">悠遊卡</a></li><li><a data-weight=\"1\" style=\"font-size: 5em\">食品</a></li><li><a data-weight=\"1\" style=\"font-size: 5em\">國道</a></li><li><a data-weight=\"1\" style=\"font-size: 13em\">【】</a></li><li><a data-weight=\"1\" style=\"font-size: 7em\">20</a></li><li><a data-weight=\"1\" style=\"font-size: 7em\">波多野悠遊</a></li><li><a data-weight=\"1\" style=\"font-size: 16em\">台灣</a></li><li><a data-weight=\"1\" style=\"font-size: 5em\">金鐘</a></li><li><a data-weight=\"1\" style=\"font-size: 6em\">這樣</a></li><li><a data-weight=\"1\" style=\"font-size: 5em\">北京</a></li><li><a data-weight=\"1\" style=\"font-size: 6em\">　2</a></li><li><a data-weight=\"1\" style=\"font-size: 9em\">　3</a></li><li><a data-weight=\"1\" style=\"font-size: 6em\">　1</a></li><li><a data-weight=\"1\" style=\"font-size: 5em\">的人</a></li><li><a data-weight=\"1\" style=\"font-size: 5em\">　男</a></li><li><a data-weight=\"1\" style=\"font-size: 6em\">網友</a></li><li><a data-weight=\"1\" style=\"font-size: 95em\">...</a></li><li><a data-weight=\"1\" style=\"font-size: 17em\">  </a></li><li><a data-weight=\"1\" style=\"font-size: 8em\">AV女優</a></li><li><a data-weight=\"1\" style=\"font-size: 5em\">　李</a></li><li><a data-weight=\"1\" style=\"font-size: 5em\">億元</a></li><li><a data-weight=\"1\" style=\"font-size: 6em\">　民眾</a></li><li><a data-weight=\"1\" style=\"font-size: 6em\">記者</a></li><li><a data-weight=\"1\" style=\"font-size: 6em\">影片</a></li><li><a data-weight=\"1\" style=\"font-size: 6em\">股價</a></li><li><a data-weight=\"1\" style=\"font-size: 6em\">　警</a></li><li><a data-weight=\"1\" style=\"font-size: 7em\">　網友</a></li><li><a data-weight=\"1\" style=\"font-size: 5em\">年　</a></li><li><a data-weight=\"1\" style=\"font-size: 5em\">大雨</a></li><li><a data-weight=\"1\" style=\"font-size: 5em\">11</a></li><li><a data-weight=\"1\" style=\"font-size: 12em\">10</a></li><li><a data-weight=\"1\" style=\"font-size: 5em\">13</a></li><li><a data-weight=\"1\" style=\"font-size: 5em\">15</a></li><li><a data-weight=\"1\" style=\"font-size: 5em\">17</a></li><li><a data-weight=\"1\" style=\"font-size: 10em\">18</a></li><li><a data-weight=\"1\" style=\"font-size: 6em\">....</a></li><li><a data-weight=\"1\" style=\"font-size: 6em\">槍手</a></li><li><a data-weight=\"1\" style=\"font-size: 7em\">閱兵　</a></li><li><a data-weight=\"1\" style=\"font-size: 5em\">國民</a></li><li><a data-weight=\"1\" style=\"font-size: 5em\">台股</a></li><li><a data-weight=\"1\" style=\"font-size: 6em\">少女</a></li><li><a data-weight=\"1\" style=\"font-size: 5em\">代言</a></li><li><a data-weight=\"1\" style=\"font-size: 5em\">北市</a></li><li><a data-weight=\"1\" style=\"font-size: 8em\">！　</a></li><li><a data-weight=\"1\" style=\"font-size: 5em\">【民報</a></li><li><a data-weight=\"1\" style=\"font-size: 5em\">0億</a></li><li><a data-weight=\"1\" style=\"font-size: 5em\">80</a></li><li><a data-weight=\"1\" style=\"font-size: 8em\">連戰</a></li><li><a data-weight=\"1\" style=\"font-size: 8em\">？　</a></li><li><a data-weight=\"1\" style=\"font-size: 13em\">【法廣RF</a></li><li><a data-weight=\"1\" style=\"font-size: 14em\">00</a></li><li><a data-weight=\"1\" style=\"font-size: 6em\">美記者</a></li><li><a data-weight=\"1\" style=\"font-size: 5em\">閱兵</a></li><li><a data-weight=\"1\" style=\"font-size: 6em\">時代</a></li><li><a data-weight=\"1\" style=\"font-size: 8em\">曝光</a></li><li><a data-weight=\"1\" style=\"font-size: 5em\">募兵</a></li><li><a data-weight=\"1\" style=\"font-size: 5em\">人　</a></li><li><a data-weight=\"1\" style=\"font-size: 5em\">40</a></li><li><a data-weight=\"1\" style=\"font-size: 5em\">市場</a></li><li><a data-weight=\"1\" style=\"font-size: 5em\">釣魚</a></li><li><a data-weight=\"1\" style=\"font-size: 5em\">處理</a></li><li><a data-weight=\"1\" style=\"font-size: 10em\">0萬</a></li><li><a data-weight=\"1\" style=\"font-size: 5em\">是...</a></li><li><a data-weight=\"1\" style=\"font-size: 5em\">：不</a></li><li><a data-weight=\"1\" style=\"font-size: 6em\">台北</a></li><li><a data-weight=\"1\" style=\"font-size: 5em\">0元</a></li><li><a data-weight=\"1\" style=\"font-size: 6em\">手　</a></li><li><a data-weight=\"1\" style=\"font-size: 7em\">　他</a></li><li><a data-weight=\"1\" style=\"font-size: 9em\">中國</a></li><li><a data-weight=\"1\" style=\"font-size: 6em\">經濟</a></li><li><a data-weight=\"1\" style=\"font-size: 7em\">案　</a></li><li><a data-weight=\"1\" style=\"font-size: 8em\">波多野結衣</a></li><li><a data-weight=\"1\" style=\"font-size: 48em\">【更新】</a></li><li><a data-weight=\"1\" style=\"font-size: 6em\">60</a></li><li><a data-weight=\"1\" style=\"font-size: 11em\">」　</a></li><li><a data-weight=\"1\" style=\"font-size: 5em\">0年</a></li><li><a data-weight=\"1\" style=\"font-size: 5em\">【公庫】</a></li><li><a data-weight=\"1\" style=\"font-size: 5em\">30</a></li><li><a data-weight=\"1\" style=\"font-size: 6em\">槍擊</a></li><li><a data-weight=\"1\" style=\"font-size: 13em\">法廣RFI</a></li><li><a data-weight=\"1\" style=\"font-size: 6em\">自拍</a></li><li><a data-weight=\"1\" style=\"font-size: 7em\">　台</a></li><li><a data-weight=\"1\" style=\"font-size: 6em\">柯P</a></li><li><a data-weight=\"1\" style=\"font-size: 7em\">什麼</a></li></ul></div>\n",
       "  </body>\n"
      ]
     },
     "metadata": {},
     "output_type": "display_data"
    },
    {
     "data": {
      "application/javascript": [
       "$.getScript(\"tagcanvas.min.js\", function () {\n",
       "\n",
       "TagCanvas.Start('myCanvas','weightTags', {\n",
       " textFont: null,\n",
       " textColour: null,\n",
       " weight: true,\n",
       " weightMode: 'both',\n",
       " textFont: 'Impact,\"Arial Black\",sans-serif',\n",
       " /* more options */\n",
       " \n",
       "});\n",
       "$('#tags').css('display','None');\n",
       "});\n"
      ]
     },
     "metadata": {},
     "output_type": "display_data"
    }
   ],
   "source": [
    "from IPython.display import display, HTML \n",
    "\n",
    "page= '''\n",
    "  <head>\n",
    "    <title>Word Cloud</title>\n",
    "    <script src=\"tagcanvas.min.js\" type=\"text/javascript\"></script>\n",
    "  </head>\n",
    "  <body>\n",
    "    <h1>Word Cloud</h1>\n",
    "    <div id=\"myCanvasContainer\">\n",
    "      <canvas width=\"300\" height=\"300\" id=\"myCanvas\">\n",
    "        <p>Anything in here will be replaced on browsers that support the canvas element</p>\n",
    "      </canvas>\n",
    "    </div>\n",
    "    <div id=\"tags\"><ul id=\"weightTags\">%s</ul></div>\n",
    "  </body>\n",
    "'''\n",
    "\n",
    "js = '''\n",
    "TagCanvas.Start('myCanvas','weightTags', {\n",
    " textFont: null,\n",
    " textColour: null,\n",
    " weight: true,\n",
    " weightMode: 'both',\n",
    " textFont: 'Impact,\"Arial Black\",sans-serif',\n",
    " /* more options */\n",
    " \n",
    "});\n",
    "$('#tags').css('display','None');\n",
    "'''\n",
    "\n",
    "import IPython\n",
    "from IPython.core.display import display_html, display_javascript, Javascript\n",
    "\n",
    "js_libs = ['tagcanvas.min.js']\n",
    "li_str = ''\n",
    "for li in ret_terms:\n",
    "    li_str += '<li><a data-weight=\"1\" style=\"font-size: %sem\">%s</a></li>'%(li[1] , li[0])\n",
    "for li in ret_terms:\n",
    "    li_str += '<li><a data-weight=\"1\" style=\"font-size: %sem\">%s</a></li>'%(ret_terms[li], li)\n",
    "        \n",
    "display_html(IPython.core.display.HTML(data=page%(li_str)))\n",
    "display_javascript( Javascript(data=js, lib= js_libs))"
   ]
  },
  {
   "cell_type": "code",
   "execution_count": null,
   "metadata": {
    "collapsed": true
   },
   "outputs": [],
   "source": []
  }
 ],
 "metadata": {
  "kernelspec": {
   "display_name": "Python 2",
   "language": "python",
   "name": "python2"
  },
  "language_info": {
   "codemirror_mode": {
    "name": "ipython",
    "version": 2
   },
   "file_extension": ".py",
   "mimetype": "text/x-python",
   "name": "python",
   "nbconvert_exporter": "python",
   "pygments_lexer": "ipython2",
   "version": "2.7.10"
  }
 },
 "nbformat": 4,
 "nbformat_minor": 0
}
