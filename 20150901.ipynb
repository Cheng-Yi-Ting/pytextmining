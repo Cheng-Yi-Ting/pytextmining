{
 "cells": [
  {
   "cell_type": "code",
   "execution_count": 1,
   "metadata": {
    "collapsed": false
   },
   "outputs": [
    {
     "name": "stderr",
     "output_type": "stream",
     "text": [
      "Building prefix dict from C:\\Python27\\lib\\site-packages\\jieba\\dict.txt ...\n",
      "DEBUG:jieba:Building prefix dict from C:\\Python27\\lib\\site-packages\\jieba\\dict.txt ...\n",
      "Dumping model to file cache c:\\users\\david\\appdata\\local\\temp\\jieba.cache\n",
      "DEBUG:jieba:Dumping model to file cache c:\\users\\david\\appdata\\local\\temp\\jieba.cache\n",
      "Loading model cost 2.01600003242 seconds.\n",
      "DEBUG:jieba:Loading model cost 2.01600003242 seconds.\n",
      "Prefix dict has been built succesfully.\n",
      "DEBUG:jieba:Prefix dict has been built succesfully.\n"
     ]
    },
    {
     "name": "stdout",
     "output_type": "stream",
     "text": [
      "大\n",
      "巨蛋\n",
      "案對\n",
      "市府\n",
      "同仁\n",
      "下\n",
      "封口令\n",
      "？\n",
      "　\n",
      "柯\n",
      "P\n",
      "否認\n"
     ]
    }
   ],
   "source": [
    "import jieba\n",
    "\n",
    "sentence = \"大巨蛋案對市府同仁下封口令？　柯P否認\"\n",
    "words = jieba.cut(sentence, cut_all=False)\n",
    "for word in words:\n",
    "    print word"
   ]
  },
  {
   "cell_type": "code",
   "execution_count": 5,
   "metadata": {
    "collapsed": false
   },
   "outputs": [],
   "source": [
    "import jieba\n",
    "\n",
    "jieba.load_userdict(\"userdict.txt\")"
   ]
  },
  {
   "cell_type": "code",
   "execution_count": 6,
   "metadata": {
    "collapsed": false
   },
   "outputs": [
    {
     "name": "stdout",
     "output_type": "stream",
     "text": [
      "大巨蛋\n",
      "案對\n",
      "市府\n",
      "同仁\n",
      "下\n",
      "封口令\n",
      "？\n",
      "　\n",
      "柯P\n",
      "否認\n"
     ]
    }
   ],
   "source": [
    "import jieba\n",
    "\n",
    "sentence = \"大巨蛋案對市府同仁下封口令？　柯P否認\"\n",
    "words = jieba.cut(sentence, cut_all=False)\n",
    "for word in words:\n",
    "    print word"
   ]
  },
  {
   "cell_type": "code",
   "execution_count": 7,
   "metadata": {
    "collapsed": false,
    "scrolled": true
   },
   "outputs": [
    {
     "name": "stdout",
     "output_type": "stream",
     "text": [
      "大巨蛋\n",
      "案對\n",
      "市府\n",
      "同仁\n",
      "下\n",
      "封口令\n",
      "？\n",
      "　\n",
      "柯\n",
      "P\n",
      "否認\n",
      "大巨蛋\n",
      "案對\n",
      "市府\n",
      "同仁\n",
      "下\n",
      "封口令\n",
      "？\n",
      "　\n",
      "柯P\n",
      "否認\n"
     ]
    }
   ],
   "source": [
    "import jieba\n",
    "jieba.del_word('柯P')\n",
    "sentence = \"大巨蛋案對市府同仁下封口令？　柯P否認\"\n",
    "words = jieba.cut(sentence, cut_all=False)\n",
    "for word in words:\n",
    "    print word\n",
    "jieba.add_word('柯P',100, 'nr')\n",
    "sentence = \"大巨蛋案對市府同仁下封口令？　柯P否認\"\n",
    "words = jieba.cut(sentence, cut_all=False)\n",
    "for word in words:\n",
    "    print word"
   ]
  },
  {
   "cell_type": "code",
   "execution_count": 8,
   "metadata": {
    "collapsed": false
   },
   "outputs": [
    {
     "name": "stdout",
     "output_type": "stream",
     "text": [
      "大巨蛋 n\n",
      "案 ng\n",
      "對 p\n",
      "市府 n\n",
      "同仁 nr\n",
      "下 f\n",
      "封口令 n\n",
      "？ x\n",
      "　x\n",
      "柯P nr\n",
      "否認 v\n"
     ]
    }
   ],
   "source": [
    "import jieba.posseg as pseg\n",
    "words = pseg.cut(\"大巨蛋案對市府同仁下封口令？　柯P否認\")\n",
    "for w in words:\n",
    "    print w.word, w.flag\n"
   ]
  },
  {
   "cell_type": "code",
   "execution_count": 11,
   "metadata": {
    "collapsed": false
   },
   "outputs": [
    {
     "name": "stdout",
     "output_type": "stream",
     "text": [
      "封口令,案對,大巨蛋,否認,柯P,市府,同仁\n",
      "柯P,同仁\n"
     ]
    }
   ],
   "source": [
    "import jieba.analyse\n",
    "tags = jieba.analyse.extract_tags(sentence, 10)\n",
    "print \",\".join(tags)\n",
    "tags = jieba.analyse.extract_tags(sentence, 10, allowPOS = ['nr'])\n",
    "print \",\".join(tags)\n"
   ]
  },
  {
   "cell_type": "code",
   "execution_count": 13,
   "metadata": {
    "collapsed": false
   },
   "outputs": [
    {
     "name": "stdout",
     "output_type": "stream",
     "text": [
      "歐洲/電商/組織/包裹/物流/一來/領域/遞送/緊密/Europe/市場/順暢/根據/決電商/服務/集團/障礙/積極/目標/更為\n"
     ]
    }
   ],
   "source": [
    "import jieba.analyse\n",
    "jieba.analyse.set_stop_words(\"stopword.txt\")\n",
    "\n",
    "sentence = \"根據歐洲電商組織(Ecommerce Europe) 最新消息得知，\\\n",
    "該集團積極讓歐洲的包裹遞送服務與電商領域有更緊密結合。如此一來，\\\n",
    "便可解決電商物流的障礙。此組織總共結合歐洲 16 國的電商協會，\\\n",
    "目標整合歐洲的包裹物流市場，讓商品跨境更為順暢\"\n",
    "tags = jieba.analyse.extract_tags(sentence)\n",
    "print '/'.join(tags)\n"
   ]
  },
  {
   "cell_type": "code",
   "execution_count": 34,
   "metadata": {
    "collapsed": false
   },
   "outputs": [],
   "source": [
    "import sqlite3\n",
    "import jieba\n",
    "db = sqlite3.connect('news.db') \n",
    "cur = db.cursor()\n",
    "sentenceAry = [] \n",
    "cur.execute('select * from news_entry')\n",
    "allNews = cur.fetchall()\n",
    "dic = {}\n",
    "for rec in allNews:\n",
    "    words = jieba.cut(rec[4])\n",
    "    sentenceAry.append(rec[4].encode('utf-8'))\n",
    "    for w in words:\n",
    "        if w not in dic:\n",
    "            dic[w] = 1\n",
    "        else:\n",
    "            dic[w] = dic[w] + 1\n",
    "cur.close()\n",
    "db.close()\n",
    "\n",
    "#for word in dic:\n",
    "#    print word, dic[word]"
   ]
  },
  {
   "cell_type": "code",
   "execution_count": 35,
   "metadata": {
    "collapsed": false
   },
   "outputs": [
    {
     "name": "stdout",
     "output_type": "stream",
     "text": [
      "更新 49\n",
      "悠遊卡 16\n",
      "波多野 14\n",
      "法廣 13\n",
      "RFI 13\n",
      "網友 12\n",
      "台灣 11\n",
      "閱兵 10\n",
      "結衣 9\n"
     ]
    }
   ],
   "source": [
    "from operator import itemgetter\n",
    "swd = sorted(dic.iteritems(), key=itemgetter(1), reverse=True)\n",
    "swd = [w for w in swd[1:50] if w[0] not in ' 「」！：？【】...'.decode('utf-8')]\n",
    "for ele in swd[0:100]:\n",
    "    if len(ele[0]) >= 2:\n",
    "        print ele[0], ele[1]"
   ]
  },
  {
   "cell_type": "code",
   "execution_count": 36,
   "metadata": {
    "collapsed": true
   },
   "outputs": [],
   "source": [
    "def ngram(input_sentence, n = 2):\n",
    "    word_dic = {}\n",
    "    sentence  = input_sentence.decode('utf-8')\n",
    "    for i in range(0, len(sentence) - n + 1):\n",
    "        if sentence[i:i+n] not in word_dic:\n",
    "            word_dic[sentence[i:i+n]] = 1\n",
    "        else:\n",
    "            word_dic[sentence[i:i+n]] = word_dic[sentence[i:i+n]] + 1\n",
    "    return word_dic\n",
    "\n",
    "def removeKey(text, keyword):\n",
    "    textAry= text\n",
    "    for key in keyword:\n",
    "        textAry = ''.join(textAry.split(key))\n",
    "    return textAry"
   ]
  },
  {
   "cell_type": "code",
   "execution_count": 42,
   "metadata": {
    "collapsed": false
   },
   "outputs": [
    {
     "name": "stdout",
     "output_type": "stream",
     "text": [
      "　國 5\n",
      "　小 7\n",
      "　「 12\n",
      "廣RFI】 13\n",
      "了！ 5\n",
      "直擊 5\n",
      "8億 5\n",
      "片　5\n",
      "點　6\n",
      "多野悠遊卡 7\n",
      "悠遊卡 12\n",
      "食品 5\n",
      "國道 5\n",
      "【】 13\n",
      "20 7\n",
      "波多野悠遊 7\n",
      "台灣 16\n",
      "金鐘 5\n",
      "這樣 6\n",
      "北京 5\n",
      "　2 6\n",
      "　3 9\n",
      "　1 6\n",
      "的人 5\n",
      "　男 5\n",
      "網友 6\n",
      "... 95\n",
      "   17\n",
      "AV女優 8\n",
      "　李 5\n",
      "億元 5\n",
      "　民眾 6\n",
      "記者 6\n",
      "影片 6\n",
      "股價 6\n",
      "　警 6\n",
      "　網友 7\n",
      "年　5\n",
      "大雨 5\n",
      "11 5\n",
      "10 12\n",
      "13 5\n",
      "15 5\n",
      "17 5\n",
      "18 10\n",
      ".... 6\n",
      "槍手 6\n",
      "閱兵　7\n",
      "國民 5\n",
      "台股 5\n",
      "少女 6\n",
      "代言 5\n",
      "北市 5\n",
      "！　8\n",
      "【民報 5\n",
      "0億 5\n",
      "80 5\n",
      "連戰 8\n",
      "？　8\n",
      "【法廣RF 13\n",
      "00 14\n",
      "美記者 6\n",
      "閱兵 5\n",
      "時代 6\n",
      "曝光 8\n",
      "募兵 5\n",
      "人　5\n",
      "40 5\n",
      "市場 5\n",
      "釣魚 5\n",
      "處理 5\n",
      "0萬 10\n",
      "是... 5\n",
      "：不 5\n",
      "台北 6\n",
      "0元 5\n",
      "手　6\n",
      "　他 7\n",
      "中國 9\n",
      "經濟 6\n",
      "案　7\n",
      "波多野結衣 8\n",
      "【更新】 48\n",
      "60 6\n",
      "」　11\n",
      "0年 5\n",
      "【公庫】 5\n",
      "30 5\n",
      "槍擊 6\n",
      "法廣RFI 13\n",
      "自拍 6\n",
      "　台 7\n",
      "柯P 6\n",
      "什麼 7\n"
     ]
    }
   ],
   "source": [
    "keywords=[]        \n",
    "ret_terms={}\n",
    "words_freq    = []\n",
    "for term_length in range(5,1,-1):\n",
    "    word_dic = {}\n",
    "    for sentence in sentenceAry:\n",
    "        text_list = removeKey(sentence,keywords)        \n",
    "        ngram_words = ngram(text_list,term_length) \n",
    "        for word in ngram_words:\n",
    "            if word not in word_dic:\n",
    "                word_dic[word] = 1\n",
    "            else:\n",
    "                word_dic[word] += ngram_words[word]   \n",
    "    for word in word_dic:\n",
    "        if word_dic[word] >= 5:\n",
    "            keywords.append(word.encode('utf-8'))            \n",
    "            ret_terms.update({word:word_dic[word]})\n",
    "\n",
    "for ele in ret_terms:\n",
    "    print ele, ret_terms[ele]"
   ]
  },
  {
   "cell_type": "code",
   "execution_count": 65,
   "metadata": {
    "collapsed": false
   },
   "outputs": [
    {
     "data": {
      "text/html": [
       "\n",
       "  <head>\n",
       "    <title>Word Cloud</title>\n",
       "    <script src=\"tagcanvas.min.js\" type=\"text/javascript\"></script>\n",
       "  </head>\n",
       "  <body>\n",
       "    <h1>Word Cloud</h1>\n",
       "    <div id=\"myCanvasContainer\">\n",
       "      <canvas width=\"300\" height=\"300\" id=\"myCanvas\">\n",
       "        <p>Anything in here will be replaced on browsers that support the canvas element</p>\n",
       "      </canvas>\n",
       "    </div>\n",
       "    <div id=\"tags\"><ul id=\"weightTags\"><li><a data-weight=\"1\" style=\"font-size: 國em\">　</a></li><li><a data-weight=\"1\" style=\"font-size: 小em\">　</a></li><li><a data-weight=\"1\" style=\"font-size: 「em\">　</a></li><li><a data-weight=\"1\" style=\"font-size: Rem\">廣</a></li><li><a data-weight=\"1\" style=\"font-size: ！em\">了</a></li><li><a data-weight=\"1\" style=\"font-size: 擊em\">直</a></li><li><a data-weight=\"1\" style=\"font-size: 億em\">8</a></li><li><a data-weight=\"1\" style=\"font-size: 　em\">片</a></li><li><a data-weight=\"1\" style=\"font-size: 　em\">點</a></li><li><a data-weight=\"1\" style=\"font-size: 野em\">多</a></li><li><a data-weight=\"1\" style=\"font-size: 遊em\">悠</a></li><li><a data-weight=\"1\" style=\"font-size: 品em\">食</a></li><li><a data-weight=\"1\" style=\"font-size: 道em\">國</a></li><li><a data-weight=\"1\" style=\"font-size: 】em\">【</a></li><li><a data-weight=\"1\" style=\"font-size: 0em\">2</a></li><li><a data-weight=\"1\" style=\"font-size: 多em\">波</a></li><li><a data-weight=\"1\" style=\"font-size: 灣em\">台</a></li><li><a data-weight=\"1\" style=\"font-size: 鐘em\">金</a></li><li><a data-weight=\"1\" style=\"font-size: 樣em\">這</a></li><li><a data-weight=\"1\" style=\"font-size: 京em\">北</a></li><li><a data-weight=\"1\" style=\"font-size: 2em\">　</a></li><li><a data-weight=\"1\" style=\"font-size: 3em\">　</a></li><li><a data-weight=\"1\" style=\"font-size: 1em\">　</a></li><li><a data-weight=\"1\" style=\"font-size: 人em\">的</a></li><li><a data-weight=\"1\" style=\"font-size: 男em\">　</a></li><li><a data-weight=\"1\" style=\"font-size: 友em\">網</a></li><li><a data-weight=\"1\" style=\"font-size: .em\">.</a></li><li><a data-weight=\"1\" style=\"font-size:  em\"> </a></li><li><a data-weight=\"1\" style=\"font-size: Vem\">A</a></li><li><a data-weight=\"1\" style=\"font-size: 李em\">　</a></li><li><a data-weight=\"1\" style=\"font-size: 元em\">億</a></li><li><a data-weight=\"1\" style=\"font-size: 民em\">　</a></li><li><a data-weight=\"1\" style=\"font-size: 者em\">記</a></li><li><a data-weight=\"1\" style=\"font-size: 片em\">影</a></li><li><a data-weight=\"1\" style=\"font-size: 價em\">股</a></li><li><a data-weight=\"1\" style=\"font-size: 警em\">　</a></li><li><a data-weight=\"1\" style=\"font-size: 網em\">　</a></li><li><a data-weight=\"1\" style=\"font-size: 　em\">年</a></li><li><a data-weight=\"1\" style=\"font-size: 雨em\">大</a></li><li><a data-weight=\"1\" style=\"font-size: 1em\">1</a></li><li><a data-weight=\"1\" style=\"font-size: 0em\">1</a></li><li><a data-weight=\"1\" style=\"font-size: 3em\">1</a></li><li><a data-weight=\"1\" style=\"font-size: 5em\">1</a></li><li><a data-weight=\"1\" style=\"font-size: 7em\">1</a></li><li><a data-weight=\"1\" style=\"font-size: 8em\">1</a></li><li><a data-weight=\"1\" style=\"font-size: .em\">.</a></li><li><a data-weight=\"1\" style=\"font-size: 手em\">槍</a></li><li><a data-weight=\"1\" style=\"font-size: 兵em\">閱</a></li><li><a data-weight=\"1\" style=\"font-size: 民em\">國</a></li><li><a data-weight=\"1\" style=\"font-size: 股em\">台</a></li><li><a data-weight=\"1\" style=\"font-size: 女em\">少</a></li><li><a data-weight=\"1\" style=\"font-size: 言em\">代</a></li><li><a data-weight=\"1\" style=\"font-size: 市em\">北</a></li><li><a data-weight=\"1\" style=\"font-size: 　em\">！</a></li><li><a data-weight=\"1\" style=\"font-size: 民em\">【</a></li><li><a data-weight=\"1\" style=\"font-size: 億em\">0</a></li><li><a data-weight=\"1\" style=\"font-size: 0em\">8</a></li><li><a data-weight=\"1\" style=\"font-size: 戰em\">連</a></li><li><a data-weight=\"1\" style=\"font-size: 　em\">？</a></li><li><a data-weight=\"1\" style=\"font-size: 法em\">【</a></li><li><a data-weight=\"1\" style=\"font-size: 0em\">0</a></li><li><a data-weight=\"1\" style=\"font-size: 記em\">美</a></li><li><a data-weight=\"1\" style=\"font-size: 兵em\">閱</a></li><li><a data-weight=\"1\" style=\"font-size: 代em\">時</a></li><li><a data-weight=\"1\" style=\"font-size: 光em\">曝</a></li><li><a data-weight=\"1\" style=\"font-size: 兵em\">募</a></li><li><a data-weight=\"1\" style=\"font-size: 　em\">人</a></li><li><a data-weight=\"1\" style=\"font-size: 0em\">4</a></li><li><a data-weight=\"1\" style=\"font-size: 場em\">市</a></li><li><a data-weight=\"1\" style=\"font-size: 魚em\">釣</a></li><li><a data-weight=\"1\" style=\"font-size: 理em\">處</a></li><li><a data-weight=\"1\" style=\"font-size: 萬em\">0</a></li><li><a data-weight=\"1\" style=\"font-size: .em\">是</a></li><li><a data-weight=\"1\" style=\"font-size: 不em\">：</a></li><li><a data-weight=\"1\" style=\"font-size: 北em\">台</a></li><li><a data-weight=\"1\" style=\"font-size: 元em\">0</a></li><li><a data-weight=\"1\" style=\"font-size: 　em\">手</a></li><li><a data-weight=\"1\" style=\"font-size: 他em\">　</a></li><li><a data-weight=\"1\" style=\"font-size: 國em\">中</a></li><li><a data-weight=\"1\" style=\"font-size: 濟em\">經</a></li><li><a data-weight=\"1\" style=\"font-size: 　em\">案</a></li><li><a data-weight=\"1\" style=\"font-size: 多em\">波</a></li><li><a data-weight=\"1\" style=\"font-size: 更em\">【</a></li><li><a data-weight=\"1\" style=\"font-size: 0em\">6</a></li><li><a data-weight=\"1\" style=\"font-size: 　em\">」</a></li><li><a data-weight=\"1\" style=\"font-size: 年em\">0</a></li><li><a data-weight=\"1\" style=\"font-size: 公em\">【</a></li><li><a data-weight=\"1\" style=\"font-size: 0em\">3</a></li><li><a data-weight=\"1\" style=\"font-size: 擊em\">槍</a></li><li><a data-weight=\"1\" style=\"font-size: 廣em\">法</a></li><li><a data-weight=\"1\" style=\"font-size: 拍em\">自</a></li><li><a data-weight=\"1\" style=\"font-size: 台em\">　</a></li><li><a data-weight=\"1\" style=\"font-size: Pem\">柯</a></li><li><a data-weight=\"1\" style=\"font-size: 麼em\">什</a></li><li><a data-weight=\"1\" style=\"font-size: 5\">直擊</a></li><li><a data-weight=\"1\" style=\"font-size: 7\">多野悠遊卡</a></li><li><a data-weight=\"1\" style=\"font-size: 12\">悠遊卡</a></li><li><a data-weight=\"1\" style=\"font-size: 5\">食品</a></li><li><a data-weight=\"1\" style=\"font-size: 5\">國道</a></li><li><a data-weight=\"1\" style=\"font-size: 7\">波多野悠遊</a></li><li><a data-weight=\"1\" style=\"font-size: 16\">台灣</a></li><li><a data-weight=\"1\" style=\"font-size: 5\">金鐘</a></li><li><a data-weight=\"1\" style=\"font-size: 6\">這樣</a></li><li><a data-weight=\"1\" style=\"font-size: 5\">北京</a></li><li><a data-weight=\"1\" style=\"font-size: 5\">的人</a></li><li><a data-weight=\"1\" style=\"font-size: 6\">網友</a></li><li><a data-weight=\"1\" style=\"font-size: 5\">億元</a></li><li><a data-weight=\"1\" style=\"font-size: 6\">記者</a></li><li><a data-weight=\"1\" style=\"font-size: 6\">影片</a></li><li><a data-weight=\"1\" style=\"font-size: 6\">股價</a></li><li><a data-weight=\"1\" style=\"font-size: 5\">大雨</a></li><li><a data-weight=\"1\" style=\"font-size: 6\">槍手</a></li><li><a data-weight=\"1\" style=\"font-size: 5\">國民</a></li><li><a data-weight=\"1\" style=\"font-size: 5\">台股</a></li><li><a data-weight=\"1\" style=\"font-size: 6\">少女</a></li><li><a data-weight=\"1\" style=\"font-size: 5\">代言</a></li><li><a data-weight=\"1\" style=\"font-size: 5\">北市</a></li><li><a data-weight=\"1\" style=\"font-size: 8\">連戰</a></li><li><a data-weight=\"1\" style=\"font-size: 6\">美記者</a></li><li><a data-weight=\"1\" style=\"font-size: 5\">閱兵</a></li><li><a data-weight=\"1\" style=\"font-size: 6\">時代</a></li><li><a data-weight=\"1\" style=\"font-size: 8\">曝光</a></li><li><a data-weight=\"1\" style=\"font-size: 5\">募兵</a></li><li><a data-weight=\"1\" style=\"font-size: 5\">市場</a></li><li><a data-weight=\"1\" style=\"font-size: 5\">釣魚</a></li><li><a data-weight=\"1\" style=\"font-size: 5\">處理</a></li><li><a data-weight=\"1\" style=\"font-size: 6\">台北</a></li><li><a data-weight=\"1\" style=\"font-size: 9\">中國</a></li><li><a data-weight=\"1\" style=\"font-size: 6\">經濟</a></li><li><a data-weight=\"1\" style=\"font-size: 8\">波多野結衣</a></li><li><a data-weight=\"1\" style=\"font-size: 6\">槍擊</a></li><li><a data-weight=\"1\" style=\"font-size: 6\">自拍</a></li><li><a data-weight=\"1\" style=\"font-size: 7\">什麼</a></li></ul></div>\n",
       "  </body>\n"
      ]
     },
     "metadata": {},
     "output_type": "display_data"
    },
    {
     "data": {
      "application/javascript": [
       "$.getScript(\"tagcanvas.min.js\", function () {\n",
       "\n",
       "TagCanvas.Start('myCanvas','weightTags', {\n",
       " textFont: null,\n",
       " textColour: null,\n",
       " weight: true,\n",
       " shape: 'hcylinder',\n",
       " weightMode: 'both',\n",
       " textFont: 'Impact,\"Arial Black\",sans-serif',\n",
       " /* more options */\n",
       " \n",
       "});\n",
       "$('#tags').css('display','None');\n",
       "});\n"
      ]
     },
     "metadata": {},
     "output_type": "display_data"
    }
   ],
   "source": [
    "from IPython.display import display, HTML \n",
    "\n",
    "page= '''\n",
    "  <head>\n",
    "    <title>Word Cloud</title>\n",
    "    <script src=\"tagcanvas.min.js\" type=\"text/javascript\"></script>\n",
    "  </head>\n",
    "  <body>\n",
    "    <h1>Word Cloud</h1>\n",
    "    <div id=\"myCanvasContainer\">\n",
    "      <canvas width=\"300\" height=\"300\" id=\"myCanvas\">\n",
    "        <p>Anything in here will be replaced on browsers that support the canvas element</p>\n",
    "      </canvas>\n",
    "    </div>\n",
    "    <div id=\"tags\"><ul id=\"weightTags\">%s</ul></div>\n",
    "  </body>\n",
    "'''\n",
    "\n",
    "js = '''\n",
    "TagCanvas.Start('myCanvas','weightTags', {\n",
    " textFont: null,\n",
    " textColour: null,\n",
    " weight: true,\n",
    " shape: 'hcylinder',\n",
    " weightMode: 'both',\n",
    " textFont: 'Impact,\"Arial Black\",sans-serif',\n",
    " /* more options */\n",
    " \n",
    "});\n",
    "$('#tags').css('display','None');\n",
    "'''\n",
    "#sphere, hcylinder for a cylinder that starts off horizontal, vcylinder for a cylinder that starts off vertical, hring\n",
    "import IPython\n",
    "from IPython.core.display import display_html, display_javascript, Javascript\n",
    "\n",
    "js_libs = ['tagcanvas.min.js']\n",
    "li_str = ''\n",
    "for li in ret_terms:\n",
    "    li_str += '<li><a data-weight=\"1\" style=\"font-size: %sem\">%s</a></li>'%(li[1] , li[0])\n",
    "    \n",
    "\n",
    "import re    \n",
    "for li in ret_terms:\n",
    "    if (re.match(ur'^[\\u4e00-\\u9fff]+$',li) and ('更新' not in li.encode('utf-8'))):\n",
    "        #print li, ret_terms[li]\n",
    "        li_str += '<li><a data-weight=\"1\" style=\"font-size: %s\">%s</a></li>'%(ret_terms[li], li)\n",
    "\n",
    "    \n",
    "display_html(IPython.core.display.HTML(data=page%(li_str)))\n",
    "display_javascript( Javascript(data=js, lib= js_libs))"
   ]
  },
  {
   "cell_type": "code",
   "execution_count": 66,
   "metadata": {
    "collapsed": false
   },
   "outputs": [
    {
     "name": "stdout",
     "output_type": "stream",
     "text": [
      "Automatically created module for IPython interactive environment\n",
      "fitting to HMM and decoding ..."
     ]
    },
    {
     "name": "stderr",
     "output_type": "stream",
     "text": [
      "C:\\Python27\\lib\\site-packages\\matplotlib\\finance.py:485: MatplotlibDeprecationWarning: This function has been deprecated in 1.4 in favor of `quotes_historical_yahoo_ochl`, which maintains the original argument order, or `quotes_historical_yahoo_ohlc`, which uses the open-high-low-close order. This function will be removed in 1.5\n",
      "  mplDeprecation)\n",
      "C:\\Python27\\lib\\site-packages\\sklearn\\utils\\__init__.py:76: DeprecationWarning: Class _BaseHMM is deprecated; WARNING: The HMM module and its function will be removed in 0.17as it no longer falls within the project's scope and API. It has been moved to a separate repository: https://github.com/hmmlearn/hmmlearn\n",
      "  warnings.warn(msg, category=DeprecationWarning)\n",
      "C:\\Python27\\lib\\site-packages\\sklearn\\utils\\__init__.py:94: DeprecationWarning: Function normalize is deprecated; WARNING: The HMM module and its functions will be removed in 0.17 as it no longer falls within the project's scope and API. It has been moved to a separate repository: https://github.com/hmmlearn/hmmlearn\n",
      "  warnings.warn(msg, category=DeprecationWarning)\n",
      "C:\\Python27\\lib\\site-packages\\sklearn\\utils\\__init__.py:94: DeprecationWarning: Function normalize is deprecated; WARNING: The HMM module and its functions will be removed in 0.17 as it no longer falls within the project's scope and API. It has been moved to a separate repository: https://github.com/hmmlearn/hmmlearn\n",
      "  warnings.warn(msg, category=DeprecationWarning)\n",
      "C:\\Python27\\lib\\site-packages\\sklearn\\utils\\__init__.py:94: DeprecationWarning: Function normalize is deprecated; WARNING: The HMM module and its functions will be removed in 0.17 as it no longer falls within the project's scope and API. It has been moved to a separate repository: https://github.com/hmmlearn/hmmlearn\n",
      "  warnings.warn(msg, category=DeprecationWarning)\n",
      "C:\\Python27\\lib\\site-packages\\sklearn\\utils\\__init__.py:94: DeprecationWarning: Function normalize is deprecated; WARNING: The HMM module and its functions will be removed in 0.17 as it no longer falls within the project's scope and API. It has been moved to a separate repository: https://github.com/hmmlearn/hmmlearn\n",
      "  warnings.warn(msg, category=DeprecationWarning)\n",
      "C:\\Python27\\lib\\site-packages\\sklearn\\utils\\__init__.py:94: DeprecationWarning: Function normalize is deprecated; WARNING: The HMM module and its functions will be removed in 0.17 as it no longer falls within the project's scope and API. It has been moved to a separate repository: https://github.com/hmmlearn/hmmlearn\n",
      "  warnings.warn(msg, category=DeprecationWarning)\n",
      "C:\\Python27\\lib\\site-packages\\sklearn\\utils\\__init__.py:94: DeprecationWarning: Function normalize is deprecated; WARNING: The HMM module and its functions will be removed in 0.17 as it no longer falls within the project's scope and API. It has been moved to a separate repository: https://github.com/hmmlearn/hmmlearn\n",
      "  warnings.warn(msg, category=DeprecationWarning)\n",
      "C:\\Python27\\lib\\site-packages\\sklearn\\utils\\__init__.py:94: DeprecationWarning: Function normalize is deprecated; WARNING: The HMM module and its functions will be removed in 0.17 as it no longer falls within the project's scope and API. It has been moved to a separate repository: https://github.com/hmmlearn/hmmlearn\n",
      "  warnings.warn(msg, category=DeprecationWarning)\n",
      "C:\\Python27\\lib\\site-packages\\sklearn\\utils\\__init__.py:94: DeprecationWarning: Function normalize is deprecated; WARNING: The HMM module and its functions will be removed in 0.17 as it no longer falls within the project's scope and API. It has been moved to a separate repository: https://github.com/hmmlearn/hmmlearn\n",
      "  warnings.warn(msg, category=DeprecationWarning)\n",
      "C:\\Python27\\lib\\site-packages\\sklearn\\utils\\__init__.py:94: DeprecationWarning: Function normalize is deprecated; WARNING: The HMM module and its functions will be removed in 0.17 as it no longer falls within the project's scope and API. It has been moved to a separate repository: https://github.com/hmmlearn/hmmlearn\n",
      "  warnings.warn(msg, category=DeprecationWarning)\n",
      "C:\\Python27\\lib\\site-packages\\sklearn\\utils\\__init__.py:94: DeprecationWarning: Function normalize is deprecated; WARNING: The HMM module and its functions will be removed in 0.17 as it no longer falls within the project's scope and API. It has been moved to a separate repository: https://github.com/hmmlearn/hmmlearn\n",
      "  warnings.warn(msg, category=DeprecationWarning)\n",
      "C:\\Python27\\lib\\site-packages\\sklearn\\utils\\__init__.py:94: DeprecationWarning: Function normalize is deprecated; WARNING: The HMM module and its functions will be removed in 0.17 as it no longer falls within the project's scope and API. It has been moved to a separate repository: https://github.com/hmmlearn/hmmlearn\n",
      "  warnings.warn(msg, category=DeprecationWarning)\n",
      "C:\\Python27\\lib\\site-packages\\sklearn\\utils\\__init__.py:94: DeprecationWarning: Function normalize is deprecated; WARNING: The HMM module and its functions will be removed in 0.17 as it no longer falls within the project's scope and API. It has been moved to a separate repository: https://github.com/hmmlearn/hmmlearn\n",
      "  warnings.warn(msg, category=DeprecationWarning)\n",
      "C:\\Python27\\lib\\site-packages\\sklearn\\utils\\__init__.py:94: DeprecationWarning: Function normalize is deprecated; WARNING: The HMM module and its functions will be removed in 0.17 as it no longer falls within the project's scope and API. It has been moved to a separate repository: https://github.com/hmmlearn/hmmlearn\n",
      "  warnings.warn(msg, category=DeprecationWarning)\n",
      "C:\\Python27\\lib\\site-packages\\sklearn\\utils\\__init__.py:94: DeprecationWarning: Function normalize is deprecated; WARNING: The HMM module and its functions will be removed in 0.17 as it no longer falls within the project's scope and API. It has been moved to a separate repository: https://github.com/hmmlearn/hmmlearn\n",
      "  warnings.warn(msg, category=DeprecationWarning)\n",
      "C:\\Python27\\lib\\site-packages\\sklearn\\utils\\__init__.py:94: DeprecationWarning: Function normalize is deprecated; WARNING: The HMM module and its functions will be removed in 0.17 as it no longer falls within the project's scope and API. It has been moved to a separate repository: https://github.com/hmmlearn/hmmlearn\n",
      "  warnings.warn(msg, category=DeprecationWarning)\n",
      "C:\\Python27\\lib\\site-packages\\sklearn\\utils\\__init__.py:94: DeprecationWarning: Function normalize is deprecated; WARNING: The HMM module and its functions will be removed in 0.17 as it no longer falls within the project's scope and API. It has been moved to a separate repository: https://github.com/hmmlearn/hmmlearn\n",
      "  warnings.warn(msg, category=DeprecationWarning)\n",
      "C:\\Python27\\lib\\site-packages\\sklearn\\utils\\__init__.py:94: DeprecationWarning: Function normalize is deprecated; WARNING: The HMM module and its functions will be removed in 0.17 as it no longer falls within the project's scope and API. It has been moved to a separate repository: https://github.com/hmmlearn/hmmlearn\n",
      "  warnings.warn(msg, category=DeprecationWarning)\n",
      "C:\\Python27\\lib\\site-packages\\sklearn\\utils\\__init__.py:94: DeprecationWarning: Function normalize is deprecated; WARNING: The HMM module and its functions will be removed in 0.17 as it no longer falls within the project's scope and API. It has been moved to a separate repository: https://github.com/hmmlearn/hmmlearn\n",
      "  warnings.warn(msg, category=DeprecationWarning)\n",
      "C:\\Python27\\lib\\site-packages\\sklearn\\utils\\__init__.py:94: DeprecationWarning: Function normalize is deprecated; WARNING: The HMM module and its functions will be removed in 0.17 as it no longer falls within the project's scope and API. It has been moved to a separate repository: https://github.com/hmmlearn/hmmlearn\n",
      "  warnings.warn(msg, category=DeprecationWarning)\n",
      "C:\\Python27\\lib\\site-packages\\sklearn\\utils\\__init__.py:94: DeprecationWarning: Function normalize is deprecated; WARNING: The HMM module and its functions will be removed in 0.17 as it no longer falls within the project's scope and API. It has been moved to a separate repository: https://github.com/hmmlearn/hmmlearn\n",
      "  warnings.warn(msg, category=DeprecationWarning)\n",
      "C:\\Python27\\lib\\site-packages\\sklearn\\utils\\__init__.py:94: DeprecationWarning: Function normalize is deprecated; WARNING: The HMM module and its functions will be removed in 0.17 as it no longer falls within the project's scope and API. It has been moved to a separate repository: https://github.com/hmmlearn/hmmlearn\n",
      "  warnings.warn(msg, category=DeprecationWarning)\n",
      "C:\\Python27\\lib\\site-packages\\sklearn\\utils\\__init__.py:94: DeprecationWarning: Function normalize is deprecated; WARNING: The HMM module and its functions will be removed in 0.17 as it no longer falls within the project's scope and API. It has been moved to a separate repository: https://github.com/hmmlearn/hmmlearn\n",
      "  warnings.warn(msg, category=DeprecationWarning)\n",
      "C:\\Python27\\lib\\site-packages\\sklearn\\utils\\__init__.py:94: DeprecationWarning: Function normalize is deprecated; WARNING: The HMM module and its functions will be removed in 0.17 as it no longer falls within the project's scope and API. It has been moved to a separate repository: https://github.com/hmmlearn/hmmlearn\n",
      "  warnings.warn(msg, category=DeprecationWarning)\n",
      "C:\\Python27\\lib\\site-packages\\sklearn\\utils\\__init__.py:94: DeprecationWarning: Function normalize is deprecated; WARNING: The HMM module and its functions will be removed in 0.17 as it no longer falls within the project's scope and API. It has been moved to a separate repository: https://github.com/hmmlearn/hmmlearn\n",
      "  warnings.warn(msg, category=DeprecationWarning)\n",
      "C:\\Python27\\lib\\site-packages\\sklearn\\utils\\__init__.py:94: DeprecationWarning: Function normalize is deprecated; WARNING: The HMM module and its functions will be removed in 0.17 as it no longer falls within the project's scope and API. It has been moved to a separate repository: https://github.com/hmmlearn/hmmlearn\n",
      "  warnings.warn(msg, category=DeprecationWarning)\n",
      "C:\\Python27\\lib\\site-packages\\sklearn\\utils\\__init__.py:94: DeprecationWarning: Function normalize is deprecated; WARNING: The HMM module and its functions will be removed in 0.17 as it no longer falls within the project's scope and API. It has been moved to a separate repository: https://github.com/hmmlearn/hmmlearn\n",
      "  warnings.warn(msg, category=DeprecationWarning)\n",
      "C:\\Python27\\lib\\site-packages\\sklearn\\utils\\__init__.py:94: DeprecationWarning: Function normalize is deprecated; WARNING: The HMM module and its functions will be removed in 0.17 as it no longer falls within the project's scope and API. It has been moved to a separate repository: https://github.com/hmmlearn/hmmlearn\n",
      "  warnings.warn(msg, category=DeprecationWarning)\n",
      "C:\\Python27\\lib\\site-packages\\sklearn\\utils\\__init__.py:94: DeprecationWarning: Function normalize is deprecated; WARNING: The HMM module and its functions will be removed in 0.17 as it no longer falls within the project's scope and API. It has been moved to a separate repository: https://github.com/hmmlearn/hmmlearn\n",
      "  warnings.warn(msg, category=DeprecationWarning)\n",
      "C:\\Python27\\lib\\site-packages\\sklearn\\utils\\__init__.py:94: DeprecationWarning: Function normalize is deprecated; WARNING: The HMM module and its functions will be removed in 0.17 as it no longer falls within the project's scope and API. It has been moved to a separate repository: https://github.com/hmmlearn/hmmlearn\n",
      "  warnings.warn(msg, category=DeprecationWarning)\n",
      "C:\\Python27\\lib\\site-packages\\sklearn\\utils\\__init__.py:94: DeprecationWarning: Function normalize is deprecated; WARNING: The HMM module and its functions will be removed in 0.17 as it no longer falls within the project's scope and API. It has been moved to a separate repository: https://github.com/hmmlearn/hmmlearn\n",
      "  warnings.warn(msg, category=DeprecationWarning)\n",
      "C:\\Python27\\lib\\site-packages\\sklearn\\utils\\__init__.py:94: DeprecationWarning: Function normalize is deprecated; WARNING: The HMM module and its functions will be removed in 0.17 as it no longer falls within the project's scope and API. It has been moved to a separate repository: https://github.com/hmmlearn/hmmlearn\n",
      "  warnings.warn(msg, category=DeprecationWarning)\n",
      "C:\\Python27\\lib\\site-packages\\sklearn\\utils\\__init__.py:94: DeprecationWarning: Function normalize is deprecated; WARNING: The HMM module and its functions will be removed in 0.17 as it no longer falls within the project's scope and API. It has been moved to a separate repository: https://github.com/hmmlearn/hmmlearn\n",
      "  warnings.warn(msg, category=DeprecationWarning)\n",
      "C:\\Python27\\lib\\site-packages\\sklearn\\utils\\__init__.py:94: DeprecationWarning: Function normalize is deprecated; WARNING: The HMM module and its functions will be removed in 0.17 as it no longer falls within the project's scope and API. It has been moved to a separate repository: https://github.com/hmmlearn/hmmlearn\n",
      "  warnings.warn(msg, category=DeprecationWarning)\n",
      "C:\\Python27\\lib\\site-packages\\sklearn\\utils\\__init__.py:94: DeprecationWarning: Function normalize is deprecated; WARNING: The HMM module and its functions will be removed in 0.17 as it no longer falls within the project's scope and API. It has been moved to a separate repository: https://github.com/hmmlearn/hmmlearn\n",
      "  warnings.warn(msg, category=DeprecationWarning)\n",
      "C:\\Python27\\lib\\site-packages\\sklearn\\utils\\__init__.py:94: DeprecationWarning: Function normalize is deprecated; WARNING: The HMM module and its functions will be removed in 0.17 as it no longer falls within the project's scope and API. It has been moved to a separate repository: https://github.com/hmmlearn/hmmlearn\n",
      "  warnings.warn(msg, category=DeprecationWarning)\n",
      "C:\\Python27\\lib\\site-packages\\sklearn\\utils\\__init__.py:94: DeprecationWarning: Function normalize is deprecated; WARNING: The HMM module and its functions will be removed in 0.17 as it no longer falls within the project's scope and API. It has been moved to a separate repository: https://github.com/hmmlearn/hmmlearn\n",
      "  warnings.warn(msg, category=DeprecationWarning)\n",
      "C:\\Python27\\lib\\site-packages\\sklearn\\utils\\__init__.py:94: DeprecationWarning: Function normalize is deprecated; WARNING: The HMM module and its functions will be removed in 0.17 as it no longer falls within the project's scope and API. It has been moved to a separate repository: https://github.com/hmmlearn/hmmlearn\n",
      "  warnings.warn(msg, category=DeprecationWarning)\n",
      "C:\\Python27\\lib\\site-packages\\sklearn\\utils\\__init__.py:94: DeprecationWarning: Function normalize is deprecated; WARNING: The HMM module and its functions will be removed in 0.17 as it no longer falls within the project's scope and API. It has been moved to a separate repository: https://github.com/hmmlearn/hmmlearn\n",
      "  warnings.warn(msg, category=DeprecationWarning)\n",
      "C:\\Python27\\lib\\site-packages\\sklearn\\utils\\__init__.py:94: DeprecationWarning: Function normalize is deprecated; WARNING: The HMM module and its functions will be removed in 0.17 as it no longer falls within the project's scope and API. It has been moved to a separate repository: https://github.com/hmmlearn/hmmlearn\n",
      "  warnings.warn(msg, category=DeprecationWarning)\n",
      "C:\\Python27\\lib\\site-packages\\sklearn\\utils\\__init__.py:94: DeprecationWarning: Function normalize is deprecated; WARNING: The HMM module and its functions will be removed in 0.17 as it no longer falls within the project's scope and API. It has been moved to a separate repository: https://github.com/hmmlearn/hmmlearn\n",
      "  warnings.warn(msg, category=DeprecationWarning)\n",
      "C:\\Python27\\lib\\site-packages\\sklearn\\utils\\__init__.py:94: DeprecationWarning: Function normalize is deprecated; WARNING: The HMM module and its functions will be removed in 0.17 as it no longer falls within the project's scope and API. It has been moved to a separate repository: https://github.com/hmmlearn/hmmlearn\n",
      "  warnings.warn(msg, category=DeprecationWarning)\n",
      "C:\\Python27\\lib\\site-packages\\sklearn\\utils\\__init__.py:94: DeprecationWarning: Function normalize is deprecated; WARNING: The HMM module and its functions will be removed in 0.17 as it no longer falls within the project's scope and API. It has been moved to a separate repository: https://github.com/hmmlearn/hmmlearn\n",
      "  warnings.warn(msg, category=DeprecationWarning)\n",
      "C:\\Python27\\lib\\site-packages\\sklearn\\utils\\__init__.py:94: DeprecationWarning: Function normalize is deprecated; WARNING: The HMM module and its functions will be removed in 0.17 as it no longer falls within the project's scope and API. It has been moved to a separate repository: https://github.com/hmmlearn/hmmlearn\n",
      "  warnings.warn(msg, category=DeprecationWarning)\n",
      "C:\\Python27\\lib\\site-packages\\sklearn\\utils\\__init__.py:94: DeprecationWarning: Function normalize is deprecated; WARNING: The HMM module and its functions will be removed in 0.17 as it no longer falls within the project's scope and API. It has been moved to a separate repository: https://github.com/hmmlearn/hmmlearn\n",
      "  warnings.warn(msg, category=DeprecationWarning)\n",
      "C:\\Python27\\lib\\site-packages\\sklearn\\utils\\__init__.py:94: DeprecationWarning: Function normalize is deprecated; WARNING: The HMM module and its functions will be removed in 0.17 as it no longer falls within the project's scope and API. It has been moved to a separate repository: https://github.com/hmmlearn/hmmlearn\n",
      "  warnings.warn(msg, category=DeprecationWarning)\n",
      "C:\\Python27\\lib\\site-packages\\sklearn\\utils\\__init__.py:94: DeprecationWarning: Function normalize is deprecated; WARNING: The HMM module and its functions will be removed in 0.17 as it no longer falls within the project's scope and API. It has been moved to a separate repository: https://github.com/hmmlearn/hmmlearn\n",
      "  warnings.warn(msg, category=DeprecationWarning)\n",
      "C:\\Python27\\lib\\site-packages\\sklearn\\utils\\__init__.py:94: DeprecationWarning: Function normalize is deprecated; WARNING: The HMM module and its functions will be removed in 0.17 as it no longer falls within the project's scope and API. It has been moved to a separate repository: https://github.com/hmmlearn/hmmlearn\n",
      "  warnings.warn(msg, category=DeprecationWarning)\n",
      "C:\\Python27\\lib\\site-packages\\sklearn\\utils\\__init__.py:94: DeprecationWarning: Function normalize is deprecated; WARNING: The HMM module and its functions will be removed in 0.17 as it no longer falls within the project's scope and API. It has been moved to a separate repository: https://github.com/hmmlearn/hmmlearn\n",
      "  warnings.warn(msg, category=DeprecationWarning)\n",
      "C:\\Python27\\lib\\site-packages\\sklearn\\utils\\__init__.py:94: DeprecationWarning: Function normalize is deprecated; WARNING: The HMM module and its functions will be removed in 0.17 as it no longer falls within the project's scope and API. It has been moved to a separate repository: https://github.com/hmmlearn/hmmlearn\n",
      "  warnings.warn(msg, category=DeprecationWarning)\n",
      "C:\\Python27\\lib\\site-packages\\sklearn\\utils\\__init__.py:94: DeprecationWarning: Function normalize is deprecated; WARNING: The HMM module and its functions will be removed in 0.17 as it no longer falls within the project's scope and API. It has been moved to a separate repository: https://github.com/hmmlearn/hmmlearn\n",
      "  warnings.warn(msg, category=DeprecationWarning)\n",
      "C:\\Python27\\lib\\site-packages\\sklearn\\utils\\__init__.py:94: DeprecationWarning: Function normalize is deprecated; WARNING: The HMM module and its functions will be removed in 0.17 as it no longer falls within the project's scope and API. It has been moved to a separate repository: https://github.com/hmmlearn/hmmlearn\n",
      "  warnings.warn(msg, category=DeprecationWarning)\n",
      "C:\\Python27\\lib\\site-packages\\sklearn\\utils\\__init__.py:94: DeprecationWarning: Function normalize is deprecated; WARNING: The HMM module and its functions will be removed in 0.17 as it no longer falls within the project's scope and API. It has been moved to a separate repository: https://github.com/hmmlearn/hmmlearn\n",
      "  warnings.warn(msg, category=DeprecationWarning)\n",
      "C:\\Python27\\lib\\site-packages\\sklearn\\utils\\__init__.py:94: DeprecationWarning: Function normalize is deprecated; WARNING: The HMM module and its functions will be removed in 0.17 as it no longer falls within the project's scope and API. It has been moved to a separate repository: https://github.com/hmmlearn/hmmlearn\n",
      "  warnings.warn(msg, category=DeprecationWarning)\n",
      "C:\\Python27\\lib\\site-packages\\sklearn\\utils\\__init__.py:94: DeprecationWarning: Function normalize is deprecated; WARNING: The HMM module and its functions will be removed in 0.17 as it no longer falls within the project's scope and API. It has been moved to a separate repository: https://github.com/hmmlearn/hmmlearn\n",
      "  warnings.warn(msg, category=DeprecationWarning)\n",
      "C:\\Python27\\lib\\site-packages\\sklearn\\utils\\__init__.py:94: DeprecationWarning: Function normalize is deprecated; WARNING: The HMM module and its functions will be removed in 0.17 as it no longer falls within the project's scope and API. It has been moved to a separate repository: https://github.com/hmmlearn/hmmlearn\n",
      "  warnings.warn(msg, category=DeprecationWarning)\n",
      "C:\\Python27\\lib\\site-packages\\sklearn\\utils\\__init__.py:94: DeprecationWarning: Function normalize is deprecated; WARNING: The HMM module and its functions will be removed in 0.17 as it no longer falls within the project's scope and API. It has been moved to a separate repository: https://github.com/hmmlearn/hmmlearn\n",
      "  warnings.warn(msg, category=DeprecationWarning)\n",
      "C:\\Python27\\lib\\site-packages\\sklearn\\utils\\__init__.py:94: DeprecationWarning: Function normalize is deprecated; WARNING: The HMM module and its functions will be removed in 0.17 as it no longer falls within the project's scope and API. It has been moved to a separate repository: https://github.com/hmmlearn/hmmlearn\n",
      "  warnings.warn(msg, category=DeprecationWarning)\n",
      "C:\\Python27\\lib\\site-packages\\sklearn\\utils\\__init__.py:94: DeprecationWarning: Function normalize is deprecated; WARNING: The HMM module and its functions will be removed in 0.17 as it no longer falls within the project's scope and API. It has been moved to a separate repository: https://github.com/hmmlearn/hmmlearn\n",
      "  warnings.warn(msg, category=DeprecationWarning)\n",
      "C:\\Python27\\lib\\site-packages\\sklearn\\utils\\__init__.py:94: DeprecationWarning: Function normalize is deprecated; WARNING: The HMM module and its functions will be removed in 0.17 as it no longer falls within the project's scope and API. It has been moved to a separate repository: https://github.com/hmmlearn/hmmlearn\n",
      "  warnings.warn(msg, category=DeprecationWarning)\n",
      "C:\\Python27\\lib\\site-packages\\sklearn\\utils\\__init__.py:94: DeprecationWarning: Function normalize is deprecated; WARNING: The HMM module and its functions will be removed in 0.17 as it no longer falls within the project's scope and API. It has been moved to a separate repository: https://github.com/hmmlearn/hmmlearn\n",
      "  warnings.warn(msg, category=DeprecationWarning)\n",
      "C:\\Python27\\lib\\site-packages\\sklearn\\utils\\__init__.py:94: DeprecationWarning: Function normalize is deprecated; WARNING: The HMM module and its functions will be removed in 0.17 as it no longer falls within the project's scope and API. It has been moved to a separate repository: https://github.com/hmmlearn/hmmlearn\n",
      "  warnings.warn(msg, category=DeprecationWarning)\n",
      "C:\\Python27\\lib\\site-packages\\sklearn\\utils\\__init__.py:94: DeprecationWarning: Function normalize is deprecated; WARNING: The HMM module and its functions will be removed in 0.17 as it no longer falls within the project's scope and API. It has been moved to a separate repository: https://github.com/hmmlearn/hmmlearn\n",
      "  warnings.warn(msg, category=DeprecationWarning)\n",
      "C:\\Python27\\lib\\site-packages\\sklearn\\utils\\__init__.py:94: DeprecationWarning: Function normalize is deprecated; WARNING: The HMM module and its functions will be removed in 0.17 as it no longer falls within the project's scope and API. It has been moved to a separate repository: https://github.com/hmmlearn/hmmlearn\n",
      "  warnings.warn(msg, category=DeprecationWarning)\n",
      "C:\\Python27\\lib\\site-packages\\sklearn\\utils\\__init__.py:94: DeprecationWarning: Function normalize is deprecated; WARNING: The HMM module and its functions will be removed in 0.17 as it no longer falls within the project's scope and API. It has been moved to a separate repository: https://github.com/hmmlearn/hmmlearn\n",
      "  warnings.warn(msg, category=DeprecationWarning)\n",
      "C:\\Python27\\lib\\site-packages\\sklearn\\utils\\__init__.py:94: DeprecationWarning: Function normalize is deprecated; WARNING: The HMM module and its functions will be removed in 0.17 as it no longer falls within the project's scope and API. It has been moved to a separate repository: https://github.com/hmmlearn/hmmlearn\n",
      "  warnings.warn(msg, category=DeprecationWarning)\n",
      "C:\\Python27\\lib\\site-packages\\sklearn\\utils\\__init__.py:94: DeprecationWarning: Function normalize is deprecated; WARNING: The HMM module and its functions will be removed in 0.17 as it no longer falls within the project's scope and API. It has been moved to a separate repository: https://github.com/hmmlearn/hmmlearn\n",
      "  warnings.warn(msg, category=DeprecationWarning)\n",
      "C:\\Python27\\lib\\site-packages\\sklearn\\utils\\__init__.py:94: DeprecationWarning: Function normalize is deprecated; WARNING: The HMM module and its functions will be removed in 0.17 as it no longer falls within the project's scope and API. It has been moved to a separate repository: https://github.com/hmmlearn/hmmlearn\n",
      "  warnings.warn(msg, category=DeprecationWarning)\n",
      "C:\\Python27\\lib\\site-packages\\sklearn\\utils\\__init__.py:94: DeprecationWarning: Function normalize is deprecated; WARNING: The HMM module and its functions will be removed in 0.17 as it no longer falls within the project's scope and API. It has been moved to a separate repository: https://github.com/hmmlearn/hmmlearn\n",
      "  warnings.warn(msg, category=DeprecationWarning)\n",
      "C:\\Python27\\lib\\site-packages\\sklearn\\utils\\__init__.py:94: DeprecationWarning: Function normalize is deprecated; WARNING: The HMM module and its functions will be removed in 0.17 as it no longer falls within the project's scope and API. It has been moved to a separate repository: https://github.com/hmmlearn/hmmlearn\n",
      "  warnings.warn(msg, category=DeprecationWarning)\n",
      "C:\\Python27\\lib\\site-packages\\sklearn\\utils\\__init__.py:94: DeprecationWarning: Function normalize is deprecated; WARNING: The HMM module and its functions will be removed in 0.17 as it no longer falls within the project's scope and API. It has been moved to a separate repository: https://github.com/hmmlearn/hmmlearn\n",
      "  warnings.warn(msg, category=DeprecationWarning)\n",
      "C:\\Python27\\lib\\site-packages\\sklearn\\utils\\__init__.py:94: DeprecationWarning: Function normalize is deprecated; WARNING: The HMM module and its functions will be removed in 0.17 as it no longer falls within the project's scope and API. It has been moved to a separate repository: https://github.com/hmmlearn/hmmlearn\n",
      "  warnings.warn(msg, category=DeprecationWarning)\n",
      "C:\\Python27\\lib\\site-packages\\sklearn\\utils\\__init__.py:94: DeprecationWarning: Function normalize is deprecated; WARNING: The HMM module and its functions will be removed in 0.17 as it no longer falls within the project's scope and API. It has been moved to a separate repository: https://github.com/hmmlearn/hmmlearn\n",
      "  warnings.warn(msg, category=DeprecationWarning)\n",
      "C:\\Python27\\lib\\site-packages\\sklearn\\utils\\__init__.py:94: DeprecationWarning: Function normalize is deprecated; WARNING: The HMM module and its functions will be removed in 0.17 as it no longer falls within the project's scope and API. It has been moved to a separate repository: https://github.com/hmmlearn/hmmlearn\n",
      "  warnings.warn(msg, category=DeprecationWarning)\n",
      "C:\\Python27\\lib\\site-packages\\sklearn\\utils\\__init__.py:94: DeprecationWarning: Function normalize is deprecated; WARNING: The HMM module and its functions will be removed in 0.17 as it no longer falls within the project's scope and API. It has been moved to a separate repository: https://github.com/hmmlearn/hmmlearn\n",
      "  warnings.warn(msg, category=DeprecationWarning)\n",
      "C:\\Python27\\lib\\site-packages\\sklearn\\utils\\__init__.py:94: DeprecationWarning: Function normalize is deprecated; WARNING: The HMM module and its functions will be removed in 0.17 as it no longer falls within the project's scope and API. It has been moved to a separate repository: https://github.com/hmmlearn/hmmlearn\n",
      "  warnings.warn(msg, category=DeprecationWarning)\n",
      "C:\\Python27\\lib\\site-packages\\sklearn\\utils\\__init__.py:94: DeprecationWarning: Function normalize is deprecated; WARNING: The HMM module and its functions will be removed in 0.17 as it no longer falls within the project's scope and API. It has been moved to a separate repository: https://github.com/hmmlearn/hmmlearn\n",
      "  warnings.warn(msg, category=DeprecationWarning)\n",
      "C:\\Python27\\lib\\site-packages\\sklearn\\utils\\__init__.py:94: DeprecationWarning: Function normalize is deprecated; WARNING: The HMM module and its functions will be removed in 0.17 as it no longer falls within the project's scope and API. It has been moved to a separate repository: https://github.com/hmmlearn/hmmlearn\n",
      "  warnings.warn(msg, category=DeprecationWarning)\n",
      "C:\\Python27\\lib\\site-packages\\sklearn\\utils\\__init__.py:94: DeprecationWarning: Function normalize is deprecated; WARNING: The HMM module and its functions will be removed in 0.17 as it no longer falls within the project's scope and API. It has been moved to a separate repository: https://github.com/hmmlearn/hmmlearn\n",
      "  warnings.warn(msg, category=DeprecationWarning)\n",
      "C:\\Python27\\lib\\site-packages\\sklearn\\utils\\__init__.py:94: DeprecationWarning: Function normalize is deprecated; WARNING: The HMM module and its functions will be removed in 0.17 as it no longer falls within the project's scope and API. It has been moved to a separate repository: https://github.com/hmmlearn/hmmlearn\n",
      "  warnings.warn(msg, category=DeprecationWarning)\n",
      "C:\\Python27\\lib\\site-packages\\sklearn\\utils\\__init__.py:94: DeprecationWarning: Function normalize is deprecated; WARNING: The HMM module and its functions will be removed in 0.17 as it no longer falls within the project's scope and API. It has been moved to a separate repository: https://github.com/hmmlearn/hmmlearn\n",
      "  warnings.warn(msg, category=DeprecationWarning)\n",
      "C:\\Python27\\lib\\site-packages\\sklearn\\utils\\__init__.py:94: DeprecationWarning: Function normalize is deprecated; WARNING: The HMM module and its functions will be removed in 0.17 as it no longer falls within the project's scope and API. It has been moved to a separate repository: https://github.com/hmmlearn/hmmlearn\n",
      "  warnings.warn(msg, category=DeprecationWarning)\n",
      "C:\\Python27\\lib\\site-packages\\sklearn\\utils\\__init__.py:94: DeprecationWarning: Function normalize is deprecated; WARNING: The HMM module and its functions will be removed in 0.17 as it no longer falls within the project's scope and API. It has been moved to a separate repository: https://github.com/hmmlearn/hmmlearn\n",
      "  warnings.warn(msg, category=DeprecationWarning)\n",
      "C:\\Python27\\lib\\site-packages\\sklearn\\utils\\__init__.py:94: DeprecationWarning: Function normalize is deprecated; WARNING: The HMM module and its functions will be removed in 0.17 as it no longer falls within the project's scope and API. It has been moved to a separate repository: https://github.com/hmmlearn/hmmlearn\n",
      "  warnings.warn(msg, category=DeprecationWarning)\n",
      "C:\\Python27\\lib\\site-packages\\sklearn\\utils\\__init__.py:94: DeprecationWarning: Function normalize is deprecated; WARNING: The HMM module and its functions will be removed in 0.17 as it no longer falls within the project's scope and API. It has been moved to a separate repository: https://github.com/hmmlearn/hmmlearn\n",
      "  warnings.warn(msg, category=DeprecationWarning)\n",
      "C:\\Python27\\lib\\site-packages\\sklearn\\utils\\__init__.py:94: DeprecationWarning: Function normalize is deprecated; WARNING: The HMM module and its functions will be removed in 0.17 as it no longer falls within the project's scope and API. It has been moved to a separate repository: https://github.com/hmmlearn/hmmlearn\n",
      "  warnings.warn(msg, category=DeprecationWarning)\n",
      "C:\\Python27\\lib\\site-packages\\sklearn\\utils\\__init__.py:94: DeprecationWarning: Function normalize is deprecated; WARNING: The HMM module and its functions will be removed in 0.17 as it no longer falls within the project's scope and API. It has been moved to a separate repository: https://github.com/hmmlearn/hmmlearn\n",
      "  warnings.warn(msg, category=DeprecationWarning)\n",
      "C:\\Python27\\lib\\site-packages\\sklearn\\utils\\__init__.py:94: DeprecationWarning: Function normalize is deprecated; WARNING: The HMM module and its functions will be removed in 0.17 as it no longer falls within the project's scope and API. It has been moved to a separate repository: https://github.com/hmmlearn/hmmlearn\n",
      "  warnings.warn(msg, category=DeprecationWarning)\n",
      "C:\\Python27\\lib\\site-packages\\sklearn\\utils\\__init__.py:94: DeprecationWarning: Function normalize is deprecated; WARNING: The HMM module and its functions will be removed in 0.17 as it no longer falls within the project's scope and API. It has been moved to a separate repository: https://github.com/hmmlearn/hmmlearn\n",
      "  warnings.warn(msg, category=DeprecationWarning)\n",
      "C:\\Python27\\lib\\site-packages\\sklearn\\utils\\__init__.py:94: DeprecationWarning: Function normalize is deprecated; WARNING: The HMM module and its functions will be removed in 0.17 as it no longer falls within the project's scope and API. It has been moved to a separate repository: https://github.com/hmmlearn/hmmlearn\n",
      "  warnings.warn(msg, category=DeprecationWarning)\n",
      "C:\\Python27\\lib\\site-packages\\sklearn\\utils\\__init__.py:94: DeprecationWarning: Function normalize is deprecated; WARNING: The HMM module and its functions will be removed in 0.17 as it no longer falls within the project's scope and API. It has been moved to a separate repository: https://github.com/hmmlearn/hmmlearn\n",
      "  warnings.warn(msg, category=DeprecationWarning)\n",
      "C:\\Python27\\lib\\site-packages\\sklearn\\utils\\__init__.py:94: DeprecationWarning: Function normalize is deprecated; WARNING: The HMM module and its functions will be removed in 0.17 as it no longer falls within the project's scope and API. It has been moved to a separate repository: https://github.com/hmmlearn/hmmlearn\n",
      "  warnings.warn(msg, category=DeprecationWarning)\n",
      "C:\\Python27\\lib\\site-packages\\sklearn\\utils\\__init__.py:94: DeprecationWarning: Function normalize is deprecated; WARNING: The HMM module and its functions will be removed in 0.17 as it no longer falls within the project's scope and API. It has been moved to a separate repository: https://github.com/hmmlearn/hmmlearn\n",
      "  warnings.warn(msg, category=DeprecationWarning)\n",
      "C:\\Python27\\lib\\site-packages\\sklearn\\utils\\__init__.py:94: DeprecationWarning: Function normalize is deprecated; WARNING: The HMM module and its functions will be removed in 0.17 as it no longer falls within the project's scope and API. It has been moved to a separate repository: https://github.com/hmmlearn/hmmlearn\n",
      "  warnings.warn(msg, category=DeprecationWarning)\n",
      "C:\\Python27\\lib\\site-packages\\sklearn\\utils\\__init__.py:94: DeprecationWarning: Function normalize is deprecated; WARNING: The HMM module and its functions will be removed in 0.17 as it no longer falls within the project's scope and API. It has been moved to a separate repository: https://github.com/hmmlearn/hmmlearn\n",
      "  warnings.warn(msg, category=DeprecationWarning)\n",
      "C:\\Python27\\lib\\site-packages\\sklearn\\utils\\__init__.py:94: DeprecationWarning: Function normalize is deprecated; WARNING: The HMM module and its functions will be removed in 0.17 as it no longer falls within the project's scope and API. It has been moved to a separate repository: https://github.com/hmmlearn/hmmlearn\n",
      "  warnings.warn(msg, category=DeprecationWarning)\n",
      "C:\\Python27\\lib\\site-packages\\sklearn\\utils\\__init__.py:94: DeprecationWarning: Function normalize is deprecated; WARNING: The HMM module and its functions will be removed in 0.17 as it no longer falls within the project's scope and API. It has been moved to a separate repository: https://github.com/hmmlearn/hmmlearn\n",
      "  warnings.warn(msg, category=DeprecationWarning)\n",
      "C:\\Python27\\lib\\site-packages\\sklearn\\utils\\__init__.py:94: DeprecationWarning: Function normalize is deprecated; WARNING: The HMM module and its functions will be removed in 0.17 as it no longer falls within the project's scope and API. It has been moved to a separate repository: https://github.com/hmmlearn/hmmlearn\n",
      "  warnings.warn(msg, category=DeprecationWarning)\n",
      "C:\\Python27\\lib\\site-packages\\sklearn\\utils\\__init__.py:94: DeprecationWarning: Function normalize is deprecated; WARNING: The HMM module and its functions will be removed in 0.17 as it no longer falls within the project's scope and API. It has been moved to a separate repository: https://github.com/hmmlearn/hmmlearn\n",
      "  warnings.warn(msg, category=DeprecationWarning)\n",
      "C:\\Python27\\lib\\site-packages\\sklearn\\utils\\__init__.py:94: DeprecationWarning: Function normalize is deprecated; WARNING: The HMM module and its functions will be removed in 0.17 as it no longer falls within the project's scope and API. It has been moved to a separate repository: https://github.com/hmmlearn/hmmlearn\n",
      "  warnings.warn(msg, category=DeprecationWarning)\n",
      "C:\\Python27\\lib\\site-packages\\sklearn\\utils\\__init__.py:94: DeprecationWarning: Function normalize is deprecated; WARNING: The HMM module and its functions will be removed in 0.17 as it no longer falls within the project's scope and API. It has been moved to a separate repository: https://github.com/hmmlearn/hmmlearn\n",
      "  warnings.warn(msg, category=DeprecationWarning)\n",
      "C:\\Python27\\lib\\site-packages\\sklearn\\utils\\__init__.py:94: DeprecationWarning: Function normalize is deprecated; WARNING: The HMM module and its functions will be removed in 0.17 as it no longer falls within the project's scope and API. It has been moved to a separate repository: https://github.com/hmmlearn/hmmlearn\n",
      "  warnings.warn(msg, category=DeprecationWarning)\n",
      "C:\\Python27\\lib\\site-packages\\sklearn\\utils\\__init__.py:94: DeprecationWarning: Function normalize is deprecated; WARNING: The HMM module and its functions will be removed in 0.17 as it no longer falls within the project's scope and API. It has been moved to a separate repository: https://github.com/hmmlearn/hmmlearn\n",
      "  warnings.warn(msg, category=DeprecationWarning)\n",
      "C:\\Python27\\lib\\site-packages\\sklearn\\utils\\__init__.py:94: DeprecationWarning: Function normalize is deprecated; WARNING: The HMM module and its functions will be removed in 0.17 as it no longer falls within the project's scope and API. It has been moved to a separate repository: https://github.com/hmmlearn/hmmlearn\n",
      "  warnings.warn(msg, category=DeprecationWarning)\n",
      "C:\\Python27\\lib\\site-packages\\sklearn\\utils\\__init__.py:94: DeprecationWarning: Function normalize is deprecated; WARNING: The HMM module and its functions will be removed in 0.17 as it no longer falls within the project's scope and API. It has been moved to a separate repository: https://github.com/hmmlearn/hmmlearn\n",
      "  warnings.warn(msg, category=DeprecationWarning)\n",
      "C:\\Python27\\lib\\site-packages\\sklearn\\utils\\__init__.py:94: DeprecationWarning: Function normalize is deprecated; WARNING: The HMM module and its functions will be removed in 0.17 as it no longer falls within the project's scope and API. It has been moved to a separate repository: https://github.com/hmmlearn/hmmlearn\n",
      "  warnings.warn(msg, category=DeprecationWarning)\n",
      "C:\\Python27\\lib\\site-packages\\sklearn\\utils\\__init__.py:94: DeprecationWarning: Function normalize is deprecated; WARNING: The HMM module and its functions will be removed in 0.17 as it no longer falls within the project's scope and API. It has been moved to a separate repository: https://github.com/hmmlearn/hmmlearn\n",
      "  warnings.warn(msg, category=DeprecationWarning)\n",
      "C:\\Python27\\lib\\site-packages\\sklearn\\utils\\__init__.py:94: DeprecationWarning: Function normalize is deprecated; WARNING: The HMM module and its functions will be removed in 0.17 as it no longer falls within the project's scope and API. It has been moved to a separate repository: https://github.com/hmmlearn/hmmlearn\n",
      "  warnings.warn(msg, category=DeprecationWarning)\n",
      "C:\\Python27\\lib\\site-packages\\sklearn\\utils\\__init__.py:94: DeprecationWarning: Function normalize is deprecated; WARNING: The HMM module and its functions will be removed in 0.17 as it no longer falls within the project's scope and API. It has been moved to a separate repository: https://github.com/hmmlearn/hmmlearn\n",
      "  warnings.warn(msg, category=DeprecationWarning)\n",
      "C:\\Python27\\lib\\site-packages\\sklearn\\utils\\__init__.py:94: DeprecationWarning: Function normalize is deprecated; WARNING: The HMM module and its functions will be removed in 0.17 as it no longer falls within the project's scope and API. It has been moved to a separate repository: https://github.com/hmmlearn/hmmlearn\n",
      "  warnings.warn(msg, category=DeprecationWarning)\n",
      "C:\\Python27\\lib\\site-packages\\sklearn\\utils\\__init__.py:94: DeprecationWarning: Function normalize is deprecated; WARNING: The HMM module and its functions will be removed in 0.17 as it no longer falls within the project's scope and API. It has been moved to a separate repository: https://github.com/hmmlearn/hmmlearn\n",
      "  warnings.warn(msg, category=DeprecationWarning)\n",
      "C:\\Python27\\lib\\site-packages\\sklearn\\utils\\__init__.py:94: DeprecationWarning: Function normalize is deprecated; WARNING: The HMM module and its functions will be removed in 0.17 as it no longer falls within the project's scope and API. It has been moved to a separate repository: https://github.com/hmmlearn/hmmlearn\n",
      "  warnings.warn(msg, category=DeprecationWarning)\n",
      "C:\\Python27\\lib\\site-packages\\sklearn\\utils\\__init__.py:94: DeprecationWarning: Function normalize is deprecated; WARNING: The HMM module and its functions will be removed in 0.17 as it no longer falls within the project's scope and API. It has been moved to a separate repository: https://github.com/hmmlearn/hmmlearn\n",
      "  warnings.warn(msg, category=DeprecationWarning)\n",
      "C:\\Python27\\lib\\site-packages\\sklearn\\utils\\__init__.py:94: DeprecationWarning: Function normalize is deprecated; WARNING: The HMM module and its functions will be removed in 0.17 as it no longer falls within the project's scope and API. It has been moved to a separate repository: https://github.com/hmmlearn/hmmlearn\n",
      "  warnings.warn(msg, category=DeprecationWarning)\n",
      "C:\\Python27\\lib\\site-packages\\sklearn\\utils\\__init__.py:94: DeprecationWarning: Function normalize is deprecated; WARNING: The HMM module and its functions will be removed in 0.17 as it no longer falls within the project's scope and API. It has been moved to a separate repository: https://github.com/hmmlearn/hmmlearn\n",
      "  warnings.warn(msg, category=DeprecationWarning)\n",
      "C:\\Python27\\lib\\site-packages\\sklearn\\utils\\__init__.py:94: DeprecationWarning: Function normalize is deprecated; WARNING: The HMM module and its functions will be removed in 0.17 as it no longer falls within the project's scope and API. It has been moved to a separate repository: https://github.com/hmmlearn/hmmlearn\n",
      "  warnings.warn(msg, category=DeprecationWarning)\n",
      "C:\\Python27\\lib\\site-packages\\sklearn\\utils\\__init__.py:94: DeprecationWarning: Function normalize is deprecated; WARNING: The HMM module and its functions will be removed in 0.17 as it no longer falls within the project's scope and API. It has been moved to a separate repository: https://github.com/hmmlearn/hmmlearn\n",
      "  warnings.warn(msg, category=DeprecationWarning)\n",
      "C:\\Python27\\lib\\site-packages\\sklearn\\utils\\__init__.py:94: DeprecationWarning: Function normalize is deprecated; WARNING: The HMM module and its functions will be removed in 0.17 as it no longer falls within the project's scope and API. It has been moved to a separate repository: https://github.com/hmmlearn/hmmlearn\n",
      "  warnings.warn(msg, category=DeprecationWarning)\n",
      "C:\\Python27\\lib\\site-packages\\sklearn\\utils\\__init__.py:94: DeprecationWarning: Function normalize is deprecated; WARNING: The HMM module and its functions will be removed in 0.17 as it no longer falls within the project's scope and API. It has been moved to a separate repository: https://github.com/hmmlearn/hmmlearn\n",
      "  warnings.warn(msg, category=DeprecationWarning)\n",
      "C:\\Python27\\lib\\site-packages\\sklearn\\utils\\__init__.py:94: DeprecationWarning: Function normalize is deprecated; WARNING: The HMM module and its functions will be removed in 0.17 as it no longer falls within the project's scope and API. It has been moved to a separate repository: https://github.com/hmmlearn/hmmlearn\n",
      "  warnings.warn(msg, category=DeprecationWarning)\n"
     ]
    },
    {
     "name": "stdout",
     "output_type": "stream",
     "text": [
      "done\n",
      "\n",
      "Transition matrix\n",
      "[[  8.20336573e-01   2.92500235e-02   1.49594481e-01   8.17348994e-04\n",
      "    1.57302705e-06]\n",
      " [  3.28428130e-02   6.27447914e-01   3.15723068e-01   1.45943762e-16\n",
      "    2.39862047e-02]\n",
      " [  1.54774905e-01   1.18363668e-01   7.19363504e-01   3.95270377e-03\n",
      "    3.54521884e-03]\n",
      " [  2.39365781e-03   7.12377891e-18   4.81337138e-09   9.76730630e-01\n",
      "    2.08757079e-02]\n",
      " [  3.61685488e-18   3.23401551e-01   2.89730349e-17   2.63419569e-01\n",
      "    4.13178880e-01]]\n",
      "\n",
      "means and vars of each hidden state\n",
      "0th hidden state\n",
      "mean =  [  5.80396738e-03   4.91215819e+07]\n",
      "var =  [  4.20176590e-02   1.09646057e+14]\n",
      "\n",
      "1th hidden state\n",
      "mean =  [  3.40015224e-02   1.10482864e+08]\n",
      "var =  [  1.63911968e-01   8.82357068e+14]\n",
      "\n",
      "2th hidden state\n",
      "mean =  [  1.05992750e-02   6.99276534e+07]\n",
      "var =  [  1.03252931e-01   1.52890452e+14]\n",
      "\n",
      "3th hidden state\n",
      "mean =  [  2.53728580e-02   4.96950117e+07]\n",
      "var =  [  7.37783502e-01   2.50374070e+14]\n",
      "\n",
      "4th hidden state\n",
      "mean =  [ -7.04299259e-01   1.49184807e+08]\n",
      "var =  [  5.13191430e+00   1.02578654e+16]\n",
      "\n"
     ]
    },
    {
     "name": "stderr",
     "output_type": "stream",
     "text": [
      "C:\\Python27\\lib\\site-packages\\sklearn\\utils\\__init__.py:94: DeprecationWarning: Function normalize is deprecated; WARNING: The HMM module and its functions will be removed in 0.17 as it no longer falls within the project's scope and API. It has been moved to a separate repository: https://github.com/hmmlearn/hmmlearn\n",
      "  warnings.warn(msg, category=DeprecationWarning)\n"
     ]
    }
   ],
   "source": []
  },
  {
   "cell_type": "code",
   "execution_count": 74,
   "metadata": {
    "collapsed": false
   },
   "outputs": [],
   "source": [
    "import jieba\n",
    "jieba.add_word('柯P',100, 'nr')\n",
    "jieba.add_word('洪智坤',100, 'nr')\n",
    "#jieba.del_word('柯P')\n",
    "#jieba.del_word('洪智坤')\n",
    "ary = ['【更新】柯P：洪智坤洩漏公文案還沒看到公文　今處理',\n",
    "'留洪智坤 柯：殘障求職不易',\n",
    "'人事處議處洪智坤　柯P：不清楚議處結果']\n",
    "corpus = []\n",
    "for title in ary:\n",
    "\n",
    "    corpus.append(' '.join(jieba.cut(title)))"
   ]
  },
  {
   "cell_type": "code",
   "execution_count": 75,
   "metadata": {
    "collapsed": false
   },
   "outputs": [
    {
     "name": "stdout",
     "output_type": "stream",
     "text": [
      "[u'\\u3010 \\u66f4\\u65b0 \\u3011 \\u67efP \\uff1a \\u6d2a\\u667a\\u5764 \\u6d29\\u6f0f \\u516c\\u6587 \\u6848\\u9084 \\u6c92 \\u770b\\u5230 \\u516c\\u6587 \\u3000 \\u4eca\\u8655\\u7406', u'\\u7559 \\u6d2a\\u667a\\u5764   \\u67ef \\uff1a \\u6b98\\u969c \\u6c42\\u8077 \\u4e0d\\u6613', u'\\u4eba\\u4e8b \\u8655\\u8b70 \\u8655 \\u6d2a\\u667a\\u5764 \\u3000 \\u67efP \\uff1a \\u4e0d \\u6e05\\u695a \\u8b70\\u8655 \\u7d50\\u679c']\n",
      "【 更新 】 柯P ： 洪智坤 洩漏 公文 案還 沒 看到 公文 　 今處理\n",
      "留 洪智坤   柯 ： 殘障 求職 不易\n",
      "人事 處議 處 洪智坤 　 柯P ： 不 清楚 議處 結果\n"
     ]
    }
   ],
   "source": [
    "print corpus\n",
    "for ele in corpus:\n",
    "    print ele"
   ]
  },
  {
   "cell_type": "code",
   "execution_count": 76,
   "metadata": {
    "collapsed": false
   },
   "outputs": [
    {
     "name": "stdout",
     "output_type": "stream",
     "text": [
      "【更新】柯P：洪智坤洩漏公文案還沒看到公文　今處理\n",
      "留洪智坤 柯：殘障求職不易\n",
      "人事處議處洪智坤　柯P：不清楚議處結果\n",
      "不易 人事 今處理 公文 更新 柯p 案還 殘障 求職 洩漏 洪智坤 清楚 看到 結果 處議 議處\n",
      "[[0 0 1 2 1 1 1 0 0 1 1 0 1 0 0 0]\n",
      " [1 0 0 0 0 0 0 1 1 0 1 0 0 0 0 0]\n",
      " [0 1 0 0 0 1 0 0 0 0 1 1 0 1 1 1]]\n"
     ]
    }
   ],
   "source": [
    "from sklearn.feature_extraction.text import CountVectorizer\n",
    "vectorizer = CountVectorizer() \n",
    "\n",
    "\n",
    "X = vectorizer.fit_transform(corpus)\n",
    "#print X\n",
    "word = vectorizer.get_feature_names() \n",
    "#for w in word:\n",
    "#    print w\n",
    "from sklearn.feature_extraction.text import CountVectorizer\n",
    "vectorizer = CountVectorizer() \n",
    "X = vectorizer.fit_transform(corpus)\n",
    "for title in ary:\n",
    "    print title\n",
    "\n",
    "\n",
    "word = vectorizer.get_feature_names() \n",
    "for w in word:\n",
    "    print w,\n",
    "print \n",
    "\n",
    "print X.toarray()    \n"
   ]
  },
  {
   "cell_type": "code",
   "execution_count": 30,
   "metadata": {
    "collapsed": false
   },
   "outputs": [
    {
     "name": "stdout",
     "output_type": "stream",
     "text": [
      "[[ 0.          0.          0.31738473  0.63476946  0.31738473  0.24137927\n",
      "   0.31738473  0.          0.          0.31738473  0.18745253  0.\n",
      "   0.31738473  0.          0.          0.        ]\n",
      " [ 0.54645401  0.          0.          0.          0.          0.          0.\n",
      "   0.54645401  0.54645401  0.          0.32274454  0.          0.          0.\n",
      "   0.          0.        ]\n",
      " [ 0.          0.41074684  0.          0.          0.          0.31238356\n",
      "   0.          0.          0.          0.          0.2425937   0.41074684\n",
      "   0.          0.41074684  0.41074684  0.41074684]]\n"
     ]
    }
   ],
   "source": [
    "from sklearn.feature_extraction.text import TfidfTransformer\n",
    "transformer = TfidfTransformer()\n",
    "tfidf = transformer.fit_transform(X)\n",
    "weight = tfidf.toarray()    \n",
    "print weight\n"
   ]
  },
  {
   "cell_type": "code",
   "execution_count": 33,
   "metadata": {
    "collapsed": false
   },
   "outputs": [
    {
     "name": "stdout",
     "output_type": "stream",
     "text": [
      "[[ 1.          0.06049928  0.12087772]]\n",
      "[[ 1.          0.06049928  0.12087772]\n",
      " [ 0.06049928  1.          0.07829579]\n",
      " [ 0.12087772  0.07829579  1.        ]]\n"
     ]
    }
   ],
   "source": [
    "from sklearn.metrics.pairwise import linear_kernel\n",
    "print linear_kernel(tfidf[0], tfidf)\n",
    "cosine_similarities = linear_kernel(tfidf[0], tfidf).flatten()\n",
    "#print cosine_similarities\n",
    "\n",
    "cosine_similarities = linear_kernel(tfidf, tfidf)\n",
    "print cosine_similarities"
   ]
  },
  {
   "cell_type": "code",
   "execution_count": 37,
   "metadata": {
    "collapsed": false
   },
   "outputs": [
    {
     "name": "stdout",
     "output_type": "stream",
     "text": [
      "[u'disk', u'format', u'hard', u'how', u'my', u'problems', u'to']\n",
      "[[1 1 1 1 1 0 1]\n",
      " [1 1 1 0 0 1 0]]\n"
     ]
    }
   ],
   "source": [
    "from sklearn.feature_extraction.text import CountVectorizer\n",
    "vectorizer = CountVectorizer(min_df=1)\n",
    "content = [\"How to format my hard disk\", \" Hard disk format problems \"]\n",
    "X = vectorizer.fit_transform(content)\n",
    "print vectorizer.get_feature_names()\n",
    "print(X.toarray())\n",
    "#print(X.toarray().transpose())"
   ]
  },
  {
   "cell_type": "code",
   "execution_count": 46,
   "metadata": {
    "collapsed": false
   },
   "outputs": [
    {
     "name": "stdout",
     "output_type": "stream",
     "text": [
      "#samples: 5, #features: 25\n",
      "[u'about', u'actually', u'capabilities', u'contains', u'data', u'databases', u'images', u'imaging', u'interesting', u'is', u'it', u'learning', u'machine', u'most', u'much', u'not', u'permanently', u'post', u'provide', u'safe', u'storage', u'store', u'stuff', u'this', u'toy']\n"
     ]
    }
   ],
   "source": [
    "posts = [open(os.path.join('toy', f)).read() for f in os.listdir('toy')]\n",
    "\n",
    "from sklearn.feature_extraction.text import CountVectorizer\n",
    "vectorizer = CountVectorizer(min_df=1)\n",
    "\n",
    "X_train = vectorizer.fit_transform(posts)\n",
    "num_samples, num_features = X_train.shape\n",
    "\n",
    "print(\"#samples: %d, #features: %d\" % (num_samples,num_features)) \n",
    "print(vectorizer.get_feature_names())\n"
   ]
  },
  {
   "cell_type": "code",
   "execution_count": 47,
   "metadata": {
    "collapsed": false
   },
   "outputs": [
    {
     "name": "stdout",
     "output_type": "stream",
     "text": [
      "  (0, 5)\t1\n",
      "  (0, 7)\t1\n",
      "[[0 0 0 0 0 1 0 1 0 0 0 0 0 0 0 0 0 0 0 0 0 0 0 0 0]]\n"
     ]
    }
   ],
   "source": [
    "new_post = \"imaging databases\"\n",
    "new_post_vec = vectorizer.transform([new_post])\n",
    "print new_post_vec\n",
    "print(new_post_vec.toarray())\n"
   ]
  },
  {
   "cell_type": "code",
   "execution_count": 48,
   "metadata": {
    "collapsed": true
   },
   "outputs": [],
   "source": [
    "import scipy as sp\n",
    "def dist_raw(v1, v2):\n",
    "    delta = v1-v2\n",
    "    return sp.linalg.norm(delta.toarray())\n"
   ]
  },
  {
   "cell_type": "code",
   "execution_count": 50,
   "metadata": {
    "collapsed": true
   },
   "outputs": [],
   "source": [
    "import scipy as sp\n",
    "def dist_raw(v1, v2):\n",
    "    delta = v1-v2\n",
    "    return sp.linalg.norm(delta.toarray())"
   ]
  },
  {
   "cell_type": "code",
   "execution_count": 51,
   "metadata": {
    "collapsed": false
   },
   "outputs": [
    {
     "name": "stdout",
     "output_type": "stream",
     "text": [
      "=== Post 0 with dist=4.00: This is a toy post about machine learning. Actually, it contains not much interesting stuff.\n",
      "=== Post 1 with dist=1.73: Imaging databases provide storage capabilities.\n",
      "=== Post 2 with dist=2.00: Most imaging databases safe images permanently.\n",
      "=== Post 3 with dist=1.41: Imaging databases store data.\n",
      "=== Post 4 with dist=5.10: Imaging databases store data. Imaging databases store data. Imaging databases store data.\n",
      "Best post is 3 with dist=1.41\n"
     ]
    }
   ],
   "source": [
    "import sys\n",
    "best_doc = None\n",
    "best_dist = sys.maxint\n",
    "best_i = None\n",
    "for i in range(0, num_samples):\n",
    "    post = posts[i]\n",
    "    if post==new_post:\n",
    "        continue\n",
    "    post_vec = X_train.getrow(i)\n",
    "    d = dist_raw(post_vec, new_post_vec)\n",
    "    print \"=== Post %i with dist=%.2f: %s\"%(i, d, post)\n",
    "    if d<best_dist:\n",
    "        best_dist = d\n",
    "        best_i = i\n",
    "print(\"Best post is %i with dist=%.2f\"%(best_i, best_dist))\n"
   ]
  },
  {
   "cell_type": "code",
   "execution_count": 52,
   "metadata": {
    "collapsed": false
   },
   "outputs": [
    {
     "data": {
      "text/plain": [
       "['a',\n",
       " 'about',\n",
       " 'above',\n",
       " 'across',\n",
       " 'after',\n",
       " 'afterwards',\n",
       " 'again',\n",
       " 'against',\n",
       " 'all',\n",
       " 'almost']"
      ]
     },
     "execution_count": 52,
     "metadata": {},
     "output_type": "execute_result"
    }
   ],
   "source": [
    "vectorizer = CountVectorizer(min_df=1, stop_words='english')\n",
    "sorted(vectorizer.get_stop_words())[0:10]\n"
   ]
  },
  {
   "cell_type": "code",
   "execution_count": 54,
   "metadata": {
    "collapsed": false
   },
   "outputs": [
    {
     "name": "stdout",
     "output_type": "stream",
     "text": [
      "graphic\n",
      "imag\n",
      "imag\n",
      "imagin\n",
      "imagin\n"
     ]
    }
   ],
   "source": [
    "import nltk.stem\n",
    "s= nltk.stem.SnowballStemmer('english')\n",
    "print s.stem(\"graphics\")\n",
    "\n",
    "print s.stem(\"imaging\")\n",
    "print s.stem(\"image\")\n",
    "print s.stem(\"imagination\")\n",
    "print s.stem(\"imagine\")\n"
   ]
  },
  {
   "cell_type": "code",
   "execution_count": 61,
   "metadata": {
    "collapsed": false
   },
   "outputs": [
    {
     "name": "stdout",
     "output_type": "stream",
     "text": [
      "[u'actual', u'capabl', u'contain', u'data', u'databas', u'imag', u'interest', u'learn', u'machin', u'perman', u'post', u'provid', u'safe', u'storag', u'store', u'stuff', u'toy']\n",
      "[[1 0 1 0 0 0 1 1 1 0 1 0 0 0 0 1 1]\n",
      " [0 1 0 0 1 1 0 0 0 0 0 1 0 1 0 0 0]\n",
      " [0 0 0 0 1 2 0 0 0 1 0 0 1 0 0 0 0]\n",
      " [0 0 0 1 1 1 0 0 0 0 0 0 0 0 1 0 0]\n",
      " [0 0 0 3 3 3 0 0 0 0 0 0 0 0 3 0 0]]\n"
     ]
    }
   ],
   "source": [
    "import nltk.stem\n",
    "english_stemmer = nltk.stem.SnowballStemmer('english')\n",
    "class StemmedCountVectorizer(CountVectorizer):\n",
    "    def build_analyzer(self):\n",
    "        analyzer = super(StemmedCountVectorizer, self).build_analyzer()\n",
    "        return lambda doc: (english_stemmer.stem(w) for w in analyzer(doc))\n",
    "vectorizer = StemmedCountVectorizer(min_df=1, stop_words='english')\n",
    "X_train = vectorizer.fit_transform(posts)\n",
    "num_samples, num_features = X_train.shape\n",
    "\n",
    "print vectorizer.get_feature_names()\n",
    "print X_train.toarray()"
   ]
  },
  {
   "cell_type": "code",
   "execution_count": 65,
   "metadata": {
    "collapsed": false
   },
   "outputs": [
    {
     "name": "stdout",
     "output_type": "stream",
     "text": [
      "[u'about', u'actually', u'capabilities', u'contains', u'data', u'databases', u'images', u'imaging', u'interesting', u'is', u'it', u'learning', u'machine', u'most', u'much', u'not', u'permanently', u'post', u'provide', u'safe', u'storage', u'store', u'stuff', u'this', u'toy']\n",
      "[[1 1 0 1 0 0 0 0 1 1 1 1 1 0 1 1 0 1 0 0 0 0 1 1 1]\n",
      " [0 0 1 0 0 1 0 1 0 0 0 0 0 0 0 0 0 0 1 0 1 0 0 0 0]\n",
      " [0 0 0 0 0 1 1 1 0 0 0 0 0 1 0 0 1 0 0 1 0 0 0 0 0]\n",
      " [0 0 0 0 1 1 0 1 0 0 0 0 0 0 0 0 0 0 0 0 0 1 0 0 0]\n",
      " [0 0 0 0 3 3 0 3 0 0 0 0 0 0 0 0 0 0 0 0 0 3 0 0 0]]\n"
     ]
    },
    {
     "ename": "NotFittedError",
     "evalue": "StemmedCountVectorizer - Vocabulary wasn't fitted.",
     "output_type": "error",
     "traceback": [
      "\u001b[1;31m---------------------------------------------------------------------------\u001b[0m",
      "\u001b[1;31mNotFittedError\u001b[0m                            Traceback (most recent call last)",
      "\u001b[1;32m<ipython-input-65-63074ea8e4fe>\u001b[0m in \u001b[0;36m<module>\u001b[1;34m()\u001b[0m\n\u001b[0;32m     13\u001b[0m \u001b[1;32mprint\u001b[0m \u001b[0mX_train\u001b[0m\u001b[1;33m.\u001b[0m\u001b[0mtoarray\u001b[0m\u001b[1;33m(\u001b[0m\u001b[1;33m)\u001b[0m\u001b[1;33m\u001b[0m\u001b[0m\n\u001b[0;32m     14\u001b[0m \u001b[1;33m\u001b[0m\u001b[0m\n\u001b[1;32m---> 15\u001b[1;33m \u001b[1;32mprint\u001b[0m \u001b[0mvectorizer2\u001b[0m\u001b[1;33m.\u001b[0m\u001b[0mget_feature_names\u001b[0m\u001b[1;33m(\u001b[0m\u001b[1;33m)\u001b[0m\u001b[1;33m\u001b[0m\u001b[0m\n\u001b[0m\u001b[0;32m     16\u001b[0m \u001b[1;32mprint\u001b[0m \u001b[0mX_train2\u001b[0m\u001b[1;33m.\u001b[0m\u001b[0mtoarray\u001b[0m\u001b[1;33m(\u001b[0m\u001b[1;33m)\u001b[0m\u001b[1;33m\u001b[0m\u001b[0m\n",
      "\u001b[1;32mC:\\Python27\\lib\\site-packages\\sklearn\\feature_extraction\\text.pyc\u001b[0m in \u001b[0;36mget_feature_names\u001b[1;34m(self)\u001b[0m\n\u001b[0;32m    888\u001b[0m     \u001b[1;32mdef\u001b[0m \u001b[0mget_feature_names\u001b[0m\u001b[1;33m(\u001b[0m\u001b[0mself\u001b[0m\u001b[1;33m)\u001b[0m\u001b[1;33m:\u001b[0m\u001b[1;33m\u001b[0m\u001b[0m\n\u001b[0;32m    889\u001b[0m         \u001b[1;34m\"\"\"Array mapping from feature integer indices to feature name\"\"\"\u001b[0m\u001b[1;33m\u001b[0m\u001b[0m\n\u001b[1;32m--> 890\u001b[1;33m         \u001b[0mself\u001b[0m\u001b[1;33m.\u001b[0m\u001b[0m_check_vocabulary\u001b[0m\u001b[1;33m(\u001b[0m\u001b[1;33m)\u001b[0m\u001b[1;33m\u001b[0m\u001b[0m\n\u001b[0m\u001b[0;32m    891\u001b[0m \u001b[1;33m\u001b[0m\u001b[0m\n\u001b[0;32m    892\u001b[0m         return [t for t, i in sorted(six.iteritems(self.vocabulary_),\n",
      "\u001b[1;32mC:\\Python27\\lib\\site-packages\\sklearn\\feature_extraction\\text.pyc\u001b[0m in \u001b[0;36m_check_vocabulary\u001b[1;34m(self)\u001b[0m\n\u001b[0;32m    269\u001b[0m         \u001b[1;34m\"\"\"Check if vocabulary is empty or missing (not fit-ed)\"\"\"\u001b[0m\u001b[1;33m\u001b[0m\u001b[0m\n\u001b[0;32m    270\u001b[0m         \u001b[0mmsg\u001b[0m \u001b[1;33m=\u001b[0m \u001b[1;34m\"%(name)s - Vocabulary wasn't fitted.\"\u001b[0m\u001b[1;33m\u001b[0m\u001b[0m\n\u001b[1;32m--> 271\u001b[1;33m         \u001b[0mcheck_is_fitted\u001b[0m\u001b[1;33m(\u001b[0m\u001b[0mself\u001b[0m\u001b[1;33m,\u001b[0m \u001b[1;34m'vocabulary_'\u001b[0m\u001b[1;33m,\u001b[0m \u001b[0mmsg\u001b[0m\u001b[1;33m=\u001b[0m\u001b[0mmsg\u001b[0m\u001b[1;33m)\u001b[0m\u001b[1;33m,\u001b[0m\u001b[1;33m\u001b[0m\u001b[0m\n\u001b[0m\u001b[0;32m    272\u001b[0m \u001b[1;33m\u001b[0m\u001b[0m\n\u001b[0;32m    273\u001b[0m         \u001b[1;32mif\u001b[0m \u001b[0mlen\u001b[0m\u001b[1;33m(\u001b[0m\u001b[0mself\u001b[0m\u001b[1;33m.\u001b[0m\u001b[0mvocabulary_\u001b[0m\u001b[1;33m)\u001b[0m \u001b[1;33m==\u001b[0m \u001b[1;36m0\u001b[0m\u001b[1;33m:\u001b[0m\u001b[1;33m\u001b[0m\u001b[0m\n",
      "\u001b[1;32mC:\\Python27\\lib\\site-packages\\sklearn\\utils\\validation.pyc\u001b[0m in \u001b[0;36mcheck_is_fitted\u001b[1;34m(estimator, attributes, msg, all_or_any)\u001b[0m\n\u001b[0;32m    625\u001b[0m \u001b[1;33m\u001b[0m\u001b[0m\n\u001b[0;32m    626\u001b[0m     \u001b[1;32mif\u001b[0m \u001b[1;32mnot\u001b[0m \u001b[0mall_or_any\u001b[0m\u001b[1;33m(\u001b[0m\u001b[1;33m[\u001b[0m\u001b[0mhasattr\u001b[0m\u001b[1;33m(\u001b[0m\u001b[0mestimator\u001b[0m\u001b[1;33m,\u001b[0m \u001b[0mattr\u001b[0m\u001b[1;33m)\u001b[0m \u001b[1;32mfor\u001b[0m \u001b[0mattr\u001b[0m \u001b[1;32min\u001b[0m \u001b[0mattributes\u001b[0m\u001b[1;33m]\u001b[0m\u001b[1;33m)\u001b[0m\u001b[1;33m:\u001b[0m\u001b[1;33m\u001b[0m\u001b[0m\n\u001b[1;32m--> 627\u001b[1;33m         \u001b[1;32mraise\u001b[0m \u001b[0mNotFittedError\u001b[0m\u001b[1;33m(\u001b[0m\u001b[0mmsg\u001b[0m \u001b[1;33m%\u001b[0m \u001b[1;33m{\u001b[0m\u001b[1;34m'name'\u001b[0m\u001b[1;33m:\u001b[0m \u001b[0mtype\u001b[0m\u001b[1;33m(\u001b[0m\u001b[0mestimator\u001b[0m\u001b[1;33m)\u001b[0m\u001b[1;33m.\u001b[0m\u001b[0m__name__\u001b[0m\u001b[1;33m}\u001b[0m\u001b[1;33m)\u001b[0m\u001b[1;33m\u001b[0m\u001b[0m\n\u001b[0m",
      "\u001b[1;31mNotFittedError\u001b[0m: StemmedCountVectorizer - Vocabulary wasn't fitted."
     ]
    }
   ],
   "source": [
    "posts = [open(os.path.join('toy', f)).read() for f in os.listdir('toy')]\n",
    "\n",
    "from sklearn.feature_extraction.text import CountVectorizer\n",
    "vectorizer = CountVectorizer(min_df=1)\n",
    "\n",
    "X_train = vectorizer.fit_transform(posts)\n",
    "num_samples, num_features = X_train.shape\n",
    "\n",
    "vectorizer2 = StemmedCountVectorizer(min_df=1, stop_words='english')\n",
    "X_train2 = vectorizer.fit_transform(posts)\n",
    "\n",
    "print vectorizer.get_feature_names()\n",
    "print X_train.toarray()\n",
    "\n",
    "print vectorizer2.get_feature_names()\n",
    "print X_train2.toarray()"
   ]
  },
  {
   "cell_type": "code",
   "execution_count": 79,
   "metadata": {
    "collapsed": false
   },
   "outputs": [
    {
     "name": "stdout",
     "output_type": "stream",
     "text": [
      "True\n",
      "True\n",
      "False\n"
     ]
    }
   ],
   "source": [
    "a = '【更新】柯P：洪智坤洩漏公文案還沒看到公文　今處理'\n",
    "\n",
    "#print '柯P' in a\n",
    "mat = ['柯P', '洪智坤', '洪秀柱']\n",
    "for w in mat:\n",
    "    print w in a\n"
   ]
  },
  {
   "cell_type": "code",
   "execution_count": 102,
   "metadata": {
    "collapsed": false
   },
   "outputs": [
    {
     "name": "stdout",
     "output_type": "stream",
     "text": [
      "set(['a'])\n",
      "set(['a', 'b'])\n",
      "set(['a', 'c', 'b'])\n",
      "0.666666666667\n",
      "1.0\n",
      "3\n",
      "0.333333333333\n",
      "3\n",
      "3\n",
      "1\n",
      "0.0\n"
     ]
    },
    {
     "data": {
      "text/plain": [
       "'\\nprint(tfidf(\"a\", a, D))\\nprint(tfidf(\"b\", abb, D))\\nprint(tfidf(\"a\", abc, D))\\nprint(tfidf(\"b\", abc, D))\\nprint(tfidf(\"c\", abc, D))\\n'"
      ]
     },
     "execution_count": 102,
     "metadata": {},
     "output_type": "execute_result"
    }
   ],
   "source": [
    "def tfidf(t, d, D):\n",
    "    tf = float(d.count(t)) / sum(d.count(w) for w in set(d))\n",
    "    idf = sp.log(float(len(D)) / (len([doc for doc in D if t in doc])))\n",
    "    return tf * idf\n",
    "\n",
    "\n",
    "a, abb, abc = [\"a\"], [\"a\", \"b\", \"b\"], [\"a\", \"b\", \"c\"]\n",
    "D = [a, abb, abc]\n",
    "print set(a)\n",
    "print set(abb)\n",
    "print set(abc)\n",
    "\n",
    "#print abb.count('a')\n",
    "#print abb.count('b')\n",
    "n_a = abb.count('b')\n",
    "sum_ele = 0\n",
    "for w in set(abb):\n",
    "    sum_ele += abb.count(w)\n",
    "print float(n_a) / sum_ele\n",
    "\n",
    "\n",
    "print float(abb.count('a')) # n_a  \n",
    "print sum(abb.count(w) for w in set(abb)) # sum_ele\n",
    "tf =  float(abb.count('a')) / sum(abb.count(w) for w in set(abb))\n",
    "print tf\n",
    "\n",
    "print len(D)\n",
    "print len([doc for doc in D if 'a' in doc])\n",
    "print len(D) / len([doc for doc in D if 'a' in doc])\n",
    "idf =  sp.log( len(D) / len([doc for doc in D if 'a' in doc]))\n",
    "print tf * idf\n",
    "'''\n",
    "print(tfidf(\"a\", a, D))\n",
    "print(tfidf(\"b\", abb, D))\n",
    "print(tfidf(\"a\", abc, D))\n",
    "print(tfidf(\"b\", abc, D))\n",
    "print(tfidf(\"c\", abc, D))\n",
    "'''\n"
   ]
  },
  {
   "cell_type": "code",
   "execution_count": 105,
   "metadata": {
    "collapsed": false
   },
   "outputs": [
    {
     "name": "stdout",
     "output_type": "stream",
     "text": [
      "0.287682072452\n",
      "0.462098120373\n",
      "0.0958940241506\n",
      "0.231049060187\n",
      "0.462098120373\n",
      "1.38629436112\n"
     ]
    }
   ],
   "source": [
    "def tfidf(t, d, D):\n",
    "    tf = float(d.count(t)) / sum(d.count(w) for w in set(d))\n",
    "    idf = sp.log(float(len(D)) / (len([doc for doc in D if t in doc])))\n",
    "    return tf * idf\n",
    "\n",
    "a, abb, abc, ddd = [\"a\"], [\"a\", \"b\", \"b\"], [\"a\", \"b\", \"c\"], ['d','d', 'd']\n",
    "D = [a, abb, abc, ddd]\n",
    "\n",
    "print(tfidf(\"a\", a, D))\n",
    "print(tfidf(\"b\", abb, D))\n",
    "print(tfidf(\"a\", abc, D))\n",
    "print(tfidf(\"b\", abc, D))\n",
    "print(tfidf(\"c\", abc, D))\n",
    "print(tfidf(\"d\", ddd, D))"
   ]
  },
  {
   "cell_type": "code",
   "execution_count": 108,
   "metadata": {
    "collapsed": true
   },
   "outputs": [],
   "source": [
    "from xml.dom import minidom\n",
    "from xml.etree import ElementTree\n",
    "import jieba.analyse\n",
    "\n",
    "f = open('1434435247.xml', 'r')\n",
    "events=ElementTree.fromstring(f.read())\n",
    "f.close()"
   ]
  },
  {
   "cell_type": "code",
   "execution_count": 111,
   "metadata": {
    "collapsed": false
   },
   "outputs": [],
   "source": [
    "from xml.dom import minidom\n",
    "from xml.etree import ElementTree\n",
    "import jieba.analyse\n",
    "ary = []\n",
    "corpus=[]\n",
    "for elem in events.findall('./channel/item'):\n",
    "    title = elem.find('title').text\n",
    "    description = elem.find('description').text\n",
    "    source = elem.find('source').text\n",
    "    ary.append(title)\n",
    "    corpus.append(' '.join(jieba.analyse.extract_tags(description, 20)))"
   ]
  },
  {
   "cell_type": "code",
   "execution_count": 114,
   "metadata": {
    "collapsed": false
   },
   "outputs": [
    {
     "name": "stdout",
     "output_type": "stream",
     "text": [
      "832\n",
      "五月天 林憶蓮 堅持 改編 曲目 演唱 文擔 邀來 倪凱 Mayday 26 22 一種 預計 沒有 感動 極限 記者 網友 橫跨 div br 檢警 報導 記憶卡 林真米 劉志勤 白骨 兩人 日報 時報 自殺 偵辦 發現 夫婦 反應 檢察官 蘋果 犯案 照片 銀行團 市府 遠雄 接管 說明 機構 融資 巨蛋 合約 規定 決定 違約 改善 台北市 通知 柯文 柯市 媒體訪 終止 精準 港灣 高雄 論壇 檀香山 城市 2016 高雄市 夏威夷 發展 參加 全球 伊芸 邀約 菊訪 競爭力 舉辦 機會 國際 市政府 此行 訪者 評價 負面 給予 MERS 調查 比率 從受 首爾 地區 人數 中東 顯示 症候群 支持 信任 呼吸 更換 韓聯合 姜遠珍 div 少女 br 未成年 日報 報導 臉書 蘋果 生性 明知 全案 來源 見面 圖片 讀國 幾歲 資料 私訊問 透過 質疑 div br 10 穿著 配西裝 反戴 白襪 棒球帽 褲頭 NG 男生 惹人嫌 帆布鞋 露出 失分 倒胃口 隱若現 資料 這些 破舊 OneWeb 集團 高通公司 衛星 人造 維珍 布蘭森 Ltd 空中巴士 Group 15 計畫 資金 大約 魏勒 中央社 太空 董事 英國海峽 執行長 中選會 立委 對此 選舉 16 劉義周 依法行事 阻擋 柯建銘 記者 選會 國民黨 民進 回應 黨籍 總統 這種 報導 決定 黨團 0.5 張數 股為 股跌 名個 盤中 0.6 股漲 收盤 跌幅 台北 下跌 成交 9614 783.88 1.2 開盤 761 0.4 日電\n"
     ]
    }
   ],
   "source": [
    "print len(ary)\n",
    "for ele in corpus[0:10]:\n",
    "    print ele,"
   ]
  },
  {
   "cell_type": "code",
   "execution_count": 124,
   "metadata": {
    "collapsed": false
   },
   "outputs": [
    {
     "name": "stdout",
     "output_type": "stream",
     "text": [
      "麻六甲 麻六甲海 麻煩 麻痺 黎女 黎姓 黎明 黑人 黑煙 黑田 黑箱 黑色 黑色素瘤 黑衣 黑道 默特薩克 默默耕耘 點了 點亮 點參觀 點多 點或 點的 點聲明 點開出 點隊伍 點點 黨出 黨國大 黨團 黨產 黨籍 黨議員 黨部 黴菌 鼓勵 鼓勵員警 鼓棒 鼓陣 鼻酸 龍潭 龍舟 龍舟賽 龍華 龍達 龍達魯西 龐大 龐建國 龐德 7697\n"
     ]
    }
   ],
   "source": [
    "from sklearn.feature_extraction.text import CountVectorizer\n",
    "vectorizer = CountVectorizer() \n",
    "X = vectorizer.fit_transform(corpus)\n",
    "word = vectorizer.get_feature_names() \n",
    "for ele in word[-50:-1]:\n",
    "    print ele, \n",
    "print len(word)\n"
   ]
  },
  {
   "cell_type": "code",
   "execution_count": 125,
   "metadata": {
    "collapsed": false
   },
   "outputs": [
    {
     "name": "stdout",
     "output_type": "stream",
     "text": [
      "(832, 7697)\n"
     ]
    }
   ],
   "source": [
    "print X.shape"
   ]
  },
  {
   "cell_type": "code",
   "execution_count": 130,
   "metadata": {
    "collapsed": false
   },
   "outputs": [
    {
     "name": "stdout",
     "output_type": "stream",
     "text": [
      "[[ 0.  0.  0. ...,  0.  0.  0.]\n",
      " [ 0.  0.  0. ...,  0.  0.  0.]\n",
      " [ 0.  0.  0. ...,  0.  0.  0.]\n",
      " ..., \n",
      " [ 0.  0.  0. ...,  0.  0.  0.]\n",
      " [ 0.  0.  0. ...,  0.  0.  0.]\n",
      " [ 0.  0.  0. ...,  0.  0.  0.]]\n"
     ]
    }
   ],
   "source": [
    "from sklearn.feature_extraction.text import TfidfTransformer\n",
    "transformer = TfidfTransformer()\n",
    "tfidf = transformer.fit_transform(X)\n",
    "weight = tfidf.toarray() \n",
    "print weight\n"
   ]
  },
  {
   "cell_type": "code",
   "execution_count": 135,
   "metadata": {
    "collapsed": false
   },
   "outputs": [
    {
     "name": "stdout",
     "output_type": "stream",
     "text": [
      "[[ 1.          0.          0.          0.          0.          0.          0.\n",
      "   0.          0.02416427  0.          0.          0.02305006  0.\n",
      "   0.02051457  0.          0.          0.          0.02170186  0.          0.\n",
      "   0.          0.          0.03182717  0.0234633   0.          0.          0.\n",
      "   0.          0.          0.          0.          0.          0.          0.\n",
      "   0.          0.          0.          0.          0.          0.\n",
      "   0.0310064   0.          0.          0.0475188   0.          0.          0.\n",
      "   0.          0.          0.          0.0228061   0.          0.\n",
      "   0.02111917  0.          0.          0.          0.          0.0247604\n",
      "   0.          0.          0.          0.          0.          0.          0.\n",
      "   0.          0.          0.          0.          0.          0.          0.\n",
      "   0.02222974  0.          0.02313953  0.          0.          0.          0.\n",
      "   0.02406637  0.          0.          0.          0.          0.          0.\n",
      "   0.          0.07723495  0.          0.          0.          0.0211354\n",
      "   0.          0.02310812  0.          0.          0.          0.02549601\n",
      "   0.          0.          0.          0.          0.          0.\n",
      "   0.04767037  0.          0.          0.          0.          0.          0.\n",
      "   0.          0.          0.          0.          0.          0.          0.\n",
      "   0.          0.          0.          0.          0.          0.          0.\n",
      "   0.          0.0475188   0.          0.          0.          0.          0.\n",
      "   0.          0.0222501   0.          0.          0.04149069  0.          0.\n",
      "   0.          0.          0.          0.04662311  0.          0.          0.\n",
      "   0.          0.          0.          0.          0.          0.          0.\n",
      "   0.          0.          0.02389799  0.          0.          0.          0.\n",
      "   0.          0.          0.02197937  0.          0.02664673  0.          0.\n",
      "   0.          0.02395035  0.          0.          0.          0.          0.\n",
      "   0.          0.          0.02072397  0.          0.          0.\n",
      "   0.04587164  0.          0.          0.          0.          0.02173648\n",
      "   0.02992429  0.          0.          0.05342     0.          0.          0.\n",
      "   0.          0.          0.          0.09447222  0.          0.          0.\n",
      "   0.          0.          0.          0.          0.          0.          0.\n",
      "   0.          0.          0.          0.          0.03540916  0.02798137\n",
      "   0.          0.          0.          0.          0.          0.          0.\n",
      "   0.          0.          0.          0.          0.          0.          0.\n",
      "   0.          0.          0.          0.          0.          0.          0.\n",
      "   0.02248769  0.          0.          0.          0.          0.          0.\n",
      "   0.          0.03095706  0.02649427  0.          0.03152859  0.          0.\n",
      "   0.          0.          0.          0.          0.          0.          0.\n",
      "   0.          0.          0.          0.          0.          0.02173531\n",
      "   0.          0.          0.          0.          0.          0.03265195\n",
      "   0.          0.          0.          0.          0.          0.          0.\n",
      "   0.          0.          0.          0.          0.          0.          0.\n",
      "   0.          0.          0.          0.          0.02211279  0.\n",
      "   0.02126164  0.          0.          0.          0.          0.04681661\n",
      "   0.04822059  0.04649881  0.          0.          0.          0.          0.\n",
      "   0.          0.          0.          0.          0.          0.          0.\n",
      "   0.          0.          0.          0.0234903   0.          0.          0.\n",
      "   0.          0.          0.          0.02122594  0.          0.\n",
      "   0.02478965  0.          0.          0.          0.          0.          0.\n",
      "   0.          0.          0.          0.          0.          0.          0.\n",
      "   0.          0.          0.          0.          0.0293733   0.          0.\n",
      "   0.          0.          0.          0.          0.          0.\n",
      "   0.03676196  0.03453384  0.          0.          0.02623797  0.          0.\n",
      "   0.          0.          0.          0.          0.          0.          0.\n",
      "   0.          0.          0.          0.02974823  0.          0.          0.\n",
      "   0.04814355  0.          0.          0.          0.          0.          0.\n",
      "   0.          0.          0.          0.          0.          0.          0.\n",
      "   0.          0.          0.          0.          0.05949502  0.          0.\n",
      "   0.02124756  0.          0.          0.          0.          0.          0.\n",
      "   0.02369862  0.          0.          0.          0.          0.\n",
      "   0.02722404  0.          0.          0.03083422  0.          0.          0.\n",
      "   0.          0.          0.          0.          0.          0.          0.\n",
      "   0.02041741  0.          0.02167495  0.          0.02048823  0.          0.\n",
      "   0.          0.          0.          0.0226167   0.          0.          0.\n",
      "   0.          0.02805635  0.          0.          0.          0.          0.\n",
      "   0.          0.02532374  0.          0.          0.          0.          0.\n",
      "   0.          0.          0.          0.          0.03352668  0.          0.\n",
      "   0.          0.03213688  0.          0.          0.          0.          0.\n",
      "   0.          0.          0.          0.          0.0216489   0.          0.\n",
      "   0.          0.          0.          0.          0.          0.          0.\n",
      "   0.          0.          0.          0.          0.          0.          0.\n",
      "   0.          0.          0.          0.          0.          0.          0.\n",
      "   0.          0.          0.          0.          0.          0.          0.\n",
      "   0.02291584  0.03471154  0.          0.          0.          0.          0.\n",
      "   0.          0.          0.          0.032936    0.          0.\n",
      "   0.03020354  0.          0.          0.          0.          0.02461088\n",
      "   0.04577487  0.          0.          0.          0.          0.          0.\n",
      "   0.          0.02189821  0.          0.          0.          0.\n",
      "   0.02671312  0.02481555  0.03352756  0.          0.          0.          0.\n",
      "   0.          0.17086647  0.          0.          0.          0.          0.\n",
      "   0.          0.          0.          0.          0.          0.05439043\n",
      "   0.          0.          0.          0.          0.          0.          0.\n",
      "   0.          0.          0.03899796  0.          0.          0.          0.\n",
      "   0.          0.05699128  0.          0.          0.          0.          0.\n",
      "   0.          0.          0.          0.          0.          0.\n",
      "   0.03691935  0.          0.          0.          0.          0.02082654\n",
      "   0.02233051  0.          0.04146623  0.          0.          0.02650291\n",
      "   0.          0.04504502  0.          0.          0.          0.04863693\n",
      "   0.          0.          0.          0.          0.          0.          0.\n",
      "   0.          0.          0.          0.          0.          0.          0.\n",
      "   0.02627289  0.          0.          0.          0.          0.          0.\n",
      "   0.02237662  0.          0.05017346  0.          0.          0.          0.\n",
      "   0.0205236   0.          0.          0.          0.          0.\n",
      "   0.0423166   0.          0.          0.          0.          0.06458536\n",
      "   0.          0.04567599  0.          0.          0.          0.          0.\n",
      "   0.          0.          0.          0.03963894  0.          0.          0.\n",
      "   0.          0.          0.          0.          0.          0.          0.\n",
      "   0.          0.          0.          0.          0.          0.          0.\n",
      "   0.02427506  0.          0.02237985  0.          0.          0.          0.\n",
      "   0.02247395  0.          0.          0.          0.          0.          0.\n",
      "   0.          0.          0.          0.          0.          0.          0.\n",
      "   0.          0.          0.          0.          0.          0.          0.\n",
      "   0.          0.          0.          0.          0.          0.02221916\n",
      "   0.          0.          0.09963168  0.02863453  0.          0.          0.\n",
      "   0.          0.          0.          0.          0.          0.          0.\n",
      "   0.          0.          0.          0.          0.          0.          0.\n",
      "   0.          0.          0.          0.          0.          0.          0.\n",
      "   0.          0.          0.          0.          0.          0.          0.\n",
      "   0.          0.          0.          0.          0.03287744  0.          0.\n",
      "   0.          0.          0.          0.          0.          0.          0.\n",
      "   0.          0.          0.          0.02375695  0.          0.          0.\n",
      "   0.          0.          0.          0.          0.          0.          0.\n",
      "   0.          0.          0.          0.          0.          0.          0.\n",
      "   0.          0.04822495  0.02287846  0.          0.          0.          0.\n",
      "   0.          0.          0.02249646  0.          0.          0.          0.\n",
      "   0.          0.          0.          0.          0.0324561   0.          0.\n",
      "   0.02954989  0.03404823  0.          0.03283749  0.          0.\n",
      "   0.03706324  0.          0.          0.          0.          0.\n",
      "   0.02291261  0.          0.          0.          0.          0.          0.\n",
      "   0.          0.          0.          0.          0.          0.020557    0.\n",
      "   0.          0.          0.          0.          0.          0.03019332\n",
      "   0.          0.          0.02259136  0.          0.          0.\n",
      "   0.02099059  0.03149475  0.          0.          0.          0.          0.\n",
      "   0.          0.07677494  0.        ]]\n"
     ]
    }
   ],
   "source": [
    "from sklearn.metrics.pairwise import linear_kernel\n",
    "cosine_similarities = linear_kernel(tfidf, tfidf)\n",
    "#print cosine_similarities.shape\n",
    "#print cosine_similarities\n",
    "\n",
    "n_cosine_similarities = linear_kernel(tfidf[0:10], tfidf[0:10])\n",
    "#print n_cosine_similarities.shape\n",
    "#print n_cosine_similarities\n",
    "\n",
    "one_cosine_similarities = linear_kernel(tfidf[0], tfidf)\n",
    "print one_cosine_similarities"
   ]
  },
  {
   "cell_type": "code",
   "execution_count": 136,
   "metadata": {
    "collapsed": false
   },
   "outputs": [
    {
     "data": {
      "text/plain": [
       "<matplotlib.axes._subplots.AxesSubplot at 0x18e32410>"
      ]
     },
     "execution_count": 136,
     "metadata": {},
     "output_type": "execute_result"
    },
    {
     "data": {
      "image/png": "[encoded data removed]",
      "text/plain": [
       "<matplotlib.figure.Figure at 0x18e320b0>"
      ]
     },
     "metadata": {},
     "output_type": "display_data"
    }
   ],
   "source": [
    "%matplotlib inline\n",
    "from matplotlib import pyplot as plt\n",
    "import seaborn as sns\n",
    "# pip install seaborn\n",
    "sns.heatmap(n_cosine_similarities, annot=True, center=0, cmap='coolwarm')\n"
   ]
  },
  {
   "cell_type": "code",
   "execution_count": 164,
   "metadata": {
    "collapsed": false
   },
   "outputs": [
    {
     "name": "stdout",
     "output_type": "stream",
     "text": [
      "[4 1 2 0 3]\n",
      "[1, 2, 4, 5, 8]\n"
     ]
    }
   ],
   "source": [
    "a = [5,2,4,8,1]\n",
    "#a.sort()\n",
    "import numpy as np\n",
    "print np.array(a).argsort() \n",
    "a.sort()\n",
    "print a"
   ]
  },
  {
   "cell_type": "code",
   "execution_count": 178,
   "metadata": {
    "collapsed": false
   },
   "outputs": [
    {
     "name": "stdout",
     "output_type": "stream",
     "text": [
      "[293 127  43 105 369 294 764 590 614 190 545 561 387 630 830  88 197 695\n",
      " 534]\n",
      "女版五月天爆神祕　22萬人猜不中夢幻十神 0\n",
      "聽聲辨人 五月天要粉絲猜看看 534\n",
      "林憶蓮寫歌 金曲傳遞溫暖 695\n",
      "《舞力麥克：尺度極限XXL》電影搶票活動 197\n",
      "小辣椒／跟謝長廷的關係　洪秀柱：一個小夫、一個 88\n",
      "【和平&#8231;中立&#8231;新台灣講堂】親美．友日 830\n",
      "彭佳慧吃好睡好 備戰周六演唱 630\n",
      "中捷可望復工 台中議員要柯文哲來報告 387\n",
      "中華職棒／林子崴等3球員將報名參加選秀 561\n",
      "協商破局 修憲今最後闖關 545\n",
      "「有本事你就殺了我吧！」富江年底襲台 190\n",
      "法國警告希臘退出歐元的危機已迫在眉睫 614\n",
      "傑布宣布參選總統 和「布希」劃清界線 590\n",
      "瑪莎希臘摟新娘 李宗盛見證幸福 764\n",
      "台數科：澄清鉅亨網報導 294\n",
      "訊映：說明有關104/06/16工商時報之報導 369\n",
      "頭皮降溫有助改善化療病患掉髮 105\n",
      "封殺令現曙光?　《小時代4》預告柯震東現身 43\n",
      "封殺令現曙光?　《小時代4》預告柯震東現身 127\n"
     ]
    }
   ],
   "source": [
    "one_cosine_similarities = linear_kernel(tfidf[0], tfidf)\n",
    "#print one_cosine_similarities.argsort()\n",
    "related_docs_indices = one_cosine_similarities.argsort().flatten()\n",
    "print related_docs_indices[-20:-1]\n",
    "#print related_docs_indices.flatten()\n",
    "for index in related_docs_indices[:-20:-1]:\n",
    "    print ary[index], index\n"
   ]
  },
  {
   "cell_type": "code",
   "execution_count": null,
   "metadata": {
    "collapsed": true
   },
   "outputs": [],
   "source": []
  }
 ],
 "metadata": {
  "kernelspec": {
   "display_name": "Python 2",
   "language": "python",
   "name": "python2"
  },
  "language_info": {
   "codemirror_mode": {
    "name": "ipython",
    "version": 2
   },
   "file_extension": ".py",
   "mimetype": "text/x-python",
   "name": "python",
   "nbconvert_exporter": "python",
   "pygments_lexer": "ipython2",
   "version": "2.7.10"
  }
 },
 "nbformat": 4,
 "nbformat_minor": 0
}
