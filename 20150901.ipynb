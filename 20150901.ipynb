{
 "cells": [
  {
   "cell_type": "code",
   "execution_count": 1,
   "metadata": {
    "collapsed": false
   },
   "outputs": [
    {
     "name": "stderr",
     "output_type": "stream",
     "text": [
      "Building prefix dict from C:\\Python27\\lib\\site-packages\\jieba\\dict.txt ...\n",
      "DEBUG:jieba:Building prefix dict from C:\\Python27\\lib\\site-packages\\jieba\\dict.txt ...\n",
      "Dumping model to file cache c:\\users\\david\\appdata\\local\\temp\\jieba.cache\n",
      "DEBUG:jieba:Dumping model to file cache c:\\users\\david\\appdata\\local\\temp\\jieba.cache\n",
      "Loading model cost 2.01600003242 seconds.\n",
      "DEBUG:jieba:Loading model cost 2.01600003242 seconds.\n",
      "Prefix dict has been built succesfully.\n",
      "DEBUG:jieba:Prefix dict has been built succesfully.\n"
     ]
    },
    {
     "name": "stdout",
     "output_type": "stream",
     "text": [
      "大\n",
      "巨蛋\n",
      "案對\n",
      "市府\n",
      "同仁\n",
      "下\n",
      "封口令\n",
      "？\n",
      "　\n",
      "柯\n",
      "P\n",
      "否認\n"
     ]
    }
   ],
   "source": [
    "import jieba\n",
    "\n",
    "sentence = \"大巨蛋案對市府同仁下封口令？　柯P否認\"\n",
    "words = jieba.cut(sentence, cut_all=False)\n",
    "for word in words:\n",
    "    print word"
   ]
  },
  {
   "cell_type": "code",
   "execution_count": 5,
   "metadata": {
    "collapsed": false
   },
   "outputs": [],
   "source": [
    "import jieba\n",
    "\n",
    "jieba.load_userdict(\"userdict.txt\")"
   ]
  },
  {
   "cell_type": "code",
   "execution_count": 6,
   "metadata": {
    "collapsed": false
   },
   "outputs": [
    {
     "name": "stdout",
     "output_type": "stream",
     "text": [
      "大巨蛋\n",
      "案對\n",
      "市府\n",
      "同仁\n",
      "下\n",
      "封口令\n",
      "？\n",
      "　\n",
      "柯P\n",
      "否認\n"
     ]
    }
   ],
   "source": [
    "import jieba\n",
    "\n",
    "sentence = \"大巨蛋案對市府同仁下封口令？　柯P否認\"\n",
    "words = jieba.cut(sentence, cut_all=False)\n",
    "for word in words:\n",
    "    print word"
   ]
  },
  {
   "cell_type": "code",
   "execution_count": 7,
   "metadata": {
    "collapsed": false,
    "scrolled": true
   },
   "outputs": [
    {
     "name": "stdout",
     "output_type": "stream",
     "text": [
      "大巨蛋\n",
      "案對\n",
      "市府\n",
      "同仁\n",
      "下\n",
      "封口令\n",
      "？\n",
      "　\n",
      "柯\n",
      "P\n",
      "否認\n",
      "大巨蛋\n",
      "案對\n",
      "市府\n",
      "同仁\n",
      "下\n",
      "封口令\n",
      "？\n",
      "　\n",
      "柯P\n",
      "否認\n"
     ]
    }
   ],
   "source": [
    "import jieba\n",
    "jieba.del_word('柯P')\n",
    "sentence = \"大巨蛋案對市府同仁下封口令？　柯P否認\"\n",
    "words = jieba.cut(sentence, cut_all=False)\n",
    "for word in words:\n",
    "    print word\n",
    "jieba.add_word('柯P',100, 'nr')\n",
    "sentence = \"大巨蛋案對市府同仁下封口令？　柯P否認\"\n",
    "words = jieba.cut(sentence, cut_all=False)\n",
    "for word in words:\n",
    "    print word"
   ]
  },
  {
   "cell_type": "code",
   "execution_count": 8,
   "metadata": {
    "collapsed": false
   },
   "outputs": [
    {
     "name": "stdout",
     "output_type": "stream",
     "text": [
      "大巨蛋 n\n",
      "案 ng\n",
      "對 p\n",
      "市府 n\n",
      "同仁 nr\n",
      "下 f\n",
      "封口令 n\n",
      "？ x\n",
      "　x\n",
      "柯P nr\n",
      "否認 v\n"
     ]
    }
   ],
   "source": [
    "import jieba.posseg as pseg\n",
    "words = pseg.cut(\"大巨蛋案對市府同仁下封口令？　柯P否認\")\n",
    "for w in words:\n",
    "    print w.word, w.flag\n"
   ]
  },
  {
   "cell_type": "code",
   "execution_count": 11,
   "metadata": {
    "collapsed": false
   },
   "outputs": [
    {
     "name": "stdout",
     "output_type": "stream",
     "text": [
      "封口令,案對,大巨蛋,否認,柯P,市府,同仁\n",
      "柯P,同仁\n"
     ]
    }
   ],
   "source": [
    "import jieba.analyse\n",
    "tags = jieba.analyse.extract_tags(sentence, 10)\n",
    "print \",\".join(tags)\n",
    "tags = jieba.analyse.extract_tags(sentence, 10, allowPOS = ['nr'])\n",
    "print \",\".join(tags)\n"
   ]
  },
  {
   "cell_type": "code",
   "execution_count": 13,
   "metadata": {
    "collapsed": false
   },
   "outputs": [
    {
     "name": "stdout",
     "output_type": "stream",
     "text": [
      "歐洲/電商/組織/包裹/物流/一來/領域/遞送/緊密/Europe/市場/順暢/根據/決電商/服務/集團/障礙/積極/目標/更為\n"
     ]
    }
   ],
   "source": [
    "import jieba.analyse\n",
    "jieba.analyse.set_stop_words(\"stopword.txt\")\n",
    "\n",
    "sentence = \"根據歐洲電商組織(Ecommerce Europe) 最新消息得知，\\\n",
    "該集團積極讓歐洲的包裹遞送服務與電商領域有更緊密結合。如此一來，\\\n",
    "便可解決電商物流的障礙。此組織總共結合歐洲 16 國的電商協會，\\\n",
    "目標整合歐洲的包裹物流市場，讓商品跨境更為順暢\"\n",
    "tags = jieba.analyse.extract_tags(sentence)\n",
    "print '/'.join(tags)\n"
   ]
  },
  {
   "cell_type": "code",
   "execution_count": 34,
   "metadata": {
    "collapsed": false
   },
   "outputs": [],
   "source": [
    "import sqlite3\n",
    "import jieba\n",
    "db = sqlite3.connect('news.db') \n",
    "cur = db.cursor()\n",
    "sentenceAry = [] \n",
    "cur.execute('select * from news_entry')\n",
    "allNews = cur.fetchall()\n",
    "dic = {}\n",
    "for rec in allNews:\n",
    "    words = jieba.cut(rec[4])\n",
    "    sentenceAry.append(rec[4].encode('utf-8'))\n",
    "    for w in words:\n",
    "        if w not in dic:\n",
    "            dic[w] = 1\n",
    "        else:\n",
    "            dic[w] = dic[w] + 1\n",
    "cur.close()\n",
    "db.close()\n",
    "\n",
    "#for word in dic:\n",
    "#    print word, dic[word]"
   ]
  },
  {
   "cell_type": "code",
   "execution_count": 35,
   "metadata": {
    "collapsed": false
   },
   "outputs": [
    {
     "name": "stdout",
     "output_type": "stream",
     "text": [
      "更新 49\n",
      "悠遊卡 16\n",
      "波多野 14\n",
      "法廣 13\n",
      "RFI 13\n",
      "網友 12\n",
      "台灣 11\n",
      "閱兵 10\n",
      "結衣 9\n"
     ]
    }
   ],
   "source": [
    "from operator import itemgetter\n",
    "swd = sorted(dic.iteritems(), key=itemgetter(1), reverse=True)\n",
    "swd = [w for w in swd[1:50] if w[0] not in ' 「」！：？【】...'.decode('utf-8')]\n",
    "for ele in swd[0:100]:\n",
    "    if len(ele[0]) >= 2:\n",
    "        print ele[0], ele[1]"
   ]
  },
  {
   "cell_type": "code",
   "execution_count": 36,
   "metadata": {
    "collapsed": true
   },
   "outputs": [],
   "source": [
    "def ngram(input_sentence, n = 2):\n",
    "    word_dic = {}\n",
    "    sentence  = input_sentence.decode('utf-8')\n",
    "    for i in range(0, len(sentence) - n + 1):\n",
    "        if sentence[i:i+n] not in word_dic:\n",
    "            word_dic[sentence[i:i+n]] = 1\n",
    "        else:\n",
    "            word_dic[sentence[i:i+n]] = word_dic[sentence[i:i+n]] + 1\n",
    "    return word_dic\n",
    "\n",
    "def removeKey(text, keyword):\n",
    "    textAry= text\n",
    "    for key in keyword:\n",
    "        textAry = ''.join(textAry.split(key))\n",
    "    return textAry"
   ]
  },
  {
   "cell_type": "code",
   "execution_count": 42,
   "metadata": {
    "collapsed": false
   },
   "outputs": [
    {
     "name": "stdout",
     "output_type": "stream",
     "text": [
      "　國 5\n",
      "　小 7\n",
      "　「 12\n",
      "廣RFI】 13\n",
      "了！ 5\n",
      "直擊 5\n",
      "8億 5\n",
      "片　5\n",
      "點　6\n",
      "多野悠遊卡 7\n",
      "悠遊卡 12\n",
      "食品 5\n",
      "國道 5\n",
      "【】 13\n",
      "20 7\n",
      "波多野悠遊 7\n",
      "台灣 16\n",
      "金鐘 5\n",
      "這樣 6\n",
      "北京 5\n",
      "　2 6\n",
      "　3 9\n",
      "　1 6\n",
      "的人 5\n",
      "　男 5\n",
      "網友 6\n",
      "... 95\n",
      "   17\n",
      "AV女優 8\n",
      "　李 5\n",
      "億元 5\n",
      "　民眾 6\n",
      "記者 6\n",
      "影片 6\n",
      "股價 6\n",
      "　警 6\n",
      "　網友 7\n",
      "年　5\n",
      "大雨 5\n",
      "11 5\n",
      "10 12\n",
      "13 5\n",
      "15 5\n",
      "17 5\n",
      "18 10\n",
      ".... 6\n",
      "槍手 6\n",
      "閱兵　7\n",
      "國民 5\n",
      "台股 5\n",
      "少女 6\n",
      "代言 5\n",
      "北市 5\n",
      "！　8\n",
      "【民報 5\n",
      "0億 5\n",
      "80 5\n",
      "連戰 8\n",
      "？　8\n",
      "【法廣RF 13\n",
      "00 14\n",
      "美記者 6\n",
      "閱兵 5\n",
      "時代 6\n",
      "曝光 8\n",
      "募兵 5\n",
      "人　5\n",
      "40 5\n",
      "市場 5\n",
      "釣魚 5\n",
      "處理 5\n",
      "0萬 10\n",
      "是... 5\n",
      "：不 5\n",
      "台北 6\n",
      "0元 5\n",
      "手　6\n",
      "　他 7\n",
      "中國 9\n",
      "經濟 6\n",
      "案　7\n",
      "波多野結衣 8\n",
      "【更新】 48\n",
      "60 6\n",
      "」　11\n",
      "0年 5\n",
      "【公庫】 5\n",
      "30 5\n",
      "槍擊 6\n",
      "法廣RFI 13\n",
      "自拍 6\n",
      "　台 7\n",
      "柯P 6\n",
      "什麼 7\n"
     ]
    }
   ],
   "source": [
    "keywords=[]        \n",
    "ret_terms={}\n",
    "words_freq    = []\n",
    "for term_length in range(5,1,-1):\n",
    "    word_dic = {}\n",
    "    for sentence in sentenceAry:\n",
    "        text_list = removeKey(sentence,keywords)        \n",
    "        ngram_words = ngram(text_list,term_length) \n",
    "        for word in ngram_words:\n",
    "            if word not in word_dic:\n",
    "                word_dic[word] = 1\n",
    "            else:\n",
    "                word_dic[word] += ngram_words[word]   \n",
    "    for word in word_dic:\n",
    "        if word_dic[word] >= 5:\n",
    "            keywords.append(word.encode('utf-8'))            \n",
    "            ret_terms.update({word:word_dic[word]})\n",
    "\n",
    "for ele in ret_terms:\n",
    "    print ele, ret_terms[ele]"
   ]
  },
  {
   "cell_type": "code",
   "execution_count": 65,
   "metadata": {
    "collapsed": false
   },
   "outputs": [
    {
     "data": {
      "text/html": [
       "\n",
       "  <head>\n",
       "    <title>Word Cloud</title>\n",
       "    <script src=\"tagcanvas.min.js\" type=\"text/javascript\"></script>\n",
       "  </head>\n",
       "  <body>\n",
       "    <h1>Word Cloud</h1>\n",
       "    <div id=\"myCanvasContainer\">\n",
       "      <canvas width=\"300\" height=\"300\" id=\"myCanvas\">\n",
       "        <p>Anything in here will be replaced on browsers that support the canvas element</p>\n",
       "      </canvas>\n",
       "    </div>\n",
       "    <div id=\"tags\"><ul id=\"weightTags\"><li><a data-weight=\"1\" style=\"font-size: 國em\">　</a></li><li><a data-weight=\"1\" style=\"font-size: 小em\">　</a></li><li><a data-weight=\"1\" style=\"font-size: 「em\">　</a></li><li><a data-weight=\"1\" style=\"font-size: Rem\">廣</a></li><li><a data-weight=\"1\" style=\"font-size: ！em\">了</a></li><li><a data-weight=\"1\" style=\"font-size: 擊em\">直</a></li><li><a data-weight=\"1\" style=\"font-size: 億em\">8</a></li><li><a data-weight=\"1\" style=\"font-size: 　em\">片</a></li><li><a data-weight=\"1\" style=\"font-size: 　em\">點</a></li><li><a data-weight=\"1\" style=\"font-size: 野em\">多</a></li><li><a data-weight=\"1\" style=\"font-size: 遊em\">悠</a></li><li><a data-weight=\"1\" style=\"font-size: 品em\">食</a></li><li><a data-weight=\"1\" style=\"font-size: 道em\">國</a></li><li><a data-weight=\"1\" style=\"font-size: 】em\">【</a></li><li><a data-weight=\"1\" style=\"font-size: 0em\">2</a></li><li><a data-weight=\"1\" style=\"font-size: 多em\">波</a></li><li><a data-weight=\"1\" style=\"font-size: 灣em\">台</a></li><li><a data-weight=\"1\" style=\"font-size: 鐘em\">金</a></li><li><a data-weight=\"1\" style=\"font-size: 樣em\">這</a></li><li><a data-weight=\"1\" style=\"font-size: 京em\">北</a></li><li><a data-weight=\"1\" style=\"font-size: 2em\">　</a></li><li><a data-weight=\"1\" style=\"font-size: 3em\">　</a></li><li><a data-weight=\"1\" style=\"font-size: 1em\">　</a></li><li><a data-weight=\"1\" style=\"font-size: 人em\">的</a></li><li><a data-weight=\"1\" style=\"font-size: 男em\">　</a></li><li><a data-weight=\"1\" style=\"font-size: 友em\">網</a></li><li><a data-weight=\"1\" style=\"font-size: .em\">.</a></li><li><a data-weight=\"1\" style=\"font-size:  em\"> </a></li><li><a data-weight=\"1\" style=\"font-size: Vem\">A</a></li><li><a data-weight=\"1\" style=\"font-size: 李em\">　</a></li><li><a data-weight=\"1\" style=\"font-size: 元em\">億</a></li><li><a data-weight=\"1\" style=\"font-size: 民em\">　</a></li><li><a data-weight=\"1\" style=\"font-size: 者em\">記</a></li><li><a data-weight=\"1\" style=\"font-size: 片em\">影</a></li><li><a data-weight=\"1\" style=\"font-size: 價em\">股</a></li><li><a data-weight=\"1\" style=\"font-size: 警em\">　</a></li><li><a data-weight=\"1\" style=\"font-size: 網em\">　</a></li><li><a data-weight=\"1\" style=\"font-size: 　em\">年</a></li><li><a data-weight=\"1\" style=\"font-size: 雨em\">大</a></li><li><a data-weight=\"1\" style=\"font-size: 1em\">1</a></li><li><a data-weight=\"1\" style=\"font-size: 0em\">1</a></li><li><a data-weight=\"1\" style=\"font-size: 3em\">1</a></li><li><a data-weight=\"1\" style=\"font-size: 5em\">1</a></li><li><a data-weight=\"1\" style=\"font-size: 7em\">1</a></li><li><a data-weight=\"1\" style=\"font-size: 8em\">1</a></li><li><a data-weight=\"1\" style=\"font-size: .em\">.</a></li><li><a data-weight=\"1\" style=\"font-size: 手em\">槍</a></li><li><a data-weight=\"1\" style=\"font-size: 兵em\">閱</a></li><li><a data-weight=\"1\" style=\"font-size: 民em\">國</a></li><li><a data-weight=\"1\" style=\"font-size: 股em\">台</a></li><li><a data-weight=\"1\" style=\"font-size: 女em\">少</a></li><li><a data-weight=\"1\" style=\"font-size: 言em\">代</a></li><li><a data-weight=\"1\" style=\"font-size: 市em\">北</a></li><li><a data-weight=\"1\" style=\"font-size: 　em\">！</a></li><li><a data-weight=\"1\" style=\"font-size: 民em\">【</a></li><li><a data-weight=\"1\" style=\"font-size: 億em\">0</a></li><li><a data-weight=\"1\" style=\"font-size: 0em\">8</a></li><li><a data-weight=\"1\" style=\"font-size: 戰em\">連</a></li><li><a data-weight=\"1\" style=\"font-size: 　em\">？</a></li><li><a data-weight=\"1\" style=\"font-size: 法em\">【</a></li><li><a data-weight=\"1\" style=\"font-size: 0em\">0</a></li><li><a data-weight=\"1\" style=\"font-size: 記em\">美</a></li><li><a data-weight=\"1\" style=\"font-size: 兵em\">閱</a></li><li><a data-weight=\"1\" style=\"font-size: 代em\">時</a></li><li><a data-weight=\"1\" style=\"font-size: 光em\">曝</a></li><li><a data-weight=\"1\" style=\"font-size: 兵em\">募</a></li><li><a data-weight=\"1\" style=\"font-size: 　em\">人</a></li><li><a data-weight=\"1\" style=\"font-size: 0em\">4</a></li><li><a data-weight=\"1\" style=\"font-size: 場em\">市</a></li><li><a data-weight=\"1\" style=\"font-size: 魚em\">釣</a></li><li><a data-weight=\"1\" style=\"font-size: 理em\">處</a></li><li><a data-weight=\"1\" style=\"font-size: 萬em\">0</a></li><li><a data-weight=\"1\" style=\"font-size: .em\">是</a></li><li><a data-weight=\"1\" style=\"font-size: 不em\">：</a></li><li><a data-weight=\"1\" style=\"font-size: 北em\">台</a></li><li><a data-weight=\"1\" style=\"font-size: 元em\">0</a></li><li><a data-weight=\"1\" style=\"font-size: 　em\">手</a></li><li><a data-weight=\"1\" style=\"font-size: 他em\">　</a></li><li><a data-weight=\"1\" style=\"font-size: 國em\">中</a></li><li><a data-weight=\"1\" style=\"font-size: 濟em\">經</a></li><li><a data-weight=\"1\" style=\"font-size: 　em\">案</a></li><li><a data-weight=\"1\" style=\"font-size: 多em\">波</a></li><li><a data-weight=\"1\" style=\"font-size: 更em\">【</a></li><li><a data-weight=\"1\" style=\"font-size: 0em\">6</a></li><li><a data-weight=\"1\" style=\"font-size: 　em\">」</a></li><li><a data-weight=\"1\" style=\"font-size: 年em\">0</a></li><li><a data-weight=\"1\" style=\"font-size: 公em\">【</a></li><li><a data-weight=\"1\" style=\"font-size: 0em\">3</a></li><li><a data-weight=\"1\" style=\"font-size: 擊em\">槍</a></li><li><a data-weight=\"1\" style=\"font-size: 廣em\">法</a></li><li><a data-weight=\"1\" style=\"font-size: 拍em\">自</a></li><li><a data-weight=\"1\" style=\"font-size: 台em\">　</a></li><li><a data-weight=\"1\" style=\"font-size: Pem\">柯</a></li><li><a data-weight=\"1\" style=\"font-size: 麼em\">什</a></li><li><a data-weight=\"1\" style=\"font-size: 5\">直擊</a></li><li><a data-weight=\"1\" style=\"font-size: 7\">多野悠遊卡</a></li><li><a data-weight=\"1\" style=\"font-size: 12\">悠遊卡</a></li><li><a data-weight=\"1\" style=\"font-size: 5\">食品</a></li><li><a data-weight=\"1\" style=\"font-size: 5\">國道</a></li><li><a data-weight=\"1\" style=\"font-size: 7\">波多野悠遊</a></li><li><a data-weight=\"1\" style=\"font-size: 16\">台灣</a></li><li><a data-weight=\"1\" style=\"font-size: 5\">金鐘</a></li><li><a data-weight=\"1\" style=\"font-size: 6\">這樣</a></li><li><a data-weight=\"1\" style=\"font-size: 5\">北京</a></li><li><a data-weight=\"1\" style=\"font-size: 5\">的人</a></li><li><a data-weight=\"1\" style=\"font-size: 6\">網友</a></li><li><a data-weight=\"1\" style=\"font-size: 5\">億元</a></li><li><a data-weight=\"1\" style=\"font-size: 6\">記者</a></li><li><a data-weight=\"1\" style=\"font-size: 6\">影片</a></li><li><a data-weight=\"1\" style=\"font-size: 6\">股價</a></li><li><a data-weight=\"1\" style=\"font-size: 5\">大雨</a></li><li><a data-weight=\"1\" style=\"font-size: 6\">槍手</a></li><li><a data-weight=\"1\" style=\"font-size: 5\">國民</a></li><li><a data-weight=\"1\" style=\"font-size: 5\">台股</a></li><li><a data-weight=\"1\" style=\"font-size: 6\">少女</a></li><li><a data-weight=\"1\" style=\"font-size: 5\">代言</a></li><li><a data-weight=\"1\" style=\"font-size: 5\">北市</a></li><li><a data-weight=\"1\" style=\"font-size: 8\">連戰</a></li><li><a data-weight=\"1\" style=\"font-size: 6\">美記者</a></li><li><a data-weight=\"1\" style=\"font-size: 5\">閱兵</a></li><li><a data-weight=\"1\" style=\"font-size: 6\">時代</a></li><li><a data-weight=\"1\" style=\"font-size: 8\">曝光</a></li><li><a data-weight=\"1\" style=\"font-size: 5\">募兵</a></li><li><a data-weight=\"1\" style=\"font-size: 5\">市場</a></li><li><a data-weight=\"1\" style=\"font-size: 5\">釣魚</a></li><li><a data-weight=\"1\" style=\"font-size: 5\">處理</a></li><li><a data-weight=\"1\" style=\"font-size: 6\">台北</a></li><li><a data-weight=\"1\" style=\"font-size: 9\">中國</a></li><li><a data-weight=\"1\" style=\"font-size: 6\">經濟</a></li><li><a data-weight=\"1\" style=\"font-size: 8\">波多野結衣</a></li><li><a data-weight=\"1\" style=\"font-size: 6\">槍擊</a></li><li><a data-weight=\"1\" style=\"font-size: 6\">自拍</a></li><li><a data-weight=\"1\" style=\"font-size: 7\">什麼</a></li></ul></div>\n",
       "  </body>\n"
      ]
     },
     "metadata": {},
     "output_type": "display_data"
    },
    {
     "data": {
      "application/javascript": [
       "$.getScript(\"tagcanvas.min.js\", function () {\n",
       "\n",
       "TagCanvas.Start('myCanvas','weightTags', {\n",
       " textFont: null,\n",
       " textColour: null,\n",
       " weight: true,\n",
       " shape: 'hcylinder',\n",
       " weightMode: 'both',\n",
       " textFont: 'Impact,\"Arial Black\",sans-serif',\n",
       " /* more options */\n",
       " \n",
       "});\n",
       "$('#tags').css('display','None');\n",
       "});\n"
      ]
     },
     "metadata": {},
     "output_type": "display_data"
    }
   ],
   "source": [
    "from IPython.display import display, HTML \n",
    "\n",
    "page= '''\n",
    "  <head>\n",
    "    <title>Word Cloud</title>\n",
    "    <script src=\"tagcanvas.min.js\" type=\"text/javascript\"></script>\n",
    "  </head>\n",
    "  <body>\n",
    "    <h1>Word Cloud</h1>\n",
    "    <div id=\"myCanvasContainer\">\n",
    "      <canvas width=\"300\" height=\"300\" id=\"myCanvas\">\n",
    "        <p>Anything in here will be replaced on browsers that support the canvas element</p>\n",
    "      </canvas>\n",
    "    </div>\n",
    "    <div id=\"tags\"><ul id=\"weightTags\">%s</ul></div>\n",
    "  </body>\n",
    "'''\n",
    "\n",
    "js = '''\n",
    "TagCanvas.Start('myCanvas','weightTags', {\n",
    " textFont: null,\n",
    " textColour: null,\n",
    " weight: true,\n",
    " shape: 'hcylinder',\n",
    " weightMode: 'both',\n",
    " textFont: 'Impact,\"Arial Black\",sans-serif',\n",
    " /* more options */\n",
    " \n",
    "});\n",
    "$('#tags').css('display','None');\n",
    "'''\n",
    "#sphere, hcylinder for a cylinder that starts off horizontal, vcylinder for a cylinder that starts off vertical, hring\n",
    "import IPython\n",
    "from IPython.core.display import display_html, display_javascript, Javascript\n",
    "\n",
    "js_libs = ['tagcanvas.min.js']\n",
    "li_str = ''\n",
    "for li in ret_terms:\n",
    "    li_str += '<li><a data-weight=\"1\" style=\"font-size: %sem\">%s</a></li>'%(li[1] , li[0])\n",
    "    \n",
    "\n",
    "import re    \n",
    "for li in ret_terms:\n",
    "    if (re.match(ur'^[\\u4e00-\\u9fff]+$',li) and ('更新' not in li.encode('utf-8'))):\n",
    "        #print li, ret_terms[li]\n",
    "        li_str += '<li><a data-weight=\"1\" style=\"font-size: %s\">%s</a></li>'%(ret_terms[li], li)\n",
    "\n",
    "    \n",
    "display_html(IPython.core.display.HTML(data=page%(li_str)))\n",
    "display_javascript( Javascript(data=js, lib= js_libs))"
   ]
  },
  {
   "cell_type": "code",
   "execution_count": 66,
   "metadata": {
    "collapsed": false
   },
   "outputs": [
    {
     "name": "stdout",
     "output_type": "stream",
     "text": [
      "Automatically created module for IPython interactive environment\n",
      "fitting to HMM and decoding ..."
     ]
    },
    {
     "name": "stderr",
     "output_type": "stream",
     "text": [
      "C:\\Python27\\lib\\site-packages\\matplotlib\\finance.py:485: MatplotlibDeprecationWarning: This function has been deprecated in 1.4 in favor of `quotes_historical_yahoo_ochl`, which maintains the original argument order, or `quotes_historical_yahoo_ohlc`, which uses the open-high-low-close order. This function will be removed in 1.5\n",
      "  mplDeprecation)\n",
      "C:\\Python27\\lib\\site-packages\\sklearn\\utils\\__init__.py:76: DeprecationWarning: Class _BaseHMM is deprecated; WARNING: The HMM module and its function will be removed in 0.17as it no longer falls within the project's scope and API. It has been moved to a separate repository: https://github.com/hmmlearn/hmmlearn\n",
      "  warnings.warn(msg, category=DeprecationWarning)\n",
      "C:\\Python27\\lib\\site-packages\\sklearn\\utils\\__init__.py:94: DeprecationWarning: Function normalize is deprecated; WARNING: The HMM module and its functions will be removed in 0.17 as it no longer falls within the project's scope and API. It has been moved to a separate repository: https://github.com/hmmlearn/hmmlearn\n",
      "  warnings.warn(msg, category=DeprecationWarning)\n",
      "C:\\Python27\\lib\\site-packages\\sklearn\\utils\\__init__.py:94: DeprecationWarning: Function normalize is deprecated; WARNING: The HMM module and its functions will be removed in 0.17 as it no longer falls within the project's scope and API. It has been moved to a separate repository: https://github.com/hmmlearn/hmmlearn\n",
      "  warnings.warn(msg, category=DeprecationWarning)\n",
      "C:\\Python27\\lib\\site-packages\\sklearn\\utils\\__init__.py:94: DeprecationWarning: Function normalize is deprecated; WARNING: The HMM module and its functions will be removed in 0.17 as it no longer falls within the project's scope and API. It has been moved to a separate repository: https://github.com/hmmlearn/hmmlearn\n",
      "  warnings.warn(msg, category=DeprecationWarning)\n",
      "C:\\Python27\\lib\\site-packages\\sklearn\\utils\\__init__.py:94: DeprecationWarning: Function normalize is deprecated; WARNING: The HMM module and its functions will be removed in 0.17 as it no longer falls within the project's scope and API. It has been moved to a separate repository: https://github.com/hmmlearn/hmmlearn\n",
      "  warnings.warn(msg, category=DeprecationWarning)\n",
      "C:\\Python27\\lib\\site-packages\\sklearn\\utils\\__init__.py:94: DeprecationWarning: Function normalize is deprecated; WARNING: The HMM module and its functions will be removed in 0.17 as it no longer falls within the project's scope and API. It has been moved to a separate repository: https://github.com/hmmlearn/hmmlearn\n",
      "  warnings.warn(msg, category=DeprecationWarning)\n",
      "C:\\Python27\\lib\\site-packages\\sklearn\\utils\\__init__.py:94: DeprecationWarning: Function normalize is deprecated; WARNING: The HMM module and its functions will be removed in 0.17 as it no longer falls within the project's scope and API. It has been moved to a separate repository: https://github.com/hmmlearn/hmmlearn\n",
      "  warnings.warn(msg, category=DeprecationWarning)\n",
      "C:\\Python27\\lib\\site-packages\\sklearn\\utils\\__init__.py:94: DeprecationWarning: Function normalize is deprecated; WARNING: The HMM module and its functions will be removed in 0.17 as it no longer falls within the project's scope and API. It has been moved to a separate repository: https://github.com/hmmlearn/hmmlearn\n",
      "  warnings.warn(msg, category=DeprecationWarning)\n",
      "C:\\Python27\\lib\\site-packages\\sklearn\\utils\\__init__.py:94: DeprecationWarning: Function normalize is deprecated; WARNING: The HMM module and its functions will be removed in 0.17 as it no longer falls within the project's scope and API. It has been moved to a separate repository: https://github.com/hmmlearn/hmmlearn\n",
      "  warnings.warn(msg, category=DeprecationWarning)\n",
      "C:\\Python27\\lib\\site-packages\\sklearn\\utils\\__init__.py:94: DeprecationWarning: Function normalize is deprecated; WARNING: The HMM module and its functions will be removed in 0.17 as it no longer falls within the project's scope and API. It has been moved to a separate repository: https://github.com/hmmlearn/hmmlearn\n",
      "  warnings.warn(msg, category=DeprecationWarning)\n",
      "C:\\Python27\\lib\\site-packages\\sklearn\\utils\\__init__.py:94: DeprecationWarning: Function normalize is deprecated; WARNING: The HMM module and its functions will be removed in 0.17 as it no longer falls within the project's scope and API. It has been moved to a separate repository: https://github.com/hmmlearn/hmmlearn\n",
      "  warnings.warn(msg, category=DeprecationWarning)\n",
      "C:\\Python27\\lib\\site-packages\\sklearn\\utils\\__init__.py:94: DeprecationWarning: Function normalize is deprecated; WARNING: The HMM module and its functions will be removed in 0.17 as it no longer falls within the project's scope and API. It has been moved to a separate repository: https://github.com/hmmlearn/hmmlearn\n",
      "  warnings.warn(msg, category=DeprecationWarning)\n",
      "C:\\Python27\\lib\\site-packages\\sklearn\\utils\\__init__.py:94: DeprecationWarning: Function normalize is deprecated; WARNING: The HMM module and its functions will be removed in 0.17 as it no longer falls within the project's scope and API. It has been moved to a separate repository: https://github.com/hmmlearn/hmmlearn\n",
      "  warnings.warn(msg, category=DeprecationWarning)\n",
      "C:\\Python27\\lib\\site-packages\\sklearn\\utils\\__init__.py:94: DeprecationWarning: Function normalize is deprecated; WARNING: The HMM module and its functions will be removed in 0.17 as it no longer falls within the project's scope and API. It has been moved to a separate repository: https://github.com/hmmlearn/hmmlearn\n",
      "  warnings.warn(msg, category=DeprecationWarning)\n",
      "C:\\Python27\\lib\\site-packages\\sklearn\\utils\\__init__.py:94: DeprecationWarning: Function normalize is deprecated; WARNING: The HMM module and its functions will be removed in 0.17 as it no longer falls within the project's scope and API. It has been moved to a separate repository: https://github.com/hmmlearn/hmmlearn\n",
      "  warnings.warn(msg, category=DeprecationWarning)\n",
      "C:\\Python27\\lib\\site-packages\\sklearn\\utils\\__init__.py:94: DeprecationWarning: Function normalize is deprecated; WARNING: The HMM module and its functions will be removed in 0.17 as it no longer falls within the project's scope and API. It has been moved to a separate repository: https://github.com/hmmlearn/hmmlearn\n",
      "  warnings.warn(msg, category=DeprecationWarning)\n",
      "C:\\Python27\\lib\\site-packages\\sklearn\\utils\\__init__.py:94: DeprecationWarning: Function normalize is deprecated; WARNING: The HMM module and its functions will be removed in 0.17 as it no longer falls within the project's scope and API. It has been moved to a separate repository: https://github.com/hmmlearn/hmmlearn\n",
      "  warnings.warn(msg, category=DeprecationWarning)\n",
      "C:\\Python27\\lib\\site-packages\\sklearn\\utils\\__init__.py:94: DeprecationWarning: Function normalize is deprecated; WARNING: The HMM module and its functions will be removed in 0.17 as it no longer falls within the project's scope and API. It has been moved to a separate repository: https://github.com/hmmlearn/hmmlearn\n",
      "  warnings.warn(msg, category=DeprecationWarning)\n",
      "C:\\Python27\\lib\\site-packages\\sklearn\\utils\\__init__.py:94: DeprecationWarning: Function normalize is deprecated; WARNING: The HMM module and its functions will be removed in 0.17 as it no longer falls within the project's scope and API. It has been moved to a separate repository: https://github.com/hmmlearn/hmmlearn\n",
      "  warnings.warn(msg, category=DeprecationWarning)\n",
      "C:\\Python27\\lib\\site-packages\\sklearn\\utils\\__init__.py:94: DeprecationWarning: Function normalize is deprecated; WARNING: The HMM module and its functions will be removed in 0.17 as it no longer falls within the project's scope and API. It has been moved to a separate repository: https://github.com/hmmlearn/hmmlearn\n",
      "  warnings.warn(msg, category=DeprecationWarning)\n",
      "C:\\Python27\\lib\\site-packages\\sklearn\\utils\\__init__.py:94: DeprecationWarning: Function normalize is deprecated; WARNING: The HMM module and its functions will be removed in 0.17 as it no longer falls within the project's scope and API. It has been moved to a separate repository: https://github.com/hmmlearn/hmmlearn\n",
      "  warnings.warn(msg, category=DeprecationWarning)\n",
      "C:\\Python27\\lib\\site-packages\\sklearn\\utils\\__init__.py:94: DeprecationWarning: Function normalize is deprecated; WARNING: The HMM module and its functions will be removed in 0.17 as it no longer falls within the project's scope and API. It has been moved to a separate repository: https://github.com/hmmlearn/hmmlearn\n",
      "  warnings.warn(msg, category=DeprecationWarning)\n",
      "C:\\Python27\\lib\\site-packages\\sklearn\\utils\\__init__.py:94: DeprecationWarning: Function normalize is deprecated; WARNING: The HMM module and its functions will be removed in 0.17 as it no longer falls within the project's scope and API. It has been moved to a separate repository: https://github.com/hmmlearn/hmmlearn\n",
      "  warnings.warn(msg, category=DeprecationWarning)\n",
      "C:\\Python27\\lib\\site-packages\\sklearn\\utils\\__init__.py:94: DeprecationWarning: Function normalize is deprecated; WARNING: The HMM module and its functions will be removed in 0.17 as it no longer falls within the project's scope and API. It has been moved to a separate repository: https://github.com/hmmlearn/hmmlearn\n",
      "  warnings.warn(msg, category=DeprecationWarning)\n",
      "C:\\Python27\\lib\\site-packages\\sklearn\\utils\\__init__.py:94: DeprecationWarning: Function normalize is deprecated; WARNING: The HMM module and its functions will be removed in 0.17 as it no longer falls within the project's scope and API. It has been moved to a separate repository: https://github.com/hmmlearn/hmmlearn\n",
      "  warnings.warn(msg, category=DeprecationWarning)\n",
      "C:\\Python27\\lib\\site-packages\\sklearn\\utils\\__init__.py:94: DeprecationWarning: Function normalize is deprecated; WARNING: The HMM module and its functions will be removed in 0.17 as it no longer falls within the project's scope and API. It has been moved to a separate repository: https://github.com/hmmlearn/hmmlearn\n",
      "  warnings.warn(msg, category=DeprecationWarning)\n",
      "C:\\Python27\\lib\\site-packages\\sklearn\\utils\\__init__.py:94: DeprecationWarning: Function normalize is deprecated; WARNING: The HMM module and its functions will be removed in 0.17 as it no longer falls within the project's scope and API. It has been moved to a separate repository: https://github.com/hmmlearn/hmmlearn\n",
      "  warnings.warn(msg, category=DeprecationWarning)\n",
      "C:\\Python27\\lib\\site-packages\\sklearn\\utils\\__init__.py:94: DeprecationWarning: Function normalize is deprecated; WARNING: The HMM module and its functions will be removed in 0.17 as it no longer falls within the project's scope and API. It has been moved to a separate repository: https://github.com/hmmlearn/hmmlearn\n",
      "  warnings.warn(msg, category=DeprecationWarning)\n",
      "C:\\Python27\\lib\\site-packages\\sklearn\\utils\\__init__.py:94: DeprecationWarning: Function normalize is deprecated; WARNING: The HMM module and its functions will be removed in 0.17 as it no longer falls within the project's scope and API. It has been moved to a separate repository: https://github.com/hmmlearn/hmmlearn\n",
      "  warnings.warn(msg, category=DeprecationWarning)\n",
      "C:\\Python27\\lib\\site-packages\\sklearn\\utils\\__init__.py:94: DeprecationWarning: Function normalize is deprecated; WARNING: The HMM module and its functions will be removed in 0.17 as it no longer falls within the project's scope and API. It has been moved to a separate repository: https://github.com/hmmlearn/hmmlearn\n",
      "  warnings.warn(msg, category=DeprecationWarning)\n",
      "C:\\Python27\\lib\\site-packages\\sklearn\\utils\\__init__.py:94: DeprecationWarning: Function normalize is deprecated; WARNING: The HMM module and its functions will be removed in 0.17 as it no longer falls within the project's scope and API. It has been moved to a separate repository: https://github.com/hmmlearn/hmmlearn\n",
      "  warnings.warn(msg, category=DeprecationWarning)\n",
      "C:\\Python27\\lib\\site-packages\\sklearn\\utils\\__init__.py:94: DeprecationWarning: Function normalize is deprecated; WARNING: The HMM module and its functions will be removed in 0.17 as it no longer falls within the project's scope and API. It has been moved to a separate repository: https://github.com/hmmlearn/hmmlearn\n",
      "  warnings.warn(msg, category=DeprecationWarning)\n",
      "C:\\Python27\\lib\\site-packages\\sklearn\\utils\\__init__.py:94: DeprecationWarning: Function normalize is deprecated; WARNING: The HMM module and its functions will be removed in 0.17 as it no longer falls within the project's scope and API. It has been moved to a separate repository: https://github.com/hmmlearn/hmmlearn\n",
      "  warnings.warn(msg, category=DeprecationWarning)\n",
      "C:\\Python27\\lib\\site-packages\\sklearn\\utils\\__init__.py:94: DeprecationWarning: Function normalize is deprecated; WARNING: The HMM module and its functions will be removed in 0.17 as it no longer falls within the project's scope and API. It has been moved to a separate repository: https://github.com/hmmlearn/hmmlearn\n",
      "  warnings.warn(msg, category=DeprecationWarning)\n",
      "C:\\Python27\\lib\\site-packages\\sklearn\\utils\\__init__.py:94: DeprecationWarning: Function normalize is deprecated; WARNING: The HMM module and its functions will be removed in 0.17 as it no longer falls within the project's scope and API. It has been moved to a separate repository: https://github.com/hmmlearn/hmmlearn\n",
      "  warnings.warn(msg, category=DeprecationWarning)\n",
      "C:\\Python27\\lib\\site-packages\\sklearn\\utils\\__init__.py:94: DeprecationWarning: Function normalize is deprecated; WARNING: The HMM module and its functions will be removed in 0.17 as it no longer falls within the project's scope and API. It has been moved to a separate repository: https://github.com/hmmlearn/hmmlearn\n",
      "  warnings.warn(msg, category=DeprecationWarning)\n",
      "C:\\Python27\\lib\\site-packages\\sklearn\\utils\\__init__.py:94: DeprecationWarning: Function normalize is deprecated; WARNING: The HMM module and its functions will be removed in 0.17 as it no longer falls within the project's scope and API. It has been moved to a separate repository: https://github.com/hmmlearn/hmmlearn\n",
      "  warnings.warn(msg, category=DeprecationWarning)\n",
      "C:\\Python27\\lib\\site-packages\\sklearn\\utils\\__init__.py:94: DeprecationWarning: Function normalize is deprecated; WARNING: The HMM module and its functions will be removed in 0.17 as it no longer falls within the project's scope and API. It has been moved to a separate repository: https://github.com/hmmlearn/hmmlearn\n",
      "  warnings.warn(msg, category=DeprecationWarning)\n",
      "C:\\Python27\\lib\\site-packages\\sklearn\\utils\\__init__.py:94: DeprecationWarning: Function normalize is deprecated; WARNING: The HMM module and its functions will be removed in 0.17 as it no longer falls within the project's scope and API. It has been moved to a separate repository: https://github.com/hmmlearn/hmmlearn\n",
      "  warnings.warn(msg, category=DeprecationWarning)\n",
      "C:\\Python27\\lib\\site-packages\\sklearn\\utils\\__init__.py:94: DeprecationWarning: Function normalize is deprecated; WARNING: The HMM module and its functions will be removed in 0.17 as it no longer falls within the project's scope and API. It has been moved to a separate repository: https://github.com/hmmlearn/hmmlearn\n",
      "  warnings.warn(msg, category=DeprecationWarning)\n",
      "C:\\Python27\\lib\\site-packages\\sklearn\\utils\\__init__.py:94: DeprecationWarning: Function normalize is deprecated; WARNING: The HMM module and its functions will be removed in 0.17 as it no longer falls within the project's scope and API. It has been moved to a separate repository: https://github.com/hmmlearn/hmmlearn\n",
      "  warnings.warn(msg, category=DeprecationWarning)\n",
      "C:\\Python27\\lib\\site-packages\\sklearn\\utils\\__init__.py:94: DeprecationWarning: Function normalize is deprecated; WARNING: The HMM module and its functions will be removed in 0.17 as it no longer falls within the project's scope and API. It has been moved to a separate repository: https://github.com/hmmlearn/hmmlearn\n",
      "  warnings.warn(msg, category=DeprecationWarning)\n",
      "C:\\Python27\\lib\\site-packages\\sklearn\\utils\\__init__.py:94: DeprecationWarning: Function normalize is deprecated; WARNING: The HMM module and its functions will be removed in 0.17 as it no longer falls within the project's scope and API. It has been moved to a separate repository: https://github.com/hmmlearn/hmmlearn\n",
      "  warnings.warn(msg, category=DeprecationWarning)\n",
      "C:\\Python27\\lib\\site-packages\\sklearn\\utils\\__init__.py:94: DeprecationWarning: Function normalize is deprecated; WARNING: The HMM module and its functions will be removed in 0.17 as it no longer falls within the project's scope and API. It has been moved to a separate repository: https://github.com/hmmlearn/hmmlearn\n",
      "  warnings.warn(msg, category=DeprecationWarning)\n",
      "C:\\Python27\\lib\\site-packages\\sklearn\\utils\\__init__.py:94: DeprecationWarning: Function normalize is deprecated; WARNING: The HMM module and its functions will be removed in 0.17 as it no longer falls within the project's scope and API. It has been moved to a separate repository: https://github.com/hmmlearn/hmmlearn\n",
      "  warnings.warn(msg, category=DeprecationWarning)\n",
      "C:\\Python27\\lib\\site-packages\\sklearn\\utils\\__init__.py:94: DeprecationWarning: Function normalize is deprecated; WARNING: The HMM module and its functions will be removed in 0.17 as it no longer falls within the project's scope and API. It has been moved to a separate repository: https://github.com/hmmlearn/hmmlearn\n",
      "  warnings.warn(msg, category=DeprecationWarning)\n",
      "C:\\Python27\\lib\\site-packages\\sklearn\\utils\\__init__.py:94: DeprecationWarning: Function normalize is deprecated; WARNING: The HMM module and its functions will be removed in 0.17 as it no longer falls within the project's scope and API. It has been moved to a separate repository: https://github.com/hmmlearn/hmmlearn\n",
      "  warnings.warn(msg, category=DeprecationWarning)\n",
      "C:\\Python27\\lib\\site-packages\\sklearn\\utils\\__init__.py:94: DeprecationWarning: Function normalize is deprecated; WARNING: The HMM module and its functions will be removed in 0.17 as it no longer falls within the project's scope and API. It has been moved to a separate repository: https://github.com/hmmlearn/hmmlearn\n",
      "  warnings.warn(msg, category=DeprecationWarning)\n",
      "C:\\Python27\\lib\\site-packages\\sklearn\\utils\\__init__.py:94: DeprecationWarning: Function normalize is deprecated; WARNING: The HMM module and its functions will be removed in 0.17 as it no longer falls within the project's scope and API. It has been moved to a separate repository: https://github.com/hmmlearn/hmmlearn\n",
      "  warnings.warn(msg, category=DeprecationWarning)\n",
      "C:\\Python27\\lib\\site-packages\\sklearn\\utils\\__init__.py:94: DeprecationWarning: Function normalize is deprecated; WARNING: The HMM module and its functions will be removed in 0.17 as it no longer falls within the project's scope and API. It has been moved to a separate repository: https://github.com/hmmlearn/hmmlearn\n",
      "  warnings.warn(msg, category=DeprecationWarning)\n",
      "C:\\Python27\\lib\\site-packages\\sklearn\\utils\\__init__.py:94: DeprecationWarning: Function normalize is deprecated; WARNING: The HMM module and its functions will be removed in 0.17 as it no longer falls within the project's scope and API. It has been moved to a separate repository: https://github.com/hmmlearn/hmmlearn\n",
      "  warnings.warn(msg, category=DeprecationWarning)\n",
      "C:\\Python27\\lib\\site-packages\\sklearn\\utils\\__init__.py:94: DeprecationWarning: Function normalize is deprecated; WARNING: The HMM module and its functions will be removed in 0.17 as it no longer falls within the project's scope and API. It has been moved to a separate repository: https://github.com/hmmlearn/hmmlearn\n",
      "  warnings.warn(msg, category=DeprecationWarning)\n",
      "C:\\Python27\\lib\\site-packages\\sklearn\\utils\\__init__.py:94: DeprecationWarning: Function normalize is deprecated; WARNING: The HMM module and its functions will be removed in 0.17 as it no longer falls within the project's scope and API. It has been moved to a separate repository: https://github.com/hmmlearn/hmmlearn\n",
      "  warnings.warn(msg, category=DeprecationWarning)\n",
      "C:\\Python27\\lib\\site-packages\\sklearn\\utils\\__init__.py:94: DeprecationWarning: Function normalize is deprecated; WARNING: The HMM module and its functions will be removed in 0.17 as it no longer falls within the project's scope and API. It has been moved to a separate repository: https://github.com/hmmlearn/hmmlearn\n",
      "  warnings.warn(msg, category=DeprecationWarning)\n",
      "C:\\Python27\\lib\\site-packages\\sklearn\\utils\\__init__.py:94: DeprecationWarning: Function normalize is deprecated; WARNING: The HMM module and its functions will be removed in 0.17 as it no longer falls within the project's scope and API. It has been moved to a separate repository: https://github.com/hmmlearn/hmmlearn\n",
      "  warnings.warn(msg, category=DeprecationWarning)\n",
      "C:\\Python27\\lib\\site-packages\\sklearn\\utils\\__init__.py:94: DeprecationWarning: Function normalize is deprecated; WARNING: The HMM module and its functions will be removed in 0.17 as it no longer falls within the project's scope and API. It has been moved to a separate repository: https://github.com/hmmlearn/hmmlearn\n",
      "  warnings.warn(msg, category=DeprecationWarning)\n",
      "C:\\Python27\\lib\\site-packages\\sklearn\\utils\\__init__.py:94: DeprecationWarning: Function normalize is deprecated; WARNING: The HMM module and its functions will be removed in 0.17 as it no longer falls within the project's scope and API. It has been moved to a separate repository: https://github.com/hmmlearn/hmmlearn\n",
      "  warnings.warn(msg, category=DeprecationWarning)\n",
      "C:\\Python27\\lib\\site-packages\\sklearn\\utils\\__init__.py:94: DeprecationWarning: Function normalize is deprecated; WARNING: The HMM module and its functions will be removed in 0.17 as it no longer falls within the project's scope and API. It has been moved to a separate repository: https://github.com/hmmlearn/hmmlearn\n",
      "  warnings.warn(msg, category=DeprecationWarning)\n",
      "C:\\Python27\\lib\\site-packages\\sklearn\\utils\\__init__.py:94: DeprecationWarning: Function normalize is deprecated; WARNING: The HMM module and its functions will be removed in 0.17 as it no longer falls within the project's scope and API. It has been moved to a separate repository: https://github.com/hmmlearn/hmmlearn\n",
      "  warnings.warn(msg, category=DeprecationWarning)\n",
      "C:\\Python27\\lib\\site-packages\\sklearn\\utils\\__init__.py:94: DeprecationWarning: Function normalize is deprecated; WARNING: The HMM module and its functions will be removed in 0.17 as it no longer falls within the project's scope and API. It has been moved to a separate repository: https://github.com/hmmlearn/hmmlearn\n",
      "  warnings.warn(msg, category=DeprecationWarning)\n",
      "C:\\Python27\\lib\\site-packages\\sklearn\\utils\\__init__.py:94: DeprecationWarning: Function normalize is deprecated; WARNING: The HMM module and its functions will be removed in 0.17 as it no longer falls within the project's scope and API. It has been moved to a separate repository: https://github.com/hmmlearn/hmmlearn\n",
      "  warnings.warn(msg, category=DeprecationWarning)\n",
      "C:\\Python27\\lib\\site-packages\\sklearn\\utils\\__init__.py:94: DeprecationWarning: Function normalize is deprecated; WARNING: The HMM module and its functions will be removed in 0.17 as it no longer falls within the project's scope and API. It has been moved to a separate repository: https://github.com/hmmlearn/hmmlearn\n",
      "  warnings.warn(msg, category=DeprecationWarning)\n",
      "C:\\Python27\\lib\\site-packages\\sklearn\\utils\\__init__.py:94: DeprecationWarning: Function normalize is deprecated; WARNING: The HMM module and its functions will be removed in 0.17 as it no longer falls within the project's scope and API. It has been moved to a separate repository: https://github.com/hmmlearn/hmmlearn\n",
      "  warnings.warn(msg, category=DeprecationWarning)\n",
      "C:\\Python27\\lib\\site-packages\\sklearn\\utils\\__init__.py:94: DeprecationWarning: Function normalize is deprecated; WARNING: The HMM module and its functions will be removed in 0.17 as it no longer falls within the project's scope and API. It has been moved to a separate repository: https://github.com/hmmlearn/hmmlearn\n",
      "  warnings.warn(msg, category=DeprecationWarning)\n",
      "C:\\Python27\\lib\\site-packages\\sklearn\\utils\\__init__.py:94: DeprecationWarning: Function normalize is deprecated; WARNING: The HMM module and its functions will be removed in 0.17 as it no longer falls within the project's scope and API. It has been moved to a separate repository: https://github.com/hmmlearn/hmmlearn\n",
      "  warnings.warn(msg, category=DeprecationWarning)\n",
      "C:\\Python27\\lib\\site-packages\\sklearn\\utils\\__init__.py:94: DeprecationWarning: Function normalize is deprecated; WARNING: The HMM module and its functions will be removed in 0.17 as it no longer falls within the project's scope and API. It has been moved to a separate repository: https://github.com/hmmlearn/hmmlearn\n",
      "  warnings.warn(msg, category=DeprecationWarning)\n",
      "C:\\Python27\\lib\\site-packages\\sklearn\\utils\\__init__.py:94: DeprecationWarning: Function normalize is deprecated; WARNING: The HMM module and its functions will be removed in 0.17 as it no longer falls within the project's scope and API. It has been moved to a separate repository: https://github.com/hmmlearn/hmmlearn\n",
      "  warnings.warn(msg, category=DeprecationWarning)\n",
      "C:\\Python27\\lib\\site-packages\\sklearn\\utils\\__init__.py:94: DeprecationWarning: Function normalize is deprecated; WARNING: The HMM module and its functions will be removed in 0.17 as it no longer falls within the project's scope and API. It has been moved to a separate repository: https://github.com/hmmlearn/hmmlearn\n",
      "  warnings.warn(msg, category=DeprecationWarning)\n",
      "C:\\Python27\\lib\\site-packages\\sklearn\\utils\\__init__.py:94: DeprecationWarning: Function normalize is deprecated; WARNING: The HMM module and its functions will be removed in 0.17 as it no longer falls within the project's scope and API. It has been moved to a separate repository: https://github.com/hmmlearn/hmmlearn\n",
      "  warnings.warn(msg, category=DeprecationWarning)\n",
      "C:\\Python27\\lib\\site-packages\\sklearn\\utils\\__init__.py:94: DeprecationWarning: Function normalize is deprecated; WARNING: The HMM module and its functions will be removed in 0.17 as it no longer falls within the project's scope and API. It has been moved to a separate repository: https://github.com/hmmlearn/hmmlearn\n",
      "  warnings.warn(msg, category=DeprecationWarning)\n",
      "C:\\Python27\\lib\\site-packages\\sklearn\\utils\\__init__.py:94: DeprecationWarning: Function normalize is deprecated; WARNING: The HMM module and its functions will be removed in 0.17 as it no longer falls within the project's scope and API. It has been moved to a separate repository: https://github.com/hmmlearn/hmmlearn\n",
      "  warnings.warn(msg, category=DeprecationWarning)\n",
      "C:\\Python27\\lib\\site-packages\\sklearn\\utils\\__init__.py:94: DeprecationWarning: Function normalize is deprecated; WARNING: The HMM module and its functions will be removed in 0.17 as it no longer falls within the project's scope and API. It has been moved to a separate repository: https://github.com/hmmlearn/hmmlearn\n",
      "  warnings.warn(msg, category=DeprecationWarning)\n",
      "C:\\Python27\\lib\\site-packages\\sklearn\\utils\\__init__.py:94: DeprecationWarning: Function normalize is deprecated; WARNING: The HMM module and its functions will be removed in 0.17 as it no longer falls within the project's scope and API. It has been moved to a separate repository: https://github.com/hmmlearn/hmmlearn\n",
      "  warnings.warn(msg, category=DeprecationWarning)\n",
      "C:\\Python27\\lib\\site-packages\\sklearn\\utils\\__init__.py:94: DeprecationWarning: Function normalize is deprecated; WARNING: The HMM module and its functions will be removed in 0.17 as it no longer falls within the project's scope and API. It has been moved to a separate repository: https://github.com/hmmlearn/hmmlearn\n",
      "  warnings.warn(msg, category=DeprecationWarning)\n",
      "C:\\Python27\\lib\\site-packages\\sklearn\\utils\\__init__.py:94: DeprecationWarning: Function normalize is deprecated; WARNING: The HMM module and its functions will be removed in 0.17 as it no longer falls within the project's scope and API. It has been moved to a separate repository: https://github.com/hmmlearn/hmmlearn\n",
      "  warnings.warn(msg, category=DeprecationWarning)\n",
      "C:\\Python27\\lib\\site-packages\\sklearn\\utils\\__init__.py:94: DeprecationWarning: Function normalize is deprecated; WARNING: The HMM module and its functions will be removed in 0.17 as it no longer falls within the project's scope and API. It has been moved to a separate repository: https://github.com/hmmlearn/hmmlearn\n",
      "  warnings.warn(msg, category=DeprecationWarning)\n",
      "C:\\Python27\\lib\\site-packages\\sklearn\\utils\\__init__.py:94: DeprecationWarning: Function normalize is deprecated; WARNING: The HMM module and its functions will be removed in 0.17 as it no longer falls within the project's scope and API. It has been moved to a separate repository: https://github.com/hmmlearn/hmmlearn\n",
      "  warnings.warn(msg, category=DeprecationWarning)\n",
      "C:\\Python27\\lib\\site-packages\\sklearn\\utils\\__init__.py:94: DeprecationWarning: Function normalize is deprecated; WARNING: The HMM module and its functions will be removed in 0.17 as it no longer falls within the project's scope and API. It has been moved to a separate repository: https://github.com/hmmlearn/hmmlearn\n",
      "  warnings.warn(msg, category=DeprecationWarning)\n",
      "C:\\Python27\\lib\\site-packages\\sklearn\\utils\\__init__.py:94: DeprecationWarning: Function normalize is deprecated; WARNING: The HMM module and its functions will be removed in 0.17 as it no longer falls within the project's scope and API. It has been moved to a separate repository: https://github.com/hmmlearn/hmmlearn\n",
      "  warnings.warn(msg, category=DeprecationWarning)\n",
      "C:\\Python27\\lib\\site-packages\\sklearn\\utils\\__init__.py:94: DeprecationWarning: Function normalize is deprecated; WARNING: The HMM module and its functions will be removed in 0.17 as it no longer falls within the project's scope and API. It has been moved to a separate repository: https://github.com/hmmlearn/hmmlearn\n",
      "  warnings.warn(msg, category=DeprecationWarning)\n",
      "C:\\Python27\\lib\\site-packages\\sklearn\\utils\\__init__.py:94: DeprecationWarning: Function normalize is deprecated; WARNING: The HMM module and its functions will be removed in 0.17 as it no longer falls within the project's scope and API. It has been moved to a separate repository: https://github.com/hmmlearn/hmmlearn\n",
      "  warnings.warn(msg, category=DeprecationWarning)\n",
      "C:\\Python27\\lib\\site-packages\\sklearn\\utils\\__init__.py:94: DeprecationWarning: Function normalize is deprecated; WARNING: The HMM module and its functions will be removed in 0.17 as it no longer falls within the project's scope and API. It has been moved to a separate repository: https://github.com/hmmlearn/hmmlearn\n",
      "  warnings.warn(msg, category=DeprecationWarning)\n",
      "C:\\Python27\\lib\\site-packages\\sklearn\\utils\\__init__.py:94: DeprecationWarning: Function normalize is deprecated; WARNING: The HMM module and its functions will be removed in 0.17 as it no longer falls within the project's scope and API. It has been moved to a separate repository: https://github.com/hmmlearn/hmmlearn\n",
      "  warnings.warn(msg, category=DeprecationWarning)\n",
      "C:\\Python27\\lib\\site-packages\\sklearn\\utils\\__init__.py:94: DeprecationWarning: Function normalize is deprecated; WARNING: The HMM module and its functions will be removed in 0.17 as it no longer falls within the project's scope and API. It has been moved to a separate repository: https://github.com/hmmlearn/hmmlearn\n",
      "  warnings.warn(msg, category=DeprecationWarning)\n",
      "C:\\Python27\\lib\\site-packages\\sklearn\\utils\\__init__.py:94: DeprecationWarning: Function normalize is deprecated; WARNING: The HMM module and its functions will be removed in 0.17 as it no longer falls within the project's scope and API. It has been moved to a separate repository: https://github.com/hmmlearn/hmmlearn\n",
      "  warnings.warn(msg, category=DeprecationWarning)\n",
      "C:\\Python27\\lib\\site-packages\\sklearn\\utils\\__init__.py:94: DeprecationWarning: Function normalize is deprecated; WARNING: The HMM module and its functions will be removed in 0.17 as it no longer falls within the project's scope and API. It has been moved to a separate repository: https://github.com/hmmlearn/hmmlearn\n",
      "  warnings.warn(msg, category=DeprecationWarning)\n",
      "C:\\Python27\\lib\\site-packages\\sklearn\\utils\\__init__.py:94: DeprecationWarning: Function normalize is deprecated; WARNING: The HMM module and its functions will be removed in 0.17 as it no longer falls within the project's scope and API. It has been moved to a separate repository: https://github.com/hmmlearn/hmmlearn\n",
      "  warnings.warn(msg, category=DeprecationWarning)\n",
      "C:\\Python27\\lib\\site-packages\\sklearn\\utils\\__init__.py:94: DeprecationWarning: Function normalize is deprecated; WARNING: The HMM module and its functions will be removed in 0.17 as it no longer falls within the project's scope and API. It has been moved to a separate repository: https://github.com/hmmlearn/hmmlearn\n",
      "  warnings.warn(msg, category=DeprecationWarning)\n",
      "C:\\Python27\\lib\\site-packages\\sklearn\\utils\\__init__.py:94: DeprecationWarning: Function normalize is deprecated; WARNING: The HMM module and its functions will be removed in 0.17 as it no longer falls within the project's scope and API. It has been moved to a separate repository: https://github.com/hmmlearn/hmmlearn\n",
      "  warnings.warn(msg, category=DeprecationWarning)\n",
      "C:\\Python27\\lib\\site-packages\\sklearn\\utils\\__init__.py:94: DeprecationWarning: Function normalize is deprecated; WARNING: The HMM module and its functions will be removed in 0.17 as it no longer falls within the project's scope and API. It has been moved to a separate repository: https://github.com/hmmlearn/hmmlearn\n",
      "  warnings.warn(msg, category=DeprecationWarning)\n",
      "C:\\Python27\\lib\\site-packages\\sklearn\\utils\\__init__.py:94: DeprecationWarning: Function normalize is deprecated; WARNING: The HMM module and its functions will be removed in 0.17 as it no longer falls within the project's scope and API. It has been moved to a separate repository: https://github.com/hmmlearn/hmmlearn\n",
      "  warnings.warn(msg, category=DeprecationWarning)\n",
      "C:\\Python27\\lib\\site-packages\\sklearn\\utils\\__init__.py:94: DeprecationWarning: Function normalize is deprecated; WARNING: The HMM module and its functions will be removed in 0.17 as it no longer falls within the project's scope and API. It has been moved to a separate repository: https://github.com/hmmlearn/hmmlearn\n",
      "  warnings.warn(msg, category=DeprecationWarning)\n",
      "C:\\Python27\\lib\\site-packages\\sklearn\\utils\\__init__.py:94: DeprecationWarning: Function normalize is deprecated; WARNING: The HMM module and its functions will be removed in 0.17 as it no longer falls within the project's scope and API. It has been moved to a separate repository: https://github.com/hmmlearn/hmmlearn\n",
      "  warnings.warn(msg, category=DeprecationWarning)\n",
      "C:\\Python27\\lib\\site-packages\\sklearn\\utils\\__init__.py:94: DeprecationWarning: Function normalize is deprecated; WARNING: The HMM module and its functions will be removed in 0.17 as it no longer falls within the project's scope and API. It has been moved to a separate repository: https://github.com/hmmlearn/hmmlearn\n",
      "  warnings.warn(msg, category=DeprecationWarning)\n",
      "C:\\Python27\\lib\\site-packages\\sklearn\\utils\\__init__.py:94: DeprecationWarning: Function normalize is deprecated; WARNING: The HMM module and its functions will be removed in 0.17 as it no longer falls within the project's scope and API. It has been moved to a separate repository: https://github.com/hmmlearn/hmmlearn\n",
      "  warnings.warn(msg, category=DeprecationWarning)\n",
      "C:\\Python27\\lib\\site-packages\\sklearn\\utils\\__init__.py:94: DeprecationWarning: Function normalize is deprecated; WARNING: The HMM module and its functions will be removed in 0.17 as it no longer falls within the project's scope and API. It has been moved to a separate repository: https://github.com/hmmlearn/hmmlearn\n",
      "  warnings.warn(msg, category=DeprecationWarning)\n",
      "C:\\Python27\\lib\\site-packages\\sklearn\\utils\\__init__.py:94: DeprecationWarning: Function normalize is deprecated; WARNING: The HMM module and its functions will be removed in 0.17 as it no longer falls within the project's scope and API. It has been moved to a separate repository: https://github.com/hmmlearn/hmmlearn\n",
      "  warnings.warn(msg, category=DeprecationWarning)\n",
      "C:\\Python27\\lib\\site-packages\\sklearn\\utils\\__init__.py:94: DeprecationWarning: Function normalize is deprecated; WARNING: The HMM module and its functions will be removed in 0.17 as it no longer falls within the project's scope and API. It has been moved to a separate repository: https://github.com/hmmlearn/hmmlearn\n",
      "  warnings.warn(msg, category=DeprecationWarning)\n",
      "C:\\Python27\\lib\\site-packages\\sklearn\\utils\\__init__.py:94: DeprecationWarning: Function normalize is deprecated; WARNING: The HMM module and its functions will be removed in 0.17 as it no longer falls within the project's scope and API. It has been moved to a separate repository: https://github.com/hmmlearn/hmmlearn\n",
      "  warnings.warn(msg, category=DeprecationWarning)\n",
      "C:\\Python27\\lib\\site-packages\\sklearn\\utils\\__init__.py:94: DeprecationWarning: Function normalize is deprecated; WARNING: The HMM module and its functions will be removed in 0.17 as it no longer falls within the project's scope and API. It has been moved to a separate repository: https://github.com/hmmlearn/hmmlearn\n",
      "  warnings.warn(msg, category=DeprecationWarning)\n",
      "C:\\Python27\\lib\\site-packages\\sklearn\\utils\\__init__.py:94: DeprecationWarning: Function normalize is deprecated; WARNING: The HMM module and its functions will be removed in 0.17 as it no longer falls within the project's scope and API. It has been moved to a separate repository: https://github.com/hmmlearn/hmmlearn\n",
      "  warnings.warn(msg, category=DeprecationWarning)\n",
      "C:\\Python27\\lib\\site-packages\\sklearn\\utils\\__init__.py:94: DeprecationWarning: Function normalize is deprecated; WARNING: The HMM module and its functions will be removed in 0.17 as it no longer falls within the project's scope and API. It has been moved to a separate repository: https://github.com/hmmlearn/hmmlearn\n",
      "  warnings.warn(msg, category=DeprecationWarning)\n",
      "C:\\Python27\\lib\\site-packages\\sklearn\\utils\\__init__.py:94: DeprecationWarning: Function normalize is deprecated; WARNING: The HMM module and its functions will be removed in 0.17 as it no longer falls within the project's scope and API. It has been moved to a separate repository: https://github.com/hmmlearn/hmmlearn\n",
      "  warnings.warn(msg, category=DeprecationWarning)\n",
      "C:\\Python27\\lib\\site-packages\\sklearn\\utils\\__init__.py:94: DeprecationWarning: Function normalize is deprecated; WARNING: The HMM module and its functions will be removed in 0.17 as it no longer falls within the project's scope and API. It has been moved to a separate repository: https://github.com/hmmlearn/hmmlearn\n",
      "  warnings.warn(msg, category=DeprecationWarning)\n",
      "C:\\Python27\\lib\\site-packages\\sklearn\\utils\\__init__.py:94: DeprecationWarning: Function normalize is deprecated; WARNING: The HMM module and its functions will be removed in 0.17 as it no longer falls within the project's scope and API. It has been moved to a separate repository: https://github.com/hmmlearn/hmmlearn\n",
      "  warnings.warn(msg, category=DeprecationWarning)\n",
      "C:\\Python27\\lib\\site-packages\\sklearn\\utils\\__init__.py:94: DeprecationWarning: Function normalize is deprecated; WARNING: The HMM module and its functions will be removed in 0.17 as it no longer falls within the project's scope and API. It has been moved to a separate repository: https://github.com/hmmlearn/hmmlearn\n",
      "  warnings.warn(msg, category=DeprecationWarning)\n",
      "C:\\Python27\\lib\\site-packages\\sklearn\\utils\\__init__.py:94: DeprecationWarning: Function normalize is deprecated; WARNING: The HMM module and its functions will be removed in 0.17 as it no longer falls within the project's scope and API. It has been moved to a separate repository: https://github.com/hmmlearn/hmmlearn\n",
      "  warnings.warn(msg, category=DeprecationWarning)\n",
      "C:\\Python27\\lib\\site-packages\\sklearn\\utils\\__init__.py:94: DeprecationWarning: Function normalize is deprecated; WARNING: The HMM module and its functions will be removed in 0.17 as it no longer falls within the project's scope and API. It has been moved to a separate repository: https://github.com/hmmlearn/hmmlearn\n",
      "  warnings.warn(msg, category=DeprecationWarning)\n",
      "C:\\Python27\\lib\\site-packages\\sklearn\\utils\\__init__.py:94: DeprecationWarning: Function normalize is deprecated; WARNING: The HMM module and its functions will be removed in 0.17 as it no longer falls within the project's scope and API. It has been moved to a separate repository: https://github.com/hmmlearn/hmmlearn\n",
      "  warnings.warn(msg, category=DeprecationWarning)\n",
      "C:\\Python27\\lib\\site-packages\\sklearn\\utils\\__init__.py:94: DeprecationWarning: Function normalize is deprecated; WARNING: The HMM module and its functions will be removed in 0.17 as it no longer falls within the project's scope and API. It has been moved to a separate repository: https://github.com/hmmlearn/hmmlearn\n",
      "  warnings.warn(msg, category=DeprecationWarning)\n",
      "C:\\Python27\\lib\\site-packages\\sklearn\\utils\\__init__.py:94: DeprecationWarning: Function normalize is deprecated; WARNING: The HMM module and its functions will be removed in 0.17 as it no longer falls within the project's scope and API. It has been moved to a separate repository: https://github.com/hmmlearn/hmmlearn\n",
      "  warnings.warn(msg, category=DeprecationWarning)\n",
      "C:\\Python27\\lib\\site-packages\\sklearn\\utils\\__init__.py:94: DeprecationWarning: Function normalize is deprecated; WARNING: The HMM module and its functions will be removed in 0.17 as it no longer falls within the project's scope and API. It has been moved to a separate repository: https://github.com/hmmlearn/hmmlearn\n",
      "  warnings.warn(msg, category=DeprecationWarning)\n",
      "C:\\Python27\\lib\\site-packages\\sklearn\\utils\\__init__.py:94: DeprecationWarning: Function normalize is deprecated; WARNING: The HMM module and its functions will be removed in 0.17 as it no longer falls within the project's scope and API. It has been moved to a separate repository: https://github.com/hmmlearn/hmmlearn\n",
      "  warnings.warn(msg, category=DeprecationWarning)\n",
      "C:\\Python27\\lib\\site-packages\\sklearn\\utils\\__init__.py:94: DeprecationWarning: Function normalize is deprecated; WARNING: The HMM module and its functions will be removed in 0.17 as it no longer falls within the project's scope and API. It has been moved to a separate repository: https://github.com/hmmlearn/hmmlearn\n",
      "  warnings.warn(msg, category=DeprecationWarning)\n",
      "C:\\Python27\\lib\\site-packages\\sklearn\\utils\\__init__.py:94: DeprecationWarning: Function normalize is deprecated; WARNING: The HMM module and its functions will be removed in 0.17 as it no longer falls within the project's scope and API. It has been moved to a separate repository: https://github.com/hmmlearn/hmmlearn\n",
      "  warnings.warn(msg, category=DeprecationWarning)\n",
      "C:\\Python27\\lib\\site-packages\\sklearn\\utils\\__init__.py:94: DeprecationWarning: Function normalize is deprecated; WARNING: The HMM module and its functions will be removed in 0.17 as it no longer falls within the project's scope and API. It has been moved to a separate repository: https://github.com/hmmlearn/hmmlearn\n",
      "  warnings.warn(msg, category=DeprecationWarning)\n",
      "C:\\Python27\\lib\\site-packages\\sklearn\\utils\\__init__.py:94: DeprecationWarning: Function normalize is deprecated; WARNING: The HMM module and its functions will be removed in 0.17 as it no longer falls within the project's scope and API. It has been moved to a separate repository: https://github.com/hmmlearn/hmmlearn\n",
      "  warnings.warn(msg, category=DeprecationWarning)\n",
      "C:\\Python27\\lib\\site-packages\\sklearn\\utils\\__init__.py:94: DeprecationWarning: Function normalize is deprecated; WARNING: The HMM module and its functions will be removed in 0.17 as it no longer falls within the project's scope and API. It has been moved to a separate repository: https://github.com/hmmlearn/hmmlearn\n",
      "  warnings.warn(msg, category=DeprecationWarning)\n",
      "C:\\Python27\\lib\\site-packages\\sklearn\\utils\\__init__.py:94: DeprecationWarning: Function normalize is deprecated; WARNING: The HMM module and its functions will be removed in 0.17 as it no longer falls within the project's scope and API. It has been moved to a separate repository: https://github.com/hmmlearn/hmmlearn\n",
      "  warnings.warn(msg, category=DeprecationWarning)\n",
      "C:\\Python27\\lib\\site-packages\\sklearn\\utils\\__init__.py:94: DeprecationWarning: Function normalize is deprecated; WARNING: The HMM module and its functions will be removed in 0.17 as it no longer falls within the project's scope and API. It has been moved to a separate repository: https://github.com/hmmlearn/hmmlearn\n",
      "  warnings.warn(msg, category=DeprecationWarning)\n"
     ]
    },
    {
     "name": "stdout",
     "output_type": "stream",
     "text": [
      "done\n",
      "\n",
      "Transition matrix\n",
      "[[  8.20336573e-01   2.92500235e-02   1.49594481e-01   8.17348994e-04\n",
      "    1.57302705e-06]\n",
      " [  3.28428130e-02   6.27447914e-01   3.15723068e-01   1.45943762e-16\n",
      "    2.39862047e-02]\n",
      " [  1.54774905e-01   1.18363668e-01   7.19363504e-01   3.95270377e-03\n",
      "    3.54521884e-03]\n",
      " [  2.39365781e-03   7.12377891e-18   4.81337138e-09   9.76730630e-01\n",
      "    2.08757079e-02]\n",
      " [  3.61685488e-18   3.23401551e-01   2.89730349e-17   2.63419569e-01\n",
      "    4.13178880e-01]]\n",
      "\n",
      "means and vars of each hidden state\n",
      "0th hidden state\n",
      "mean =  [  5.80396738e-03   4.91215819e+07]\n",
      "var =  [  4.20176590e-02   1.09646057e+14]\n",
      "\n",
      "1th hidden state\n",
      "mean =  [  3.40015224e-02   1.10482864e+08]\n",
      "var =  [  1.63911968e-01   8.82357068e+14]\n",
      "\n",
      "2th hidden state\n",
      "mean =  [  1.05992750e-02   6.99276534e+07]\n",
      "var =  [  1.03252931e-01   1.52890452e+14]\n",
      "\n",
      "3th hidden state\n",
      "mean =  [  2.53728580e-02   4.96950117e+07]\n",
      "var =  [  7.37783502e-01   2.50374070e+14]\n",
      "\n",
      "4th hidden state\n",
      "mean =  [ -7.04299259e-01   1.49184807e+08]\n",
      "var =  [  5.13191430e+00   1.02578654e+16]\n",
      "\n"
     ]
    },
    {
     "name": "stderr",
     "output_type": "stream",
     "text": [
      "C:\\Python27\\lib\\site-packages\\sklearn\\utils\\__init__.py:94: DeprecationWarning: Function normalize is deprecated; WARNING: The HMM module and its functions will be removed in 0.17 as it no longer falls within the project's scope and API. It has been moved to a separate repository: https://github.com/hmmlearn/hmmlearn\n",
      "  warnings.warn(msg, category=DeprecationWarning)\n"
     ]
    }
   ],
   "source": []
  },
  {
   "cell_type": "code",
   "execution_count": 74,
   "metadata": {
    "collapsed": false
   },
   "outputs": [],
   "source": [
    "import jieba\n",
    "jieba.add_word('柯P',100, 'nr')\n",
    "jieba.add_word('洪智坤',100, 'nr')\n",
    "#jieba.del_word('柯P')\n",
    "#jieba.del_word('洪智坤')\n",
    "ary = ['【更新】柯P：洪智坤洩漏公文案還沒看到公文　今處理',\n",
    "'留洪智坤 柯：殘障求職不易',\n",
    "'人事處議處洪智坤　柯P：不清楚議處結果']\n",
    "corpus = []\n",
    "for title in ary:\n",
    "\n",
    "    corpus.append(' '.join(jieba.cut(title)))"
   ]
  },
  {
   "cell_type": "code",
   "execution_count": 75,
   "metadata": {
    "collapsed": false
   },
   "outputs": [
    {
     "name": "stdout",
     "output_type": "stream",
     "text": [
      "[u'\\u3010 \\u66f4\\u65b0 \\u3011 \\u67efP \\uff1a \\u6d2a\\u667a\\u5764 \\u6d29\\u6f0f \\u516c\\u6587 \\u6848\\u9084 \\u6c92 \\u770b\\u5230 \\u516c\\u6587 \\u3000 \\u4eca\\u8655\\u7406', u'\\u7559 \\u6d2a\\u667a\\u5764   \\u67ef \\uff1a \\u6b98\\u969c \\u6c42\\u8077 \\u4e0d\\u6613', u'\\u4eba\\u4e8b \\u8655\\u8b70 \\u8655 \\u6d2a\\u667a\\u5764 \\u3000 \\u67efP \\uff1a \\u4e0d \\u6e05\\u695a \\u8b70\\u8655 \\u7d50\\u679c']\n",
      "【 更新 】 柯P ： 洪智坤 洩漏 公文 案還 沒 看到 公文 　 今處理\n",
      "留 洪智坤   柯 ： 殘障 求職 不易\n",
      "人事 處議 處 洪智坤 　 柯P ： 不 清楚 議處 結果\n"
     ]
    }
   ],
   "source": [
    "print corpus\n",
    "for ele in corpus:\n",
    "    print ele"
   ]
  },
  {
   "cell_type": "code",
   "execution_count": 76,
   "metadata": {
    "collapsed": false
   },
   "outputs": [
    {
     "name": "stdout",
     "output_type": "stream",
     "text": [
      "【更新】柯P：洪智坤洩漏公文案還沒看到公文　今處理\n",
      "留洪智坤 柯：殘障求職不易\n",
      "人事處議處洪智坤　柯P：不清楚議處結果\n",
      "不易 人事 今處理 公文 更新 柯p 案還 殘障 求職 洩漏 洪智坤 清楚 看到 結果 處議 議處\n",
      "[[0 0 1 2 1 1 1 0 0 1 1 0 1 0 0 0]\n",
      " [1 0 0 0 0 0 0 1 1 0 1 0 0 0 0 0]\n",
      " [0 1 0 0 0 1 0 0 0 0 1 1 0 1 1 1]]\n"
     ]
    }
   ],
   "source": [
    "from sklearn.feature_extraction.text import CountVectorizer\n",
    "vectorizer = CountVectorizer() \n",
    "\n",
    "\n",
    "X = vectorizer.fit_transform(corpus)\n",
    "#print X\n",
    "word = vectorizer.get_feature_names() \n",
    "#for w in word:\n",
    "#    print w\n",
    "from sklearn.feature_extraction.text import CountVectorizer\n",
    "vectorizer = CountVectorizer() \n",
    "X = vectorizer.fit_transform(corpus)\n",
    "for title in ary:\n",
    "    print title\n",
    "\n",
    "\n",
    "word = vectorizer.get_feature_names() \n",
    "for w in word:\n",
    "    print w,\n",
    "print \n",
    "\n",
    "print X.toarray()    \n"
   ]
  },
  {
   "cell_type": "code",
   "execution_count": 30,
   "metadata": {
    "collapsed": false
   },
   "outputs": [
    {
     "name": "stdout",
     "output_type": "stream",
     "text": [
      "[[ 0.          0.          0.31738473  0.63476946  0.31738473  0.24137927\n",
      "   0.31738473  0.          0.          0.31738473  0.18745253  0.\n",
      "   0.31738473  0.          0.          0.        ]\n",
      " [ 0.54645401  0.          0.          0.          0.          0.          0.\n",
      "   0.54645401  0.54645401  0.          0.32274454  0.          0.          0.\n",
      "   0.          0.        ]\n",
      " [ 0.          0.41074684  0.          0.          0.          0.31238356\n",
      "   0.          0.          0.          0.          0.2425937   0.41074684\n",
      "   0.          0.41074684  0.41074684  0.41074684]]\n"
     ]
    }
   ],
   "source": [
    "from sklearn.feature_extraction.text import TfidfTransformer\n",
    "transformer = TfidfTransformer()\n",
    "tfidf = transformer.fit_transform(X)\n",
    "weight = tfidf.toarray()    \n",
    "print weight\n"
   ]
  },
  {
   "cell_type": "code",
   "execution_count": 33,
   "metadata": {
    "collapsed": false
   },
   "outputs": [
    {
     "name": "stdout",
     "output_type": "stream",
     "text": [
      "[[ 1.          0.06049928  0.12087772]]\n",
      "[[ 1.          0.06049928  0.12087772]\n",
      " [ 0.06049928  1.          0.07829579]\n",
      " [ 0.12087772  0.07829579  1.        ]]\n"
     ]
    }
   ],
   "source": [
    "from sklearn.metrics.pairwise import linear_kernel\n",
    "print linear_kernel(tfidf[0], tfidf)\n",
    "cosine_similarities = linear_kernel(tfidf[0], tfidf).flatten()\n",
    "#print cosine_similarities\n",
    "\n",
    "cosine_similarities = linear_kernel(tfidf, tfidf)\n",
    "print cosine_similarities"
   ]
  },
  {
   "cell_type": "code",
   "execution_count": 37,
   "metadata": {
    "collapsed": false
   },
   "outputs": [
    {
     "name": "stdout",
     "output_type": "stream",
     "text": [
      "[u'disk', u'format', u'hard', u'how', u'my', u'problems', u'to']\n",
      "[[1 1 1 1 1 0 1]\n",
      " [1 1 1 0 0 1 0]]\n"
     ]
    }
   ],
   "source": [
    "from sklearn.feature_extraction.text import CountVectorizer\n",
    "vectorizer = CountVectorizer(min_df=1)\n",
    "content = [\"How to format my hard disk\", \" Hard disk format problems \"]\n",
    "X = vectorizer.fit_transform(content)\n",
    "print vectorizer.get_feature_names()\n",
    "print(X.toarray())\n",
    "#print(X.toarray().transpose())"
   ]
  },
  {
   "cell_type": "code",
   "execution_count": 46,
   "metadata": {
    "collapsed": false
   },
   "outputs": [
    {
     "name": "stdout",
     "output_type": "stream",
     "text": [
      "#samples: 5, #features: 25\n",
      "[u'about', u'actually', u'capabilities', u'contains', u'data', u'databases', u'images', u'imaging', u'interesting', u'is', u'it', u'learning', u'machine', u'most', u'much', u'not', u'permanently', u'post', u'provide', u'safe', u'storage', u'store', u'stuff', u'this', u'toy']\n"
     ]
    }
   ],
   "source": [
    "posts = [open(os.path.join('toy', f)).read() for f in os.listdir('toy')]\n",
    "\n",
    "from sklearn.feature_extraction.text import CountVectorizer\n",
    "vectorizer = CountVectorizer(min_df=1)\n",
    "\n",
    "X_train = vectorizer.fit_transform(posts)\n",
    "num_samples, num_features = X_train.shape\n",
    "\n",
    "print(\"#samples: %d, #features: %d\" % (num_samples,num_features)) \n",
    "print(vectorizer.get_feature_names())\n"
   ]
  },
  {
   "cell_type": "code",
   "execution_count": 47,
   "metadata": {
    "collapsed": false
   },
   "outputs": [
    {
     "name": "stdout",
     "output_type": "stream",
     "text": [
      "  (0, 5)\t1\n",
      "  (0, 7)\t1\n",
      "[[0 0 0 0 0 1 0 1 0 0 0 0 0 0 0 0 0 0 0 0 0 0 0 0 0]]\n"
     ]
    }
   ],
   "source": [
    "new_post = \"imaging databases\"\n",
    "new_post_vec = vectorizer.transform([new_post])\n",
    "print new_post_vec\n",
    "print(new_post_vec.toarray())\n"
   ]
  },
  {
   "cell_type": "code",
   "execution_count": 48,
   "metadata": {
    "collapsed": true
   },
   "outputs": [],
   "source": [
    "import scipy as sp\n",
    "def dist_raw(v1, v2):\n",
    "    delta = v1-v2\n",
    "    return sp.linalg.norm(delta.toarray())\n"
   ]
  },
  {
   "cell_type": "code",
   "execution_count": 50,
   "metadata": {
    "collapsed": true
   },
   "outputs": [],
   "source": [
    "import scipy as sp\n",
    "def dist_raw(v1, v2):\n",
    "    delta = v1-v2\n",
    "    return sp.linalg.norm(delta.toarray())"
   ]
  },
  {
   "cell_type": "code",
   "execution_count": 51,
   "metadata": {
    "collapsed": false
   },
   "outputs": [
    {
     "name": "stdout",
     "output_type": "stream",
     "text": [
      "=== Post 0 with dist=4.00: This is a toy post about machine learning. Actually, it contains not much interesting stuff.\n",
      "=== Post 1 with dist=1.73: Imaging databases provide storage capabilities.\n",
      "=== Post 2 with dist=2.00: Most imaging databases safe images permanently.\n",
      "=== Post 3 with dist=1.41: Imaging databases store data.\n",
      "=== Post 4 with dist=5.10: Imaging databases store data. Imaging databases store data. Imaging databases store data.\n",
      "Best post is 3 with dist=1.41\n"
     ]
    }
   ],
   "source": [
    "import sys\n",
    "best_doc = None\n",
    "best_dist = sys.maxint\n",
    "best_i = None\n",
    "for i in range(0, num_samples):\n",
    "    post = posts[i]\n",
    "    if post==new_post:\n",
    "        continue\n",
    "    post_vec = X_train.getrow(i)\n",
    "    d = dist_raw(post_vec, new_post_vec)\n",
    "    print \"=== Post %i with dist=%.2f: %s\"%(i, d, post)\n",
    "    if d<best_dist:\n",
    "        best_dist = d\n",
    "        best_i = i\n",
    "print(\"Best post is %i with dist=%.2f\"%(best_i, best_dist))\n"
   ]
  },
  {
   "cell_type": "code",
   "execution_count": 52,
   "metadata": {
    "collapsed": false
   },
   "outputs": [
    {
     "data": {
      "text/plain": [
       "['a',\n",
       " 'about',\n",
       " 'above',\n",
       " 'across',\n",
       " 'after',\n",
       " 'afterwards',\n",
       " 'again',\n",
       " 'against',\n",
       " 'all',\n",
       " 'almost']"
      ]
     },
     "execution_count": 52,
     "metadata": {},
     "output_type": "execute_result"
    }
   ],
   "source": [
    "vectorizer = CountVectorizer(min_df=1, stop_words='english')\n",
    "sorted(vectorizer.get_stop_words())[0:10]\n"
   ]
  },
  {
   "cell_type": "code",
   "execution_count": 54,
   "metadata": {
    "collapsed": false
   },
   "outputs": [
    {
     "name": "stdout",
     "output_type": "stream",
     "text": [
      "graphic\n",
      "imag\n",
      "imag\n",
      "imagin\n",
      "imagin\n"
     ]
    }
   ],
   "source": [
    "import nltk.stem\n",
    "s= nltk.stem.SnowballStemmer('english')\n",
    "print s.stem(\"graphics\")\n",
    "\n",
    "print s.stem(\"imaging\")\n",
    "print s.stem(\"image\")\n",
    "print s.stem(\"imagination\")\n",
    "print s.stem(\"imagine\")\n"
   ]
  },
  {
   "cell_type": "code",
   "execution_count": 61,
   "metadata": {
    "collapsed": false
   },
   "outputs": [
    {
     "name": "stdout",
     "output_type": "stream",
     "text": [
      "[u'actual', u'capabl', u'contain', u'data', u'databas', u'imag', u'interest', u'learn', u'machin', u'perman', u'post', u'provid', u'safe', u'storag', u'store', u'stuff', u'toy']\n",
      "[[1 0 1 0 0 0 1 1 1 0 1 0 0 0 0 1 1]\n",
      " [0 1 0 0 1 1 0 0 0 0 0 1 0 1 0 0 0]\n",
      " [0 0 0 0 1 2 0 0 0 1 0 0 1 0 0 0 0]\n",
      " [0 0 0 1 1 1 0 0 0 0 0 0 0 0 1 0 0]\n",
      " [0 0 0 3 3 3 0 0 0 0 0 0 0 0 3 0 0]]\n"
     ]
    }
   ],
   "source": [
    "import nltk.stem\n",
    "english_stemmer = nltk.stem.SnowballStemmer('english')\n",
    "class StemmedCountVectorizer(CountVectorizer):\n",
    "    def build_analyzer(self):\n",
    "        analyzer = super(StemmedCountVectorizer, self).build_analyzer()\n",
    "        return lambda doc: (english_stemmer.stem(w) for w in analyzer(doc))\n",
    "vectorizer = StemmedCountVectorizer(min_df=1, stop_words='english')\n",
    "X_train = vectorizer.fit_transform(posts)\n",
    "num_samples, num_features = X_train.shape\n",
    "\n",
    "print vectorizer.get_feature_names()\n",
    "print X_train.toarray()"
   ]
  },
  {
   "cell_type": "code",
   "execution_count": 65,
   "metadata": {
    "collapsed": false
   },
   "outputs": [
    {
     "name": "stdout",
     "output_type": "stream",
     "text": [
      "[u'about', u'actually', u'capabilities', u'contains', u'data', u'databases', u'images', u'imaging', u'interesting', u'is', u'it', u'learning', u'machine', u'most', u'much', u'not', u'permanently', u'post', u'provide', u'safe', u'storage', u'store', u'stuff', u'this', u'toy']\n",
      "[[1 1 0 1 0 0 0 0 1 1 1 1 1 0 1 1 0 1 0 0 0 0 1 1 1]\n",
      " [0 0 1 0 0 1 0 1 0 0 0 0 0 0 0 0 0 0 1 0 1 0 0 0 0]\n",
      " [0 0 0 0 0 1 1 1 0 0 0 0 0 1 0 0 1 0 0 1 0 0 0 0 0]\n",
      " [0 0 0 0 1 1 0 1 0 0 0 0 0 0 0 0 0 0 0 0 0 1 0 0 0]\n",
      " [0 0 0 0 3 3 0 3 0 0 0 0 0 0 0 0 0 0 0 0 0 3 0 0 0]]\n"
     ]
    },
    {
     "ename": "NotFittedError",
     "evalue": "StemmedCountVectorizer - Vocabulary wasn't fitted.",
     "output_type": "error",
     "traceback": [
      "\u001b[1;31m---------------------------------------------------------------------------\u001b[0m",
      "\u001b[1;31mNotFittedError\u001b[0m                            Traceback (most recent call last)",
      "\u001b[1;32m<ipython-input-65-63074ea8e4fe>\u001b[0m in \u001b[0;36m<module>\u001b[1;34m()\u001b[0m\n\u001b[0;32m     13\u001b[0m \u001b[1;32mprint\u001b[0m \u001b[0mX_train\u001b[0m\u001b[1;33m.\u001b[0m\u001b[0mtoarray\u001b[0m\u001b[1;33m(\u001b[0m\u001b[1;33m)\u001b[0m\u001b[1;33m\u001b[0m\u001b[0m\n\u001b[0;32m     14\u001b[0m \u001b[1;33m\u001b[0m\u001b[0m\n\u001b[1;32m---> 15\u001b[1;33m \u001b[1;32mprint\u001b[0m \u001b[0mvectorizer2\u001b[0m\u001b[1;33m.\u001b[0m\u001b[0mget_feature_names\u001b[0m\u001b[1;33m(\u001b[0m\u001b[1;33m)\u001b[0m\u001b[1;33m\u001b[0m\u001b[0m\n\u001b[0m\u001b[0;32m     16\u001b[0m \u001b[1;32mprint\u001b[0m \u001b[0mX_train2\u001b[0m\u001b[1;33m.\u001b[0m\u001b[0mtoarray\u001b[0m\u001b[1;33m(\u001b[0m\u001b[1;33m)\u001b[0m\u001b[1;33m\u001b[0m\u001b[0m\n",
      "\u001b[1;32mC:\\Python27\\lib\\site-packages\\sklearn\\feature_extraction\\text.pyc\u001b[0m in \u001b[0;36mget_feature_names\u001b[1;34m(self)\u001b[0m\n\u001b[0;32m    888\u001b[0m     \u001b[1;32mdef\u001b[0m \u001b[0mget_feature_names\u001b[0m\u001b[1;33m(\u001b[0m\u001b[0mself\u001b[0m\u001b[1;33m)\u001b[0m\u001b[1;33m:\u001b[0m\u001b[1;33m\u001b[0m\u001b[0m\n\u001b[0;32m    889\u001b[0m         \u001b[1;34m\"\"\"Array mapping from feature integer indices to feature name\"\"\"\u001b[0m\u001b[1;33m\u001b[0m\u001b[0m\n\u001b[1;32m--> 890\u001b[1;33m         \u001b[0mself\u001b[0m\u001b[1;33m.\u001b[0m\u001b[0m_check_vocabulary\u001b[0m\u001b[1;33m(\u001b[0m\u001b[1;33m)\u001b[0m\u001b[1;33m\u001b[0m\u001b[0m\n\u001b[0m\u001b[0;32m    891\u001b[0m \u001b[1;33m\u001b[0m\u001b[0m\n\u001b[0;32m    892\u001b[0m         return [t for t, i in sorted(six.iteritems(self.vocabulary_),\n",
      "\u001b[1;32mC:\\Python27\\lib\\site-packages\\sklearn\\feature_extraction\\text.pyc\u001b[0m in \u001b[0;36m_check_vocabulary\u001b[1;34m(self)\u001b[0m\n\u001b[0;32m    269\u001b[0m         \u001b[1;34m\"\"\"Check if vocabulary is empty or missing (not fit-ed)\"\"\"\u001b[0m\u001b[1;33m\u001b[0m\u001b[0m\n\u001b[0;32m    270\u001b[0m         \u001b[0mmsg\u001b[0m \u001b[1;33m=\u001b[0m \u001b[1;34m\"%(name)s - Vocabulary wasn't fitted.\"\u001b[0m\u001b[1;33m\u001b[0m\u001b[0m\n\u001b[1;32m--> 271\u001b[1;33m         \u001b[0mcheck_is_fitted\u001b[0m\u001b[1;33m(\u001b[0m\u001b[0mself\u001b[0m\u001b[1;33m,\u001b[0m \u001b[1;34m'vocabulary_'\u001b[0m\u001b[1;33m,\u001b[0m \u001b[0mmsg\u001b[0m\u001b[1;33m=\u001b[0m\u001b[0mmsg\u001b[0m\u001b[1;33m)\u001b[0m\u001b[1;33m,\u001b[0m\u001b[1;33m\u001b[0m\u001b[0m\n\u001b[0m\u001b[0;32m    272\u001b[0m \u001b[1;33m\u001b[0m\u001b[0m\n\u001b[0;32m    273\u001b[0m         \u001b[1;32mif\u001b[0m \u001b[0mlen\u001b[0m\u001b[1;33m(\u001b[0m\u001b[0mself\u001b[0m\u001b[1;33m.\u001b[0m\u001b[0mvocabulary_\u001b[0m\u001b[1;33m)\u001b[0m \u001b[1;33m==\u001b[0m \u001b[1;36m0\u001b[0m\u001b[1;33m:\u001b[0m\u001b[1;33m\u001b[0m\u001b[0m\n",
      "\u001b[1;32mC:\\Python27\\lib\\site-packages\\sklearn\\utils\\validation.pyc\u001b[0m in \u001b[0;36mcheck_is_fitted\u001b[1;34m(estimator, attributes, msg, all_or_any)\u001b[0m\n\u001b[0;32m    625\u001b[0m \u001b[1;33m\u001b[0m\u001b[0m\n\u001b[0;32m    626\u001b[0m     \u001b[1;32mif\u001b[0m \u001b[1;32mnot\u001b[0m \u001b[0mall_or_any\u001b[0m\u001b[1;33m(\u001b[0m\u001b[1;33m[\u001b[0m\u001b[0mhasattr\u001b[0m\u001b[1;33m(\u001b[0m\u001b[0mestimator\u001b[0m\u001b[1;33m,\u001b[0m \u001b[0mattr\u001b[0m\u001b[1;33m)\u001b[0m \u001b[1;32mfor\u001b[0m \u001b[0mattr\u001b[0m \u001b[1;32min\u001b[0m \u001b[0mattributes\u001b[0m\u001b[1;33m]\u001b[0m\u001b[1;33m)\u001b[0m\u001b[1;33m:\u001b[0m\u001b[1;33m\u001b[0m\u001b[0m\n\u001b[1;32m--> 627\u001b[1;33m         \u001b[1;32mraise\u001b[0m \u001b[0mNotFittedError\u001b[0m\u001b[1;33m(\u001b[0m\u001b[0mmsg\u001b[0m \u001b[1;33m%\u001b[0m \u001b[1;33m{\u001b[0m\u001b[1;34m'name'\u001b[0m\u001b[1;33m:\u001b[0m \u001b[0mtype\u001b[0m\u001b[1;33m(\u001b[0m\u001b[0mestimator\u001b[0m\u001b[1;33m)\u001b[0m\u001b[1;33m.\u001b[0m\u001b[0m__name__\u001b[0m\u001b[1;33m}\u001b[0m\u001b[1;33m)\u001b[0m\u001b[1;33m\u001b[0m\u001b[0m\n\u001b[0m",
      "\u001b[1;31mNotFittedError\u001b[0m: StemmedCountVectorizer - Vocabulary wasn't fitted."
     ]
    }
   ],
   "source": [
    "posts = [open(os.path.join('toy', f)).read() for f in os.listdir('toy')]\n",
    "\n",
    "from sklearn.feature_extraction.text import CountVectorizer\n",
    "vectorizer = CountVectorizer(min_df=1)\n",
    "\n",
    "X_train = vectorizer.fit_transform(posts)\n",
    "num_samples, num_features = X_train.shape\n",
    "\n",
    "vectorizer2 = StemmedCountVectorizer(min_df=1, stop_words='english')\n",
    "X_train2 = vectorizer.fit_transform(posts)\n",
    "\n",
    "print vectorizer.get_feature_names()\n",
    "print X_train.toarray()\n",
    "\n",
    "print vectorizer2.get_feature_names()\n",
    "print X_train2.toarray()"
   ]
  },
  {
   "cell_type": "code",
   "execution_count": 79,
   "metadata": {
    "collapsed": false
   },
   "outputs": [
    {
     "name": "stdout",
     "output_type": "stream",
     "text": [
      "True\n",
      "True\n",
      "False\n"
     ]
    }
   ],
   "source": [
    "a = '【更新】柯P：洪智坤洩漏公文案還沒看到公文　今處理'\n",
    "\n",
    "#print '柯P' in a\n",
    "mat = ['柯P', '洪智坤', '洪秀柱']\n",
    "for w in mat:\n",
    "    print w in a\n"
   ]
  },
  {
   "cell_type": "code",
   "execution_count": 102,
   "metadata": {
    "collapsed": false
   },
   "outputs": [
    {
     "name": "stdout",
     "output_type": "stream",
     "text": [
      "set(['a'])\n",
      "set(['a', 'b'])\n",
      "set(['a', 'c', 'b'])\n",
      "0.666666666667\n",
      "1.0\n",
      "3\n",
      "0.333333333333\n",
      "3\n",
      "3\n",
      "1\n",
      "0.0\n"
     ]
    },
    {
     "data": {
      "text/plain": [
       "'\\nprint(tfidf(\"a\", a, D))\\nprint(tfidf(\"b\", abb, D))\\nprint(tfidf(\"a\", abc, D))\\nprint(tfidf(\"b\", abc, D))\\nprint(tfidf(\"c\", abc, D))\\n'"
      ]
     },
     "execution_count": 102,
     "metadata": {},
     "output_type": "execute_result"
    }
   ],
   "source": [
    "def tfidf(t, d, D):\n",
    "    tf = float(d.count(t)) / sum(d.count(w) for w in set(d))\n",
    "    idf = sp.log(float(len(D)) / (len([doc for doc in D if t in doc])))\n",
    "    return tf * idf\n",
    "\n",
    "\n",
    "a, abb, abc = [\"a\"], [\"a\", \"b\", \"b\"], [\"a\", \"b\", \"c\"]\n",
    "D = [a, abb, abc]\n",
    "print set(a)\n",
    "print set(abb)\n",
    "print set(abc)\n",
    "\n",
    "#print abb.count('a')\n",
    "#print abb.count('b')\n",
    "n_a = abb.count('b')\n",
    "sum_ele = 0\n",
    "for w in set(abb):\n",
    "    sum_ele += abb.count(w)\n",
    "print float(n_a) / sum_ele\n",
    "\n",
    "\n",
    "print float(abb.count('a')) # n_a  \n",
    "print sum(abb.count(w) for w in set(abb)) # sum_ele\n",
    "tf =  float(abb.count('a')) / sum(abb.count(w) for w in set(abb))\n",
    "print tf\n",
    "\n",
    "print len(D)\n",
    "print len([doc for doc in D if 'a' in doc])\n",
    "print len(D) / len([doc for doc in D if 'a' in doc])\n",
    "idf =  sp.log( len(D) / len([doc for doc in D if 'a' in doc]))\n",
    "print tf * idf\n",
    "'''\n",
    "print(tfidf(\"a\", a, D))\n",
    "print(tfidf(\"b\", abb, D))\n",
    "print(tfidf(\"a\", abc, D))\n",
    "print(tfidf(\"b\", abc, D))\n",
    "print(tfidf(\"c\", abc, D))\n",
    "'''\n"
   ]
  },
  {
   "cell_type": "code",
   "execution_count": 104,
   "metadata": {
    "collapsed": false
   },
   "outputs": [
    {
     "name": "stdout",
     "output_type": "stream",
     "text": [
      "0.287682072452\n",
      "0.462098120373\n",
      "0.0958940241506\n",
      "0.231049060187\n",
      "0.462098120373\n",
      "1.38629436112\n"
     ]
    }
   ],
   "source": [
    "def tfidf(t, d, D):\n",
    "    tf = float(d.count(t)) / sum(d.count(w) for w in set(d))\n",
    "    idf = sp.log(float(len(D)) / (len([doc for doc in D if t in doc])))\n",
    "    return tf * idf\n",
    "\n",
    "a, abb, abc, ddd = [\"a\"], [\"a\", \"b\", \"b\"], [\"a\", \"b\", \"c\"], ['d','d', 'd']\n",
    "D = [a, abb, abc, ddd]\n",
    "\n",
    "print(tfidf(\"a\", a, D))\n",
    "print(tfidf(\"b\", abb, D))\n",
    "print(tfidf(\"a\", abc, D))\n",
    "print(tfidf(\"b\", abc, D))\n",
    "print(tfidf(\"c\", abc, D))\n",
    "print(tfidf(\"d\", ddd, D))"
   ]
  },
  {
   "cell_type": "code",
   "execution_count": null,
   "metadata": {
    "collapsed": true
   },
   "outputs": [],
   "source": []
  }
 ],
 "metadata": {
  "kernelspec": {
   "display_name": "Python 2",
   "language": "python",
   "name": "python2"
  },
  "language_info": {
   "codemirror_mode": {
    "name": "ipython",
    "version": 2
   },
   "file_extension": ".py",
   "mimetype": "text/x-python",
   "name": "python",
   "nbconvert_exporter": "python",
   "pygments_lexer": "ipython2",
   "version": "2.7.10"
  }
 },
 "nbformat": 4,
 "nbformat_minor": 0
}
