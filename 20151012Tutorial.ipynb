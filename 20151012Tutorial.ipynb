{
 "cells": [
  {
   "cell_type": "code",
   "execution_count": 1,
   "metadata": {
    "collapsed": false
   },
   "outputs": [
    {
     "data": {
      "text/plain": [
       "5"
      ]
     },
     "execution_count": 1,
     "metadata": {},
     "output_type": "execute_result"
    }
   ],
   "source": [
    "a = 3 \n",
    "b = 2\n",
    "a + b"
   ]
  },
  {
   "cell_type": "code",
   "execution_count": 2,
   "metadata": {
    "collapsed": false
   },
   "outputs": [
    {
     "data": {
      "text/plain": [
       "3"
      ]
     },
     "execution_count": 2,
     "metadata": {},
     "output_type": "execute_result"
    }
   ],
   "source": [
    "a"
   ]
  },
  {
   "cell_type": "code",
   "execution_count": 3,
   "metadata": {
    "collapsed": false
   },
   "outputs": [
    {
     "name": "stdout",
     "output_type": "stream",
     "text": [
      "<Response [200]>\n"
     ]
    }
   ],
   "source": [
    "import requests\n",
    "res = requests.get('http://www.appledaily.com.tw/realtimenews/section/new/')\n",
    "print res"
   ]
  },
  {
   "cell_type": "code",
   "execution_count": 6,
   "metadata": {
    "collapsed": false
   },
   "outputs": [
    {
     "name": "stdout",
     "output_type": "stream",
     "text": [
      "['__attrs__', '__bool__', '__class__', '__delattr__', '__dict__', '__doc__', '__format__', '__getattribute__', '__getstate__', '__hash__', '__init__', '__iter__', '__module__', '__new__', '__nonzero__', '__reduce__', '__reduce_ex__', '__repr__', '__setattr__', '__setstate__', '__sizeof__', '__str__', '__subclasshook__', '__weakref__', '_content', '_content_consumed', 'apparent_encoding', 'close', 'connection', 'content', 'cookies', 'elapsed', 'encoding', 'headers', 'history', 'is_permanent_redirect', 'is_redirect', 'iter_content', 'iter_lines', 'json', 'links', 'ok', 'raise_for_status', 'raw', 'reason', 'request', 'status_code', 'text', 'url']\n"
     ]
    }
   ],
   "source": [
    "#print res.text\n",
    "print dir(res)"
   ]
  },
  {
   "cell_type": "code",
   "execution_count": 7,
   "metadata": {
    "collapsed": false
   },
   "outputs": [
    {
     "name": "stdout",
     "output_type": "stream",
     "text": [
      "200\n",
      "text/html; charset=utf-8\n"
     ]
    }
   ],
   "source": [
    "print res.status_code \n",
    "print res.headers['content-type']"
   ]
  },
  {
   "cell_type": "code",
   "execution_count": 8,
   "metadata": {
    "collapsed": false
   },
   "outputs": [
    {
     "name": "stdout",
     "output_type": "stream",
     "text": [
      "<Response [200]>\n"
     ]
    }
   ],
   "source": [
    "import requests\n",
    "payload = {\n",
    "'StartStation':'977abb69-413a-4ccf-a109-0272c24fd490',\n",
    "'EndStation':'fbd828d8-b1da-4b06-a3bd-680cdca4d2cd',\n",
    "'SearchDate':'2015/10/12',\n",
    "'SearchTime':'11:00',\n",
    "'SearchWay':'DepartureInMandarin'\n",
    "}\n",
    "res = requests.post('https://www.thsrc.com.tw/tw/TimeTable/SearchResult', data=payload )\n",
    "print res"
   ]
  },
  {
   "cell_type": "code",
   "execution_count": 10,
   "metadata": {
    "collapsed": false
   },
   "outputs": [],
   "source": [
    "#print res.text"
   ]
  },
  {
   "cell_type": "code",
   "execution_count": 11,
   "metadata": {
    "collapsed": false
   },
   "outputs": [
    {
     "name": "stdout",
     "output_type": "stream",
     "text": [
      "<Response [200]>\n"
     ]
    }
   ],
   "source": [
    "import requests\n",
    "res = requests.get('http://twtraffic.tra.gov.tw/twrail/SearchResult.aspx?searchtype=0&searchdate=2015/10/12&fromstation=1810&tostation=1008&trainclass=%271100%27,%271101%27,%271102%27,%271107%27,%271108%27,%271110%27,%271120%27&fromtime=0600&totime=2359')\n",
    "print res"
   ]
  },
  {
   "cell_type": "code",
   "execution_count": 13,
   "metadata": {
    "collapsed": false
   },
   "outputs": [],
   "source": [
    "import requests\n",
    "res = requests.get('http://24h.pchome.com.tw/prod/DYAM43-A9006F0UI?q=/S/DYAM43')\n",
    "#print res.text"
   ]
  },
  {
   "cell_type": "code",
   "execution_count": 14,
   "metadata": {
    "collapsed": false
   },
   "outputs": [
    {
     "name": "stdout",
     "output_type": "stream",
     "text": [
      "try{jsonp_prod_AlsoView1444620106057({\"DYAM43-A9006DVBN-000\":{\"Id\":\"DYAM43-A9006DVBN-000\",\"Name\":\"ASUS ZenPad S 8.0 Z580CA 8\\u540b\\u56db\\u6838\\u5e73\\u677f(Intel 3580\\/WiFi\\u7248\\/32G\\/\\u9ad8\\u8cb4\\u767d)\",\"Pic\":{\"B\":\"\\/pic\\/v1\\/data\\/item\\/201509\\/D\\/Y\\/A\\/M\\/4\\/3\\/DYAM43-A9006DVBN000_560b533870a75.jpg\",\"S\":\"\\/pic\\/v1\\/data\\/item\\/201508\\/D\\/Y\\/A\\/M\\/4\\/3\\/sDYAM43-A9006DVBN000_55d7038b6dea9.png\"},\"Price\":{\"M\":0,\"P\":8990},\"Store\":\"DYAM43\"},\"DYAM0H-A90068WD2-000\":{\"Id\":\"DYAM0H-A90068WD2-000\",\"Name\":\"Asus ZenPad 8.0 Z380C 8\\u540b\\u56db\\u6838\\u5e73\\u677f(Intel x3-C3200\\/WiFi\\u7248\\/16G\\/\\u9ad8\\u8cb4\\u767d)\",\"Pic\":{\"B\":\"\\/pic\\/v1\\/data\\/item\\/201507\\/D\\/Y\\/A\\/M\\/0\\/H\\/DYAM0H-A90068WD2000_55a8a16ca84fa.jpg\",\"S\":\"\\/pic\\/v1\\/data\\/item\\/201507\\/D\\/Y\\/A\\/M\\/0\\/H\\/sDYAM0H-A90068WD2000_55a8a16caa368.png\"},\"Price\":{\"M\":0,\"P\":4990},\"Store\":\"DYAM3P\"},\"DYAM26-A9006CFK9-000\":{\"Id\":\"DYAM26-A9006CFK9-000\",\"Name\":\"Samsung Galaxy Tab S2 8.0 \\u96d9\\u56db\\u68388\\u540b(WiFi\\u7248\\/32G)\",\"Pic\":{\"B\":\"\\/pic\\/v1\\/data\\/item\\/201509\\/D\\/Y\\/A\\/M\\/2\\/6\\/DYAM26-A9006CFK9000_560bbb2b6013c.jpg\",\"S\":\"\\/pic\\/v1\\/data\\/item\\/201508\\/D\\/Y\\/A\\/M\\/2\\/6\\/sDYAM26-A9006CFK9000_55d1bbffd900c.png\"},\"Price\":{\"M\":0,\"P\":12255},\"Store\":\"DYAM3W\"},\"DGBVAL-A900622R3-000\":{\"Id\":\"DGBVAL-A900622R3-000\",\"Name\":\"ACER Iconia Tab 10 (A3-A30-1375) 10\\u540b\\u56db\\u6838FHD(Z3735F\\/WiFi\\u7248\\/32G\\/\\u666e\\u9b6f\\u58eb\\u85cd)\",\"Pic\":{\"B\":\"\\/pic\\/v1\\/data\\/item\\/201509\\/D\\/G\\/B\\/V\\/A\\/L\\/DGBVAL-A900622R3000_55fa8f706174e.jpg\",\"S\":\"\\/pic\\/v1\\/data\\/item\\/201505\\/D\\/G\\/B\\/V\\/A\\/L\\/sDGBVAL-A900622R3000_5568421c9091b.png\"},\"Price\":{\"M\":9290,\"P\":8990},\"Store\":\"DYAM14\"},\"DYAM3R-A9006C2O4-000\":{\"Id\":\"DYAM3R-A9006C2O4-000\",\"Name\":\"ASUS Z\\u4e3b\\u52d5\\u96fb\\u5bb9\\u89f8\\u63a7\\u7b46\",\"Pic\":{\"B\":\"\\/pic\\/v1\\/data\\/item\\/201508\\/D\\/Y\\/A\\/M\\/3\\/R\\/DYAM3R-A9006C2O4000_55cdc1a9c9bdc.jpg\",\"S\":\"\\/pic\\/v1\\/data\\/item\\/201508\\/D\\/Y\\/A\\/M\\/3\\/R\\/sDYAM3R-A9006C2O4000_55cdc1a9ce915.png\"},\"Price\":{\"M\":0,\"P\":1190},\"Store\":\"DYAM47\"},\"DYAM06-A9006GDGH-000\":{\"Id\":\"DYAM06-A9006GDGH-000\",\"Name\":\"Google & hTC Nexus9 8.9\\u540b\\u5e73\\u677f (WIFI\\u7248\\/16G)\",\"Pic\":{\"B\":\"\\/pic\\/v1\\/data\\/item\\/201510\\/D\\/Y\\/A\\/M\\/0\\/6\\/DYAM06-A9006GDGH000_56165f000313d.jpg\",\"S\":\"\\/pic\\/v1\\/data\\/item\\/201509\\/D\\/Y\\/A\\/M\\/0\\/6\\/sDYAM06-A9006GDGH000_55e575162fee1.png\"},\"Price\":{\"M\":0,\"P\":8688},\"Store\":\"DYAM06\"},\"DYAM3R-A90069KXT-000\":{\"Id\":\"DYAM3R-A90069KXT-000\",\"Name\":\"ASUS ZenPad 10 Z300C 10.1\\u540b\\u56db\\u6838\\u5e73\\u677f(Intel x3-C3200\\/WiFi\\u7248\\/16G\\/\\u9ad8\\u8cb4\\u767d)\",\"Pic\":{\"B\":\"\\/pic\\/v1\\/data\\/item\\/201509\\/D\\/Y\\/A\\/M\\/3\\/R\\/DYAM3R-A90069KXT000_560b53585747c.jpg\",\"S\":\"\\/pic\\/v1\\/data\\/item\\/201508\\/D\\/Y\\/A\\/M\\/3\\/R\\/sDYAM3R-A90069KXT000_55db061002646.png\"},\"Price\":{\"M\":0,\"P\":6990},\"Store\":\"DYAM3R\"},\"DYAM3P-A9006BCBL-000\":{\"Id\":\"DYAM3P-A9006BCBL-000\",\"Name\":\"Asus ZenPad 8.0 Z380KL 8\\u540b\\u516b\\u6838\\u901a\\u8a71\\u5e73\\u677f LTE\\/16G\",\"Pic\":{\"B\":\"\\/pic\\/v1\\/data\\/item\\/201509\\/D\\/Y\\/A\\/M\\/3\\/P\\/DYAM3P-A9006BCBL000_5603bc0a4835f.jpg\",\"S\":\"\\/pic\\/v1\\/data\\/item\\/201507\\/D\\/Y\\/A\\/M\\/3\\/P\\/sDYAM3P-A9006BCBL000_55b0c8087875a.jpg\"},\"Price\":{\"M\":8990,\"P\":7990},\"Store\":\"DYAM3P\"},\"DGALSZ-A9005RHKX-000\":{\"Id\":\"DGALSZ-A9005RHKX-000\",\"Name\":\"Asus ZenFone PadFone S PF500KL\",\"Pic\":{\"B\":\"\\/pic\\/v1\\/data\\/item\\/201508\\/D\\/G\\/A\\/L\\/S\\/Z\\/DGALSZ-A9005RHKX000_55da7cbf5594e.jpg\",\"S\":\"\\/pic\\/v1\\/data\\/item\\/201412\\/D\\/G\\/A\\/L\\/S\\/Z\\/sDGALSZ-A9005RHKX000_54910508590d2.png\"},\"Price\":{\"M\":0,\"P\":9999},\"Store\":\"DGCC2U\"},\"DYAM3P-A90069LFS-000\":{\"Id\":\"DYAM3P-A90069LFS-000\",\"Name\":\"ASUS ZenPad 8.0 (Z380KL) \\u7279\\u52d9\\u9ed1\",\"Pic\":{\"B\":\"\\/pic\\/v1\\/data\\/item\\/201507\\/D\\/Y\\/A\\/M\\/3\\/P\\/DYAM3P-A90069LFS000_55a62175b5288.jpg\",\"S\":\"\\/pic\\/v1\\/data\\/item\\/201508\\/D\\/Y\\/A\\/M\\/3\\/P\\/sDYAM3P-A90069LFS000_55d1b8b516a45.jpg\"},\"Price\":{\"M\":8990,\"P\":7490},\"Store\":\"DYAM3P\"}});}catch(e){if(window.console){console.log(e);}}\n"
     ]
    }
   ],
   "source": [
    "import requests\n",
    "res = requests.get('http://ecapi.pchome.com.tw/ecshop/prodapi/v2/prod?id=DYAM43-A9006DVBN-000,DYAM0H-A90068WD2-000,DYAM26-A9006CFK9-000,DGBVAL-A900622R3-000,DYAM3R-A9006C2O4-000,DYAM06-A9006GDGH-000,DYAM3R-A90069KXT-000,DYAM3P-A9006BCBL-000,DGALSZ-A9005RHKX-000,DYAM3P-A90069LFS-000&fields=Id,Name,Pic,Price,Store&_callback=jsonp_prod_AlsoView1444620106057&_callback=jsonp_prod_AlsoView1444620106057')\n",
    "print res.text"
   ]
  },
  {
   "cell_type": "code",
   "execution_count": 16,
   "metadata": {
    "collapsed": false
   },
   "outputs": [
    {
     "name": "stdout",
     "output_type": "stream",
     "text": [
      "   Hello World This is link1 This is link2  \n"
     ]
    }
   ],
   "source": [
    "from bs4 import BeautifulSoup \n",
    "html_sample = ' \\\n",
    "<html> \\\n",
    " <body> \\\n",
    " <h1 id=\"title\">Hello World</h1> \\\n",
    " <a href=\"#\" class=\"link\">This is link1</a> \\\n",
    " <a href=\"# link2\" class=\"link\">This is link2</a> \\\n",
    " </body> \\\n",
    " </html>'\n",
    "\n",
    "soup = BeautifulSoup(html_sample, 'html.parser')\n",
    "print soup.text\n"
   ]
  },
  {
   "cell_type": "code",
   "execution_count": 17,
   "metadata": {
    "collapsed": false
   },
   "outputs": [
    {
     "name": "stdout",
     "output_type": "stream",
     "text": [
      "['ASCII_SPACES', 'DEFAULT_BUILDER_FEATURES', 'HTML_FORMATTERS', 'NO_PARSER_SPECIFIED_WARNING', 'ROOT_TAG_NAME', 'XML_FORMATTERS', '__call__', '__class__', '__contains__', '__copy__', '__delattr__', '__delitem__', '__dict__', '__doc__', '__eq__', '__format__', '__getattr__', '__getattribute__', '__getitem__', '__getstate__', '__hash__', '__init__', '__iter__', '__len__', '__module__', '__ne__', '__new__', '__nonzero__', '__reduce__', '__reduce_ex__', '__repr__', '__setattr__', '__setitem__', '__sizeof__', '__str__', '__subclasshook__', '__unicode__', '__weakref__', '_all_strings', '_attr_value_as_string', '_attribute_checker', '_feed', '_find_all', '_find_one', '_formatter_for_name', '_is_xml', '_lastRecursiveChild', '_last_descendant', '_most_recent_element', '_popToTag', '_select_debug', '_selector_combinators', '_should_pretty_print', '_tag_name_matches_and', 'append', 'attribselect_re', 'attrs', 'builder', 'can_be_empty_element', 'childGenerator', 'children', 'clear', 'contains_replacement_characters', 'contents', 'currentTag', 'current_data', 'declared_html_encoding', 'decode', 'decode_contents', 'decompose', 'descendants', 'encode', 'encode_contents', 'endData', 'extract', 'fetchNextSiblings', 'fetchParents', 'fetchPrevious', 'fetchPreviousSiblings', 'find', 'findAll', 'findAllNext', 'findAllPrevious', 'findChild', 'findChildren', 'findNext', 'findNextSibling', 'findNextSiblings', 'findParent', 'findParents', 'findPrevious', 'findPreviousSibling', 'findPreviousSiblings', 'find_all', 'find_all_next', 'find_all_previous', 'find_next', 'find_next_sibling', 'find_next_siblings', 'find_parent', 'find_parents', 'find_previous', 'find_previous_sibling', 'find_previous_siblings', 'format_string', 'get', 'getText', 'get_text', 'handle_data', 'handle_endtag', 'handle_starttag', 'has_attr', 'has_key', 'hidden', 'index', 'insert', 'insert_after', 'insert_before', 'isSelfClosing', 'is_empty_element', 'is_xml', 'markup', 'name', 'namespace', 'new_string', 'new_tag', 'next', 'nextGenerator', 'nextSibling', 'nextSiblingGenerator', 'next_element', 'next_elements', 'next_sibling', 'next_siblings', 'object_was_parsed', 'original_encoding', 'parent', 'parentGenerator', 'parents', 'parse_only', 'parserClass', 'parser_class', 'popTag', 'prefix', 'preserve_whitespace_tag_stack', 'prettify', 'previous', 'previousGenerator', 'previousSibling', 'previousSiblingGenerator', 'previous_element', 'previous_elements', 'previous_sibling', 'previous_siblings', 'pushTag', 'recursiveChildGenerator', 'renderContents', 'replaceWith', 'replaceWithChildren', 'replace_with', 'replace_with_children', 'reset', 'select', 'select_one', 'setup', 'string', 'strings', 'stripped_strings', 'tagStack', 'tag_name_re', 'text', 'unwrap', 'wrap']\n"
     ]
    }
   ],
   "source": [
    "print dir(soup)"
   ]
  },
  {
   "cell_type": "code",
   "execution_count": 21,
   "metadata": {
    "collapsed": false
   },
   "outputs": [
    {
     "name": "stdout",
     "output_type": "stream",
     "text": [
      "[<a class=\"link\" href=\"#\">This is link1</a>, <a class=\"link\" href=\"# link2\">This is link2</a>]\n",
      "<a class=\"link\" href=\"#\">This is link1</a>\n",
      "This is link1\n",
      "<a class=\"link\" href=\"# link2\">This is link2</a>\n",
      "This is link2\n"
     ]
    }
   ],
   "source": [
    "print soup.select('a')\n",
    "print soup.select('a')[0]\n",
    "print soup.select('a')[0].text\n",
    "\n",
    "print soup.select('a')[1]\n",
    "print soup.select('a')[1].text"
   ]
  },
  {
   "cell_type": "code",
   "execution_count": 22,
   "metadata": {
    "collapsed": false
   },
   "outputs": [
    {
     "name": "stdout",
     "output_type": "stream",
     "text": [
      "[<a class=\"link\" href=\"#\">This is link1</a>, <a class=\"link\" href=\"# link2\">This is link2</a>]\n"
     ]
    }
   ],
   "source": [
    "print soup.select('.link') # class => .\n"
   ]
  },
  {
   "cell_type": "code",
   "execution_count": 25,
   "metadata": {
    "collapsed": false
   },
   "outputs": [
    {
     "name": "stdout",
     "output_type": "stream",
     "text": [
      "[<h1 id=\"title\">Hello World</h1>]\n",
      "<h1 id=\"title\">Hello World</h1>\n",
      "Hello World\n"
     ]
    }
   ],
   "source": [
    "print soup.select('#title') # id => #\n",
    "print soup.select('#title')[0] # id => #\n",
    "print soup.select('#title')[0].text"
   ]
  },
  {
   "cell_type": "code",
   "execution_count": 27,
   "metadata": {
    "collapsed": false
   },
   "outputs": [
    {
     "name": "stderr",
     "output_type": "stream",
     "text": [
      "C:\\Python27\\lib\\site-packages\\requests\\packages\\urllib3\\connectionpool.py:768: InsecureRequestWarning: Unverified HTTPS request is being made. Adding certificate verification is strongly advised. See: https://urllib3.readthedocs.org/en/latest/security.html\n",
      "  InsecureRequestWarning)\n"
     ]
    }
   ],
   "source": [
    "import requests\n",
    "res = requests.get('https://www.ptt.cc/bbs/Tech_Job/index.html', verify=False)\n",
    "#res.text"
   ]
  },
  {
   "cell_type": "code",
   "execution_count": 45,
   "metadata": {
    "collapsed": false
   },
   "outputs": [
    {
     "name": "stdout",
     "output_type": "stream",
     "text": [
      "(本文已被刪除) [cindy1206] - 10/11\n",
      "[心得] 研替 (QNAP/群暉/Garmin/Appier/VMFive) kjs999 10/11\n",
      "Re: [討論]賣雞排賺的比工程師多？！ bkm1 10/11\n",
      "[徵才] 外商Web-based Application Development jpw 10/11\n",
      "[徵才] 外商 Software QA Engineer jpw 10/11\n",
      "[徵才] 外商 Senior Web Developer (front-end) jpw 10/11\n",
      "[情報] 【啟碁科技】2016研發替代役-校園活動T ckallen 10/11\n",
      "Re: [新聞] 台積電打趴三星　傳蘋果加碼下訂單 bambool 10/11\n",
      "Re: [新聞] 台積電打趴三星　傳蘋果加碼下訂單 lili110 10/11\n",
      "Re: [討論] 蘋果真的有下單到三星過嗎? saininniang 10/11\n",
      "[徵才]全球最大IC設計*徵Sr.Wi-Fi SW客服工程師 iamchahsuan 10/11\n",
      "[請益] 南科上下班準時的公司/職位? wugo 10/11\n",
      "[心得] 日商工廠低薪高伙心得 shipinchi 10/12\n",
      "Re: [討論]賣雞排賺的比工程師多？！ ilktw 10/12\n",
      "[新聞] 面板遭紅潮擠壓 明後年更慘 kof70380 10/12\n",
      "[討論] 系統廠測試可以轉什麼？ skitty 10/12\n",
      "[徵才] 研發替代役 ~ 開發 js / php framework tcsu 10/12\n",
      "律師為您解惑－線上勞動法免費諮詢即日為勞工 … pzs 5/26\n",
      "[公告] Tech_Job板板規 2014.03.01 mmkntust 3/01\n",
      "[公告] 置底 檢舉/推薦 文章 mmkntust 9/07\n",
      "[公告] 如何消除退文 轉自Ask板 mmkntust 3/02\n",
      "Re: [問卷] 「台灣勞工上班族國定假日與特休」調查 TUEEIT 10/08\n"
     ]
    }
   ],
   "source": [
    "from bs4 import BeautifulSoup\n",
    "soup = BeautifulSoup(res.text)\n",
    "for ent in soup.select('.r-ent'):\n",
    "    print ent.select('.title')[0].text.strip(), \\\n",
    "        ent.select('.author')[0].text.strip(), \\\n",
    "        ent.select('.date')[0].text.strip()"
   ]
  },
  {
   "cell_type": "code",
   "execution_count": 63,
   "metadata": {
    "collapsed": false
   },
   "outputs": [
    {
     "name": "stdout",
     "output_type": "stream",
     "text": [
      "財經 星展黑客松　挑戰50小時飆創意(0) 11:54 /realtimenews/article/finance/20151012/709617/星展黑客松　挑戰50小時飆創意\n",
      "體育 梅花旗開打　環球棄賽中華醫大意外成軍首勝(0) 11:54 /realtimenews/article/sports/20151012/709636/梅花旗開打　環球棄賽中華醫大意外成軍首勝\n",
      "生活 i6s標示不清　立委要NCC管一管(0) 11:54 /realtimenews/article/life/20151012/709638/i6s標示不清　立委要NCC管一管\n",
      "生活 大學新生將少一成　1998年不生的原因曝...(90133) 11:53 /realtimenews/article/life/20151012/709506/大學新生將少一成　1998年不生的原因曝光\n",
      "國際 斗膽讓普丁濕身　F1冠軍活得不耐煩了(0) 11:51 /realtimenews/article/international/20151012/709616/斗膽讓普丁濕身　F1冠軍活得不耐煩了\n",
      "瘋啥 愛瘋6s多脆弱？3天就GG　讓你崩潰3次...(426) 11:51 /realtimenews/article/3c/20151012/709631/愛瘋6s多脆弱？3天就GG　讓你崩潰3次！\n",
      "政治 傳總統將提「台海和平倡議」　夏立言：沒聽...(0) 11:50 /realtimenews/article/politics/20151012/709600/傳總統將提「台海和平倡議」　夏立言：沒聽過\n",
      "FUN 花媽為LOL加油　這張照片有驚人笑點(132) 11:50 /realtimenews/article/fun/20151012/709618/花媽為LOL加油　這張照片有驚人笑點\n",
      "生活 捷運刷卡聲歧視精障者　柯P：一定要討論！(0) 11:48 /realtimenews/article/life/20151012/709637/捷運刷卡聲歧視精障者　柯P：一定要討論！\n",
      "財經 微軟高層站台　宏碁漲幅逾5%(71) 11:48 /realtimenews/article/finance/20151012/709621/微軟高層站台　宏碁漲幅逾5\n",
      "社會 北捷工程挖斷瓦斯管　警消噴水霧戒護(1686) 11:47 /realtimenews/article/local/20151012/709587/北捷工程挖斷瓦斯管　警消噴水霧戒護\n",
      "生活 穿短裙騎腳踏車女孩　展現了台灣女孩的美　(0) 11:47 /realtimenews/article/life/20151012/709632/穿短裙騎腳踏車女孩　展現了台灣女孩的美　\n",
      "財經 CPU門發酵～該買i6s？　網友觀望(119) 11:47 /realtimenews/article/finance/20151012/709633/CPU門發酵～該買i6s？　網友觀望\n",
      "社會 真好騙！男臉書扮正妹　詐男網友百萬(545) 11:46 /realtimenews/article/local/20151012/709603/真好騙！男臉書扮正妹　詐男網友百萬\n",
      "國際 【科學月刊】捕獲氮氣 斷開鍵結的方法(271) 11:45 /realtimenews/article/international/20151012/709563/【科學月刊】捕獲氮氣斷開鍵結的方法\n",
      "財經 嘉能可將發布重訊　香港股價暫停交易(629) 11:45 /realtimenews/article/finance/20151012/709626/嘉能可將發布重訊　香港股價暫停交易\n",
      "體育 ​單場超過2失誤　沃爾損失3258元  (596) 11:44 /realtimenews/article/sports/20151012/709625/​單場超過2失誤　沃爾損失3258元\n",
      "財經 【更新】台股盤中～蘋概股領軍　大漲逾百點(1188) 11:43 /realtimenews/article/finance/20151012/709575/【更新】台股盤中～蘋概股領軍　大漲逾百點\n",
      "國際 首位華人CEO　兩度獲滙豐留任(352) 11:43 /realtimenews/article/international/20151012/709611/首位華人CEO　兩度獲滙豐留任\n",
      "政治 八仙塵爆案12死　立委：世界奇蹟(1316) 11:43 /realtimenews/article/politics/20151012/709619/八仙塵爆案12死　立委：世界奇蹟\n",
      "生活 跟朱立倫較少見面　柯P：朱現在蠟燭三頭燒(70) 11:42 /realtimenews/article/life/20151012/709629/跟朱立倫較少見面　柯P：朱現在蠟燭三頭燒\n",
      "國際 滙豐CEO王冬勝豪宅遭竊　損失逾1千萬(1052) 11:40 /realtimenews/article/international/20151012/709606/滙豐CEO王冬勝豪宅遭竊　損失逾1千萬\n",
      "生活 【更新】割喉童家長要國賠　柯：不希望有人...(6069) 11:36 /realtimenews/article/life/20151012/709607/【更新】割喉童家長要國賠　柯：不希望有人坐牢\n",
      "財經 A9效能勝三星　台積電擴量上攻(2083) 11:36 /realtimenews/article/finance/20151012/709615/A9效能勝三星　台積電擴量上攻\n",
      "娛樂 男偶像腰瘦吸驚　粉絲哭哭沒廁所上(1798) 11:30 /realtimenews/article/entertainment/20151012/709370/男偶像腰瘦吸驚　粉絲哭哭沒廁所上\n",
      "政治 【財訊】「英派」大反攻　偏藍首長紛紛靠(2833) 11:30 /realtimenews/article/politics/20151012/709584/【財訊】「英派」大反攻　偏藍首長紛紛靠\n",
      "體育 突洛維茲基3分砲　藍鳥避免直落三出局(1635) 11:30 /realtimenews/article/sports/20151012/709612/突洛維茲基3分砲　藍鳥避免直落三出局\n",
      "政治 馬英九邀餐敘　藍委：不知道還能說什麼(1828) 11:30 /realtimenews/article/politics/20151012/709609/馬英九邀餐敘　藍委：不知道還能說什麼\n",
      "財經 雲端資安認證　遠傳再鍍「金」(411) 11:28 /realtimenews/article/finance/20151012/709610/雲端資安認證　遠傳再鍍「金」\n",
      "國際 坑人！西安7兩重螃蟹　捆繩重6兩(1919) 11:28 /realtimenews/article/international/20151012/709613/坑人！西安7兩重螃蟹　捆繩重6兩\n"
     ]
    }
   ],
   "source": [
    "import requests\n",
    "from bs4 import BeautifulSoup\n",
    "res = requests.get('http://www.appledaily.com.tw/realtimenews/section/new/')\n",
    "soup = BeautifulSoup(res.text)\n",
    "for rtddt in soup.select('.rtddt'):\n",
    "    print rtddt.select('h2')[0].text , \\\n",
    "        rtddt.select('h1')[0].text , \\\n",
    "        rtddt.select('time')[0].text, \\\n",
    "        rtddt.select('a')[0]['href']"
   ]
  },
  {
   "cell_type": "code",
   "execution_count": 66,
   "metadata": {
    "collapsed": false
   },
   "outputs": [
    {
     "name": "stdout",
     "output_type": "stream",
     "text": [
      "[<a ,=\"\" href=\"qwe\" qoo=\"qqq\" qqq=\"aaa\"></a>]\n"
     ]
    }
   ],
   "source": [
    "s = '<a href=\"qwe\" qoo=\"qqq\", qqq=\"aaa\"></a>'\n",
    "soup = BeautifulSoup(s)\n",
    "print soup.select('a')"
   ]
  },
  {
   "cell_type": "code",
   "execution_count": 70,
   "metadata": {
    "collapsed": false
   },
   "outputs": [
    {
     "name": "stdout",
     "output_type": "stream",
     "text": [
      "qwe\n",
      "qqq\n",
      "aaa\n"
     ]
    }
   ],
   "source": [
    "print soup.select('a')[0]['href']\n",
    "print soup.select('a')[0]['qoo']\n",
    "print soup.select('a')[0]['qqq']"
   ]
  },
  {
   "cell_type": "code",
   "execution_count": null,
   "metadata": {
    "collapsed": true
   },
   "outputs": [],
   "source": []
  }
 ],
 "metadata": {
  "kernelspec": {
   "display_name": "Python 2",
   "language": "python",
   "name": "python2"
  },
  "language_info": {
   "codemirror_mode": {
    "name": "ipython",
    "version": 2
   },
   "file_extension": ".py",
   "mimetype": "text/x-python",
   "name": "python",
   "nbconvert_exporter": "python",
   "pygments_lexer": "ipython2",
   "version": "2.7.10"
  }
 },
 "nbformat": 4,
 "nbformat_minor": 0
}
