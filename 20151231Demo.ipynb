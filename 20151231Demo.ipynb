{
 "cells": [
  {
   "cell_type": "code",
   "execution_count": 2,
   "metadata": {
    "collapsed": false
   },
   "outputs": [
    {
     "name": "stdout",
     "output_type": "stream",
     "text": [
      "那我\n",
      "我們\n",
      "們酸\n",
      "酸民\n",
      "民婉\n",
      "婉君\n",
      "君也\n",
      "也可\n",
      "可以\n",
      "以報\n",
      "報名\n",
      "名嗎\n"
     ]
    }
   ],
   "source": [
    "input_sentence='那我們酸民婉君也可以報名嗎'\n",
    "\n",
    "sentence  = input_sentence.decode('utf-8')\n",
    "\n",
    "for i in range(0, len(sentence) - 2 + 1): #for(i=0; i< sentenseLength -2 +1 , i++)\n",
    "    print sentence[i:i+2]"
   ]
  },
  {
   "cell_type": "code",
   "execution_count": 5,
   "metadata": {
    "collapsed": false
   },
   "outputs": [],
   "source": [
    "import sqlite3\n",
    "db = sqlite3.connect('news.sqlite') \n",
    "cur = db.cursor()\n",
    "\n",
    "\n",
    "sql = 'select summary from news_entry limit 100'\n",
    "cur.execute(sql)\n",
    "ary = []\n",
    "for ele in cur.fetchall():\n",
    "    ary.append(ele)\n",
    "cur.close()\n",
    "db.close()"
   ]
  },
  {
   "cell_type": "code",
   "execution_count": 8,
   "metadata": {
    "collapsed": false
   },
   "outputs": [],
   "source": [
    "newscontent = ary[0][0]"
   ]
  },
  {
   "cell_type": "code",
   "execution_count": 10,
   "metadata": {
    "collapsed": false
   },
   "outputs": [],
   "source": [
    "dic ={}\n",
    "for i in range(0, len(newscontent) - 2 + 1): #for(i=0; i< sentenseLength -2 +1 , i++)\n",
    "    w = newscontent[i:i+2]\n",
    "    if w not in dic:\n",
    "        dic[w] = 1\n",
    "    else:\n",
    "        dic[w] = dic[w] + 1 "
   ]
  },
  {
   "cell_type": "code",
   "execution_count": 14,
   "metadata": {
    "collapsed": true
   },
   "outputs": [
    {
     "name": "stdout",
     "output_type": "stream",
     "text": [
      "動眾 1\n",
      "去年 1\n",
      "職責 1\n",
      "，截 1\n",
      "要打 1\n",
      "較知 1\n",
      "防逃 2\n",
      " 出 1\n",
      "於是 1\n",
      "罪協 1\n",
      "院治 1\n",
      "美國 2\n",
      "改才 1\n",
      "員則 1\n",
      "前檢 1\n",
      "查局 4\n",
      "現行 1\n",
      "，我 1\n",
      "部邀 1\n",
      "由豪 1\n",
      "外要 2\n",
      "臨司 1\n",
      "雄是 1\n",
      "些潛 1\n",
      "馬上 1\n",
      "否已 1\n",
      "面臨 1\n",
      "犯一 3\n",
      "也透 1\n",
      "靠陳 1\n",
      "「無 1\n",
      "出， 3\n",
      "宣告 1\n",
      "、交 1\n",
      "審期 1\n",
      "，前 1\n",
      "盡「 1\n",
      "前立 1\n",
      "來西 1\n",
      "前苗 1\n",
      "是捏 1\n",
      "對此 1\n",
      "「馬 1\n",
      "正發 1\n",
      "院應 1\n",
      "亡地 1\n",
      "壹週 6\n",
      "，調 2\n",
      "等。 1\n",
      "至去 1\n",
      "請看 1\n",
      "政達 1\n",
      ":1 1\n",
      "北報 1\n",
      "過管 1\n",
      "金融 1\n",
      "國或 1\n",
      "克盡 1\n",
      "能危 1\n",
      "據今 1\n",
      "不用 2\n",
      "、「 2\n",
      "部表 2\n",
      "司改 1\n",
      "得提 1\n",
      "3: 1\n",
      "前則 1\n",
      "5人 1\n",
      "」， 1\n",
      "出來 1\n",
      "力司 1\n",
      "，請 1\n",
      "要犯 10\n",
      "地好 1\n",
      "管道 1\n",
      "無法 1\n",
      "，勞 1\n",
      "陳武 3\n",
      "教父 1\n",
      "這個 1\n",
      "官員 1\n",
      "近4 1\n",
      "其實 1\n",
      "遭頂 1\n",
      "裁， 1\n",
      "則指 1\n",
      "的原 1\n",
      "未修 1\n",
      "更是 1\n",
      "犯潛 1\n",
      "等規 1\n",
      "《刑 2\n",
      "投靠 1\n",
      "來透 1\n",
      "，指 2\n",
      "封口 1\n",
      "4人 2\n",
      "犯罪 2\n",
      "法》 2\n",
      "於， 1\n",
      "押」 1\n",
      "逃海 2\n",
      "司法 2\n",
      "犯， 2\n",
      "犯有 1\n",
      "遭行 1\n",
      "中國 6\n",
      "、美 1\n",
      "昨天 1\n",
      "前台 1\n",
      "安會 1\n",
      "週刊 6\n",
      "天博 1\n",
      "》指 1\n",
      "4更 1\n",
      "嘉義 1\n",
      "定職 1\n",
      "官方 1\n",
      "會報 1\n",
      "逃亡 1\n",
      "雄到 1\n",
      "馬來 1\n",
      "機關 1\n",
      "《蘋 1\n",
      "制止 2\n",
      "告重 1\n",
      "飆升 1\n",
      "關， 1\n",
      "繳稅 1\n",
      "方其 1\n",
      "福助 1\n",
      "午發 1\n",
      "聞稿 1\n",
      "局統 1\n",
      "助、 1\n",
      "議修 1\n",
      "版時 1\n",
      "外逃 2\n",
      "蘋果 1\n",
      "是與 1\n",
      "義議 1\n",
      "，只 1\n",
      "當地 1\n",
      "外界 1\n",
      "院長 1\n",
      "明／ 1\n",
      "時間 2\n",
      "，現 1\n",
      "導， 3\n",
      "稅或 1\n",
      "工總 1\n",
      "意見 1\n",
      "國的 1\n",
      " 《 2\n",
      "4年 1\n",
      "、地 1\n",
      " 【 1\n",
      "過與 1\n",
      "並指 1\n",
      "岸共 1\n",
      "真正 1\n",
      "解中 1\n",
      "籲法 1\n",
      "人與 1\n",
      "部調 1\n",
      "與歐 1\n",
      "新： 1\n",
      "無中 1\n",
      "口令 1\n",
      "部說 1\n",
      "針對 1\n",
      "」等 1\n",
      "原因 1\n",
      "音， 1\n",
      "拿大 1\n",
      "理事 1\n",
      "，根 1\n",
      "示， 2\n",
      "的肯 1\n",
      "都視 1\n",
      "21 1\n",
      "，「 1\n",
      "粉絲 1\n",
      "28 1\n",
      "用大 1\n",
      "、泰 1\n",
      "南議 1\n",
      "眾、 1\n",
      "，這 1\n",
      "知名 1\n",
      "審團 1\n",
      "期間 1\n",
      "案。 1\n",
      "紐西 1\n",
      "是要 2\n",
      "逃至 1\n",
      "》報 1\n",
      "有再 1\n",
      "議將 1\n",
      "為台 1\n",
      "官井 1\n",
      "》。 1\n",
      "改《 1\n",
      "上司 1\n",
      "果陪 1\n",
      "告到 1\n",
      "更新 2\n",
      "武雄 3\n",
      "天行 1\n",
      "「防 1\n",
      "揮防 1\n",
      "難得 1\n",
      "、呂 1\n",
      "的《 1\n",
      "「宣 1\n",
      "大1 1\n",
      "成為 1\n",
      "化界 1\n",
      "刊的 1\n",
      "智輝 1\n",
      "交銀 1\n",
      "灣石 1\n",
      "至要 1\n",
      "國， 1\n",
      "局也 1\n",
      "或塞 1\n",
      "再出 2\n",
      "也獲 1\n",
      "決之 1\n",
      "止， 2\n",
      "止有 1\n",
      "海外 2\n",
      "本4 1\n",
      "萬眾 1\n",
      "檢察 1\n",
      "羅福 1\n",
      "【更 1\n",
      "逃了 1\n",
      "為止 1\n",
      "逃的 3\n",
      "將要 1\n",
      "到案 1\n",
      "出新 1\n",
      "間： 2\n",
      "功能 1\n",
      "塞好 1\n",
      "》還 3\n",
      "怪外 1\n",
      "可能 1\n",
      "對外 1\n",
      "今天 1\n",
      "間， 1\n",
      "治安 1\n",
      "：1 2\n",
      "下午 1\n",
      "用繳 1\n",
      "法制 1\n",
      "捏造 1\n",
      "年來 1\n",
      "局近 1\n",
      "計， 1\n",
      "的首 1\n",
      "兇」 2\n",
      "彩新 1\n",
      "西亞 1\n",
      "、日 1\n",
      "議長 2\n",
      "修正 1\n",
      "制」 1\n",
      "調用 1\n",
      "跑。 1\n",
      "大要 1\n",
      "首選 1\n",
      "該修 1\n",
      "才是 1\n",
      "相關 1\n",
      "好好 1\n",
      "國可 1\n",
      "得行 1\n",
      "視而 1\n",
      "人員 1\n",
      "雄、 1\n",
      "新時 1\n",
      "井天 1\n",
      "，共 1\n",
      "中生 1\n",
      " 調 1\n",
      "10 1\n",
      "13 1\n",
      "12 1\n",
      "15 1\n",
      "《壹 6\n",
      "16 1\n",
      "應該 1\n",
      "個意 1\n",
      "，克 1\n",
      "法前 1\n",
      "出的 1\n",
      "擊犯 1\n",
      "大量 1\n",
      "） 2\n",
      "被告 1\n",
      "據統 1\n",
      "定， 3\n",
      "1人 2\n",
      "郁文 1\n",
      "，馬 2\n",
      "一再 3\n",
      "西蘭 1\n",
      "6人 1\n",
      "令」 1\n",
      "上遭 1\n",
      "說法 1\n",
      "因， 1\n",
      "處， 1\n",
      "了解 1\n",
      "邀請 1\n",
      "人， 2\n",
      "天出 1\n",
      "余政 1\n",
      "會認 1\n",
      "庭羈 1\n",
      "77 1\n",
      "有」 1\n",
      "是這 1\n",
      "縣長 1\n",
      "制裁 1\n",
      "成金 1\n",
      "法務 7\n",
      "的兩 1\n",
      "竟然 1\n",
      "灣了 1\n",
      "，應 1\n",
      "打擊 1\n",
      "九無 1\n",
      "「該 1\n",
      "委羅 1\n",
      "達封 1\n",
      "則押 1\n",
      "仍無 1\n",
      "國5 1\n",
      "再面 1\n",
      "，是 1\n",
      "，中 3\n",
      "，昨 1\n",
      "截至 1\n",
      "8人 1\n",
      "了。 1\n",
      "呼籲 1\n",
      "，連 1\n",
      "長羅 1\n",
      "最大 2\n",
      "了7 1\n",
      "，下 1\n",
      "下達 1\n",
      "法院 2\n",
      "融教 1\n",
      "到庭 1\n",
      "》並 1\n",
      "好繳 1\n",
      "與紐 1\n",
      "化王 1\n",
      "研議 1\n",
      "潛逃 6\n",
      "，陳 2\n",
      "等相 1\n",
      "報有 1\n",
      "選地 1\n",
      "指「 1\n",
      "指《 1\n",
      "本解 1\n",
      "好處 1\n",
      "、加 1\n",
      "不見 1\n",
      "。至 1\n",
      "金等 1\n",
      "，也 1\n",
      "還報 2\n",
      "、調 1\n",
      "年竟 1\n",
      "台南 1\n",
      "點排 1\n",
      "革聲 2\n",
      "、前 5\n",
      "（林 1\n",
      "聞， 1\n",
      "修法 1\n",
      "台北 1\n",
      "應於 1\n",
      "押則 1\n",
      "前嘉 1\n",
      "2人 1\n",
      "警、 1\n",
      "座梁 1\n",
      "關機 1\n",
      "庭聽 1\n",
      "能， 1\n",
      "林益 1\n",
      "只要 1\n",
      "到中 1\n",
      "，以 1\n",
      "幫兇 2\n",
      "調人 1\n",
      "量警 1\n",
      "絲團 1\n",
      "苗栗 1\n",
      "有， 1\n",
      "文、 1\n",
      "行政 4\n",
      "危及 1\n",
      "大幫 2\n",
      "回台 1\n",
      "名， 1\n",
      "灣要 1\n",
      "，仍 1\n",
      "，今 1\n",
      "見， 2\n",
      "長何 1\n",
      "稿， 1\n",
      "偵審 1\n",
      "用再 1\n",
      "九是 1\n",
      "國官 1\n",
      "長余 1\n",
      "改革 2\n",
      "重大 3\n",
      "訴訟 2\n",
      "，《 1\n",
      "事訴 2\n",
      "，在 1\n",
      "已潛 1\n",
      "加拿 1\n",
      "透過 2\n",
      "長的 1\n",
      "。 7\n",
      "升2 1\n",
      "聲音 2\n",
      "同研 1\n",
      "勞師 1\n",
      "眾， 1\n",
      "至中 1\n",
      " 法 2\n",
      " 據 2\n",
      "重刑 1\n",
      "日本 1\n",
      "提到 1\n",
      "長難 1\n",
      "繳回 1\n",
      "黃郁 1\n",
      "新聞 2\n",
      "指部 1\n",
      "捕到 1\n",
      "得也 1\n",
      "」調 1\n",
      "7人 1\n",
      "名的 1\n",
      "判」 1\n",
      "長黃 1\n",
      "出刊 1\n",
      "要在 1\n",
      "，增 1\n",
      "員， 1\n",
      "》， 1\n",
      "之道 1\n",
      "修改 1\n",
      "國成 1\n",
      "規定 1\n",
      "音遭 1\n",
      "事長 1\n",
      "逃重 1\n",
      "。而 1\n",
      "發出 1\n",
      "。《 1\n",
      "獲得 1\n",
      "的最 2\n",
      "刊》 6\n",
      "調查 4\n",
      "或是 1\n",
      "到， 1\n",
      "／台 1\n",
      "導） 1\n",
      "栗縣 1\n",
      "多精 1\n",
      "司行 1\n",
      "今年 1\n",
      "頂頭 1\n",
      "察官 1\n",
      "指出 3\n",
      "下金 1\n",
      "造。 1\n",
      "都不 1\n",
      "難怪 1\n",
      "再度 1\n",
      "志明 1\n",
      "逃要 2\n",
      "馬英 2\n",
      "部長 2\n",
      "銀前 1\n",
      "請司 1\n",
      "長陳 1\n",
      "的潛 1\n",
      "泰國 1\n",
      "】 1\n",
      "，要 2\n",
      "大潛 2\n",
      "（更 1\n",
      " 對 1\n",
      "「法 1\n",
      "國投 1\n",
      "，近 1\n",
      "此法 1\n",
      "罪所 1\n",
      "表示 2\n",
      "要求 1\n",
      "連犯 1\n",
      "在當 1\n",
      "石化 2\n",
      "然就 1\n",
      "逃機 1\n",
      "師動 1\n",
      "：法 1\n",
      "法真 1\n",
      "羈押 1\n",
      "法） 1\n",
      "道， 1\n",
      "排名 1\n",
      "兩岸 1\n",
      "於偵 1\n",
      "根本 1\n",
      "就外 1\n",
      "中。 1\n",
      "犯逃 1\n",
      "頭上 1\n",
      "5: 1\n",
      "也不 1\n",
      "增訂 1\n",
      "的法 1\n",
      "刑庭 1\n",
      "稱， 1\n",
      "正《 1\n",
      "指稱 1\n",
      "」更 1\n",
      "該押 1\n",
      "機制 1\n",
      "亞2 1\n",
      "落跑 1\n",
      "呂志 1\n",
      "總理 1\n",
      "蘭1 1\n",
      "立委 1\n",
      "刑事 2\n",
      "則呼 1\n",
      "陪審 1\n",
      "認定 1\n",
      "提出 2\n",
      "求法 1\n",
      "院制 2\n",
      "是「 1\n",
      "年飆 1\n",
      "政院 4\n",
      "以至 1\n",
      "務部 7\n",
      "至於 1\n",
      "陳由 1\n",
      "國重 1\n",
      "共同 2\n",
      "部下 1\n",
      "犯都 1\n",
      "無力 1\n",
      "也難 1\n",
      "行「 1\n",
      "更多 1\n",
      "前董 1\n",
      "英九 2\n",
      "實都 1\n",
      ":4 1\n",
      "逃功 1\n",
      "「被 1\n",
      "出版 1\n",
      "些重 1\n",
      "，較 1\n",
      "年為 1\n",
      "王國 1\n",
      "歐美 1\n",
      "》粉 1\n",
      "民、 1\n",
      "，法 1\n",
      "緝捕 1\n",
      "責」 1\n",
      "父萬 1\n",
      "聽判 1\n",
      "瑩雪 1\n",
      "輝、 1\n",
      "地的 1\n",
      "統計 2\n",
      "打造 1\n",
      "計指 1\n",
      "羅瑩 1\n",
      "而不 1\n",
      "及台 1\n",
      "前工 1\n",
      "團》 1\n",
      "近年 1\n",
      "在未 1\n",
      "。（ 1\n",
      "訟法 2\n",
      "地點 1\n",
      "梁成 1\n",
      "國1 1\n",
      "這也 1\n",
      "國4 1\n",
      "再落 1\n",
      "局官 1\n",
      "團】 1\n",
      "報導 4\n",
      "解決 1\n",
      "看《 1\n",
      "、馬 1\n",
      "出逃 2\n",
      "而這 1\n",
      "同打 1\n",
      "與中 1\n",
      "「這 1\n",
      "訂「 1\n",
      "還指 1\n",
      "博、 1\n",
      "協議 1\n",
      "有4 1\n",
      "造石 1\n",
      "這些 2\n",
      "來的 1\n",
      "生有 1\n",
      "發揮 1\n",
      "地下 1\n",
      "，於 1\n",
      "度提 1\n",
      "49 1\n",
      "44 2\n",
      "人、 5\n",
      "人。 2\n",
      "豪， 1\n",
      "台灣 3\n",
      "押的 1\n",
      "的改 2\n",
      "道了 1\n",
      "何智 1\n",
      "董座 1\n",
      "益民 1\n",
      "精彩 1\n",
      "9人 1\n",
      "肯定 1\n",
      "，針 1\n",
      "」、 2\n",
      "界會 1\n",
      "」。 2\n",
      "是否 1\n",
      "界， 1\n",
      "法定 1\n",
      "雪提 1\n",
      "院等 1\n",
      "我國 1\n",
      "達、 1\n",
      "犯緝 1\n",
      "所得 1\n"
     ]
    }
   ],
   "source": [
    "for w in dic:\n",
    "    print w, dic[w]"
   ]
  },
  {
   "cell_type": "code",
   "execution_count": 15,
   "metadata": {
    "collapsed": true
   },
   "outputs": [
    {
     "name": "stdout",
     "output_type": "stream",
     "text": [
      "要犯 10\n",
      "法務 7\n",
      "。 7\n",
      "務部 7\n",
      "壹週 6\n",
      "中國 6\n",
      "週刊 6\n",
      "《壹 6\n",
      "潛逃 6\n",
      "刊》 6\n",
      "、前 5\n",
      "人、 5\n",
      "查局 4\n",
      "行政 4\n",
      "調查 4\n",
      "政院 4\n",
      "報導 4\n",
      "犯一 3\n",
      "出， 3\n",
      "陳武 3\n",
      "導， 3\n",
      "武雄 3\n",
      "逃的 3\n",
      "》還 3\n",
      "定， 3\n",
      "一再 3\n",
      "，中 3\n",
      "重大 3\n",
      "指出 3\n",
      "台灣 3\n"
     ]
    }
   ],
   "source": [
    "import operator\n",
    "#?sorted\n",
    "swd = sorted(dic.items(), key= operator.itemgetter(1), reverse=True)\n",
    "for ele in swd:\n",
    "    if ele[1] >= 3:\n",
    "        print ele[0], ele[1]"
   ]
  },
  {
   "cell_type": "code",
   "execution_count": 16,
   "metadata": {
    "collapsed": true
   },
   "outputs": [],
   "source": [
    "dic ={}\n",
    "for i in range(0, len(newscontent) - 3 + 1): #for(i=0; i< sentenseLength -2 +1 , i++)\n",
    "    w = newscontent[i:i+3]\n",
    "    if w not in dic:\n",
    "        dic[w] = 1\n",
    "    else:\n",
    "        dic[w] = dic[w] + 1 "
   ]
  },
  {
   "cell_type": "code",
   "execution_count": 17,
   "metadata": {
    "collapsed": false
   },
   "outputs": [
    {
     "name": "stdout",
     "output_type": "stream",
     "text": [
      "法務部 7\n",
      "《壹週 6\n",
      "週刊》 6\n",
      "壹週刊 6\n",
      "調查局 4\n",
      "行政院 4\n",
      "報導， 3\n",
      "指出， 3\n",
      "陳武雄 3\n",
      "要犯一 3\n",
      "，中國 3\n",
      "刊》還 3\n",
      "犯一再 3\n"
     ]
    }
   ],
   "source": [
    "import operator\n",
    "#?sorted\n",
    "swd = sorted(dic.items(), key= operator.itemgetter(1), reverse=True)\n",
    "for ele in swd:\n",
    "    if ele[1] >= 3:\n",
    "        print ele[0], ele[1]"
   ]
  },
  {
   "cell_type": "code",
   "execution_count": null,
   "metadata": {
    "collapsed": true
   },
   "outputs": [],
   "source": []
  },
  {
   "cell_type": "code",
   "execution_count": 3,
   "metadata": {
    "collapsed": false
   },
   "outputs": [
    {
     "name": "stdout",
     "output_type": "stream",
     "text": [
      "那我們\n",
      "我們酸\n",
      "們酸民\n",
      "酸民婉\n",
      "民婉君\n",
      "婉君也\n",
      "君也可\n",
      "也可以\n",
      "可以報\n",
      "以報名\n",
      "報名嗎\n"
     ]
    }
   ],
   "source": [
    "input_sentence='那我們酸民婉君也可以報名嗎'\n",
    "\n",
    "sentence  = input_sentence.decode('utf-8')\n",
    "\n",
    "for i in range(0, len(sentence) - 3 + 1): #for(i=0; i< sentenseLength -3 +1 , i++)\n",
    "    print sentence[i:i+3]"
   ]
  },
  {
   "cell_type": "code",
   "execution_count": null,
   "metadata": {
    "collapsed": true
   },
   "outputs": [],
   "source": []
  },
  {
   "cell_type": "code",
   "execution_count": 18,
   "metadata": {
    "collapsed": true
   },
   "outputs": [],
   "source": [
    "def ngram(input_sentence, n = 2):\n",
    "    word_dic = {}\n",
    "    sentence  = input_sentence.decode('utf-8')\n",
    "    for i in range(0, len(sentence) - n + 1):\n",
    "        if sentence[i:i+n] not in word_dic:\n",
    "            word_dic[sentence[i:i+n]] = 1\n",
    "        else:\n",
    "            word_dic[sentence[i:i+n]] = word_dic[sentence[i:i+n]] + 1\n",
    "    return word_dic\n"
   ]
  },
  {
   "cell_type": "code",
   "execution_count": 22,
   "metadata": {
    "collapsed": false
   },
   "outputs": [
    {
     "name": "stdout",
     "output_type": "stream",
     "text": [
      "0\n",
      "0\n",
      "0\n",
      "1\n"
     ]
    }
   ],
   "source": [
    "sentence = '123?'\n",
    "skip_word = '.?'\n",
    "word_length = []\n",
    "for word in sentence:\n",
    "    if word in skip_word:\n",
    "        word_length.append(word)\n",
    "    print len(word_length)"
   ]
  },
  {
   "cell_type": "code",
   "execution_count": null,
   "metadata": {
    "collapsed": true
   },
   "outputs": [],
   "source": [
    "sentence = '123?'\n",
    "skip_word = '.?'\n",
    "len([word for word in sentence if word in skip_word]) > 0\n"
   ]
  },
  {
   "cell_type": "code",
   "execution_count": 33,
   "metadata": {
    "collapsed": true
   },
   "outputs": [],
   "source": [
    "skip_dic = '?.,、　「！】？：《」》～【。，'.decode('utf-8')\n",
    "def ngram(input_sentence, n = 2, skip_word= skip_dic):\n",
    "    word_dic = {}\n",
    "    sentence  = input_sentence.decode('utf-8')\n",
    "    for i in range(0, len(sentence) - n + 1):\n",
    "        invalid = len([word for word in sentence[i:i+n] if word in skip_word])\n",
    "        if sentence[i:i+n] not in word_dic and invalid ==0:\n",
    "            word_dic[sentence[i:i+n]] = 1\n",
    "        elif invalid ==0:\n",
    "            word_dic[sentence[i:i+n]] = word_dic[sentence[i:i+n]] + 1\n",
    "    return word_dic\n"
   ]
  },
  {
   "cell_type": "code",
   "execution_count": 36,
   "metadata": {
    "collapsed": false
   },
   "outputs": [],
   "source": [
    "wd = ngram(ary[0][0].encode('utf-8'), n = 3)"
   ]
  },
  {
   "cell_type": "code",
   "execution_count": 37,
   "metadata": {
    "collapsed": false
   },
   "outputs": [
    {
     "name": "stdout",
     "output_type": "stream",
     "text": [
      "法務部 7\n",
      "壹週刊 6\n",
      "調查局 4\n",
      "行政院 4\n",
      "要犯一 3\n",
      "陳武雄 3\n",
      "犯一再 3\n"
     ]
    }
   ],
   "source": [
    "import operator\n",
    "#?sorted\n",
    "swd = sorted(wd.items(), key= operator.itemgetter(1), reverse=True)\n",
    "for ele in swd:\n",
    "    if ele[1] >= 3:\n",
    "        print ele[0], ele[1]"
   ]
  },
  {
   "cell_type": "code",
   "execution_count": 38,
   "metadata": {
    "collapsed": false
   },
   "outputs": [
    {
     "name": "stdout",
     "output_type": "stream",
     "text": [
      "3年前就讀高雄應用大學二年級的陳顯佳\n",
      "為閃避跨越雙黃線來車\n",
      "撞上路邊\n",
      "摔斷頸椎\n",
      "頸部以下全癱\n",
      "嘴被插管\n",
      "父母每天去看他\n",
      "他都意識清醒\n",
      "眨眼流淚\n",
      "17天後他因頸椎受損抑制呼吸\n",
      "醫師用盡強力針與電擊都無效\n",
      "\n"
     ]
    }
   ],
   "source": [
    "import re\n",
    "delimiter = \"，|。|、\"  \n",
    "text = '3年前就讀高雄應用大學二年級的陳顯佳，為閃避跨越雙黃線來車，撞上路邊、摔斷頸椎，頸部以下全癱，嘴被插管，父母每天去看他，他都意識清醒、眨眼流淚，17天後他因頸椎受損抑制呼吸，醫師用盡強力針與電擊都無效，'\n",
    "for i in re.split(delimiter, text):\n",
    "    print i\n"
   ]
  },
  {
   "cell_type": "code",
   "execution_count": 47,
   "metadata": {
    "collapsed": false
   },
   "outputs": [
    {
     "name": "stdout",
     "output_type": "stream",
     "text": [
      "中國成為\n",
      "要犯潛逃的首選地的原因\n",
      "中國成為要犯潛逃的首選地的原因\n"
     ]
    }
   ],
   "source": [
    "s = '中國成為台灣要犯潛逃的首選地的原因'\n",
    "for ele in s.split('台灣'):\n",
    "    print ele\n",
    "s1 = s.split('台灣')\n",
    "print ''.join(s1)"
   ]
  },
  {
   "cell_type": "code",
   "execution_count": 52,
   "metadata": {
    "collapsed": false
   },
   "outputs": [],
   "source": [
    "def removeKey(text, keyword):\n",
    "    textAry= text\n",
    "    for key in keyword:\n",
    "        textAry = ''.join(textAry.split(key))\n",
    "    return textAry"
   ]
  },
  {
   "cell_type": "code",
   "execution_count": 54,
   "metadata": {
    "collapsed": false
   },
   "outputs": [
    {
     "name": "stdout",
     "output_type": "stream",
     "text": [
      "將公布\n"
     ]
    }
   ],
   "source": [
    "a = '民進黨後天將公布'\n",
    "print removeKey(a, ['民進黨', '後天'])"
   ]
  },
  {
   "cell_type": "code",
   "execution_count": 57,
   "metadata": {
    "collapsed": false
   },
   "outputs": [
    {
     "name": "stdout",
     "output_type": "stream",
     "text": [
      "中國成為潛逃的首選地的原因\n"
     ]
    }
   ],
   "source": [
    "s = '中國成為台灣要犯潛逃的首選地的原因'\n",
    "print removeKey(s, ['台灣', '要犯'])"
   ]
  },
  {
   "cell_type": "code",
   "execution_count": 60,
   "metadata": {
    "collapsed": true
   },
   "outputs": [],
   "source": [
    "delimiter = \"，|。|、|（|）|／|《|》|】|【|「|」|；|：\".decode('utf-8') \n",
    "def splitSentense(text, delimiter):\n",
    "    return re.split(delimiter, text)"
   ]
  },
  {
   "cell_type": "code",
   "execution_count": 83,
   "metadata": {
    "collapsed": false
   },
   "outputs": [],
   "source": [
    "db = sqlite3.connect('news.sqlite') \n",
    "cur = db.cursor()\n",
    "cur.execute('select * from news_entry limit 100')\n",
    "allNews = cur.fetchall()\n",
    "sentenceAry = []\n",
    "for rec in allNews:\n",
    "    #print rec\n",
    "    text = rec[5]\n",
    "    sentenceAry += splitSentense(text,delimiter)\n",
    "cur.close()\n",
    "db.close()"
   ]
  },
  {
   "cell_type": "code",
   "execution_count": 84,
   "metadata": {
    "collapsed": false
   },
   "outputs": [
    {
     "name": "stdout",
     "output_type": "stream",
     "text": [
      "5954\n"
     ]
    }
   ],
   "source": [
    "print len(sentenceAry)"
   ]
  },
  {
   "cell_type": "code",
   "execution_count": 81,
   "metadata": {
    "collapsed": true
   },
   "outputs": [],
   "source": [
    "def ngram(input_sentence, n = 2):\n",
    "    word_dic = {}\n",
    "    sentence  = input_sentence.decode('utf-8')\n",
    "    for i in range(0, len(sentence) - n + 1):\n",
    "        if sentence[i:i+n] not in word_dic:\n",
    "            word_dic[sentence[i:i+n]] = 1\n",
    "        else:\n",
    "            word_dic[sentence[i:i+n]] = word_dic[sentence[i:i+n]] + 1\n",
    "    return word_dic"
   ]
  },
  {
   "cell_type": "code",
   "execution_count": 82,
   "metadata": {
    "collapsed": false
   },
   "outputs": [
    {
     "ename": "KeyboardInterrupt",
     "evalue": "",
     "output_type": "error",
     "traceback": [
      "\u001b[1;31m---------------------------------------------------------------------------\u001b[0m",
      "\u001b[1;31mKeyboardInterrupt\u001b[0m                         Traceback (most recent call last)",
      "\u001b[1;32m<ipython-input-82-dcb45fdd8b13>\u001b[0m in \u001b[0;36m<module>\u001b[1;34m()\u001b[0m\n\u001b[0;32m      5\u001b[0m     \u001b[0mword_dic\u001b[0m \u001b[1;33m=\u001b[0m \u001b[1;33m{\u001b[0m\u001b[1;33m}\u001b[0m\u001b[1;33m\u001b[0m\u001b[0m\n\u001b[0;32m      6\u001b[0m     \u001b[1;32mfor\u001b[0m \u001b[0msentence\u001b[0m \u001b[1;32min\u001b[0m \u001b[0msentenceAry\u001b[0m\u001b[1;33m:\u001b[0m\u001b[1;33m\u001b[0m\u001b[0m\n\u001b[1;32m----> 7\u001b[1;33m         \u001b[0mtext_list\u001b[0m \u001b[1;33m=\u001b[0m \u001b[0mremoveKey\u001b[0m\u001b[1;33m(\u001b[0m\u001b[0msentence\u001b[0m\u001b[1;33m.\u001b[0m\u001b[0mencode\u001b[0m\u001b[1;33m(\u001b[0m\u001b[1;34m'utf-8'\u001b[0m\u001b[1;33m)\u001b[0m\u001b[1;33m,\u001b[0m\u001b[0mkeywords\u001b[0m\u001b[1;33m)\u001b[0m\u001b[1;33m\u001b[0m\u001b[0m\n\u001b[0m\u001b[0;32m      8\u001b[0m         \u001b[0mngram_words\u001b[0m \u001b[1;33m=\u001b[0m \u001b[0mngram\u001b[0m\u001b[1;33m(\u001b[0m\u001b[0mtext_list\u001b[0m\u001b[1;33m,\u001b[0m\u001b[0mn\u001b[0m\u001b[1;33m=\u001b[0m\u001b[0mterm_length\u001b[0m\u001b[1;33m)\u001b[0m\u001b[1;33m\u001b[0m\u001b[0m\n\u001b[0;32m      9\u001b[0m         \u001b[1;32mfor\u001b[0m \u001b[0mword\u001b[0m \u001b[1;32min\u001b[0m \u001b[0mngram_words\u001b[0m\u001b[1;33m:\u001b[0m\u001b[1;33m\u001b[0m\u001b[0m\n",
      "\u001b[1;32m<ipython-input-52-6de8818532d6>\u001b[0m in \u001b[0;36mremoveKey\u001b[1;34m(text, keyword)\u001b[0m\n\u001b[0;32m      2\u001b[0m     \u001b[0mtextAry\u001b[0m\u001b[1;33m=\u001b[0m \u001b[0mtext\u001b[0m\u001b[1;33m\u001b[0m\u001b[0m\n\u001b[0;32m      3\u001b[0m     \u001b[1;32mfor\u001b[0m \u001b[0mkey\u001b[0m \u001b[1;32min\u001b[0m \u001b[0mkeyword\u001b[0m\u001b[1;33m:\u001b[0m\u001b[1;33m\u001b[0m\u001b[0m\n\u001b[1;32m----> 4\u001b[1;33m         \u001b[0mtextAry\u001b[0m \u001b[1;33m=\u001b[0m \u001b[1;34m''\u001b[0m\u001b[1;33m.\u001b[0m\u001b[0mjoin\u001b[0m\u001b[1;33m(\u001b[0m\u001b[0mtextAry\u001b[0m\u001b[1;33m.\u001b[0m\u001b[0msplit\u001b[0m\u001b[1;33m(\u001b[0m\u001b[0mkey\u001b[0m\u001b[1;33m)\u001b[0m\u001b[1;33m)\u001b[0m\u001b[1;33m\u001b[0m\u001b[0m\n\u001b[0m\u001b[0;32m      5\u001b[0m     \u001b[1;32mreturn\u001b[0m \u001b[0mtextAry\u001b[0m\u001b[1;33m\u001b[0m\u001b[0m\n",
      "\u001b[1;31mKeyboardInterrupt\u001b[0m: "
     ]
    }
   ],
   "source": [
    "keywords=[]        \n",
    "ret_terms={}\n",
    "words_freq    = []\n",
    "for term_length in range(4,1,-1):\n",
    "    word_dic = {}\n",
    "    for sentence in sentenceAry:\n",
    "        text_list = removeKey(sentence.encode('utf-8'),keywords)        \n",
    "        ngram_words = ngram(text_list,n=term_length) \n",
    "        for word in ngram_words:\n",
    "            if word not in word_dic:\n",
    "                word_dic[word] = 1\n",
    "            else:\n",
    "                word_dic[word] += ngram_words[word]   \n",
    "    for word in word_dic:\n",
    "        if word_dic[word] >= 5:\n",
    "            keywords.append(word.encode('utf-8'))            \n",
    "            ret_terms.update({word:word_dic[word]})"
   ]
  },
  {
   "cell_type": "code",
   "execution_count": 75,
   "metadata": {
    "collapsed": false
   },
   "outputs": [
    {
     "name": "stdout",
     "output_type": "stream",
     "text": [
      "法務部\n",
      "壹週刊\n",
      "要犯\n",
      "中國\n",
      "潛逃\n"
     ]
    }
   ],
   "source": [
    "for ele in  keywords:\n",
    "    print ele"
   ]
  },
  {
   "cell_type": "code",
   "execution_count": 78,
   "metadata": {
    "collapsed": false
   },
   "outputs": [
    {
     "name": "stdout",
     "output_type": "stream",
     "text": [
      "潛逃 6\n",
      "法務部 7\n",
      "中國 6\n",
      "要犯 10\n",
      "壹週刊 6\n"
     ]
    }
   ],
   "source": [
    "for ele in ret_terms:\n",
    "    print ele, ret_terms[ele]"
   ]
  },
  {
   "cell_type": "code",
   "execution_count": null,
   "metadata": {
    "collapsed": true
   },
   "outputs": [],
   "source": []
  }
 ],
 "metadata": {
  "kernelspec": {
   "display_name": "Python 2",
   "language": "python",
   "name": "python2"
  },
  "language_info": {
   "codemirror_mode": {
    "name": "ipython",
    "version": 2
   },
   "file_extension": ".py",
   "mimetype": "text/x-python",
   "name": "python",
   "nbconvert_exporter": "python",
   "pygments_lexer": "ipython2",
   "version": "2.7.10"
  }
 },
 "nbformat": 4,
 "nbformat_minor": 0
}
