{
 "cells": [
  {
   "cell_type": "code",
   "execution_count": 1,
   "metadata": {
    "collapsed": false
   },
   "outputs": [
    {
     "data": {
      "text/plain": [
       "5"
      ]
     },
     "execution_count": 1,
     "metadata": {},
     "output_type": "execute_result"
    }
   ],
   "source": [
    "a = 3 \n",
    "b = 2\n",
    "a + b"
   ]
  },
  {
   "cell_type": "code",
   "execution_count": 2,
   "metadata": {
    "collapsed": false
   },
   "outputs": [
    {
     "name": "stdout",
     "output_type": "stream",
     "text": [
      "6\n"
     ]
    }
   ],
   "source": [
    "print a + 3"
   ]
  },
  {
   "cell_type": "code",
   "execution_count": 5,
   "metadata": {
    "collapsed": false
   },
   "outputs": [
    {
     "name": "stdout",
     "output_type": "stream",
     "text": [
      "Help on package requests:\n",
      "\n",
      "NAME\n",
      "    requests\n",
      "\n",
      "FILE\n",
      "    c:\\anaconda2\\lib\\site-packages\\requests\\__init__.py\n",
      "\n",
      "DESCRIPTION\n",
      "    Requests HTTP library\n",
      "    ~~~~~~~~~~~~~~~~~~~~~\n",
      "    \n",
      "    Requests is an HTTP library, written in Python, for human beings. Basic GET\n",
      "    usage:\n",
      "    \n",
      "       >>> import requests\n",
      "       >>> r = requests.get('https://www.python.org')\n",
      "       >>> r.status_code\n",
      "       200\n",
      "       >>> 'Python is a programming language' in r.content\n",
      "       True\n",
      "    \n",
      "    ... or POST:\n",
      "    \n",
      "       >>> payload = dict(key1='value1', key2='value2')\n",
      "       >>> r = requests.post('http://httpbin.org/post', data=payload)\n",
      "       >>> print(r.text)\n",
      "       {\n",
      "         ...\n",
      "         \"form\": {\n",
      "           \"key2\": \"value2\",\n",
      "           \"key1\": \"value1\"\n",
      "         },\n",
      "         ...\n",
      "       }\n",
      "    \n",
      "    The other HTTP methods are supported - see `requests.api`. Full documentation\n",
      "    is at <http://python-requests.org>.\n",
      "    \n",
      "    :copyright: (c) 2015 by Kenneth Reitz.\n",
      "    :license: Apache 2.0, see LICENSE for more details.\n",
      "\n",
      "PACKAGE CONTENTS\n",
      "    adapters\n",
      "    api\n",
      "    auth\n",
      "    certs\n",
      "    compat\n",
      "    cookies\n",
      "    exceptions\n",
      "    hooks\n",
      "    models\n",
      "    packages (package)\n",
      "    sessions\n",
      "    status_codes\n",
      "    structures\n",
      "    utils\n",
      "\n",
      "DATA\n",
      "    __author__ = 'Kenneth Reitz'\n",
      "    __build__ = 133377\n",
      "    __copyright__ = 'Copyright 2015 Kenneth Reitz'\n",
      "    __license__ = 'Apache 2.0'\n",
      "    __title__ = 'requests'\n",
      "    __version__ = '2.9.1'\n",
      "    codes = <lookup 'status_codes'>\n",
      "\n",
      "VERSION\n",
      "    2.9.1\n",
      "\n",
      "AUTHOR\n",
      "    Kenneth Reitz\n",
      "\n",
      "\n"
     ]
    }
   ],
   "source": [
    "import requests\n",
    "dir(requests)\n",
    "help(requests)\n",
    "?requests"
   ]
  },
  {
   "cell_type": "code",
   "execution_count": 6,
   "metadata": {
    "collapsed": false
   },
   "outputs": [
    {
     "data": {
      "text/plain": [
       "['__abs__',\n",
       " '__add__',\n",
       " '__class__',\n",
       " '__coerce__',\n",
       " '__delattr__',\n",
       " '__div__',\n",
       " '__divmod__',\n",
       " '__doc__',\n",
       " '__eq__',\n",
       " '__float__',\n",
       " '__floordiv__',\n",
       " '__format__',\n",
       " '__ge__',\n",
       " '__getattribute__',\n",
       " '__getformat__',\n",
       " '__getnewargs__',\n",
       " '__gt__',\n",
       " '__hash__',\n",
       " '__init__',\n",
       " '__int__',\n",
       " '__le__',\n",
       " '__long__',\n",
       " '__lt__',\n",
       " '__mod__',\n",
       " '__mul__',\n",
       " '__ne__',\n",
       " '__neg__',\n",
       " '__new__',\n",
       " '__nonzero__',\n",
       " '__pos__',\n",
       " '__pow__',\n",
       " '__radd__',\n",
       " '__rdiv__',\n",
       " '__rdivmod__',\n",
       " '__reduce__',\n",
       " '__reduce_ex__',\n",
       " '__repr__',\n",
       " '__rfloordiv__',\n",
       " '__rmod__',\n",
       " '__rmul__',\n",
       " '__rpow__',\n",
       " '__rsub__',\n",
       " '__rtruediv__',\n",
       " '__setattr__',\n",
       " '__setformat__',\n",
       " '__sizeof__',\n",
       " '__str__',\n",
       " '__sub__',\n",
       " '__subclasshook__',\n",
       " '__truediv__',\n",
       " '__trunc__',\n",
       " 'as_integer_ratio',\n",
       " 'conjugate',\n",
       " 'fromhex',\n",
       " 'hex',\n",
       " 'imag',\n",
       " 'is_integer',\n",
       " 'real']"
      ]
     },
     "execution_count": 6,
     "metadata": {},
     "output_type": "execute_result"
    }
   ],
   "source": [
    "dir(3.14)"
   ]
  },
  {
   "cell_type": "markdown",
   "metadata": {},
   "source": [
    "## Python requests"
   ]
  },
  {
   "cell_type": "code",
   "execution_count": null,
   "metadata": {
    "collapsed": true
   },
   "outputs": [],
   "source": [
    "import requests\n",
    "res = requests.get('http://www.appledaily.com.tw/realtimenews/section/new/')\n",
    "print res"
   ]
  },
  {
   "cell_type": "code",
   "execution_count": 29,
   "metadata": {
    "collapsed": false
   },
   "outputs": [
    {
     "name": "stdout",
     "output_type": "stream",
     "text": [
      "<Response [200]>\n"
     ]
    }
   ],
   "source": [
    "import requests\n",
    "proxies = {\n",
    "  'http': 'http://proxy.cht.com.tw:8080',\n",
    "  'https': 'http://proxy.cht.com.tw:8080',\n",
    "}\n",
    "res = requests.get('http://www.appledaily.com.tw/realtimenews/section/new/', proxies=proxies)\n",
    "print res"
   ]
  },
  {
   "cell_type": "code",
   "execution_count": 30,
   "metadata": {
    "collapsed": false
   },
   "outputs": [
    {
     "name": "stdout",
     "output_type": "stream",
     "text": [
      "<class 'requests.models.Response'>\n"
     ]
    }
   ],
   "source": [
    "print type(res)"
   ]
  },
  {
   "cell_type": "code",
   "execution_count": 12,
   "metadata": {
    "collapsed": false
   },
   "outputs": [
    {
     "name": "stdout",
     "output_type": "stream",
     "text": [
      "['__attrs__', '__bool__', '__class__', '__delattr__', '__dict__', '__doc__', '__format__', '__getattribute__', '__getstate__', '__hash__', '__init__', '__iter__', '__module__', '__new__', '__nonzero__', '__reduce__', '__reduce_ex__', '__repr__', '__setattr__', '__setstate__', '__sizeof__', '__str__', '__subclasshook__', '__weakref__', '_content', '_content_consumed', 'apparent_encoding', 'close', 'connection', 'content', 'cookies', 'elapsed', 'encoding', 'headers', 'history', 'is_permanent_redirect', 'is_redirect', 'iter_content', 'iter_lines', 'json', 'links', 'ok', 'raise_for_status', 'raw', 'reason', 'request', 'status_code', 'text', 'url']\n",
      "{'Content-Length': '15368', 'Content-Encoding': 'gzip', 'Age': '0', 'Vary': 'Accept-Encoding', 'Server': 'Apache', 'Connection': 'close', 'Date': 'Thu, 05 May 2016 02:09:07 GMT', 'Content-Type': 'text/html; charset=utf-8'}\n",
      "http://www.appledaily.com.tw/realtimenews/section/new/\n"
     ]
    }
   ],
   "source": [
    "print dir(res)\n",
    "print res.headers\n",
    "print res.url"
   ]
  },
  {
   "cell_type": "code",
   "execution_count": 13,
   "metadata": {
    "collapsed": false
   },
   "outputs": [],
   "source": [
    "#print res.text"
   ]
  },
  {
   "cell_type": "code",
   "execution_count": 18,
   "metadata": {
    "collapsed": false
   },
   "outputs": [
    {
     "name": "stdout",
     "output_type": "stream",
     "text": [
      "ISO-8859-1\n",
      "utf-8\n"
     ]
    }
   ],
   "source": [
    "import requests\n",
    "res = requests.get('http://www.cht.com.tw/', proxies = proxies)\n",
    "print res.encoding\n",
    "res.encoding = 'utf-8'\n",
    "print res.encoding\n",
    "#print res.text"
   ]
  },
  {
   "cell_type": "code",
   "execution_count": 19,
   "metadata": {
    "collapsed": false
   },
   "outputs": [
    {
     "name": "stdout",
     "output_type": "stream",
     "text": [
      "2\n"
     ]
    }
   ],
   "source": [
    "dic = {'a': 1, 'b':2 , 'c':4}\n",
    "print  dic['b']"
   ]
  },
  {
   "cell_type": "code",
   "execution_count": 23,
   "metadata": {
    "collapsed": false
   },
   "outputs": [],
   "source": [
    "import requests\n",
    "payload = {\n",
    "'StartStation':'977abb69-413a-4ccf-a109-0272c24fd490',\n",
    "'EndStation':'e6e26e66-7dc1-458f-b2f3-71ce65fdc95f',\n",
    "'SearchDate':'2016/05/05',\n",
    "'SearchTime':'10:30',\n",
    "'SearchWay':'DepartureInMandarin'\n",
    "}\n",
    "\n",
    "res = requests.post('https://www.thsrc.com.tw/tw/TimeTable/SearchResult', data=payload, proxies = proxies)\n",
    "#print res.text"
   ]
  },
  {
   "cell_type": "markdown",
   "metadata": {},
   "source": [
    "## BeautifulSoup"
   ]
  },
  {
   "cell_type": "code",
   "execution_count": 31,
   "metadata": {
    "collapsed": false
   },
   "outputs": [
    {
     "name": "stdout",
     "output_type": "stream",
     "text": [
      "\n",
      "<html> \n",
      "<body> \n",
      "   <h1 id=\"title\">Hello World</h1> \n",
      "   <a href=\"#\" class=\"link\">This is link1</a> \n",
      "   <a href=\"# link2\" class=\"link\">This is link2</a> \n",
      "</body> \n",
      "</html>\n",
      "<class 'bs4.BeautifulSoup'>\n",
      "\n",
      "\n",
      "\n",
      "Hello World\n",
      "This is link1\n",
      "This is link2\n",
      "\n",
      "\n"
     ]
    }
   ],
   "source": [
    "from bs4 import BeautifulSoup\n",
    "html_sample='''\n",
    "<html> \n",
    "<body> \n",
    "   <h1 id=\"title\">Hello World</h1> \n",
    "   <a href=\"#\" class=\"link\">This is link1</a> \n",
    "   <a href=\"# link2\" class=\"link\">This is link2</a> \n",
    "</body> \n",
    "</html>'''\n",
    "print html_sample\n",
    "\n",
    "soup = BeautifulSoup(html_sample, 'html.parser')\n",
    "print type(soup)\n",
    "print soup.text"
   ]
  },
  {
   "cell_type": "code",
   "execution_count": 36,
   "metadata": {
    "collapsed": false
   },
   "outputs": [
    {
     "name": "stdout",
     "output_type": "stream",
     "text": [
      "1\n",
      "2\n",
      "5\n"
     ]
    }
   ],
   "source": [
    "a = [1,2,3,4,5]\n",
    "print a[0]\n",
    "print a[1]\n",
    "print a[-1]"
   ]
  },
  {
   "cell_type": "code",
   "execution_count": 39,
   "metadata": {
    "collapsed": false
   },
   "outputs": [
    {
     "name": "stdout",
     "output_type": "stream",
     "text": [
      "<type 'list'>\n",
      "[<a class=\"link\" href=\"#\">This is link1</a>, <a class=\"link\" href=\"# link2\">This is link2</a>]\n",
      "<class 'bs4.element.Tag'>\n",
      "<a class=\"link\" href=\"#\">This is link1</a>\n",
      "This is link1\n"
     ]
    }
   ],
   "source": [
    "print type(soup.select('a'))\n",
    "print soup.select('a')\n",
    "print type(soup.select('a')[0])\n",
    "print soup.select('a')[0]\n",
    "print soup.select('a')[0].text"
   ]
  },
  {
   "cell_type": "code",
   "execution_count": 44,
   "metadata": {
    "collapsed": false
   },
   "outputs": [
    {
     "name": "stdout",
     "output_type": "stream",
     "text": [
      "<type 'list'>\n",
      "[<h1 id=\"title\">Hello World</h1>]\n",
      "<h1 id=\"title\">Hello World</h1>\n",
      "Hello World\n"
     ]
    }
   ],
   "source": [
    "print type(soup.select('h1'))\n",
    "print soup.select('h1')\n",
    "print soup.select('h1')[0]\n",
    "print soup.select('h1')[0].text"
   ]
  },
  {
   "cell_type": "code",
   "execution_count": 46,
   "metadata": {
    "collapsed": false
   },
   "outputs": [
    {
     "name": "stdout",
     "output_type": "stream",
     "text": [
      "[<h1 id=\"title\">Hello World</h1>]\n"
     ]
    }
   ],
   "source": [
    "# id => #\n",
    "print soup.select('#title')"
   ]
  },
  {
   "cell_type": "code",
   "execution_count": 47,
   "metadata": {
    "collapsed": false
   },
   "outputs": [
    {
     "name": "stdout",
     "output_type": "stream",
     "text": [
      "[<a class=\"link\" href=\"#\">This is link1</a>, <a class=\"link\" href=\"# link2\">This is link2</a>]\n"
     ]
    }
   ],
   "source": [
    "# class => .\n",
    "print soup.select('.link')"
   ]
  },
  {
   "cell_type": "code",
   "execution_count": 51,
   "metadata": {
    "collapsed": false
   },
   "outputs": [
    {
     "name": "stdout",
     "output_type": "stream",
     "text": [
      "#\n",
      "# link2\n"
     ]
    }
   ],
   "source": [
    "for link in soup.select('.link'):\n",
    "    #print link\n",
    "    #print link.text\n",
    "    print link['href']"
   ]
  },
  {
   "cell_type": "code",
   "execution_count": 55,
   "metadata": {
    "collapsed": false
   },
   "outputs": [
    {
     "name": "stdout",
     "output_type": "stream",
     "text": [
      "[<a href=\"#\" iii=\"ttt\" qoo=\"123\">this is a link</a>]\n",
      "<a href=\"#\" iii=\"ttt\" qoo=\"123\">this is a link</a>\n",
      "ttt\n",
      "123\n"
     ]
    }
   ],
   "source": [
    "a = '<a href=# qoo=123 iii=ttt>this is a link</a>'\n",
    "soup2 = BeautifulSoup(a)\n",
    "print soup2.select('a')\n",
    "print soup2.select('a')[0]\n",
    "print soup2.select('a')[0]['iii']\n",
    "print soup2.select('a')[0]['qoo']"
   ]
  },
  {
   "cell_type": "markdown",
   "metadata": {},
   "source": [
    "## real case on appledaily"
   ]
  },
  {
   "cell_type": "code",
   "execution_count": 72,
   "metadata": {
    "collapsed": false
   },
   "outputs": [
    {
     "name": "stdout",
     "output_type": "stream",
     "text": [
      "32\n",
      "===================\n",
      "【雙全會】談美豬　林全：談判前不應公開底...(0) 11:28 政治\n",
      "===================\n",
      "【民報】全球央行小心！匿名者揚言攻擊 希...(0) 11:27 財經\n",
      "===================\n",
      "【雙全會】蘇嘉全：林全內閣沒有蜜月期(0) 11:27 政治\n",
      "===================\n",
      "\n",
      "\n",
      "【特企】靠它！銀髮一族享受活力趴趴走 (1318)\n",
      "\n",
      "11:27 特企\n",
      "===================\n",
      "【央廣RTI】美印聯合反潛促同盟？學者：...(0) 11:25 國際\n",
      "===================\n",
      "弱女子當關　擋300新納粹份子示威(0) 11:25 國際\n",
      "===================\n",
      "全球大學排名連3降　台大：國家競爭力下滑...(0) 11:24 生活\n",
      "===================\n",
      "明年經典賽韓國舉辦？　棒協：5月中旬才確...(75) 11:22 體育\n",
      "===================\n",
      "【民報游惠玲專欄】炒米粉，不炒！不吵！(28) 11:20 生活\n",
      "===================\n",
      "【更新】任內最後一次備詢　吳思華語錄在此...(706) 11:18 生活\n",
      "===================\n",
      "【更新】撤回課綱微調？　教育部長推給課審...(905) 11:15 生活\n",
      "===================\n",
      "鵝媽媽的逆襲！　攻擊女童照片瘋傳(865) 11:15 國際\n",
      "===================\n",
      "【央廣RTI】歐盟重返利比亞   馬爾他...(18) 11:15 國際\n",
      "===================\n",
      "Apple Music被續約  去官網討...(302) 11:14 3C\n",
      "===================\n",
      "台大醫院電腦當機　11時修復(123) 11:14 生活\n",
      "===================\n",
      "\n",
      "\n",
      "【特企】明杰現場飆高音 易恩獨演被吐槽 (1661)\n",
      "\n",
      "11:14 特企\n",
      "===================\n",
      "涉賭裁判爆料　100%的NBA裁判有在賭...(79) 11:13 體育\n",
      "===================\n",
      "逆向女騎士也有優先路權？　鄉民熱議(1483) 11:12 社會\n",
      "===================\n",
      "全球排名台大又下滑　吳思華：投資高教是必...(6) 11:12 生活\n",
      "===================\n",
      "新內閣最快23日備詢　陳學聖首邀鄭麗君報...(619) 11:09 政治\n",
      "===================\n",
      "夏普考慮空降社長　伊藤嘉明將出線？(685) 11:09 財經\n",
      "===================\n",
      "陳柏霖宋智孝甜蜜婚！她揭密「這才是真相」(1603) 11:07 生活\n",
      "===================\n",
      "法務部下周再赴中　協商馬國詐騙案32台人(280) 11:06 社會\n",
      "===================\n",
      "挺絕食抗議警察暴力　藝術家警局外獻劇《你...(189) 11:05 國際\n",
      "===================\n",
      "【央廣RTI】川普將獲提名  共和黨不改...(207) 11:05 國際\n",
      "===================\n",
      "【網路溫度計】解婕翎曝電玩癖好 最愛恐怖...(270) 11:04 娛樂\n",
      "===================\n",
      "公車改採里程計費等於漲價？北市府澄清：未...(2) 11:03 生活\n",
      "===================\n",
      "【雙全會】林全拜會蘇嘉全　兩人閉門會談1...(1161) 11:02 政治\n",
      "===================\n",
      "台人跨國詐欺未爆彈　羅瑩雪：還有10幾個...(12866) 11:02 社會\n",
      "===================\n",
      "美國國家科學院公佈新院士　5華裔入選(623) 11:02 國際\n",
      "===================\n",
      "男連夜開200公里返家　開到睡著撞電桿(1476) 11:01 社會\n",
      "===================\n",
      "驚呆！美魔女劉曉慶撞玻璃　整臉粉底竟留門...(3796) 11:00 娛樂\n"
     ]
    }
   ],
   "source": [
    "import requests\n",
    "from bs4 import BeautifulSoup as bs\n",
    "res = requests.get('http://www.appledaily.com.tw/realtimenews/section/new/', proxies=proxies)\n",
    "soup = bs(res.text)\n",
    "\n",
    "#print soup.select('a')\n",
    "print len(soup.select('li.rtddt'))\n",
    "for li in soup.select('li.rtddt'):\n",
    "    print \"===================\"\n",
    "    #print li\n",
    "    print li.select('h1')[0].text, li.select('time')[0].text, li.select('h2')[0].text"
   ]
  },
  {
   "cell_type": "code",
   "execution_count": 73,
   "metadata": {
    "collapsed": false
   },
   "outputs": [
    {
     "name": "stdout",
     "output_type": "stream",
     "text": [
      "helloworld\n"
     ]
    }
   ],
   "source": [
    "a = 'hello'\n",
    "b = 'world'\n",
    "print a + b"
   ]
  },
  {
   "cell_type": "code",
   "execution_count": 75,
   "metadata": {
    "collapsed": false
   },
   "outputs": [
    {
     "name": "stdout",
     "output_type": "stream",
     "text": [
      "True\n"
     ]
    }
   ],
   "source": [
    "s = 'apple'\n",
    "print s == 'apple'\n"
   ]
  },
  {
   "cell_type": "markdown",
   "metadata": {},
   "source": [
    "## Regular Expression"
   ]
  },
  {
   "cell_type": "code",
   "execution_count": 85,
   "metadata": {
    "collapsed": false
   },
   "outputs": [
    {
     "name": "stdout",
     "output_type": "stream",
     "text": [
      "a\n",
      "a\n",
      "a\n"
     ]
    }
   ],
   "source": [
    "import re\n",
    "a = 'apple'\n",
    "m  = re.match('a', a)\n",
    "print m.group(0)\n",
    "\n",
    "m  = re.match('[abcdefghhijklmnopqrstuvwxyz]', a)\n",
    "print m.group(0)\n",
    "\n",
    "m  = re.match('[a-z]', a)\n",
    "print m.group(0)"
   ]
  },
  {
   "cell_type": "code",
   "execution_count": 86,
   "metadata": {
    "collapsed": false
   },
   "outputs": [
    {
     "name": "stdout",
     "output_type": "stream",
     "text": [
      "1\n",
      "1\n",
      "1\n",
      "1\n"
     ]
    }
   ],
   "source": [
    "s = '1a2@'\n",
    "m  = re.match('1', s)\n",
    "print m.group(0)\n",
    "\n",
    "m  = re.match('[0123456789]', s)\n",
    "print m.group(0)\n",
    "\n",
    "m  = re.match('[0-9]', s)\n",
    "print m.group(0)\n",
    "\n",
    "m  = re.match('\\d', s)\n",
    "print m.group(0)"
   ]
  },
  {
   "cell_type": "code",
   "execution_count": 87,
   "metadata": {
    "collapsed": false
   },
   "outputs": [
    {
     "name": "stdout",
     "output_type": "stream",
     "text": [
      "b\n"
     ]
    }
   ],
   "source": [
    "s = 'b@#$#%^%$&^%&'\n",
    "m  = re.match('\\w', s)\n",
    "print m.group(0)"
   ]
  },
  {
   "cell_type": "code",
   "execution_count": 91,
   "metadata": {
    "collapsed": false
   },
   "outputs": [
    {
     "name": "stdout",
     "output_type": "stream",
     "text": [
      "apple\n",
      "apple\n",
      "apple\n",
      "apple\n",
      "apple\n"
     ]
    }
   ],
   "source": [
    "import re\n",
    "a = 'apple'\n",
    "m  = re.match('\\w{3,6}', a)\n",
    "print m.group(0)\n",
    "\n",
    "m  = re.match('\\w{0,}', a)\n",
    "print m.group(0)\n",
    "\n",
    "m  = re.match('\\w*', a) # {0, } => *\n",
    "print m.group(0)\n",
    "\n",
    "m  = re.match('\\w{1,}', a) \n",
    "print m.group(0)\n",
    "\n",
    "m  = re.match('\\w{1,}', a) # {1, } => +\n",
    "print m.group(0)"
   ]
  },
  {
   "cell_type": "code",
   "execution_count": 93,
   "metadata": {
    "collapsed": false
   },
   "outputs": [
    {
     "name": "stdout",
     "output_type": "stream",
     "text": [
      "0912345678\n",
      "0912\n",
      "0912\n",
      "091234567812301382908128302193802913\n"
     ]
    }
   ],
   "source": [
    "phone = ['0912345678', '0912-345-678', '0912-345678', '091234567812301382908128302193802913']\n",
    "import re\n",
    "for p in phone:\n",
    "    m = re.match('09\\d+', p)\n",
    "    print m.group(0)"
   ]
  },
  {
   "cell_type": "code",
   "execution_count": 94,
   "metadata": {
    "collapsed": false
   },
   "outputs": [
    {
     "name": "stdout",
     "output_type": "stream",
     "text": [
      "0912345678\n",
      "0912-345-678\n",
      "0912-345678\n",
      "0912345678\n"
     ]
    }
   ],
   "source": [
    "phone = ['0912345678', '0912-345-678', '0912-345678', '091234567812301382908128302193802913']\n",
    "import re\n",
    "for p in phone:\n",
    "    m = re.match('09\\d{2}-{0,1}\\d{3}-{0,1}\\d{3}', p) # {0,1} => ?\n",
    "    print m.group(0)"
   ]
  },
  {
   "cell_type": "code",
   "execution_count": 95,
   "metadata": {
    "collapsed": false
   },
   "outputs": [
    {
     "name": "stdout",
     "output_type": "stream",
     "text": [
      "0912345678\n",
      "0912-345-678\n",
      "0912-345678\n",
      "0912345678\n"
     ]
    }
   ],
   "source": [
    "phone = ['0912345678', '0912-345-678', '0912-345678', '091234567812301382908128302193802913']\n",
    "import re\n",
    "for p in phone:\n",
    "    m = re.match('09\\d{2}-?\\d{3}-?\\d{3}', p) # {0,1} => ?\n",
    "    print m.group(0)"
   ]
  },
  {
   "cell_type": "code",
   "execution_count": 97,
   "metadata": {
    "collapsed": false
   },
   "outputs": [
    {
     "name": "stdout",
     "output_type": "stream",
     "text": [
      "0912345678\n",
      "0912-345-678\n",
      "0912-345678\n"
     ]
    }
   ],
   "source": [
    "phone = ['0912345678', '0912-345-678', '0912-345678', '091234567812301382908128302193802913']\n",
    "import re\n",
    "for p in phone:\n",
    "    m = re.match('^09\\d{2}-?\\d{3}-?\\d{3}$', p) # ^ match initial, $ match end\n",
    "    if m:\n",
    "        print m.group(0)"
   ]
  },
  {
   "cell_type": "code",
   "execution_count": 74,
   "metadata": {
    "collapsed": false
   },
   "outputs": [
    {
     "name": "stdout",
     "output_type": "stream",
     "text": [
      "32\n",
      "===================\n",
      "【雙全會】談美豬　林全：談判前不應公開底...(0) 11:28 政治 http://www.appledaily.com.tw//realtimenews/article/politics/20160505/853672/【雙全會】談美豬　林全：談判前不應公開底線\n",
      "===================\n",
      "【民報】全球央行小心！匿名者揚言攻擊 希...(0) 11:27 財經 http://www.appledaily.com.tw//realtimenews/article/finance/20160505/853630/【民報】全球央行小心！匿名者揚言攻擊希臘已中招\n",
      "===================\n",
      "【雙全會】蘇嘉全：林全內閣沒有蜜月期(0) 11:27 政治 http://www.appledaily.com.tw//realtimenews/article/politics/20160505/853665/【雙全會】蘇嘉全：林全內閣沒有蜜月期\n",
      "===================\n",
      "\n",
      "\n",
      "【特企】靠它！銀髮一族享受活力趴趴走 (1318)\n",
      "\n",
      "11:27 特企 http://www.appledaily.com.tw/http://www.appledaily.com.tw/realtimenews/article/entertainment/20160505/853147/\n",
      "===================\n",
      "【央廣RTI】美印聯合反潛促同盟？學者：...(0) 11:25 國際 http://www.appledaily.com.tw//realtimenews/article/international/20160505/853670/【央廣RTI】美印聯合反潛促同盟？學者：恐非易事\n",
      "===================\n",
      "弱女子當關　擋300新納粹份子示威(0) 11:25 國際 http://www.appledaily.com.tw//realtimenews/article/international/20160505/853600/弱女子當關　擋300新納粹份子示威\n",
      "===================\n",
      "全球大學排名連3降　台大：國家競爭力下滑...(0) 11:24 生活 http://www.appledaily.com.tw//realtimenews/article/life/20160505/853645/全球大學排名連3降　台大：國家競爭力下滑的警訊\n",
      "===================\n",
      "明年經典賽韓國舉辦？　棒協：5月中旬才確...(75) 11:22 體育 http://www.appledaily.com.tw//realtimenews/article/sports/20160505/853671/明年經典賽韓國舉辦？　棒協：5月中旬才確定\n",
      "===================\n",
      "【民報游惠玲專欄】炒米粉，不炒！不吵！(28) 11:20 生活 http://www.appledaily.com.tw//realtimenews/article/life/20160505/853663/【民報游惠玲專欄】炒米粉，不炒！不吵！\n",
      "===================\n",
      "【更新】任內最後一次備詢　吳思華語錄在此...(706) 11:18 生活 http://www.appledaily.com.tw//realtimenews/article/life/20160505/853619/【更新】任內最後一次備詢　吳思華語錄在此！\n",
      "===================\n",
      "【更新】撤回課綱微調？　教育部長推給課審...(905) 11:15 生活 http://www.appledaily.com.tw//realtimenews/article/life/20160505/853570/【更新】撤回課綱微調？　教育部長推給課審會\n",
      "===================\n",
      "鵝媽媽的逆襲！　攻擊女童照片瘋傳(865) 11:15 國際 http://www.appledaily.com.tw//realtimenews/article/international/20160505/853637/鵝媽媽的逆襲！　攻擊女童照片瘋傳\n",
      "===================\n",
      "【央廣RTI】歐盟重返利比亞   馬爾他...(18) 11:15 國際 http://www.appledaily.com.tw//realtimenews/article/international/20160505/853658/【央廣RTI】歐盟重返利比亞馬爾他率先表態\n",
      "===================\n",
      "Apple Music被續約  去官網討...(302) 11:14 3C http://www.appledaily.com.tw//realtimenews/article/3c/20160505/853659/AppleMusic被續約去官網討錢\n",
      "===================\n",
      "台大醫院電腦當機　11時修復(123) 11:14 生活 http://www.appledaily.com.tw//realtimenews/article/life/20160505/853666/台大醫院電腦當機　11時修復\n",
      "===================\n",
      "\n",
      "\n",
      "【特企】明杰現場飆高音 易恩獨演被吐槽 (1661)\n",
      "\n",
      "11:14 特企 http://www.appledaily.com.tw/http://www.appledaily.com.tw/realtimenews/article/entertainment/20160505/853209/\n",
      "===================\n",
      "涉賭裁判爆料　100%的NBA裁判有在賭...(79) 11:13 體育 http://www.appledaily.com.tw//realtimenews/article/sports/20160505/853669/涉賭裁判爆料　100的NBA裁判有在賭\n",
      "===================\n",
      "逆向女騎士也有優先路權？　鄉民熱議(1483) 11:12 社會 http://www.appledaily.com.tw//realtimenews/article/local/20160505/853638/逆向女騎士也有優先路權？　鄉民熱議\n",
      "===================\n",
      "全球排名台大又下滑　吳思華：投資高教是必...(6) 11:12 生活 http://www.appledaily.com.tw//realtimenews/article/life/20160505/853661/全球排名台大又下滑　吳思華：投資高教是必要作為\n",
      "===================\n",
      "新內閣最快23日備詢　陳學聖首邀鄭麗君報...(619) 11:09 政治 http://www.appledaily.com.tw//realtimenews/article/politics/20160505/853651/新內閣最快23日備詢　陳學聖首邀鄭麗君報告\n",
      "===================\n",
      "夏普考慮空降社長　伊藤嘉明將出線？(685) 11:09 財經 http://www.appledaily.com.tw//realtimenews/article/finance/20160505/853653/夏普考慮空降社長　伊藤嘉明將出線？\n",
      "===================\n",
      "陳柏霖宋智孝甜蜜婚！她揭密「這才是真相」(1603) 11:07 生活 http://www.appledaily.com.tw//realtimenews/article/life/20160505/853656/陳柏霖宋智孝甜蜜婚！她揭密「這才是真相」\n",
      "===================\n",
      "法務部下周再赴中　協商馬國詐騙案32台人(280) 11:06 社會 http://www.appledaily.com.tw//realtimenews/article/local/20160505/853628/法務部下周再赴中　協商馬國詐騙案32台人\n",
      "===================\n",
      "挺絕食抗議警察暴力　藝術家警局外獻劇《你...(189) 11:05 國際 http://www.appledaily.com.tw//realtimenews/article/international/20160505/853649/挺絕食抗議警察暴力　藝術家警局外獻劇《你快哭了》\n",
      "===================\n",
      "【央廣RTI】川普將獲提名  共和黨不改...(207) 11:05 國際 http://www.appledaily.com.tw//realtimenews/article/international/20160505/853652/【央廣RTI】川普將獲提名共和黨不改反大法官提名立場\n",
      "===================\n",
      "【網路溫度計】解婕翎曝電玩癖好 最愛恐怖...(270) 11:04 娛樂 http://www.appledaily.com.tw//realtimenews/article/entertainment/20160505/853655/【網路溫度計】解婕翎曝電玩癖好最愛恐怖遊戲、閃電狼\n",
      "===================\n",
      "公車改採里程計費等於漲價？北市府澄清：未...(2) 11:03 生活 http://www.appledaily.com.tw//realtimenews/article/life/20160505/853654/公車改採里程計費等於漲價？北市府澄清：未定案\n",
      "===================\n",
      "【雙全會】林全拜會蘇嘉全　兩人閉門會談1...(1161) 11:02 政治 http://www.appledaily.com.tw//realtimenews/article/politics/20160505/853595/【雙全會】林全拜會蘇嘉全　兩人閉門會談1小時\n",
      "===================\n",
      "台人跨國詐欺未爆彈　羅瑩雪：還有10幾個...(12866) 11:02 社會 http://www.appledaily.com.tw//realtimenews/article/local/20160505/853635/台人跨國詐欺未爆彈　羅瑩雪：還有10幾個國家\n",
      "===================\n",
      "美國國家科學院公佈新院士　5華裔入選(623) 11:02 國際 http://www.appledaily.com.tw//realtimenews/article/international/20160505/853650/美國國家科學院公佈新院士　5華裔入選\n",
      "===================\n",
      "男連夜開200公里返家　開到睡著撞電桿(1476) 11:01 社會 http://www.appledaily.com.tw//realtimenews/article/local/20160505/853641/男連夜開200公里返家　開到睡著撞電桿\n",
      "===================\n",
      "驚呆！美魔女劉曉慶撞玻璃　整臉粉底竟留門...(3796) 11:00 娛樂 http://www.appledaily.com.tw//realtimenews/article/entertainment/20160505/853610/驚呆！美魔女劉曉慶撞玻璃　整臉粉底竟留門上\n"
     ]
    }
   ],
   "source": [
    "import requests\n",
    "from bs4 import BeautifulSoup as bs\n",
    "res = requests.get('http://www.appledaily.com.tw/realtimenews/section/new/', proxies=proxies)\n",
    "soup = bs(res.text)\n",
    "domain = 'http://www.appledaily.com.tw/'\n",
    "#print soup.select('a')\n",
    "print len(soup.select('li.rtddt'))\n",
    "for li in soup.select('li.rtddt'):\n",
    "    print \"===================\"\n",
    "    #print li\n",
    "    print li.select('h1')[0].text, \\\n",
    "          li.select('time')[0].text, \\\n",
    "          li.select('h2')[0].text, \\\n",
    "          domain + li.select('a')[0]['href']"
   ]
  },
  {
   "cell_type": "code",
   "execution_count": 99,
   "metadata": {
    "collapsed": false
   },
   "outputs": [
    {
     "name": "stdout",
     "output_type": "stream",
     "text": [
      "david@largitdata.com\n",
      "yoyo@gmail.com\n"
     ]
    }
   ],
   "source": [
    "import re\n",
    "emails = ['david@largitdata.com', 'hihi qoo', 'yoyo@gmail.com']\n",
    "for email in emails:\n",
    "    m = re.match('.+@.+' , email)\n",
    "    if m:\n",
    "        print m.group(0)"
   ]
  },
  {
   "cell_type": "code",
   "execution_count": 100,
   "metadata": {
    "collapsed": false
   },
   "outputs": [
    {
     "name": "stdout",
     "output_type": "stream",
     "text": [
      "david@largitdata.com\n",
      "david\n",
      "largitdata.com\n",
      "yoyo@gmail.com\n",
      "yoyo\n",
      "gmail.com\n"
     ]
    }
   ],
   "source": [
    "import re\n",
    "emails = ['david@largitdata.com', 'hihi qoo', 'yoyo@gmail.com']\n",
    "for email in emails:\n",
    "    m = re.match('(.+)@(.+)' , email)\n",
    "    if m:\n",
    "        print m.group(0)\n",
    "        print m.group(1)\n",
    "        print m.group(2)"
   ]
  },
  {
   "cell_type": "code",
   "execution_count": 101,
   "metadata": {
    "collapsed": false
   },
   "outputs": [
    {
     "name": "stdout",
     "output_type": "stream",
     "text": [
      "【更新】任內最後一次備詢　吳思華語錄在此...(706)\n",
      "【更新】任內最後一次備詢　吳思華語錄在此...\n",
      "706\n"
     ]
    }
   ],
   "source": [
    "import re\n",
    "s = '【更新】任內最後一次備詢　吳思華語錄在此...(706)'\n",
    "m = re.match('(.+)\\((\\d+)\\)', s) # . match anything (include \\d, \\w)\n",
    "print m.group(0) # s\n",
    "print m.group(1) # (.+)\n",
    "print m.group(2) # (\\d+)"
   ]
  },
  {
   "cell_type": "code",
   "execution_count": 106,
   "metadata": {
    "collapsed": false
   },
   "outputs": [
    {
     "name": "stdout",
     "output_type": "stream",
     "text": [
      "認了先知封號？炎亞綸「只想給各位一點啟發... 1000\n",
      "【有片】離譜父母醉上路　辱警還把2月兒當... 1000\n",
      "【央廣RTI】憂茲卡病毒  高球名將相繼... 1000\n",
      "【有片】台鐵埔心火車站火警　可先上車後補... 10938\n",
      "【有片】沒過氣！黎明直播開唱　13小時1... 1000\n",
      "扮女大鵰男又來了　持毒遭逮ㄋㄞ警「別害我... 1000\n",
      "​找特力屋刷漆　枯等兩月工人半天落跑 1000\n",
      "【去年已備戰？】宏達電VR獨立～雪紅姨玩... 5712\n",
      "支持川普？前總統布希父子都拒絕 1068\n",
      "蔡清祥接任調查局長？　童振源：並無此事 1046\n",
      "【有片】台大醫院電腦當機　門診、藥局大塞... 1185\n",
      "【雙全會】被問優先法案　林全：考倒我了 1044\n",
      "​【遠見】陸客少了三成，30萬旅遊業者一... 1101\n",
      "【公督盟】國會透明化，人民做頭家！ 1000\n",
      "【有片】看中職「小聲點」　新莊棒球場要納... 5091\n",
      "【有片】今高溫飆34℃　大台北、宜花防午... 19669\n",
      "球夾卡在手套咋辦？　燒餅夾蛋快傳一壘 1053\n",
      "控夫載女網友上摩鐵　沒扣衛生紙告不成 1631\n",
      "桌球最新世界排名出爐　臺灣取得奧運單打、... 1248\n",
      "【影片】訓練機降落意外　台東機場一度關閉 4560\n",
      "安捷飛機降落台東機場重落地　影響3班機逾... 1422\n",
      "大創亂象有如好市多？　「幾乎都是台灣人」 20781\n",
      "【雙全會】談美豬　林全：談判前不應公開底... 1641\n",
      "外交部：教廷派駐日大使參加520就職典禮 1264\n",
      "海研一號到沖繩近海調查遭日方刁難　科技部... 1015\n",
      "他寫給小英一封信　點出體育問題在這！ 2021\n",
      "【有片】北韓睽違36年　勞動黨大會活動搶... 2378\n",
      "新內閣23日備詢　林錫耀拜託手下留情 1453\n",
      "【雙全會】蘇嘉全：林全內閣沒有蜜月期 1414\n",
      "【有片】急速高空的愛情　男女公路天橋上翻... 2072\n"
     ]
    }
   ],
   "source": [
    "import requests\n",
    "from bs4 import BeautifulSoup as bs\n",
    "import re\n",
    "\n",
    "res = requests.get('http://www.appledaily.com.tw/realtimenews/section/new/', proxies=proxies)\n",
    "soup = bs(res.text)\n",
    "for li in soup.select('li.rtddt'):\n",
    "    title = li.select('h1')[0].text\n",
    "    m = re.match('(.+)\\((\\d+)\\)', title)\n",
    "    if m:\n",
    "        #print type(m.group(2))\n",
    "        print m.group(1), int(m.group(2)) + 1000"
   ]
  },
  {
   "cell_type": "code",
   "execution_count": 108,
   "metadata": {
    "collapsed": false
   },
   "outputs": [
    {
     "name": "stdout",
     "output_type": "stream",
     "text": [
      "法籍男鬧事被遣返　大鬧客艙拒離台 0 11:58 社會 http://www.appledaily.com.tw//realtimenews/article/local/20160505/853699/法籍男鬧事被遣返　大鬧客艙拒離台\n",
      "認了先知封號？炎亞綸「只想給各位一點啟發... 0 11:56 娛樂 http://www.appledaily.com.tw//realtimenews/article/entertainment/20160505/853705/認了先知封號？炎亞綸「只想給各位一點啟發」\n",
      "【有片】離譜父母醉上路　辱警還把2月兒當... 0 11:55 社會 http://www.appledaily.com.tw//realtimenews/article/local/20160505/853643/【有片】離譜父母醉上路　辱警還把2月兒當擋箭牌\n",
      "【央廣RTI】憂茲卡病毒  高球名將相繼... 0 11:55 國際 http://www.appledaily.com.tw//realtimenews/article/international/20160505/853697/【央廣RTI】憂茲卡病毒高球名將相繼退出里約奧運\n",
      "【央廣RTI】迎接母親節  台鐵新推2款... 0 11:55 生活 http://www.appledaily.com.tw//realtimenews/article/life/20160505/853702/【央廣RTI】迎接母親節台鐵新推2款幸福養生便當\n",
      "夏天來了　恆春、台南均創今年來新高溫紀錄 0 11:55 生活 http://www.appledaily.com.tw//realtimenews/article/life/20160505/853703/夏天來了　恆春、台南均創今年來新高溫紀錄\n",
      "【有片】台鐵埔心火車站火警　可先上車後補... 9938 11:54 社會 http://www.appledaily.com.tw//realtimenews/article/local/20160505/853481/【有片】台鐵埔心火車站火警　可先上車後補票\n",
      "【有片】沒過氣！黎明直播開唱　13小時1... 12 11:53 娛樂 http://www.appledaily.com.tw//realtimenews/article/entertainment/20160505/853684/【有片】沒過氣！黎明直播開唱　13小時121萬人次收看\n",
      "扮女大鵰男又來了　持毒遭逮ㄋㄞ警「別害我... 119 11:53 社會 http://www.appledaily.com.tw//realtimenews/article/local/20160505/853686/扮女大鵰男又來了　持毒遭逮ㄋㄞ警「別害我」\n",
      "​找特力屋刷漆　枯等兩月工人半天落跑 170 11:53 社會 http://www.appledaily.com.tw//realtimenews/article/local/20160505/853689/​找特力屋刷漆　枯等兩月工人半天落跑\n",
      "【去年已備戰？】宏達電VR獨立～雪紅姨玩... 4712 11:51 財經 http://www.appledaily.com.tw//realtimenews/article/finance/20160505/853522/【去年已備戰？】宏達電VR獨立～雪紅姨玩真的\n",
      "支持川普？前總統布希父子都拒絕 68 11:50 國際 http://www.appledaily.com.tw//realtimenews/article/international/20160505/853678/支持川普？前總統布希父子都拒絕\n",
      "蔡清祥接任調查局長？　童振源：並無此事 46 11:50 政治 http://www.appledaily.com.tw//realtimenews/article/politics/20160505/853701/蔡清祥接任調查局長？　童振源：並無此事\n",
      "【有片】台大醫院電腦當機　門診、藥局大塞... 185 11:47 生活 http://www.appledaily.com.tw//realtimenews/article/life/20160505/853690/【有片】台大醫院電腦當機　門診、藥局大塞車\n",
      "【雙全會】被問優先法案　林全：考倒我了 294 11:47 政治 http://www.appledaily.com.tw//realtimenews/article/politics/20160505/853695/【雙全會】被問優先法案　林全：考倒我了\n",
      "​【遠見】陸客少了三成，30萬旅遊業者一... 1137 11:47 政治 http://www.appledaily.com.tw//realtimenews/article/politics/20160505/853700/​【遠見】陸客少了三成，30萬旅遊業者一招斃命？\n",
      "【公督盟】國會透明化，人民做頭家！ 0 11:47 政治 http://www.appledaily.com.tw//realtimenews/article/politics/20160505/853704/【公督盟】國會透明化，人民做頭家！\n",
      "【有片】看中職「小聲點」　新莊棒球場要納... 4091 11:46 生活 http://www.appledaily.com.tw//realtimenews/article/life/20160505/853528/【有片】看中職「小聲點」　新莊棒球場要納管\n",
      "【有片】今高溫飆34℃　大台北、宜花防午... 18669 11:45 生活 http://www.appledaily.com.tw//realtimenews/article/life/20160505/853492/【有片】今高溫飆34℃　大台北、宜花防午後雷雨\n",
      "球夾卡在手套咋辦？　燒餅夾蛋快傳一壘 53 11:45 體育 http://www.appledaily.com.tw//realtimenews/article/sports/20160505/853698/球夾卡在手套咋辦？　燒餅夾蛋快傳一壘\n",
      "控夫載女網友上摩鐵　沒扣衛生紙告不成 924 11:44 社會 http://www.appledaily.com.tw//realtimenews/article/local/20160505/853685/控夫載女網友上摩鐵　沒扣衛生紙告不成\n",
      "桌球最新世界排名出爐　臺灣取得奧運單打、... 248 11:43 體育 http://www.appledaily.com.tw//realtimenews/article/sports/20160505/853696/桌球最新世界排名出爐　臺灣取得奧運單打、團體滿額\n",
      "【影片】訓練機降落意外　台東機場一度關閉 3741 11:42 社會 http://www.appledaily.com.tw//realtimenews/article/local/20160505/853642/【影片】訓練機降落意外　台東機場一度關閉\n",
      "安捷飛機降落台東機場重落地　影響3班機逾... 588 11:42 生活 http://www.appledaily.com.tw//realtimenews/article/life/20160505/853675/安捷飛機降落台東機場重落地　影響3班機逾百旅客\n",
      "大創亂象有如好市多？　「幾乎都是台灣人」 19781 11:41 社會 http://www.appledaily.com.tw//realtimenews/article/local/20160505/853580/大創亂象有如好市多？　「幾乎都是台灣人」\n",
      "【雙全會】談美豬　林全：談判前不應公開底... 699 11:41 政治 http://www.appledaily.com.tw//realtimenews/article/politics/20160505/853672/【雙全會】談美豬　林全：談判前不應公開底線\n",
      "外交部：教廷派駐日大使參加520就職典禮 264 11:40 政治 http://www.appledaily.com.tw//realtimenews/article/politics/20160505/853680/外交部：教廷派駐日大使參加520就職典禮\n",
      "海研一號到沖繩近海調查遭日方刁難　科技部... 148 11:40 生活 http://www.appledaily.com.tw//realtimenews/article/life/20160505/853688/海研一號到沖繩近海調查遭日方刁難　科技部：是常態\n",
      "他寫給小英一封信　點出體育問題在這！ 1021 11:37 體育 http://www.appledaily.com.tw//realtimenews/article/sports/20160505/853687/他寫給小英一封信　點出體育問題在這！\n",
      "【有片】北韓睽違36年　勞動黨大會活動搶... 1417 11:35 國際 http://www.appledaily.com.tw//realtimenews/article/international/20160505/853546/【有片】北韓睽違36年　勞動黨大會活動搶先看\n"
     ]
    }
   ],
   "source": [
    "import requests\n",
    "from bs4 import BeautifulSoup as bs\n",
    "import re\n",
    "res = requests.get('http://www.appledaily.com.tw/realtimenews/section/new/', proxies=proxies)\n",
    "soup = bs(res.text)\n",
    "domain = 'http://www.appledaily.com.tw/'\n",
    "\n",
    "for li in soup.select('li.rtddt'):\n",
    "    h1 = li.select('h1')[0].text\n",
    "    time  = li.select('time')[0].text\n",
    "    category = li.select('h2')[0].text\n",
    "    link = domain + li.select('a')[0]['href']\n",
    "    m = re.match('(.+)\\((\\d+)\\)', h1)\n",
    "    if m:\n",
    "        title =  m.group(1)\n",
    "        view_cnt = int(m.group(2))\n",
    "        print title, view_cnt, time, category, link"
   ]
  },
  {
   "cell_type": "code",
   "execution_count": 109,
   "metadata": {
    "collapsed": false
   },
   "outputs": [
    {
     "data": {
      "text/html": [
       "<div>\n",
       "<table border=\"1\" class=\"dataframe\">\n",
       "  <thead>\n",
       "    <tr style=\"text-align: right;\">\n",
       "      <th></th>\n",
       "      <th>category</th>\n",
       "      <th>link</th>\n",
       "      <th>time</th>\n",
       "      <th>title</th>\n",
       "      <th>view_cnt</th>\n",
       "    </tr>\n",
       "  </thead>\n",
       "  <tbody>\n",
       "    <tr>\n",
       "      <th>0</th>\n",
       "      <td>社會</td>\n",
       "      <td>http://www.appledaily.com.tw//realtimenews/art...</td>\n",
       "      <td>11:58</td>\n",
       "      <td>法籍男鬧事被遣返　大鬧客艙拒離台</td>\n",
       "      <td>0</td>\n",
       "    </tr>\n",
       "    <tr>\n",
       "      <th>1</th>\n",
       "      <td>娛樂</td>\n",
       "      <td>http://www.appledaily.com.tw//realtimenews/art...</td>\n",
       "      <td>11:56</td>\n",
       "      <td>認了先知封號？炎亞綸「只想給各位一點啟發...</td>\n",
       "      <td>0</td>\n",
       "    </tr>\n",
       "    <tr>\n",
       "      <th>2</th>\n",
       "      <td>社會</td>\n",
       "      <td>http://www.appledaily.com.tw//realtimenews/art...</td>\n",
       "      <td>11:55</td>\n",
       "      <td>【有片】離譜父母醉上路　辱警還把2月兒當...</td>\n",
       "      <td>0</td>\n",
       "    </tr>\n",
       "    <tr>\n",
       "      <th>3</th>\n",
       "      <td>國際</td>\n",
       "      <td>http://www.appledaily.com.tw//realtimenews/art...</td>\n",
       "      <td>11:55</td>\n",
       "      <td>【央廣RTI】憂茲卡病毒  高球名將相繼...</td>\n",
       "      <td>0</td>\n",
       "    </tr>\n",
       "    <tr>\n",
       "      <th>4</th>\n",
       "      <td>生活</td>\n",
       "      <td>http://www.appledaily.com.tw//realtimenews/art...</td>\n",
       "      <td>11:55</td>\n",
       "      <td>【央廣RTI】迎接母親節  台鐵新推2款...</td>\n",
       "      <td>0</td>\n",
       "    </tr>\n",
       "    <tr>\n",
       "      <th>5</th>\n",
       "      <td>生活</td>\n",
       "      <td>http://www.appledaily.com.tw//realtimenews/art...</td>\n",
       "      <td>11:55</td>\n",
       "      <td>夏天來了　恆春、台南均創今年來新高溫紀錄</td>\n",
       "      <td>0</td>\n",
       "    </tr>\n",
       "    <tr>\n",
       "      <th>6</th>\n",
       "      <td>社會</td>\n",
       "      <td>http://www.appledaily.com.tw//realtimenews/art...</td>\n",
       "      <td>11:54</td>\n",
       "      <td>【有片】台鐵埔心火車站火警　可先上車後補...</td>\n",
       "      <td>9938</td>\n",
       "    </tr>\n",
       "    <tr>\n",
       "      <th>7</th>\n",
       "      <td>娛樂</td>\n",
       "      <td>http://www.appledaily.com.tw//realtimenews/art...</td>\n",
       "      <td>11:53</td>\n",
       "      <td>【有片】沒過氣！黎明直播開唱　13小時1...</td>\n",
       "      <td>12</td>\n",
       "    </tr>\n",
       "    <tr>\n",
       "      <th>8</th>\n",
       "      <td>社會</td>\n",
       "      <td>http://www.appledaily.com.tw//realtimenews/art...</td>\n",
       "      <td>11:53</td>\n",
       "      <td>扮女大鵰男又來了　持毒遭逮ㄋㄞ警「別害我...</td>\n",
       "      <td>119</td>\n",
       "    </tr>\n",
       "    <tr>\n",
       "      <th>9</th>\n",
       "      <td>社會</td>\n",
       "      <td>http://www.appledaily.com.tw//realtimenews/art...</td>\n",
       "      <td>11:53</td>\n",
       "      <td>​找特力屋刷漆　枯等兩月工人半天落跑</td>\n",
       "      <td>170</td>\n",
       "    </tr>\n",
       "    <tr>\n",
       "      <th>10</th>\n",
       "      <td>財經</td>\n",
       "      <td>http://www.appledaily.com.tw//realtimenews/art...</td>\n",
       "      <td>11:51</td>\n",
       "      <td>【去年已備戰？】宏達電VR獨立～雪紅姨玩...</td>\n",
       "      <td>4712</td>\n",
       "    </tr>\n",
       "    <tr>\n",
       "      <th>11</th>\n",
       "      <td>國際</td>\n",
       "      <td>http://www.appledaily.com.tw//realtimenews/art...</td>\n",
       "      <td>11:50</td>\n",
       "      <td>支持川普？前總統布希父子都拒絕</td>\n",
       "      <td>68</td>\n",
       "    </tr>\n",
       "    <tr>\n",
       "      <th>12</th>\n",
       "      <td>政治</td>\n",
       "      <td>http://www.appledaily.com.tw//realtimenews/art...</td>\n",
       "      <td>11:50</td>\n",
       "      <td>蔡清祥接任調查局長？　童振源：並無此事</td>\n",
       "      <td>46</td>\n",
       "    </tr>\n",
       "    <tr>\n",
       "      <th>13</th>\n",
       "      <td>生活</td>\n",
       "      <td>http://www.appledaily.com.tw//realtimenews/art...</td>\n",
       "      <td>11:47</td>\n",
       "      <td>【有片】台大醫院電腦當機　門診、藥局大塞...</td>\n",
       "      <td>185</td>\n",
       "    </tr>\n",
       "    <tr>\n",
       "      <th>14</th>\n",
       "      <td>政治</td>\n",
       "      <td>http://www.appledaily.com.tw//realtimenews/art...</td>\n",
       "      <td>11:47</td>\n",
       "      <td>【雙全會】被問優先法案　林全：考倒我了</td>\n",
       "      <td>294</td>\n",
       "    </tr>\n",
       "    <tr>\n",
       "      <th>15</th>\n",
       "      <td>政治</td>\n",
       "      <td>http://www.appledaily.com.tw//realtimenews/art...</td>\n",
       "      <td>11:47</td>\n",
       "      <td>​【遠見】陸客少了三成，30萬旅遊業者一...</td>\n",
       "      <td>1137</td>\n",
       "    </tr>\n",
       "    <tr>\n",
       "      <th>16</th>\n",
       "      <td>政治</td>\n",
       "      <td>http://www.appledaily.com.tw//realtimenews/art...</td>\n",
       "      <td>11:47</td>\n",
       "      <td>【公督盟】國會透明化，人民做頭家！</td>\n",
       "      <td>0</td>\n",
       "    </tr>\n",
       "    <tr>\n",
       "      <th>17</th>\n",
       "      <td>生活</td>\n",
       "      <td>http://www.appledaily.com.tw//realtimenews/art...</td>\n",
       "      <td>11:46</td>\n",
       "      <td>【有片】看中職「小聲點」　新莊棒球場要納...</td>\n",
       "      <td>4091</td>\n",
       "    </tr>\n",
       "    <tr>\n",
       "      <th>18</th>\n",
       "      <td>生活</td>\n",
       "      <td>http://www.appledaily.com.tw//realtimenews/art...</td>\n",
       "      <td>11:45</td>\n",
       "      <td>【有片】今高溫飆34℃　大台北、宜花防午...</td>\n",
       "      <td>18669</td>\n",
       "    </tr>\n",
       "    <tr>\n",
       "      <th>19</th>\n",
       "      <td>體育</td>\n",
       "      <td>http://www.appledaily.com.tw//realtimenews/art...</td>\n",
       "      <td>11:45</td>\n",
       "      <td>球夾卡在手套咋辦？　燒餅夾蛋快傳一壘</td>\n",
       "      <td>53</td>\n",
       "    </tr>\n",
       "    <tr>\n",
       "      <th>20</th>\n",
       "      <td>社會</td>\n",
       "      <td>http://www.appledaily.com.tw//realtimenews/art...</td>\n",
       "      <td>11:44</td>\n",
       "      <td>控夫載女網友上摩鐵　沒扣衛生紙告不成</td>\n",
       "      <td>924</td>\n",
       "    </tr>\n",
       "    <tr>\n",
       "      <th>21</th>\n",
       "      <td>體育</td>\n",
       "      <td>http://www.appledaily.com.tw//realtimenews/art...</td>\n",
       "      <td>11:43</td>\n",
       "      <td>桌球最新世界排名出爐　臺灣取得奧運單打、...</td>\n",
       "      <td>248</td>\n",
       "    </tr>\n",
       "    <tr>\n",
       "      <th>22</th>\n",
       "      <td>社會</td>\n",
       "      <td>http://www.appledaily.com.tw//realtimenews/art...</td>\n",
       "      <td>11:42</td>\n",
       "      <td>【影片】訓練機降落意外　台東機場一度關閉</td>\n",
       "      <td>3741</td>\n",
       "    </tr>\n",
       "    <tr>\n",
       "      <th>23</th>\n",
       "      <td>生活</td>\n",
       "      <td>http://www.appledaily.com.tw//realtimenews/art...</td>\n",
       "      <td>11:42</td>\n",
       "      <td>安捷飛機降落台東機場重落地　影響3班機逾...</td>\n",
       "      <td>588</td>\n",
       "    </tr>\n",
       "    <tr>\n",
       "      <th>24</th>\n",
       "      <td>社會</td>\n",
       "      <td>http://www.appledaily.com.tw//realtimenews/art...</td>\n",
       "      <td>11:41</td>\n",
       "      <td>大創亂象有如好市多？　「幾乎都是台灣人」</td>\n",
       "      <td>19781</td>\n",
       "    </tr>\n",
       "    <tr>\n",
       "      <th>25</th>\n",
       "      <td>政治</td>\n",
       "      <td>http://www.appledaily.com.tw//realtimenews/art...</td>\n",
       "      <td>11:41</td>\n",
       "      <td>【雙全會】談美豬　林全：談判前不應公開底...</td>\n",
       "      <td>699</td>\n",
       "    </tr>\n",
       "    <tr>\n",
       "      <th>26</th>\n",
       "      <td>政治</td>\n",
       "      <td>http://www.appledaily.com.tw//realtimenews/art...</td>\n",
       "      <td>11:40</td>\n",
       "      <td>外交部：教廷派駐日大使參加520就職典禮</td>\n",
       "      <td>264</td>\n",
       "    </tr>\n",
       "    <tr>\n",
       "      <th>27</th>\n",
       "      <td>生活</td>\n",
       "      <td>http://www.appledaily.com.tw//realtimenews/art...</td>\n",
       "      <td>11:40</td>\n",
       "      <td>海研一號到沖繩近海調查遭日方刁難　科技部...</td>\n",
       "      <td>148</td>\n",
       "    </tr>\n",
       "    <tr>\n",
       "      <th>28</th>\n",
       "      <td>體育</td>\n",
       "      <td>http://www.appledaily.com.tw//realtimenews/art...</td>\n",
       "      <td>11:37</td>\n",
       "      <td>他寫給小英一封信　點出體育問題在這！</td>\n",
       "      <td>1021</td>\n",
       "    </tr>\n",
       "    <tr>\n",
       "      <th>29</th>\n",
       "      <td>國際</td>\n",
       "      <td>http://www.appledaily.com.tw//realtimenews/art...</td>\n",
       "      <td>11:35</td>\n",
       "      <td>【有片】北韓睽違36年　勞動黨大會活動搶...</td>\n",
       "      <td>1417</td>\n",
       "    </tr>\n",
       "  </tbody>\n",
       "</table>\n",
       "</div>"
      ],
      "text/plain": [
       "   category                                               link   time  \\\n",
       "0        社會  http://www.appledaily.com.tw//realtimenews/art...  11:58   \n",
       "1        娛樂  http://www.appledaily.com.tw//realtimenews/art...  11:56   \n",
       "2        社會  http://www.appledaily.com.tw//realtimenews/art...  11:55   \n",
       "3        國際  http://www.appledaily.com.tw//realtimenews/art...  11:55   \n",
       "4        生活  http://www.appledaily.com.tw//realtimenews/art...  11:55   \n",
       "5        生活  http://www.appledaily.com.tw//realtimenews/art...  11:55   \n",
       "6        社會  http://www.appledaily.com.tw//realtimenews/art...  11:54   \n",
       "7        娛樂  http://www.appledaily.com.tw//realtimenews/art...  11:53   \n",
       "8        社會  http://www.appledaily.com.tw//realtimenews/art...  11:53   \n",
       "9        社會  http://www.appledaily.com.tw//realtimenews/art...  11:53   \n",
       "10       財經  http://www.appledaily.com.tw//realtimenews/art...  11:51   \n",
       "11       國際  http://www.appledaily.com.tw//realtimenews/art...  11:50   \n",
       "12       政治  http://www.appledaily.com.tw//realtimenews/art...  11:50   \n",
       "13       生活  http://www.appledaily.com.tw//realtimenews/art...  11:47   \n",
       "14       政治  http://www.appledaily.com.tw//realtimenews/art...  11:47   \n",
       "15       政治  http://www.appledaily.com.tw//realtimenews/art...  11:47   \n",
       "16       政治  http://www.appledaily.com.tw//realtimenews/art...  11:47   \n",
       "17       生活  http://www.appledaily.com.tw//realtimenews/art...  11:46   \n",
       "18       生活  http://www.appledaily.com.tw//realtimenews/art...  11:45   \n",
       "19       體育  http://www.appledaily.com.tw//realtimenews/art...  11:45   \n",
       "20       社會  http://www.appledaily.com.tw//realtimenews/art...  11:44   \n",
       "21       體育  http://www.appledaily.com.tw//realtimenews/art...  11:43   \n",
       "22       社會  http://www.appledaily.com.tw//realtimenews/art...  11:42   \n",
       "23       生活  http://www.appledaily.com.tw//realtimenews/art...  11:42   \n",
       "24       社會  http://www.appledaily.com.tw//realtimenews/art...  11:41   \n",
       "25       政治  http://www.appledaily.com.tw//realtimenews/art...  11:41   \n",
       "26       政治  http://www.appledaily.com.tw//realtimenews/art...  11:40   \n",
       "27       生活  http://www.appledaily.com.tw//realtimenews/art...  11:40   \n",
       "28       體育  http://www.appledaily.com.tw//realtimenews/art...  11:37   \n",
       "29       國際  http://www.appledaily.com.tw//realtimenews/art...  11:35   \n",
       "\n",
       "                      title  view_cnt  \n",
       "0          法籍男鬧事被遣返　大鬧客艙拒離台         0  \n",
       "1   認了先知封號？炎亞綸「只想給各位一點啟發...         0  \n",
       "2   【有片】離譜父母醉上路　辱警還把2月兒當...         0  \n",
       "3   【央廣RTI】憂茲卡病毒  高球名將相繼...         0  \n",
       "4   【央廣RTI】迎接母親節  台鐵新推2款...         0  \n",
       "5      夏天來了　恆春、台南均創今年來新高溫紀錄         0  \n",
       "6   【有片】台鐵埔心火車站火警　可先上車後補...      9938  \n",
       "7   【有片】沒過氣！黎明直播開唱　13小時1...        12  \n",
       "8   扮女大鵰男又來了　持毒遭逮ㄋㄞ警「別害我...       119  \n",
       "9        ​找特力屋刷漆　枯等兩月工人半天落跑       170  \n",
       "10  【去年已備戰？】宏達電VR獨立～雪紅姨玩...      4712  \n",
       "11          支持川普？前總統布希父子都拒絕        68  \n",
       "12      蔡清祥接任調查局長？　童振源：並無此事        46  \n",
       "13  【有片】台大醫院電腦當機　門診、藥局大塞...       185  \n",
       "14      【雙全會】被問優先法案　林全：考倒我了       294  \n",
       "15  ​【遠見】陸客少了三成，30萬旅遊業者一...      1137  \n",
       "16        【公督盟】國會透明化，人民做頭家！         0  \n",
       "17  【有片】看中職「小聲點」　新莊棒球場要納...      4091  \n",
       "18  【有片】今高溫飆34℃　大台北、宜花防午...     18669  \n",
       "19       球夾卡在手套咋辦？　燒餅夾蛋快傳一壘        53  \n",
       "20       控夫載女網友上摩鐵　沒扣衛生紙告不成       924  \n",
       "21  桌球最新世界排名出爐　臺灣取得奧運單打、...       248  \n",
       "22     【影片】訓練機降落意外　台東機場一度關閉      3741  \n",
       "23  安捷飛機降落台東機場重落地　影響3班機逾...       588  \n",
       "24     大創亂象有如好市多？　「幾乎都是台灣人」     19781  \n",
       "25  【雙全會】談美豬　林全：談判前不應公開底...       699  \n",
       "26     外交部：教廷派駐日大使參加520就職典禮       264  \n",
       "27  海研一號到沖繩近海調查遭日方刁難　科技部...       148  \n",
       "28       他寫給小英一封信　點出體育問題在這！      1021  \n",
       "29  【有片】北韓睽違36年　勞動黨大會活動搶...      1417  "
      ]
     },
     "execution_count": 109,
     "metadata": {},
     "output_type": "execute_result"
    }
   ],
   "source": [
    "import requests\n",
    "from bs4 import BeautifulSoup as bs\n",
    "import re\n",
    "import pandas as pd\n",
    "\n",
    "res = requests.get('http://www.appledaily.com.tw/realtimenews/section/new/', proxies=proxies)\n",
    "soup = bs(res.text)\n",
    "domain = 'http://www.appledaily.com.tw/'\n",
    "\n",
    "news = []\n",
    "for li in soup.select('li.rtddt'):\n",
    "    h1 = li.select('h1')[0].text\n",
    "    time  = li.select('time')[0].text\n",
    "    category = li.select('h2')[0].text\n",
    "    link = domain + li.select('a')[0]['href']\n",
    "    m = re.match('(.+)\\((\\d+)\\)', h1)\n",
    "    if m:\n",
    "        title =  m.group(1)\n",
    "        view_cnt = int(m.group(2))\n",
    "        news.append({'title':title, 'view_cnt':view_cnt, \\\n",
    "                     'time':time, 'category':category, 'link':link})\n",
    "df = pd.DataFrame(news)\n",
    "df"
   ]
  }
 ],
 "metadata": {
  "kernelspec": {
   "display_name": "Python 2",
   "language": "python",
   "name": "python2"
  },
  "language_info": {
   "codemirror_mode": {
    "name": "ipython",
    "version": 2
   },
   "file_extension": ".py",
   "mimetype": "text/x-python",
   "name": "python",
   "nbconvert_exporter": "python",
   "pygments_lexer": "ipython2",
   "version": "2.7.11"
  }
 },
 "nbformat": 4,
 "nbformat_minor": 0
}
