{
 "cells": [
  {
   "cell_type": "code",
   "execution_count": 1,
   "metadata": {
    "collapsed": false
   },
   "outputs": [
    {
     "data": {
      "text/plain": [
       "5"
      ]
     },
     "execution_count": 1,
     "metadata": {},
     "output_type": "execute_result"
    }
   ],
   "source": [
    "a = 3 \n",
    "b = 2\n",
    "a + b"
   ]
  },
  {
   "cell_type": "code",
   "execution_count": 2,
   "metadata": {
    "collapsed": false
   },
   "outputs": [
    {
     "name": "stdout",
     "output_type": "stream",
     "text": [
      "6\n"
     ]
    }
   ],
   "source": [
    "print a + 3"
   ]
  },
  {
   "cell_type": "code",
   "execution_count": 5,
   "metadata": {
    "collapsed": false
   },
   "outputs": [
    {
     "name": "stdout",
     "output_type": "stream",
     "text": [
      "Help on package requests:\n",
      "\n",
      "NAME\n",
      "    requests\n",
      "\n",
      "FILE\n",
      "    c:\\anaconda2\\lib\\site-packages\\requests\\__init__.py\n",
      "\n",
      "DESCRIPTION\n",
      "    Requests HTTP library\n",
      "    ~~~~~~~~~~~~~~~~~~~~~\n",
      "    \n",
      "    Requests is an HTTP library, written in Python, for human beings. Basic GET\n",
      "    usage:\n",
      "    \n",
      "       >>> import requests\n",
      "       >>> r = requests.get('https://www.python.org')\n",
      "       >>> r.status_code\n",
      "       200\n",
      "       >>> 'Python is a programming language' in r.content\n",
      "       True\n",
      "    \n",
      "    ... or POST:\n",
      "    \n",
      "       >>> payload = dict(key1='value1', key2='value2')\n",
      "       >>> r = requests.post('http://httpbin.org/post', data=payload)\n",
      "       >>> print(r.text)\n",
      "       {\n",
      "         ...\n",
      "         \"form\": {\n",
      "           \"key2\": \"value2\",\n",
      "           \"key1\": \"value1\"\n",
      "         },\n",
      "         ...\n",
      "       }\n",
      "    \n",
      "    The other HTTP methods are supported - see `requests.api`. Full documentation\n",
      "    is at <http://python-requests.org>.\n",
      "    \n",
      "    :copyright: (c) 2015 by Kenneth Reitz.\n",
      "    :license: Apache 2.0, see LICENSE for more details.\n",
      "\n",
      "PACKAGE CONTENTS\n",
      "    adapters\n",
      "    api\n",
      "    auth\n",
      "    certs\n",
      "    compat\n",
      "    cookies\n",
      "    exceptions\n",
      "    hooks\n",
      "    models\n",
      "    packages (package)\n",
      "    sessions\n",
      "    status_codes\n",
      "    structures\n",
      "    utils\n",
      "\n",
      "DATA\n",
      "    __author__ = 'Kenneth Reitz'\n",
      "    __build__ = 133377\n",
      "    __copyright__ = 'Copyright 2015 Kenneth Reitz'\n",
      "    __license__ = 'Apache 2.0'\n",
      "    __title__ = 'requests'\n",
      "    __version__ = '2.9.1'\n",
      "    codes = <lookup 'status_codes'>\n",
      "\n",
      "VERSION\n",
      "    2.9.1\n",
      "\n",
      "AUTHOR\n",
      "    Kenneth Reitz\n",
      "\n",
      "\n"
     ]
    }
   ],
   "source": [
    "import requests\n",
    "dir(requests)\n",
    "help(requests)\n",
    "?requests"
   ]
  },
  {
   "cell_type": "code",
   "execution_count": 6,
   "metadata": {
    "collapsed": false
   },
   "outputs": [
    {
     "data": {
      "text/plain": [
       "['__abs__',\n",
       " '__add__',\n",
       " '__class__',\n",
       " '__coerce__',\n",
       " '__delattr__',\n",
       " '__div__',\n",
       " '__divmod__',\n",
       " '__doc__',\n",
       " '__eq__',\n",
       " '__float__',\n",
       " '__floordiv__',\n",
       " '__format__',\n",
       " '__ge__',\n",
       " '__getattribute__',\n",
       " '__getformat__',\n",
       " '__getnewargs__',\n",
       " '__gt__',\n",
       " '__hash__',\n",
       " '__init__',\n",
       " '__int__',\n",
       " '__le__',\n",
       " '__long__',\n",
       " '__lt__',\n",
       " '__mod__',\n",
       " '__mul__',\n",
       " '__ne__',\n",
       " '__neg__',\n",
       " '__new__',\n",
       " '__nonzero__',\n",
       " '__pos__',\n",
       " '__pow__',\n",
       " '__radd__',\n",
       " '__rdiv__',\n",
       " '__rdivmod__',\n",
       " '__reduce__',\n",
       " '__reduce_ex__',\n",
       " '__repr__',\n",
       " '__rfloordiv__',\n",
       " '__rmod__',\n",
       " '__rmul__',\n",
       " '__rpow__',\n",
       " '__rsub__',\n",
       " '__rtruediv__',\n",
       " '__setattr__',\n",
       " '__setformat__',\n",
       " '__sizeof__',\n",
       " '__str__',\n",
       " '__sub__',\n",
       " '__subclasshook__',\n",
       " '__truediv__',\n",
       " '__trunc__',\n",
       " 'as_integer_ratio',\n",
       " 'conjugate',\n",
       " 'fromhex',\n",
       " 'hex',\n",
       " 'imag',\n",
       " 'is_integer',\n",
       " 'real']"
      ]
     },
     "execution_count": 6,
     "metadata": {},
     "output_type": "execute_result"
    }
   ],
   "source": [
    "dir(3.14)"
   ]
  },
  {
   "cell_type": "markdown",
   "metadata": {},
   "source": [
    "## Python requests"
   ]
  },
  {
   "cell_type": "code",
   "execution_count": null,
   "metadata": {
    "collapsed": true
   },
   "outputs": [],
   "source": [
    "import requests\n",
    "res = requests.get('http://www.appledaily.com.tw/realtimenews/section/new/')\n",
    "print res"
   ]
  },
  {
   "cell_type": "code",
   "execution_count": 29,
   "metadata": {
    "collapsed": false
   },
   "outputs": [
    {
     "name": "stdout",
     "output_type": "stream",
     "text": [
      "<Response [200]>\n"
     ]
    }
   ],
   "source": [
    "import requests\n",
    "proxies = {\n",
    "  'http': 'http://proxy.cht.com.tw:8080',\n",
    "  'https': 'http://proxy.cht.com.tw:8080',\n",
    "}\n",
    "res = requests.get('http://www.appledaily.com.tw/realtimenews/section/new/', proxies=proxies)\n",
    "print res"
   ]
  },
  {
   "cell_type": "code",
   "execution_count": 30,
   "metadata": {
    "collapsed": false
   },
   "outputs": [
    {
     "name": "stdout",
     "output_type": "stream",
     "text": [
      "<class 'requests.models.Response'>\n"
     ]
    }
   ],
   "source": [
    "print type(res)"
   ]
  },
  {
   "cell_type": "code",
   "execution_count": 12,
   "metadata": {
    "collapsed": false
   },
   "outputs": [
    {
     "name": "stdout",
     "output_type": "stream",
     "text": [
      "['__attrs__', '__bool__', '__class__', '__delattr__', '__dict__', '__doc__', '__format__', '__getattribute__', '__getstate__', '__hash__', '__init__', '__iter__', '__module__', '__new__', '__nonzero__', '__reduce__', '__reduce_ex__', '__repr__', '__setattr__', '__setstate__', '__sizeof__', '__str__', '__subclasshook__', '__weakref__', '_content', '_content_consumed', 'apparent_encoding', 'close', 'connection', 'content', 'cookies', 'elapsed', 'encoding', 'headers', 'history', 'is_permanent_redirect', 'is_redirect', 'iter_content', 'iter_lines', 'json', 'links', 'ok', 'raise_for_status', 'raw', 'reason', 'request', 'status_code', 'text', 'url']\n",
      "{'Content-Length': '15368', 'Content-Encoding': 'gzip', 'Age': '0', 'Vary': 'Accept-Encoding', 'Server': 'Apache', 'Connection': 'close', 'Date': 'Thu, 05 May 2016 02:09:07 GMT', 'Content-Type': 'text/html; charset=utf-8'}\n",
      "http://www.appledaily.com.tw/realtimenews/section/new/\n"
     ]
    }
   ],
   "source": [
    "print dir(res)\n",
    "print res.headers\n",
    "print res.url"
   ]
  },
  {
   "cell_type": "code",
   "execution_count": 13,
   "metadata": {
    "collapsed": false
   },
   "outputs": [],
   "source": [
    "#print res.text"
   ]
  },
  {
   "cell_type": "code",
   "execution_count": 18,
   "metadata": {
    "collapsed": false
   },
   "outputs": [
    {
     "name": "stdout",
     "output_type": "stream",
     "text": [
      "ISO-8859-1\n",
      "utf-8\n"
     ]
    }
   ],
   "source": [
    "import requests\n",
    "res = requests.get('http://www.cht.com.tw/', proxies = proxies)\n",
    "print res.encoding\n",
    "res.encoding = 'utf-8'\n",
    "print res.encoding\n",
    "#print res.text"
   ]
  },
  {
   "cell_type": "code",
   "execution_count": 19,
   "metadata": {
    "collapsed": false
   },
   "outputs": [
    {
     "name": "stdout",
     "output_type": "stream",
     "text": [
      "2\n"
     ]
    }
   ],
   "source": [
    "dic = {'a': 1, 'b':2 , 'c':4}\n",
    "print  dic['b']"
   ]
  },
  {
   "cell_type": "code",
   "execution_count": 23,
   "metadata": {
    "collapsed": false
   },
   "outputs": [],
   "source": [
    "import requests\n",
    "payload = {\n",
    "'StartStation':'977abb69-413a-4ccf-a109-0272c24fd490',\n",
    "'EndStation':'e6e26e66-7dc1-458f-b2f3-71ce65fdc95f',\n",
    "'SearchDate':'2016/05/05',\n",
    "'SearchTime':'10:30',\n",
    "'SearchWay':'DepartureInMandarin'\n",
    "}\n",
    "\n",
    "res = requests.post('https://www.thsrc.com.tw/tw/TimeTable/SearchResult', data=payload, proxies = proxies)\n",
    "#print res.text"
   ]
  },
  {
   "cell_type": "markdown",
   "metadata": {},
   "source": [
    "## BeautifulSoup"
   ]
  },
  {
   "cell_type": "code",
   "execution_count": 31,
   "metadata": {
    "collapsed": false
   },
   "outputs": [
    {
     "name": "stdout",
     "output_type": "stream",
     "text": [
      "\n",
      "<html> \n",
      "<body> \n",
      "   <h1 id=\"title\">Hello World</h1> \n",
      "   <a href=\"#\" class=\"link\">This is link1</a> \n",
      "   <a href=\"# link2\" class=\"link\">This is link2</a> \n",
      "</body> \n",
      "</html>\n",
      "<class 'bs4.BeautifulSoup'>\n",
      "\n",
      "\n",
      "\n",
      "Hello World\n",
      "This is link1\n",
      "This is link2\n",
      "\n",
      "\n"
     ]
    }
   ],
   "source": [
    "from bs4 import BeautifulSoup\n",
    "html_sample='''\n",
    "<html> \n",
    "<body> \n",
    "   <h1 id=\"title\">Hello World</h1> \n",
    "   <a href=\"#\" class=\"link\">This is link1</a> \n",
    "   <a href=\"# link2\" class=\"link\">This is link2</a> \n",
    "</body> \n",
    "</html>'''\n",
    "print html_sample\n",
    "\n",
    "soup = BeautifulSoup(html_sample, 'html.parser')\n",
    "print type(soup)\n",
    "print soup.text"
   ]
  },
  {
   "cell_type": "code",
   "execution_count": 36,
   "metadata": {
    "collapsed": false
   },
   "outputs": [
    {
     "name": "stdout",
     "output_type": "stream",
     "text": [
      "1\n",
      "2\n",
      "5\n"
     ]
    }
   ],
   "source": [
    "a = [1,2,3,4,5]\n",
    "print a[0]\n",
    "print a[1]\n",
    "print a[-1]"
   ]
  },
  {
   "cell_type": "code",
   "execution_count": 39,
   "metadata": {
    "collapsed": false
   },
   "outputs": [
    {
     "name": "stdout",
     "output_type": "stream",
     "text": [
      "<type 'list'>\n",
      "[<a class=\"link\" href=\"#\">This is link1</a>, <a class=\"link\" href=\"# link2\">This is link2</a>]\n",
      "<class 'bs4.element.Tag'>\n",
      "<a class=\"link\" href=\"#\">This is link1</a>\n",
      "This is link1\n"
     ]
    }
   ],
   "source": [
    "print type(soup.select('a'))\n",
    "print soup.select('a')\n",
    "print type(soup.select('a')[0])\n",
    "print soup.select('a')[0]\n",
    "print soup.select('a')[0].text"
   ]
  },
  {
   "cell_type": "code",
   "execution_count": 44,
   "metadata": {
    "collapsed": false
   },
   "outputs": [
    {
     "name": "stdout",
     "output_type": "stream",
     "text": [
      "<type 'list'>\n",
      "[<h1 id=\"title\">Hello World</h1>]\n",
      "<h1 id=\"title\">Hello World</h1>\n",
      "Hello World\n"
     ]
    }
   ],
   "source": [
    "print type(soup.select('h1'))\n",
    "print soup.select('h1')\n",
    "print soup.select('h1')[0]\n",
    "print soup.select('h1')[0].text"
   ]
  },
  {
   "cell_type": "code",
   "execution_count": 46,
   "metadata": {
    "collapsed": false
   },
   "outputs": [
    {
     "name": "stdout",
     "output_type": "stream",
     "text": [
      "[<h1 id=\"title\">Hello World</h1>]\n"
     ]
    }
   ],
   "source": [
    "# id => #\n",
    "print soup.select('#title')"
   ]
  },
  {
   "cell_type": "code",
   "execution_count": 47,
   "metadata": {
    "collapsed": false
   },
   "outputs": [
    {
     "name": "stdout",
     "output_type": "stream",
     "text": [
      "[<a class=\"link\" href=\"#\">This is link1</a>, <a class=\"link\" href=\"# link2\">This is link2</a>]\n"
     ]
    }
   ],
   "source": [
    "# class => .\n",
    "print soup.select('.link')"
   ]
  },
  {
   "cell_type": "code",
   "execution_count": 51,
   "metadata": {
    "collapsed": false
   },
   "outputs": [
    {
     "name": "stdout",
     "output_type": "stream",
     "text": [
      "#\n",
      "# link2\n"
     ]
    }
   ],
   "source": [
    "for link in soup.select('.link'):\n",
    "    #print link\n",
    "    #print link.text\n",
    "    print link['href']"
   ]
  },
  {
   "cell_type": "code",
   "execution_count": 55,
   "metadata": {
    "collapsed": false
   },
   "outputs": [
    {
     "name": "stdout",
     "output_type": "stream",
     "text": [
      "[<a href=\"#\" iii=\"ttt\" qoo=\"123\">this is a link</a>]\n",
      "<a href=\"#\" iii=\"ttt\" qoo=\"123\">this is a link</a>\n",
      "ttt\n",
      "123\n"
     ]
    }
   ],
   "source": [
    "a = '<a href=# qoo=123 iii=ttt>this is a link</a>'\n",
    "soup2 = BeautifulSoup(a)\n",
    "print soup2.select('a')\n",
    "print soup2.select('a')[0]\n",
    "print soup2.select('a')[0]['iii']\n",
    "print soup2.select('a')[0]['qoo']"
   ]
  },
  {
   "cell_type": "markdown",
   "metadata": {},
   "source": [
    "## real case on appledaily"
   ]
  },
  {
   "cell_type": "code",
   "execution_count": 68,
   "metadata": {
    "collapsed": false
   },
   "outputs": [
    {
     "name": "stdout",
     "output_type": "stream",
     "text": [
      "32\n",
      "===================\n",
      "是否撤回黑箱課綱微調　教育部長推給課審會(643) 11:15 生活\n",
      "===================\n",
      "鵝媽媽的逆襲！　攻擊女童照片瘋傳(0) 11:15 國際\n",
      "===================\n",
      "【央廣RTI】歐盟重返利比亞   馬爾他...(0) 11:15 國際\n",
      "===================\n",
      "\n",
      "\n",
      "【特企】靠它！銀髮一族享受活力趴趴走 (1281)\n",
      "\n",
      "11:15 特企\n",
      "===================\n",
      "Apple Music被續約  去官網討...(0) 11:14 3C\n",
      "===================\n",
      "台大醫院電腦當機　11時修復(0) 11:14 生活\n",
      "===================\n",
      "逆向女騎士也有優先路權？　鄉民熱議(68) 11:12 社會\n",
      "===================\n",
      "新內閣最快23日備詢　陳學聖首邀鄭麗君報...(47) 11:09 政治\n",
      "===================\n",
      "夏普考慮空降社長　伊藤嘉明將出線？(282) 11:09 財經\n",
      "===================\n",
      "【更新】詐騙集團虐殺「抓耙仔」　6煞羈押...(11697) 11:08 社會\n",
      "===================\n",
      "陳柏霖宋智孝甜蜜婚！她揭密「這才是真相」(493) 11:07 生活\n",
      "===================\n",
      "法務部下周再赴中　協商馬國詐騙案32台人(97) 11:06 社會\n",
      "===================\n",
      "挺絕食抗議警察暴力　藝術家警局外獻劇《你...(84) 11:05 國際\n",
      "===================\n",
      "【央廣RTI】川普將獲提名  共和黨不改...(11) 11:05 國際\n",
      "===================\n",
      "【網路溫度計】解婕翎曝電玩癖好 最愛恐怖...(12) 11:04 娛樂\n",
      "===================\n",
      "\n",
      "\n",
      "【特企】明杰現場飆高音 易恩獨演被吐槽 (1632)\n",
      "\n",
      "11:04 特企\n",
      "===================\n",
      "【雙全會】林全拜會蘇嘉全　兩人握手寒暄(999) 11:02 政治\n",
      "===================\n",
      "台人跨國詐欺未爆彈　羅瑩雪：還有10幾個...(7949) 11:02 社會\n",
      "===================\n",
      "美國國家科學院公佈新院士　5華裔入選(252) 11:02 國際\n",
      "===================\n",
      "男連夜開200公里返家　開到睡著撞電桿(774) 11:01 社會\n",
      "===================\n",
      "驚呆！美魔女劉曉慶撞玻璃　整臉粉底竟留門...(2459) 11:00 娛樂\n",
      "===================\n",
      "台大電腦當機　台大：門診改人工作業　不影...(1217) 10:58 生活\n",
      "===================\n",
      "16歲不能抽煙但可投票？舊金山11月公投...(110) 10:58 國際\n",
      "===================\n",
      "小米MAX宣傳影片  搞笑上線(210) 10:57 財經\n",
      "===================\n",
      "【網路溫度計】Lulu宣戰Sandy  ...(380) 10:56 娛樂\n",
      "===================\n",
      "【更新】盼不到WHA邀請函　衛福部長：5...(934) 10:55 生活\n",
      "===================\n",
      "要不回勞工董事　中華電信工會10日再發動...(247) 10:55 財經\n",
      "===================\n",
      "【更新】工程師悲歌！　老婆帶2子自殺原因...(231846) 10:54 社會\n",
      "===================\n",
      "好棒棒房仲　愛的蛋糕是洋蔥口味　(314) 10:53 地產\n",
      "===================\n",
      "訓練機降落意外　台東機場一度關閉(1585) 10:52 社會\n",
      "===================\n",
      "【影片】勇士格林「當機」　當場癡呆20秒(4619) 10:51 體育\n",
      "===================\n",
      "【央廣RTI】騎士半場18發3分彈  創...(530) 10:50 國際\n"
     ]
    }
   ],
   "source": [
    "import requests\n",
    "from bs4 import BeautifulSoup as bs\n",
    "res = requests.get('http://www.appledaily.com.tw/realtimenews/section/new/', proxies=proxies)\n",
    "soup = bs(res.text)\n",
    "#print soup.select('a')\n",
    "print len(soup.select('li.rtddt'))\n",
    "for li in soup.select('li.rtddt'):\n",
    "    print \"===================\"\n",
    "    #print li\n",
    "    print li.select('h1')[0].text, li.select('time')[0].text, li.select('h2')[0].text"
   ]
  },
  {
   "cell_type": "code",
   "execution_count": null,
   "metadata": {
    "collapsed": true
   },
   "outputs": [],
   "source": []
  }
 ],
 "metadata": {
  "kernelspec": {
   "display_name": "Python 2",
   "language": "python",
   "name": "python2"
  },
  "language_info": {
   "codemirror_mode": {
    "name": "ipython",
    "version": 2
   },
   "file_extension": ".py",
   "mimetype": "text/x-python",
   "name": "python",
   "nbconvert_exporter": "python",
   "pygments_lexer": "ipython2",
   "version": "2.7.11"
  }
 },
 "nbformat": 4,
 "nbformat_minor": 0
}
