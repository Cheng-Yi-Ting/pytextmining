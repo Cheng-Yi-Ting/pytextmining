{
 "cells": [
  {
   "cell_type": "markdown",
   "metadata": {},
   "source": [
    "## Bi-gram"
   ]
  },
  {
   "cell_type": "code",
   "execution_count": 11,
   "metadata": {
    "collapsed": false
   },
   "outputs": [
    {
     "name": "stdout",
     "output_type": "stream",
     "text": [
      "那酸\n",
      "酸民\n",
      "11\n",
      "那酸\n",
      "酸民\n",
      "民婉\n",
      "婉君\n",
      "君也\n",
      "也可\n",
      "可以\n",
      "以報\n",
      "報名\n",
      "名嗎\n"
     ]
    }
   ],
   "source": [
    "input_sentence = '那酸民婉君也可以報名嗎'\n",
    "print input_sentence.decode('utf-8')[0:2]\n",
    "print input_sentence.decode('utf-8')[1:3]\n",
    "print len(input_sentence.decode('utf-8'))\n",
    "#for \n",
    "\n",
    "sentence = input_sentence.decode('utf-8')\n",
    "for i in range(0, len(sentence) -1 ):\n",
    "    print sentence[i:i+2]"
   ]
  },
  {
   "cell_type": "markdown",
   "metadata": {},
   "source": [
    "## Tri-Gram"
   ]
  },
  {
   "cell_type": "code",
   "execution_count": 14,
   "metadata": {
    "collapsed": false
   },
   "outputs": [
    {
     "name": "stdout",
     "output_type": "stream",
     "text": [
      "那酸民\n",
      "酸民婉\n",
      "11\n",
      "那酸民\n",
      "酸民婉\n",
      "民婉君\n",
      "婉君也\n",
      "君也可\n",
      "也可以\n",
      "可以報\n",
      "以報名\n",
      "報名嗎\n"
     ]
    }
   ],
   "source": [
    "input_sentence = '那酸民婉君也可以報名嗎'\n",
    "print input_sentence.decode('utf-8')[0:3]\n",
    "print input_sentence.decode('utf-8')[1:4]\n",
    "print len(input_sentence.decode('utf-8'))\n",
    "#for \n",
    "\n",
    "sentence = input_sentence.decode('utf-8')\n",
    "for i in range(0, len(sentence) -2 ):\n",
    "    print sentence[i:i+3]"
   ]
  },
  {
   "cell_type": "markdown",
   "metadata": {},
   "source": [
    "## n-gram"
   ]
  },
  {
   "cell_type": "code",
   "execution_count": 17,
   "metadata": {
    "collapsed": false
   },
   "outputs": [
    {
     "name": "stdout",
     "output_type": "stream",
     "text": [
      "那酸\n",
      "酸民\n",
      "民婉\n",
      "婉君\n",
      "君也\n",
      "也可\n",
      "可以\n",
      "以報\n",
      "報名\n",
      "名嗎\n",
      "那酸民\n",
      "酸民婉\n",
      "民婉君\n",
      "婉君也\n",
      "君也可\n",
      "也可以\n",
      "可以報\n",
      "以報名\n",
      "報名嗎\n"
     ]
    }
   ],
   "source": [
    "input_sentence = '那酸民婉君也可以報名嗎'\n",
    "\n",
    "\n",
    "def ngram(input_sentence, n = 2):\n",
    "    sentence = input_sentence.decode('utf-8')\n",
    "    for i in range(0, len(sentence) - n + 1 ):\n",
    "        print sentence[i:i+n]\n",
    "        \n",
    "ngram(input_sentence, 2)\n",
    "ngram(input_sentence, 3)"
   ]
  },
  {
   "cell_type": "code",
   "execution_count": 29,
   "metadata": {
    "collapsed": false
   },
   "outputs": [
    {
     "name": "stdout",
     "output_type": "stream",
     "text": [
      "{'a': 2, 'c': 1, 'b': 2}\n",
      "[('a', 2), ('c', 1), ('b', 2)]\n"
     ]
    }
   ],
   "source": [
    "ary = ['a' , 'b', 'a', 'c', 'b']\n",
    "dic = {}\n",
    "for ele in ary:\n",
    "    if ele not in dic:\n",
    "        dic[ele] = 1\n",
    "    else:\n",
    "        dic[ele] = dic[ele] + 1\n",
    "print dic\n",
    "print dic.items()"
   ]
  },
  {
   "cell_type": "code",
   "execution_count": 31,
   "metadata": {
    "collapsed": false
   },
   "outputs": [
    {
     "name": "stdout",
     "output_type": "stream",
     "text": [
      "[('c', 1), ('a', 2), ('b', 2)]\n",
      "[('a', 2), ('b', 2), ('c', 1)]\n"
     ]
    }
   ],
   "source": [
    "import operator\n",
    "swd = sorted(dic.items(), key = operator.itemgetter(1))\n",
    "print swd\n",
    "\n",
    "swd = sorted(dic.items(), key = operator.itemgetter(1), reverse=True)\n",
    "print swd"
   ]
  },
  {
   "cell_type": "markdown",
   "metadata": {},
   "source": [
    "## Counter \n",
    "- https://docs.python.org/2/library/collections.html"
   ]
  },
  {
   "cell_type": "code",
   "execution_count": 32,
   "metadata": {
    "collapsed": false
   },
   "outputs": [
    {
     "name": "stdout",
     "output_type": "stream",
     "text": [
      "Counter({'a': 2, 'b': 2, 'c': 1})\n",
      "[('a', 2), ('b', 2)]\n"
     ]
    }
   ],
   "source": [
    "from collections import Counter\n",
    "c = Counter()\n",
    "for ele in ary:\n",
    "    c[ele] += 1\n",
    "print c\n",
    "\n",
    "print c.most_common(2)"
   ]
  },
  {
   "cell_type": "code",
   "execution_count": 18,
   "metadata": {
    "collapsed": true
   },
   "outputs": [],
   "source": [
    "def ngram(input_sentence, n = 2):\n",
    "    dic = {}\n",
    "    sentence = input_sentence.decode('utf-8')\n",
    "    for i in range(0, len(sentence) - n + 1 ):\n",
    "        segment = sentence[i:i+n]\n",
    "        if segment not in dic:\n",
    "            dic[segment] = 1\n",
    "        else:\n",
    "            dic[segment] = dic[segment] + 1\n",
    "    return dic"
   ]
  },
  {
   "cell_type": "code",
   "execution_count": 23,
   "metadata": {
    "collapsed": false
   },
   "outputs": [
    {
     "name": "stdout",
     "output_type": "stream",
     "text": [
      "{u'\\u5a49\\u541b': 1, u'\\u5831\\u540d': 1, u'\\u53ef\\u4ee5': 1, u'\\u540d\\u55ce': 1, u'\\u541b\\u4e5f': 1, u'\\u4e5f\\u53ef': 1, u'\\u90a3\\u9178': 1, u'\\u6c11\\u5a49': 1, u'\\u9178\\u6c11': 1, u'\\u4ee5\\u5831': 1}\n",
      "一樣 1\n",
      "氣是 1\n",
      "是否 1\n",
      "氣一 1\n",
      "否跟 1\n",
      "天天 2\n",
      "昨天 1\n",
      "今天 1\n",
      "跟昨 1\n",
      "天氣 2\n"
     ]
    }
   ],
   "source": [
    "print ngram(input_sentence, 2)\n",
    "dic = ngram(\"今天天氣是否跟昨天天氣一樣\", 2)\n",
    "for ele in dic:\n",
    "    print ele, dic[ele]"
   ]
  },
  {
   "cell_type": "code",
   "execution_count": 33,
   "metadata": {
    "collapsed": true
   },
   "outputs": [],
   "source": [
    "def ngram(input_sentence, n = 2):\n",
    "    c = Counter()\n",
    "    sentence = input_sentence.decode('utf-8')\n",
    "    for i in range(0, len(sentence) - n + 1 ):\n",
    "        segment = sentence[i:i+n]\n",
    "        c[segment] += 1        \n",
    "    return c"
   ]
  },
  {
   "cell_type": "code",
   "execution_count": 34,
   "metadata": {
    "collapsed": false
   },
   "outputs": [
    {
     "data": {
      "text/plain": [
       "Counter({u'\\u4e00\\u6a23': 1,\n",
       "         u'\\u4eca\\u5929': 1,\n",
       "         u'\\u5426\\u8ddf': 1,\n",
       "         u'\\u5929\\u5929': 2,\n",
       "         u'\\u5929\\u6c23': 2,\n",
       "         u'\\u6628\\u5929': 1,\n",
       "         u'\\u662f\\u5426': 1,\n",
       "         u'\\u6c23\\u4e00': 1,\n",
       "         u'\\u6c23\\u662f': 1,\n",
       "         u'\\u8ddf\\u6628': 1})"
      ]
     },
     "execution_count": 34,
     "metadata": {},
     "output_type": "execute_result"
    }
   ],
   "source": [
    "ngram(\"今天天氣是否跟昨天天氣一樣\", 2)"
   ]
  },
  {
   "cell_type": "code",
   "execution_count": 37,
   "metadata": {
    "collapsed": false
   },
   "outputs": [
    {
     "data": {
      "text/plain": [
       "id          1500\n",
       "category    1500\n",
       "view_cnt    1500\n",
       "time        1500\n",
       "title       1500\n",
       "summary     1500\n",
       "link        1500\n",
       "dtype: int64"
      ]
     },
     "execution_count": 37,
     "metadata": {},
     "output_type": "execute_result"
    }
   ],
   "source": [
    "import sqlite3 as lite\n",
    "import pandas as pd\n",
    "with lite.connect('news.sqlite') as db:\n",
    "    df = pd.read_sql_query('SELECT * FROM news_entry;', db)\n",
    "df.count()"
   ]
  },
  {
   "cell_type": "code",
   "execution_count": 53,
   "metadata": {
    "collapsed": false,
    "scrolled": true
   },
   "outputs": [
    {
     "name": "stdout",
     "output_type": "stream",
     "text": [
      "】\n",
      "【\n",
      "？\n",
      ".\n",
      "、\n",
      "True\n"
     ]
    }
   ],
   "source": [
    "df.ix[1]['title'].encode('utf-8')\n",
    "\n",
    "\n",
    "skip_word = '】【？.、'.decode('utf-8') \n",
    "for w in skip_word:\n",
    "    print w\n",
    "    \n",
    "a = '你好嗎？'\n",
    "print '？' in a"
   ]
  },
  {
   "cell_type": "code",
   "execution_count": null,
   "metadata": {
    "collapsed": true
   },
   "outputs": [],
   "source": [
    "c = ngram(df.ix[1]['title'].encode('utf-8'), 2)\n",
    "for ele in c:\n",
    "    ary = []\n",
    "    for w in skip_word:\n",
    "        if w in ele: \n",
    "            ary.append(w)\n",
    "    if len(ary) == 0:\n",
    "        print ele"
   ]
  },
  {
   "cell_type": "code",
   "execution_count": 55,
   "metadata": {
    "collapsed": false
   },
   "outputs": [
    {
     "name": "stdout",
     "output_type": "stream",
     "text": [
      "人不\n",
      "  \n",
      "不會\n",
      "割喉\n",
      "更新\n",
      "會判\n",
      "喉殺\n",
      "2人\n",
      " 割\n",
      "殺1\n",
      "判死\n"
     ]
    }
   ],
   "source": [
    "c = ngram(df.ix[1]['title'].encode('utf-8'), 2)\n",
    "for ele in c:\n",
    "    invalid = len([w for w in skip_word if w in ele])\n",
    "    if invalid == 0:\n",
    "        print ele"
   ]
  },
  {
   "cell_type": "code",
   "execution_count": 75,
   "metadata": {
    "collapsed": true
   },
   "outputs": [],
   "source": [
    "skip_word = '】【？.、 」　'.decode('utf-8') \n",
    "def ngram2(input_sentence, n = 2):\n",
    "    c = Counter()\n",
    "    sentence = input_sentence.decode('utf-8')\n",
    "    for i in range(0, len(sentence) - n + 1 ):\n",
    "        segment = sentence[i:i+n]\n",
    "        invalid = len([w for w in skip_word if w in segment]) \n",
    "        if invalid ==0:\n",
    "            c[segment] += 1        \n",
    "    return c"
   ]
  },
  {
   "cell_type": "code",
   "execution_count": 76,
   "metadata": {
    "collapsed": false
   },
   "outputs": [
    {
     "name": "stdout",
     "output_type": "stream",
     "text": [
      "人不 1\n",
      "喉殺 1\n",
      "不會 1\n",
      "更新 1\n",
      "會判 1\n",
      "2人 1\n",
      "割喉 1\n",
      "殺1 1\n",
      "判死 1\n"
     ]
    }
   ],
   "source": [
    "title =  df.ix[1]['title'].encode('utf-8')\n",
    "c = ngram2(title, 2)\n",
    "for ele in c:\n",
    "    print ele, c[ele]"
   ]
  },
  {
   "cell_type": "code",
   "execution_count": 77,
   "metadata": {
    "collapsed": false
   },
   "outputs": [],
   "source": [
    "titles = df['title']\n",
    "c2 = Counter()\n",
    "for title in titles:\n",
    "    c = ngram2(title.encode('utf-8'), 2)\n",
    "    for ele in c:\n",
    "        c2[ele] += c[ele]"
   ]
  },
  {
   "cell_type": "code",
   "execution_count": 78,
   "metadata": {
    "collapsed": false
   },
   "outputs": [
    {
     "name": "stdout",
     "output_type": "stream",
     "text": [
      "廣R 81\n",
      "更新 80\n",
      "有片 66\n",
      "台灣 45\n",
      "TI 42\n",
      "央廣 41\n",
      "20 41\n",
      "法廣 40\n",
      "RF 40\n",
      "FI 40\n",
      "RT 38\n",
      "10 38\n",
      "中國 34\n",
      "週刊 34\n",
      "壹週 34\n",
      "北市 33\n",
      "影片 29\n",
      "00 26\n",
      "蘋果 22\n",
      "網友 21\n",
      "媽媽 20\n",
      "新聞 19\n",
      "川普 19\n",
      "全球 19\n",
      "美國 18\n",
      "英文 18\n",
      "O雙 16\n",
      "MO 16\n",
      "OM 16\n",
      "母親 16\n"
     ]
    }
   ],
   "source": [
    "dic = c2.most_common(30)\n",
    "for ele in dic:\n",
    "    print ele[0], ele[1]"
   ]
  },
  {
   "cell_type": "code",
   "execution_count": 79,
   "metadata": {
    "collapsed": true
   },
   "outputs": [],
   "source": [
    "titles = df['title']\n",
    "c2 = Counter()\n",
    "for title in titles:\n",
    "    c = ngram2(title.encode('utf-8'), 3)\n",
    "    for ele in c:\n",
    "        c2[ele] += c[ele]"
   ]
  },
  {
   "cell_type": "code",
   "execution_count": 80,
   "metadata": {
    "collapsed": false
   },
   "outputs": [
    {
     "name": "stdout",
     "output_type": "stream",
     "text": [
      "央廣R 41\n",
      "廣RF 40\n",
      "法廣R 40\n",
      "RFI 40\n",
      "廣RT 38\n",
      "RTI 38\n",
      "壹週刊 34\n",
      "OMO 16\n",
      "O雙語 16\n",
      "MO雙 16\n",
      "TOM 16\n",
      "雙語爆 16\n",
      "王建民 14\n",
      "母親節 14\n",
      "鄭性澤 14\n",
      "蔡英文 13\n",
      "520 10\n",
      "環境資 8\n",
      "國民黨 8\n",
      "大巨蛋 8\n",
      "境資訊 8\n",
      "希拉蕊 8\n",
      "北市府 8\n",
      "巴拿馬 7\n",
      "200 7\n",
      "00萬 6\n",
      "拿馬文 6\n",
      "問蘋果 6\n",
      "溫度計 6\n",
      "201 6\n"
     ]
    }
   ],
   "source": [
    "dic = c2.most_common(30)\n",
    "for ele in dic:\n",
    "    print ele[0], ele[1]"
   ]
  },
  {
   "cell_type": "markdown",
   "metadata": {},
   "source": [
    "## Python One Line Code"
   ]
  },
  {
   "cell_type": "code",
   "execution_count": 84,
   "metadata": {
    "collapsed": false
   },
   "outputs": [
    {
     "name": "stdout",
     "output_type": "stream",
     "text": [
      "['APPLE', 'BANANA', 'COKE', 'DRINK']\n",
      "['APPLE', 'BANANA', 'COKE', 'DRINK']\n"
     ]
    }
   ],
   "source": [
    "a = ['apple', 'banana', 'coke', 'Drink']\n",
    "'apple'.upper()\n",
    "\n",
    "ary = []\n",
    "for w in a:\n",
    "    ary.append(w.upper())\n",
    "print ary\n",
    "\n",
    "print [w.upper() for w in a]"
   ]
  },
  {
   "cell_type": "code",
   "execution_count": 86,
   "metadata": {
    "collapsed": false
   },
   "outputs": [
    {
     "name": "stdout",
     "output_type": "stream",
     "text": [
      "['COKE']\n"
     ]
    },
    {
     "data": {
      "text/plain": [
       "['COKE']"
      ]
     },
     "execution_count": 86,
     "metadata": {},
     "output_type": "execute_result"
    }
   ],
   "source": [
    "a = ['apple', 'banana', 'coke', 'Drink']\n",
    "\n",
    "ary = []\n",
    "for w in a:\n",
    "    if 'c' in w:\n",
    "        ary.append(w.upper())\n",
    "print ary\n",
    "\n",
    "[w.upper() for w in a if 'c' in w]"
   ]
  },
  {
   "cell_type": "code",
   "execution_count": 107,
   "metadata": {
    "collapsed": false
   },
   "outputs": [
    {
     "name": "stdout",
     "output_type": "stream",
     "text": [
      "更新\n",
      "新增影片 華為今在台發表最新旗艦機P9\n",
      "主打拍照功能\n",
      "手機搭載兩顆徠卡\n",
      "Leica\n",
      "光學鏡頭\n",
      "讓照片更細膩\n",
      "手機售價1萬6900元\n",
      "有灰\n",
      "銀兩色\n",
      "即日起於經銷通路開賣\n",
      "明日起在中華電信\n",
      "台灣大門市上市\n",
      " P9具備5.2吋FHD螢幕\n",
      "內建記憶體32 GB\n",
      "可擴充記憶卡\n",
      "前鏡頭800萬畫素\n",
      "主鏡頭採雙鏡頭設計\n",
      "兩個鏡頭皆為1200萬畫素\n",
      "一個為黑白一個為彩色鏡頭\n",
      "彩色鏡頭可還原色彩\n",
      "黑白系統則可捕捉細節\n",
      "即使在低光的條件下\n",
      "也能捕捉豐富的影像細節\n",
      " 使用者可選擇標準\n",
      "鮮艷\n",
      "柔和色彩等拍攝模式\n",
      "選擇單色模式\n",
      "P9就能化身黑白相機\n",
      "而利用混合對焦技術\n",
      "相機會透過雷射\n",
      "深度計算\n",
      "對比等3種方式精準對焦\n",
      "提升拍照精確度及穩定度\n",
      "華為表示\n",
      "P9鎖定年齡30至39歲的時尚商務族群\n",
      "而P9 Plus則預計在6月上市\n",
      "楊寧芷\n",
      "台北報導\n",
      " 出版\n",
      "14:14更新\n",
      "15:31 \n",
      "華為P9旗艦機發表會\n",
      "吳貞慧攝華為P9今上市\n",
      "楊寧芷攝\n"
     ]
    }
   ],
   "source": [
    "summary = df.ix[2]['summary'].encode('utf-8')\n",
    "#print summary\n",
    "import re\n",
    "for sentence in re.split('，|：|。|、|/|；|（|）', summary):\n",
    "    if sentence.strip() != '':\n",
    "        print sentence.strip()"
   ]
  },
  {
   "cell_type": "code",
   "execution_count": 108,
   "metadata": {
    "collapsed": false
   },
   "outputs": [
    {
     "name": "stdout",
     "output_type": "stream",
     "text": [
      "[(u'P9', 7), (u'\\u93e1\\u982d', 7), (u'\\u83ef\\u70ba', 4)]\n"
     ]
    }
   ],
   "source": [
    "summary = df.ix[2]['summary'].encode('utf-8')\n",
    "c2 = Counter()\n",
    "import re\n",
    "for sentence in re.split('，|：|。|、|/|；|（|）', summary):\n",
    "    if sentence.strip() != '':\n",
    "        c = ngram(sentence.strip())\n",
    "        for ele in c:\n",
    "            c2[ele] += c[ele]"
   ]
  },
  {
   "cell_type": "code",
   "execution_count": 112,
   "metadata": {
    "collapsed": false
   },
   "outputs": [
    {
     "name": "stdout",
     "output_type": "stream",
     "text": [
      "P9 7\n",
      "鏡頭 7\n",
      "華為 4\n",
      "00 3\n",
      "黑白 3\n",
      "上市 3\n"
     ]
    }
   ],
   "source": [
    "for ele in  c2.most_common(30):\n",
    "    if ele[1] >= 3:\n",
    "        print ele[0], ele[1]"
   ]
  },
  {
   "cell_type": "code",
   "execution_count": 120,
   "metadata": {
    "collapsed": false
   },
   "outputs": [
    {
     "name": "stdout",
     "output_type": "stream",
     "text": [
      "黑白系統則可捕捉細節\n",
      "黑白\n",
      "則可捕捉細節\n",
      "黑白則可捕捉細節\n",
      "黑白則可細節\n"
     ]
    }
   ],
   "source": [
    "a = '黑白系統則可捕捉細節'\n",
    "print a\n",
    "\n",
    "for ele in a.split('系統'):\n",
    "    print ele\n",
    "\n",
    "print ''.join(a.split('系統'))\n",
    "\n",
    "keywords = ['系統', '捕捉']\n",
    "for keyword in keywords:\n",
    "    a = ''.join(a.split(keyword))\n",
    "print a"
   ]
  },
  {
   "cell_type": "code",
   "execution_count": 130,
   "metadata": {
    "collapsed": false
   },
   "outputs": [
    {
     "name": "stdout",
     "output_type": "stream",
     "text": [
      "則可細節\n"
     ]
    }
   ],
   "source": [
    "def removeKey(sentence, keywords):\n",
    "    for keyword in keywords:\n",
    "        sentence = ''.join(sentence.split(keyword))\n",
    "    return sentence    \n",
    "print removeKey('黑白系統則可捕捉細節',  ['系統', '捕捉', '黑白'])"
   ]
  },
  {
   "cell_type": "code",
   "execution_count": 131,
   "metadata": {
    "collapsed": false
   },
   "outputs": [
    {
     "name": "stdout",
     "output_type": "stream",
     "text": [
      "到底要不要\n"
     ]
    }
   ],
   "source": [
    "print removeKey('到底要不要大巨蛋',  ['大巨蛋'])"
   ]
  },
  {
   "cell_type": "code",
   "execution_count": 116,
   "metadata": {
    "collapsed": false
   },
   "outputs": [
    {
     "name": "stdout",
     "output_type": "stream",
     "text": [
      "a@b@c@d\n"
     ]
    }
   ],
   "source": [
    "a = [\"a\", \"b\", \"c\", \"d\"]\n",
    "print '@'.join(a)"
   ]
  },
  {
   "cell_type": "markdown",
   "metadata": {},
   "source": [
    "## 實作長詞優先演算法"
   ]
  },
  {
   "cell_type": "code",
   "execution_count": 175,
   "metadata": {
    "collapsed": false
   },
   "outputs": [
    {
     "name": "stdout",
     "output_type": "stream",
     "text": [
      "4\n",
      "3\n",
      "2\n"
     ]
    }
   ],
   "source": [
    "summaries = df['summary']\n",
    "delimiter = '，|：|。|、|/|；|（|）|(|)|「|」|」|《|》|／|【|……'.decode('utf-8')\n",
    "keywords = []\n",
    "\n",
    "for i in range(4, 1, -1):\n",
    "    csummary = Counter()\n",
    "    for summary in summaries[0:100]:        \n",
    "        for sentence in re.split(delimiter, summary): # 斷句\n",
    "            if sentence is not None and sentence.strip() != '':\n",
    "                c = ngram(removeKey(sentence.encode('utf-8').strip(), keywords), i) #取ngram\n",
    "                for ele in c:\n",
    "                    csummary[ele] += c[ele]\n",
    "    print i\n",
    "    for ele in csummary:\n",
    "        if csummary[ele] >=30:\n",
    "            if re.match(u\"[\\u4e00-\\u9fa5]\", ele):\n",
    "                keywords.append(ele.encode('utf-8'))\n",
    "    "
   ]
  },
  {
   "cell_type": "code",
   "execution_count": 176,
   "metadata": {
    "collapsed": false
   },
   "outputs": [
    {
     "name": "stdout",
     "output_type": "stream",
     "text": [
      "台北報導\n",
      "蘋果\n",
      "中心\n",
      "去年\n",
      "中國\n",
      "提供\n",
      "台灣\n",
      "產品\n",
      "北市\n",
      "發展\n",
      "警方\n",
      "內容\n",
      "大麻\n",
      "更多\n",
      "國家\n",
      "報導\n",
      "新聞\n",
      "更新\n",
      "品牌\n",
      "美國\n",
      "時間\n",
      "公司\n",
      "發現\n",
      "表示\n",
      "畫面\n",
      "翻攝\n",
      "政府\n",
      "今天\n",
      "自己\n",
      "調查\n",
      "智慧\n"
     ]
    }
   ],
   "source": [
    "for ele in keywords:\n",
    "    print ele"
   ]
  },
  {
   "cell_type": "code",
   "execution_count": 180,
   "metadata": {
    "collapsed": true
   },
   "outputs": [],
   "source": [
    "summaries = df['summary']\n",
    "delimiter = '，|：|。|、|/|；|（|）|(|)|「|」|」|《|》|／|【|……'.decode('utf-8')\n",
    "keywords = []\n",
    "\n",
    "def getSentenceNgram(summary):\n",
    "    csummary = Counter()\n",
    "    for sentence in re.split(delimiter, summary): # 斷句\n",
    "        if sentence is not None and sentence.strip() != '':\n",
    "                c = ngram(removeKey(sentence.encode('utf-8').strip(), keywords), i) #取ngram\n",
    "                for ele in c:\n",
    "                    csummary[ele] += c[ele]\n",
    "    return csummary\n",
    "\n",
    "for i in range(4, 1, -1):\n",
    "    coverall = Counter()\n",
    "    for summary in summaries[0:100]:        \n",
    "        c = getSentenceNgram(summary) \n",
    "        for ele in c:\n",
    "            coverall[ele] += c[ele]\n",
    "    for ele in coverall:\n",
    "        if coverall[ele] >=40:\n",
    "            if re.match(u\"[\\u4e00-\\u9fa5]\", ele):\n",
    "                keywords.append(ele.encode('utf-8'))\n",
    "    "
   ]
  },
  {
   "cell_type": "code",
   "execution_count": 181,
   "metadata": {
    "collapsed": false
   },
   "outputs": [
    {
     "name": "stdout",
     "output_type": "stream",
     "text": [
      "台北報導\n",
      "中心\n",
      "提供\n",
      "台灣\n",
      "北市\n",
      "警方\n",
      "報導\n",
      "新聞\n",
      "更新\n",
      "美國\n",
      "時間\n",
      "表示\n",
      "翻攝\n",
      "智慧\n"
     ]
    }
   ],
   "source": [
    "for ele in keywords:\n",
    "    print ele"
   ]
  },
  {
   "cell_type": "code",
   "execution_count": 177,
   "metadata": {
    "collapsed": false
   },
   "outputs": [
    {
     "name": "stdout",
     "output_type": "stream",
     "text": [
      "Counter({'a': 1})\n",
      "a\n"
     ]
    }
   ],
   "source": [
    "c = Counter()\n",
    "c['a'] += 1\n",
    "print c\n",
    "for ele in c:\n",
    "    print ele"
   ]
  },
  {
   "cell_type": "code",
   "execution_count": null,
   "metadata": {
    "collapsed": true
   },
   "outputs": [],
   "source": []
  }
 ],
 "metadata": {
  "kernelspec": {
   "display_name": "Python 2",
   "language": "python",
   "name": "python2"
  },
  "language_info": {
   "codemirror_mode": {
    "name": "ipython",
    "version": 2
   },
   "file_extension": ".py",
   "mimetype": "text/x-python",
   "name": "python",
   "nbconvert_exporter": "python",
   "pygments_lexer": "ipython2",
   "version": "2.7.11"
  }
 },
 "nbformat": 4,
 "nbformat_minor": 0
}
