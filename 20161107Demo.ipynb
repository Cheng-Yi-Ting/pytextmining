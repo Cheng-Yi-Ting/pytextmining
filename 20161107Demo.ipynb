{
 "cells": [
  {
   "cell_type": "markdown",
   "metadata": {},
   "source": [
    "## Python Basic"
   ]
  },
  {
   "cell_type": "code",
   "execution_count": 1,
   "metadata": {
    "collapsed": false
   },
   "outputs": [
    {
     "data": {
      "text/plain": [
       "5"
      ]
     },
     "execution_count": 1,
     "metadata": {},
     "output_type": "execute_result"
    }
   ],
   "source": [
    "a = 3\n",
    "b = 2\n",
    "a + b"
   ]
  },
  {
   "cell_type": "code",
   "execution_count": 3,
   "metadata": {
    "collapsed": false
   },
   "outputs": [
    {
     "data": {
      "text/plain": [
       "6"
      ]
     },
     "execution_count": 3,
     "metadata": {},
     "output_type": "execute_result"
    }
   ],
   "source": [
    "a * 2"
   ]
  },
  {
   "cell_type": "markdown",
   "metadata": {
    "collapsed": true
   },
   "source": [
    "## 蘋果新聞爬蟲"
   ]
  },
  {
   "cell_type": "code",
   "execution_count": 10,
   "metadata": {
    "collapsed": false
   },
   "outputs": [
    {
     "name": "stdout",
     "output_type": "stream",
     "text": [
      "<class 'requests.models.Response'>\n"
     ]
    }
   ],
   "source": [
    "import requests\n",
    "res = requests.get('http://www.appledaily.com.tw/realtimenews/section/new/')\n",
    "print(type(res))"
   ]
  },
  {
   "cell_type": "markdown",
   "metadata": {},
   "source": [
    "## BeautifulSoup 操作"
   ]
  },
  {
   "cell_type": "code",
   "execution_count": 12,
   "metadata": {
    "collapsed": false
   },
   "outputs": [
    {
     "name": "stdout",
     "output_type": "stream",
     "text": [
      "<class 'bs4.BeautifulSoup'>\n",
      "\n",
      "\n",
      "\n",
      "Hello World\n",
      "This is link1\n",
      "This is link2\n",
      "\n",
      "\n",
      "\n"
     ]
    }
   ],
   "source": [
    "from bs4 import BeautifulSoup\n",
    "html_sample = '''\n",
    "<html> \n",
    " <body> \n",
    " <h1 id=\"title\">Hello World</h1> \n",
    " <a href=\"#\" class=\"link\">This is link1</a> \n",
    " <a href=\"# link2\" class=\"link\">This is link2</a> \n",
    " </body> \n",
    "</html>\n",
    "'''\n",
    "\n",
    "soup = BeautifulSoup(html_sample, 'html.parser')\n",
    "print(type(soup))\n",
    "print(soup.text)"
   ]
  },
  {
   "cell_type": "markdown",
   "metadata": {},
   "source": [
    "## 從標籤選取"
   ]
  },
  {
   "cell_type": "code",
   "execution_count": 16,
   "metadata": {
    "collapsed": false
   },
   "outputs": [
    {
     "name": "stdout",
     "output_type": "stream",
     "text": [
      "[<a class=\"link\" href=\"#\">This is link1</a>, <a class=\"link\" href=\"# link2\">This is link2</a>]\n",
      "<class 'list'>\n"
     ]
    }
   ],
   "source": [
    "print(soup.select('a'))\n",
    "print(type(soup.select('a')))"
   ]
  },
  {
   "cell_type": "code",
   "execution_count": 19,
   "metadata": {
    "collapsed": false
   },
   "outputs": [
    {
     "name": "stdout",
     "output_type": "stream",
     "text": [
      "<a class=\"link\" href=\"#\">This is link1</a>\n",
      "<class 'bs4.element.Tag'>\n"
     ]
    }
   ],
   "source": [
    "print(soup.select('a')[0])\n",
    "print(type(soup.select('a')[0]))"
   ]
  },
  {
   "cell_type": "code",
   "execution_count": 20,
   "metadata": {
    "collapsed": false
   },
   "outputs": [
    {
     "name": "stdout",
     "output_type": "stream",
     "text": [
      "This is link1\n",
      "<class 'str'>\n"
     ]
    }
   ],
   "source": [
    "print(soup.select('a')[0].text)\n",
    "print(type(soup.select('a')[0].text))"
   ]
  },
  {
   "cell_type": "code",
   "execution_count": 22,
   "metadata": {
    "collapsed": false
   },
   "outputs": [
    {
     "name": "stdout",
     "output_type": "stream",
     "text": [
      "[<h1 id=\"title\">Hello World</h1>]\n",
      "<class 'list'>\n"
     ]
    }
   ],
   "source": [
    "print(soup.select('h1'))\n",
    "print(type(soup.select('h1')))"
   ]
  },
  {
   "cell_type": "code",
   "execution_count": 24,
   "metadata": {
    "collapsed": false
   },
   "outputs": [
    {
     "name": "stdout",
     "output_type": "stream",
     "text": [
      "<h1 id=\"title\">Hello World</h1>\n",
      "<class 'bs4.element.Tag'>\n"
     ]
    }
   ],
   "source": [
    "print(soup.select('h1')[0])\n",
    "print(type(soup.select('h1')[0]))"
   ]
  },
  {
   "cell_type": "code",
   "execution_count": 25,
   "metadata": {
    "collapsed": false
   },
   "outputs": [
    {
     "name": "stdout",
     "output_type": "stream",
     "text": [
      "Hello World\n",
      "<class 'str'>\n"
     ]
    }
   ],
   "source": [
    "print(soup.select('h1')[0].text)\n",
    "print(type(soup.select('h1')[0].text))"
   ]
  },
  {
   "cell_type": "markdown",
   "metadata": {},
   "source": [
    "## 從css 樣式選取"
   ]
  },
  {
   "cell_type": "code",
   "execution_count": 27,
   "metadata": {
    "collapsed": false
   },
   "outputs": [
    {
     "data": {
      "text/plain": [
       "[<h1 id=\"title\">Hello World</h1>]"
      ]
     },
     "execution_count": 27,
     "metadata": {},
     "output_type": "execute_result"
    }
   ],
   "source": [
    "# id => #\n",
    "soup.select('#title')"
   ]
  },
  {
   "cell_type": "code",
   "execution_count": 29,
   "metadata": {
    "collapsed": false
   },
   "outputs": [
    {
     "data": {
      "text/plain": [
       "[<a class=\"link\" href=\"#\">This is link1</a>,\n",
       " <a class=\"link\" href=\"# link2\">This is link2</a>]"
      ]
     },
     "execution_count": 29,
     "metadata": {},
     "output_type": "execute_result"
    }
   ],
   "source": [
    "# class => .\n",
    "soup.select('.link')"
   ]
  },
  {
   "cell_type": "code",
   "execution_count": 32,
   "metadata": {
    "collapsed": false
   },
   "outputs": [
    {
     "name": "stdout",
     "output_type": "stream",
     "text": [
      "#\n",
      "# link2\n"
     ]
    }
   ],
   "source": [
    "for link in soup.select('.link'):\n",
    "    #print(link)\n",
    "    #print(link.text)\n",
    "    print(link['href'])"
   ]
  },
  {
   "cell_type": "markdown",
   "metadata": {},
   "source": [
    "## 撰寫完整網路爬蟲"
   ]
  },
  {
   "cell_type": "code",
   "execution_count": 37,
   "metadata": {
    "collapsed": false
   },
   "outputs": [],
   "source": [
    "import requests\n",
    "res = requests.get('http://www.appledaily.com.tw/realtimenews/section/new/')\n",
    "#print(res.text)"
   ]
  },
  {
   "cell_type": "code",
   "execution_count": 56,
   "metadata": {
    "collapsed": false
   },
   "outputs": [],
   "source": [
    "from bs4 import BeautifulSoup\n",
    "soup = BeautifulSoup(res.text , 'html.parser')\n",
    "\n",
    "domain = 'http://www.appledaily.com.tw'\n",
    "for news in soup.select('.rtddt a'):\n",
    "    #print(news)\n",
    "    #print(news.select('h1')[0].text)\n",
    "    #print(news.select('h2')[0].text)\n",
    "    #print(news.select('time')[0].text)\n",
    "    #print(domain + news['href'])\n",
    "    title    = news.select('h1')[0].text\n",
    "    category = news.select('h2')[0].text\n",
    "    dt       = news.select('time')[0].text\n",
    "    link     = domain + news['href']\n",
    "    \n",
    "    #print(dt, category, title, link)\n",
    "    #print('=====================================')"
   ]
  },
  {
   "cell_type": "markdown",
   "metadata": {},
   "source": [
    "## 抽取新聞內容"
   ]
  },
  {
   "cell_type": "code",
   "execution_count": 62,
   "metadata": {
    "collapsed": false
   },
   "outputs": [
    {
     "name": "stdout",
     "output_type": "stream",
     "text": [
      "韓國執政黨新世界黨前黨魁金武星今天（7日）在國會召開記者會，敦促總統朴槿惠立即退出新世界黨，並取消提名金秉準為總理，請國會推薦總理人選，成立中立內閣。他批評國民賦予總統的公權，被崔順實一家獨攬私用，牟取不正當利益。韓聯社報導，金武星說總統理應維護憲法權威，卻損害了憲法權威，青瓦台及黨內霸權勢力的專權跋扈踐踏了政治改革成果，破壞政黨民主。金武星還說，彈劾總統符合憲法精神，但政局劇烈動盪可能造成國家與人民的不幸。他要求作為領銜黨員的總統秉持「先黨後私」的精神和挽救黨的責任感，放棄黨籍，並儘快建立中立內閣，重建國民信任，穩定政局。 （國際中心／綜合外電報導）\n"
     ]
    }
   ],
   "source": [
    "import requests\n",
    "from bs4 import BeautifulSoup\n",
    "res = requests.get('http://www.appledaily.com.tw/realtimenews/article/international/20161107/983718/%E5%8D%97%E9%9F%93%E5%9F%B7%E6%94%BF%E9%BB%A8%E5%89%8D%E9%BB%A8%E9%AD%81%20%E8%A6%81%E6%B1%82%E6%9C%B4%E6%A7%BF%E6%83%A0%E9%80%80%E9%BB%A8')\n",
    "soup = BeautifulSoup(res.text, 'html.parser')\n",
    "print(soup.select('#summary')[0].text)"
   ]
  },
  {
   "cell_type": "code",
   "execution_count": 63,
   "metadata": {
    "collapsed": true
   },
   "outputs": [],
   "source": [
    "def getDetail(url):\n",
    "    res = requests.get(url)\n",
    "    soup = BeautifulSoup(res.text, 'html.parser')\n",
    "    return soup.select('#summary')[0].text"
   ]
  },
  {
   "cell_type": "code",
   "execution_count": 64,
   "metadata": {
    "collapsed": false
   },
   "outputs": [
    {
     "name": "stdout",
     "output_type": "stream",
     "text": [
      "韓國執政黨新世界黨前黨魁金武星今天（7日）在國會召開記者會，敦促總統朴槿惠立即退出新世界黨，並取消提名金秉準為總理，請國會推薦總理人選，成立中立內閣。他批評國民賦予總統的公權，被崔順實一家獨攬私用，牟取不正當利益。韓聯社報導，金武星說總統理應維護憲法權威，卻損害了憲法權威，青瓦台及黨內霸權勢力的專權跋扈踐踏了政治改革成果，破壞政黨民主。金武星還說，彈劾總統符合憲法精神，但政局劇烈動盪可能造成國家與人民的不幸。他要求作為領銜黨員的總統秉持「先黨後私」的精神和挽救黨的責任感，放棄黨籍，並儘快建立中立內閣，重建國民信任，穩定政局。 （國際中心／綜合外電報導）\n"
     ]
    }
   ],
   "source": [
    "print(getDetail('http://www.appledaily.com.tw/realtimenews/article/international/20161107/983718/%E5%8D%97%E9%9F%93%E5%9F%B7%E6%94%BF%E9%BB%A8%E5%89%8D%E9%BB%A8%E9%AD%81%20%E8%A6%81%E6%B1%82%E6%9C%B4%E6%A7%BF%E6%83%A0%E9%80%80%E9%BB%A8'))"
   ]
  },
  {
   "cell_type": "markdown",
   "metadata": {},
   "source": [
    "## 整理新聞內容"
   ]
  },
  {
   "cell_type": "code",
   "execution_count": 68,
   "metadata": {
    "collapsed": true
   },
   "outputs": [],
   "source": [
    "import requests\n",
    "res = requests.get('http://www.appledaily.com.tw/realtimenews/section/new/')\n",
    "#print(res.text)"
   ]
  },
  {
   "cell_type": "code",
   "execution_count": 69,
   "metadata": {
    "collapsed": true
   },
   "outputs": [],
   "source": [
    "from bs4 import BeautifulSoup\n",
    "soup = BeautifulSoup(res.text , 'html.parser')\n",
    "\n",
    "newsary = []\n",
    "\n",
    "domain  = 'http://www.appledaily.com.tw'\n",
    "for news in soup.select('.rtddt a'):\n",
    "    title    = news.select('h1')[0].text\n",
    "    category = news.select('h2')[0].text\n",
    "    dt       = news.select('time')[0].text\n",
    "    link     = domain + news['href']\n",
    "    content  = getDetail(link)\n",
    "    dic      = {'title' : title, 'category' : category, \n",
    "                'link': link, 'dt':dt, 'content':content}\n",
    "    newsary.append(dic)\n",
    "\n",
    "    "
   ]
  },
  {
   "cell_type": "code",
   "execution_count": 71,
   "metadata": {
    "collapsed": false
   },
   "outputs": [],
   "source": [
    "#newsary"
   ]
  },
  {
   "cell_type": "code",
   "execution_count": null,
   "metadata": {
    "collapsed": true
   },
   "outputs": [],
   "source": []
  }
 ],
 "metadata": {
  "kernelspec": {
   "display_name": "Python [Root]",
   "language": "python",
   "name": "Python [Root]"
  },
  "language_info": {
   "codemirror_mode": {
    "name": "ipython",
    "version": 3
   },
   "file_extension": ".py",
   "mimetype": "text/x-python",
   "name": "python",
   "nbconvert_exporter": "python",
   "pygments_lexer": "ipython3",
   "version": "3.5.2"
  }
 },
 "nbformat": 4,
 "nbformat_minor": 0
}
