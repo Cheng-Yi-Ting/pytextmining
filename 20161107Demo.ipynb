{
 "cells": [
  {
   "cell_type": "markdown",
   "metadata": {},
   "source": [
    "## Python Basic"
   ]
  },
  {
   "cell_type": "code",
   "execution_count": 1,
   "metadata": {
    "collapsed": false
   },
   "outputs": [
    {
     "data": {
      "text/plain": [
       "5"
      ]
     },
     "execution_count": 1,
     "metadata": {},
     "output_type": "execute_result"
    }
   ],
   "source": [
    "a = 3\n",
    "b = 2\n",
    "a + b"
   ]
  },
  {
   "cell_type": "code",
   "execution_count": 3,
   "metadata": {
    "collapsed": false
   },
   "outputs": [
    {
     "data": {
      "text/plain": [
       "6"
      ]
     },
     "execution_count": 3,
     "metadata": {},
     "output_type": "execute_result"
    }
   ],
   "source": [
    "a * 2"
   ]
  },
  {
   "cell_type": "markdown",
   "metadata": {
    "collapsed": true
   },
   "source": [
    "## 蘋果新聞爬蟲"
   ]
  },
  {
   "cell_type": "code",
   "execution_count": 10,
   "metadata": {
    "collapsed": false
   },
   "outputs": [
    {
     "name": "stdout",
     "output_type": "stream",
     "text": [
      "<class 'requests.models.Response'>\n"
     ]
    }
   ],
   "source": [
    "import requests\n",
    "res = requests.get('http://www.appledaily.com.tw/realtimenews/section/new/')\n",
    "print(type(res))"
   ]
  },
  {
   "cell_type": "markdown",
   "metadata": {},
   "source": [
    "## BeautifulSoup 操作"
   ]
  },
  {
   "cell_type": "code",
   "execution_count": 12,
   "metadata": {
    "collapsed": false
   },
   "outputs": [
    {
     "name": "stdout",
     "output_type": "stream",
     "text": [
      "<class 'bs4.BeautifulSoup'>\n",
      "\n",
      "\n",
      "\n",
      "Hello World\n",
      "This is link1\n",
      "This is link2\n",
      "\n",
      "\n",
      "\n"
     ]
    }
   ],
   "source": [
    "from bs4 import BeautifulSoup\n",
    "html_sample = '''\n",
    "<html> \n",
    " <body> \n",
    " <h1 id=\"title\">Hello World</h1> \n",
    " <a href=\"#\" class=\"link\">This is link1</a> \n",
    " <a href=\"# link2\" class=\"link\">This is link2</a> \n",
    " </body> \n",
    "</html>\n",
    "'''\n",
    "\n",
    "soup = BeautifulSoup(html_sample, 'html.parser')\n",
    "print(type(soup))\n",
    "print(soup.text)"
   ]
  },
  {
   "cell_type": "markdown",
   "metadata": {},
   "source": [
    "## 從標籤選取"
   ]
  },
  {
   "cell_type": "code",
   "execution_count": 16,
   "metadata": {
    "collapsed": false
   },
   "outputs": [
    {
     "name": "stdout",
     "output_type": "stream",
     "text": [
      "[<a class=\"link\" href=\"#\">This is link1</a>, <a class=\"link\" href=\"# link2\">This is link2</a>]\n",
      "<class 'list'>\n"
     ]
    }
   ],
   "source": [
    "print(soup.select('a'))\n",
    "print(type(soup.select('a')))"
   ]
  },
  {
   "cell_type": "code",
   "execution_count": 19,
   "metadata": {
    "collapsed": false
   },
   "outputs": [
    {
     "name": "stdout",
     "output_type": "stream",
     "text": [
      "<a class=\"link\" href=\"#\">This is link1</a>\n",
      "<class 'bs4.element.Tag'>\n"
     ]
    }
   ],
   "source": [
    "print(soup.select('a')[0])\n",
    "print(type(soup.select('a')[0]))"
   ]
  },
  {
   "cell_type": "code",
   "execution_count": 20,
   "metadata": {
    "collapsed": false
   },
   "outputs": [
    {
     "name": "stdout",
     "output_type": "stream",
     "text": [
      "This is link1\n",
      "<class 'str'>\n"
     ]
    }
   ],
   "source": [
    "print(soup.select('a')[0].text)\n",
    "print(type(soup.select('a')[0].text))"
   ]
  },
  {
   "cell_type": "code",
   "execution_count": 22,
   "metadata": {
    "collapsed": false
   },
   "outputs": [
    {
     "name": "stdout",
     "output_type": "stream",
     "text": [
      "[<h1 id=\"title\">Hello World</h1>]\n",
      "<class 'list'>\n"
     ]
    }
   ],
   "source": [
    "print(soup.select('h1'))\n",
    "print(type(soup.select('h1')))"
   ]
  },
  {
   "cell_type": "code",
   "execution_count": 24,
   "metadata": {
    "collapsed": false
   },
   "outputs": [
    {
     "name": "stdout",
     "output_type": "stream",
     "text": [
      "<h1 id=\"title\">Hello World</h1>\n",
      "<class 'bs4.element.Tag'>\n"
     ]
    }
   ],
   "source": [
    "print(soup.select('h1')[0])\n",
    "print(type(soup.select('h1')[0]))"
   ]
  },
  {
   "cell_type": "code",
   "execution_count": 25,
   "metadata": {
    "collapsed": false
   },
   "outputs": [
    {
     "name": "stdout",
     "output_type": "stream",
     "text": [
      "Hello World\n",
      "<class 'str'>\n"
     ]
    }
   ],
   "source": [
    "print(soup.select('h1')[0].text)\n",
    "print(type(soup.select('h1')[0].text))"
   ]
  },
  {
   "cell_type": "markdown",
   "metadata": {},
   "source": [
    "## 從css 樣式選取"
   ]
  },
  {
   "cell_type": "code",
   "execution_count": 27,
   "metadata": {
    "collapsed": false
   },
   "outputs": [
    {
     "data": {
      "text/plain": [
       "[<h1 id=\"title\">Hello World</h1>]"
      ]
     },
     "execution_count": 27,
     "metadata": {},
     "output_type": "execute_result"
    }
   ],
   "source": [
    "# id => #\n",
    "soup.select('#title')"
   ]
  },
  {
   "cell_type": "code",
   "execution_count": 29,
   "metadata": {
    "collapsed": false
   },
   "outputs": [
    {
     "data": {
      "text/plain": [
       "[<a class=\"link\" href=\"#\">This is link1</a>,\n",
       " <a class=\"link\" href=\"# link2\">This is link2</a>]"
      ]
     },
     "execution_count": 29,
     "metadata": {},
     "output_type": "execute_result"
    }
   ],
   "source": [
    "# class => .\n",
    "soup.select('.link')"
   ]
  },
  {
   "cell_type": "code",
   "execution_count": 32,
   "metadata": {
    "collapsed": false
   },
   "outputs": [
    {
     "name": "stdout",
     "output_type": "stream",
     "text": [
      "#\n",
      "# link2\n"
     ]
    }
   ],
   "source": [
    "for link in soup.select('.link'):\n",
    "    #print(link)\n",
    "    #print(link.text)\n",
    "    print(link['href'])"
   ]
  },
  {
   "cell_type": "code",
   "execution_count": 37,
   "metadata": {
    "collapsed": false
   },
   "outputs": [],
   "source": [
    "import requests\n",
    "res = requests.get('http://www.appledaily.com.tw/realtimenews/section/new/')\n",
    "#print(res.text)"
   ]
  },
  {
   "cell_type": "code",
   "execution_count": 53,
   "metadata": {
    "collapsed": false
   },
   "outputs": [
    {
     "name": "stdout",
     "output_type": "stream",
     "text": [
      "13:35 社會 婦抱六月大男嬰墜樓摔陽台　母子插管命危(27976) http://www.appledaily.com.tw/realtimenews/article/local/20161107/983680/婦抱六月大男嬰墜樓摔陽台　母子插管命危\n",
      "=====================================\n",
      "13:35 國際 南韓執政黨前黨魁　要求朴槿惠退黨(0) http://www.appledaily.com.tw/realtimenews/article/international/20161107/983718/南韓執政黨前黨魁　要求朴槿惠退黨\n",
      "=====================================\n",
      "13:33 社會 【有片】「你去酒店浪費檯錢！」　持刀狂刺...(15571) http://www.appledaily.com.tw/realtimenews/article/local/20161107/983444/【有片】「你去酒店浪費檯錢！」　持刀狂刺友人12刀亡\n",
      "=====================================\n",
      "13:32 國際 【央廣RTI】奧克拉荷馬5.0地震 疑與...(0) http://www.appledaily.com.tw/realtimenews/article/international/20161107/983720/【央廣RTI】奧克拉荷馬5.0地震疑與開發石油有關\n",
      "=====================================\n",
      "13:30 娛樂  名人聲援爭議MV　網友「中山女高霸凌蔡...(62) http://www.appledaily.com.tw/realtimenews/article/entertainment/20161107/983559/名人聲援爭議MV　網友「中山女高霸凌蔡依林」\n",
      "=====================================\n",
      "13:29 政治 【有片】反對福島核災食品解禁　藍委：不吃...(2737) http://www.appledaily.com.tw/realtimenews/article/politics/20161107/983556/【有片】反對福島核災食品解禁　藍委：不吃就活不了嗎？\n",
      "=====================================\n",
      "13:28 生活 中藥從業人員千人抗議　全因這項服務恐消失(80) http://www.appledaily.com.tw/realtimenews/article/life/20161107/983717/中藥從業人員千人抗議　全因這項服務恐消失\n",
      "=====================================\n",
      "13:27 娛樂 【愛情片】Baby大肚現形　黃曉明慶生實...(20033) http://www.appledaily.com.tw/realtimenews/article/entertainment/20161107/983491/【愛情片】Baby大肚現形　黃曉明慶生實習當奶爸\n",
      "=====================================\n",
      "13:27 財經 台銀不讓國民黨領4.6億　呂桔誠：要先看...(283) http://www.appledaily.com.tw/realtimenews/article/finance/20161107/983715/台銀不讓國民黨領4.6億　呂桔誠：要先看判決內容\n",
      "=====================================\n",
      "13:26 政治 【有影】林德福把罹癌唸成「羅」癌　柯建銘...(4564) http://www.appledaily.com.tw/realtimenews/article/politics/20161107/983618/【有影】林德福把罹癌唸成「羅」癌　柯建銘吐嘈要有水準\n",
      "=====================================\n",
      "13:25 財經 小米雙鏡頭5s Plus 來了　售價1....(144) http://www.appledaily.com.tw/realtimenews/article/finance/20161107/983713/小米雙鏡頭5sPlus來了　售價1.29萬\n",
      "=====================================\n",
      "13:25 財經 小米盒子在台首發　攜手愛藝奇搶市(42) http://www.appledaily.com.tw/realtimenews/article/finance/20161107/983716/小米盒子在台首發　攜手愛藝奇搶市\n",
      "=====================================\n",
      "13:22 政治 防國民黨脫產　黨產會急送行政處分書給銀行(575) http://www.appledaily.com.tw/realtimenews/article/politics/20161107/983707/防國民黨脫產　黨產會急送行政處分書給銀行\n",
      "=====================================\n",
      "13:21 壹週刊 【壹週刊】吳奇隆穿越捧AP　超時空展上海...(1638) http://www.appledaily.com.tw/realtimenews/article/nextmag/20161107/983452/【壹週刊】吳奇隆穿越捧AP　超時空展上海直擊！\n",
      "=====================================\n",
      "13:21 社會 男子溯溪釣魚遭落石砸斷腿　直升機馳援(373) http://www.appledaily.com.tw/realtimenews/article/local/20161107/983637/男子溯溪釣魚遭落石砸斷腿　直升機馳援\n",
      "=====================================\n",
      "13:21 社會 女保險員聯手中醫師　假車禍診斷詐保500...(838) http://www.appledaily.com.tw/realtimenews/article/local/20161107/983700/女保險員聯手中醫師　假車禍診斷詐保500萬\n",
      "=====================================\n",
      "13:20 體育 【央廣RTI】莫瑞登球王 備戰年終賽不鬆...(31) http://www.appledaily.com.tw/realtimenews/article/sports/20161107/983711/【央廣RTI】莫瑞登球王備戰年終賽不鬆懈\n",
      "=====================================\n",
      "13:18 動物 避免打鬥　動物園公梅花鹿角遭鋸(119) http://www.appledaily.com.tw/realtimenews/article/animal/20161107/983710/避免打鬥　動物園公梅花鹿角遭鋸\n",
      "=====================================\n",
      "13:17 生活 沒被福壽飼料毒死　114倖存豬恐被吃下肚(600) http://www.appledaily.com.tw/realtimenews/article/life/20161107/983694/沒被福壽飼料毒死　114倖存豬恐被吃下肚\n",
      "=====================================\n",
      "13:16 社會 【香腸糾紛】香腸攤叫貨惹紛爭　男子遭砍4...(12273) http://www.appledaily.com.tw/realtimenews/article/local/20161107/983450/【香腸糾紛】香腸攤叫貨惹紛爭　男子遭砍4刀重傷送醫\n",
      "=====================================\n",
      "13:16 生活 【更新】日核災食品4縣解禁？衛福部：待跨...(636) http://www.appledaily.com.tw/realtimenews/article/life/20161107/983516/【更新】日核災食品4縣解禁？衛福部：待跨部會討論\n",
      "=====================================\n",
      "13:14 社會 【控訴片】吳岳國文補習班被控血汗工廠　導...(1260) http://www.appledaily.com.tw/realtimenews/article/local/20161107/982513/【控訴片】吳岳國文補習班被控血汗工廠　導師遭趕出教室強制解職\n",
      "=====================================\n",
      "13:14 國際 希拉蕊電郵案解套　川普怒批FBI(818) http://www.appledaily.com.tw/realtimenews/article/international/20161107/983692/希拉蕊電郵案解套　川普怒批FBI\n",
      "=====================================\n",
      "13:11 生活 【驚訝片】煎蛋時太早放鹽　會產生有毒的氯...(10237) http://www.appledaily.com.tw/realtimenews/article/life/20161107/980741/【驚訝片】煎蛋時太早放鹽　會產生有毒的氯？\n",
      "=====================================\n",
      "13:10 體育 ​【全紀錄】NBA今日6場戰績　小牛終止...(686) http://www.appledaily.com.tw/realtimenews/article/sports/20161107/983705/​【全紀錄】NBA今日6場戰績　小牛終止開季5連敗\n",
      "=====================================\n",
      "13:08 體育 上季西區墊底　湖人本季大翻身奪3連勝(1215) http://www.appledaily.com.tw/realtimenews/article/sports/20161107/983704/上季西區墊底　湖人本季大翻身奪3連勝\n",
      "=====================================\n",
      "13:07 社會 孽兒持刀追殺父　揚言爆瓦斯被無保請回(494) http://www.appledaily.com.tw/realtimenews/article/local/20161107/983589/孽兒持刀追殺父　揚言爆瓦斯被無保請回\n",
      "=====================================\n",
      "13:05 地產 建商不蓋了！　高市單月申報開工僅4戶透天(1683) http://www.appledaily.com.tw/realtimenews/article/property/20161107/982775/建商不蓋了！　高市單月申報開工僅4戶透天\n",
      "=====================================\n",
      "13:05 娛樂 【育兒片】瑞莎噹老公　竟要千金當修女(2944) http://www.appledaily.com.tw/realtimenews/article/entertainment/20161107/983699/【育兒片】瑞莎噹老公　竟要千金當修女\n",
      "=====================================\n",
      "13:00 壹週刊 【壹週刊】「新陰道要按時塞模」小鎮姑娘談...(8956) http://www.appledaily.com.tw/realtimenews/article/nextmag/20161107/981943/【壹週刊】「新陰道要按時塞模」小鎮姑娘談變性路\n",
      "=====================================\n"
     ]
    }
   ],
   "source": [
    "from bs4 import BeautifulSoup\n",
    "soup = BeautifulSoup(res.text , 'html.parser')\n",
    "\n",
    "domain = 'http://www.appledaily.com.tw'\n",
    "for news in soup.select('.rtddt a'):\n",
    "    #print(news)\n",
    "    #print(news.select('h1')[0].text)\n",
    "    #print(news.select('h2')[0].text)\n",
    "    #print(news.select('time')[0].text)\n",
    "    #print(domain + news['href'])\n",
    "    title    = news.select('h1')[0].text\n",
    "    category = news.select('h2')[0].text\n",
    "    dt       = news.select('time')[0].text\n",
    "    link     = domain + news['href']\n",
    "    \n",
    "    print(dt, category, title, link)\n",
    "    print('=====================================')"
   ]
  }
 ],
 "metadata": {
  "kernelspec": {
   "display_name": "Python [Root]",
   "language": "python",
   "name": "Python [Root]"
  },
  "language_info": {
   "codemirror_mode": {
    "name": "ipython",
    "version": 3
   },
   "file_extension": ".py",
   "mimetype": "text/x-python",
   "name": "python",
   "nbconvert_exporter": "python",
   "pygments_lexer": "ipython3",
   "version": "3.5.2"
  }
 },
 "nbformat": 4,
 "nbformat_minor": 0
}
