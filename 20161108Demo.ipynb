{
 "cells": [
  {
   "cell_type": "markdown",
   "metadata": {},
   "source": [
    "## 使用Jieba 切詞"
   ]
  },
  {
   "cell_type": "code",
   "execution_count": 3,
   "metadata": {
    "collapsed": false
   },
   "outputs": [
    {
     "name": "stdout",
     "output_type": "stream",
     "text": [
      "大\n",
      "巨蛋\n",
      "案對\n",
      "市府\n",
      "同仁\n",
      "下\n",
      "封口令\n",
      "？\n",
      "　\n",
      "柯\n",
      "P\n",
      "否認\n"
     ]
    }
   ],
   "source": [
    "import jieba\n",
    "\n",
    "seg_list = jieba.cut(\"大巨蛋案對市府同仁下封口令？　柯P否認\")\n",
    "for word in seg_list:\n",
    "    print(word)"
   ]
  },
  {
   "cell_type": "code",
   "execution_count": 4,
   "metadata": {
    "collapsed": false
   },
   "outputs": [
    {
     "data": {
      "text/plain": [
       "'a@b@c'"
      ]
     },
     "execution_count": 4,
     "metadata": {},
     "output_type": "execute_result"
    }
   ],
   "source": [
    "a= ['a', 'b', 'c']\n",
    "'@'.join(a)"
   ]
  },
  {
   "cell_type": "code",
   "execution_count": 6,
   "metadata": {
    "collapsed": false
   },
   "outputs": [
    {
     "data": {
      "text/plain": [
       "'大/巨蛋/案對/市府/同仁/下/封口令/？/\\u3000/柯/P/否認'"
      ]
     },
     "execution_count": 6,
     "metadata": {},
     "output_type": "execute_result"
    }
   ],
   "source": [
    "import jieba\n",
    "seg_list = jieba.cut(\"大巨蛋案對市府同仁下封口令？　柯P否認\")\n",
    "'/'.join(seg_list)"
   ]
  },
  {
   "cell_type": "code",
   "execution_count": 7,
   "metadata": {
    "collapsed": false
   },
   "outputs": [
    {
     "data": {
      "text/plain": [
       "'大/巨蛋/案/對/市府/同仁/下/封口/封口令/口令////柯/P/否/認'"
      ]
     },
     "execution_count": 7,
     "metadata": {},
     "output_type": "execute_result"
    }
   ],
   "source": [
    "import jieba\n",
    "seg_list = jieba.cut(\"大巨蛋案對市府同仁下封口令？　柯P否認\", cut_all=True)\n",
    "'/'.join(seg_list)"
   ]
  },
  {
   "cell_type": "code",
   "execution_count": 12,
   "metadata": {
    "collapsed": true
   },
   "outputs": [],
   "source": [
    "jieba.load_userdict('userdict.txt')"
   ]
  },
  {
   "cell_type": "code",
   "execution_count": 9,
   "metadata": {
    "collapsed": false
   },
   "outputs": [
    {
     "data": {
      "text/plain": [
       "'大巨蛋/案對/市府/同仁/下/封口令/？/\\u3000/柯P/否認'"
      ]
     },
     "execution_count": 9,
     "metadata": {},
     "output_type": "execute_result"
    }
   ],
   "source": [
    "import jieba\n",
    "seg_list = jieba.cut(\"大巨蛋案對市府同仁下封口令？　柯P否認\")\n",
    "'/'.join(seg_list)"
   ]
  },
  {
   "cell_type": "markdown",
   "metadata": {},
   "source": [
    "## 使用Posseg 切詞"
   ]
  },
  {
   "cell_type": "code",
   "execution_count": 13,
   "metadata": {
    "collapsed": false
   },
   "outputs": [
    {
     "name": "stdout",
     "output_type": "stream",
     "text": [
      "大巨蛋 n\n",
      "案 ng\n",
      "對 p\n",
      "市府 n\n",
      "同仁 nr\n",
      "下 f\n",
      "封口令 n\n",
      "？ x\n",
      "　 x\n",
      "柯P n\n",
      "否認 v\n"
     ]
    }
   ],
   "source": [
    "import jieba.posseg as pseg\n",
    "words = pseg.cut(\"大巨蛋案對市府同仁下封口令？　柯P否認\")\n",
    "for w in words:\n",
    "    print(w.word, w.flag)"
   ]
  },
  {
   "cell_type": "markdown",
   "metadata": {},
   "source": [
    "## 做Tokenize"
   ]
  },
  {
   "cell_type": "code",
   "execution_count": 15,
   "metadata": {
    "collapsed": false
   },
   "outputs": [
    {
     "name": "stdout",
     "output_type": "stream",
     "text": [
      "大巨蛋 0 3\n",
      "案對 3 5\n",
      "市府 5 7\n",
      "同仁 7 9\n",
      "下 9 10\n",
      "封口令 10 13\n",
      "？ 13 14\n",
      "　 14 15\n",
      "柯P 15 17\n",
      "否認 17 19\n"
     ]
    }
   ],
   "source": [
    "sentence = \"大巨蛋案對市府同仁下封口令？　柯P否認\"\n",
    "\n",
    "words = jieba.tokenize(sentence)\n",
    "\n",
    "for tw in words:\n",
    "    print(tw[0], tw[1], tw[2])\n"
   ]
  },
  {
   "cell_type": "markdown",
   "metadata": {},
   "source": [
    "## 抓出句子中的關鍵詞"
   ]
  },
  {
   "cell_type": "code",
   "execution_count": 16,
   "metadata": {
    "collapsed": false
   },
   "outputs": [
    {
     "name": "stdout",
     "output_type": "stream",
     "text": [
      "封口令\n",
      "同仁\n"
     ]
    }
   ],
   "source": [
    "import jieba.analyse\n",
    "tags = jieba.analyse.extract_tags(sentence, 1)\n",
    "print(\",\".join(tags))\n",
    "\n",
    "tags = jieba.analyse.extract_tags(sentence, 1, allowPOS = ['nr'])\n",
    "print(\",\".join(tags))\n"
   ]
  },
  {
   "cell_type": "code",
   "execution_count": 18,
   "metadata": {
    "collapsed": false
   },
   "outputs": [
    {
     "name": "stdout",
     "output_type": "stream",
     "text": [
      "那我\n",
      "我們\n",
      "們酸\n",
      "酸民\n",
      "民婉\n",
      "婉君\n",
      "君也\n",
      "也可\n",
      "可以\n",
      "以報\n",
      "報名\n",
      "名嗎\n"
     ]
    }
   ],
   "source": [
    "#使用n = 2\n",
    "sentence='那我們酸民婉君也可以報名嗎'\n",
    "\n",
    "for i in range(0, len(sentence) - 2 + 1):\n",
    "    print(sentence[i:i+2])"
   ]
  },
  {
   "cell_type": "code",
   "execution_count": 19,
   "metadata": {
    "collapsed": false
   },
   "outputs": [
    {
     "name": "stdout",
     "output_type": "stream",
     "text": [
      "那我們\n",
      "我們酸\n",
      "們酸民\n",
      "酸民婉\n",
      "民婉君\n",
      "婉君也\n",
      "君也可\n",
      "也可以\n",
      "可以報\n",
      "以報名\n",
      "報名嗎\n"
     ]
    }
   ],
   "source": [
    "#使用n = 3\n",
    "for i in range(0, len(sentence) -3 + 1):\n",
    "    print(sentence[i:i+3])"
   ]
  },
  {
   "cell_type": "code",
   "execution_count": 20,
   "metadata": {
    "collapsed": false
   },
   "outputs": [
    {
     "name": "stdout",
     "output_type": "stream",
     "text": [
      "那我們酸\n",
      "我們酸民\n",
      "們酸民婉\n",
      "酸民婉君\n",
      "民婉君也\n",
      "婉君也可\n",
      "君也可以\n",
      "也可以報\n",
      "可以報名\n",
      "以報名嗎\n"
     ]
    }
   ],
   "source": [
    "#使用n = 4\n",
    "for i in range(0, len(sentence) -4 + 1):\n",
    "    print(sentence[i:i+4])"
   ]
  },
  {
   "cell_type": "code",
   "execution_count": 22,
   "metadata": {
    "collapsed": false
   },
   "outputs": [
    {
     "data": {
      "text/plain": [
       "[(1, 4), (2, 4)]"
      ]
     },
     "execution_count": 22,
     "metadata": {},
     "output_type": "execute_result"
    }
   ],
   "source": [
    "from collections import Counter\n",
    "a= [1,2,3,1,2,2,1,3,1,2]\n",
    "c = Counter(a)\n",
    "c.most_common(2)"
   ]
  },
  {
   "cell_type": "markdown",
   "metadata": {},
   "source": [
    "## 建立ngram 函式"
   ]
  },
  {
   "cell_type": "code",
   "execution_count": 23,
   "metadata": {
    "collapsed": true
   },
   "outputs": [],
   "source": [
    "def ngram(sentence, n = 2):\n",
    "    word_list  = [] \n",
    "    for i in range(0, len(sentence) - n + 1):\n",
    "        word_list.append(sentence[i:i+n])\n",
    "    return Counter(word_list)"
   ]
  },
  {
   "cell_type": "code",
   "execution_count": 27,
   "metadata": {
    "collapsed": false
   },
   "outputs": [
    {
     "data": {
      "text/plain": [
       "[('脫歐', 2), ('資產', 2), ('險資', 2)]"
      ]
     },
     "execution_count": 27,
     "metadata": {},
     "output_type": "execute_result"
    }
   ],
   "source": [
    "sentence = '但今日亞洲盤亞股、日圓、金價走勢，卻反映投資人還是不敢肯定希拉蕊必定勝選，畢竟5個月前英脫歐公投前夕，也是風險資產走揚，但投票當天卻因脫歐陣營意外強大，導致股市、新興市場和商品瞬間急轉直下、避險資產急漲'\n",
    "result = ngram(sentence, 2)\n",
    "result.most_common(3)"
   ]
  },
  {
   "cell_type": "markdown",
   "metadata": {},
   "source": [
    "## 使用正規表達法切句"
   ]
  },
  {
   "cell_type": "code",
   "execution_count": 28,
   "metadata": {
    "collapsed": false
   },
   "outputs": [
    {
     "data": {
      "text/plain": [
       "['但今日亞洲盤亞股',\n",
       " '日圓',\n",
       " '金價走勢',\n",
       " '卻反映投資人還是不敢肯定希拉蕊必定勝選',\n",
       " '畢竟5個月前英脫歐公投前夕',\n",
       " '也是風險資產走揚',\n",
       " '但投票當天卻因脫歐陣營意外強大',\n",
       " '導致股市',\n",
       " '新興市場和商品瞬間急轉直下',\n",
       " '避險資產急漲']"
      ]
     },
     "execution_count": 28,
     "metadata": {},
     "output_type": "execute_result"
    }
   ],
   "source": [
    "sentence = '但今日亞洲盤亞股、日圓、金價走勢，卻反映投資人還是不敢肯定希拉蕊必定勝選，畢竟5個月前英脫歐公投前夕，也是風險資產走揚，但投票當天卻因脫歐陣營意外強大，導致股市、新興市場和商品瞬間急轉直下、避險資產急漲'\n",
    "import re\n",
    "re.split('、|，', sentence )"
   ]
  },
  {
   "cell_type": "code",
   "execution_count": 43,
   "metadata": {
    "collapsed": false
   },
   "outputs": [],
   "source": [
    "def ngram(sentence, n = 2):\n",
    "    word_list  = [] \n",
    "    sentence_split = re.split('、|，|。', sentence)\n",
    "    for s in sentence_split:\n",
    "        for i in range(0, len(s) - n + 1):\n",
    "            word_list.append(s[i:i+n])\n",
    "    return Counter(word_list)"
   ]
  },
  {
   "cell_type": "code",
   "execution_count": 44,
   "metadata": {
    "collapsed": false
   },
   "outputs": [
    {
     "data": {
      "text/plain": [
       "'卻反映投資人還是不敢肯定必定勝選'"
      ]
     },
     "execution_count": 44,
     "metadata": {},
     "output_type": "execute_result"
    }
   ],
   "source": [
    "s = '卻反映投資人還是不敢肯定希拉蕊必定勝選'\n",
    "''.join(s.split('希拉蕊'))"
   ]
  },
  {
   "cell_type": "code",
   "execution_count": 45,
   "metadata": {
    "collapsed": true
   },
   "outputs": [],
   "source": [
    "def removeKey(text, keyword):\n",
    "    textAry= text\n",
    "    for key in keyword:\n",
    "        textAry = ''.join(textAry.split(key))\n",
    "    return textAry"
   ]
  },
  {
   "cell_type": "code",
   "execution_count": 50,
   "metadata": {
    "collapsed": true
   },
   "outputs": [],
   "source": [
    "sentence = '''\n",
    "在山上遇到車子出現問題，真的是欲哭無淚，但這個幸運的車主遇到了超暖師生，讓他順利脫困。\n",
    "車主在臉書《爆料公社》發文表示，本月7日在新竹司馬庫斯時，右前輪突然破了沒氣，當他正急得像熱鍋上的螞蟻時，正好巧遇南港高工汽修科的師生，「師生得知後立即捲起袖子，用自己的補胎工具，熟練的將輪胎缷下進行補胎工作，對於南港高工的熱忱及慷慨解危，感到非常感激。」\n",
    "車主表示，因為港工汽修科師生的幫忙，他才能順利回到溫暖的家，但對於耽誤師生和司機回鄉的時間感到很抱歉。\n",
    "網友看了大讚「老師學生都很棒~感謝你們讓台灣感到很溫暖」、「神救援」、「你遇到最美麗風景，他們學到最棒的經驗」、「巧遇汽修科的同學 這是要多幸運的幸運」、「剛好現場教學，學以致用。」（即時新聞中心／綜合報導）\n",
    "'''"
   ]
  },
  {
   "cell_type": "code",
   "execution_count": 52,
   "metadata": {
    "collapsed": false
   },
   "outputs": [
    {
     "data": {
      "text/plain": [
       "['汽修科', '感到', '遇到', '幸運', '車主', '師生']"
      ]
     },
     "execution_count": 52,
     "metadata": {},
     "output_type": "execute_result"
    }
   ],
   "source": [
    "keywords = []\n",
    "# ngram 從 4 到 2\n",
    "for n in range(4,1,-1):\n",
    "    # 移除關鍵詞\n",
    "    new_sentence   = removeKey(sentence, keywords)\n",
    "    # 切ngram\n",
    "    sentence_token = ngram(new_sentence, n)\n",
    "    for token, cnt in sentence_token.items():\n",
    "        # 將超過閥值的資料加入keywords 字典中\n",
    "        if cnt >= 3:\n",
    "            keywords.append(token)\n",
    "keywords\n"
   ]
  },
  {
   "cell_type": "markdown",
   "metadata": {},
   "source": [
    "## 統計字詞出現頻率"
   ]
  },
  {
   "cell_type": "code",
   "execution_count": 60,
   "metadata": {
    "collapsed": true
   },
   "outputs": [],
   "source": [
    "jieba.load_userdict('userdict.txt')\n",
    "s = '''美國民主黨總統候選人希拉蕊‧柯林頓(Hillary Clinton)陣營1名助理表示，約4萬名群眾7日湧入費城的美國獨立紀念館(Independence Mall)，參加希拉蕊的造勢活動，同時希拉蕊的夫婿柯林頓(Bill Clinton)、歐巴馬總統與妻子蜜雪兒也都出席這場造勢活動。\n",
    "搖滾歌手布魯斯史普林斯汀(Bruce Springsteen)與邦喬飛(Jon Bon Jovi)都在費城這場活動上表演。這是希拉蕊選前最後一天的倒數第二場群眾造勢活動。\n",
    "競選助理向隨行記者表示，這次的參與人數創下了希拉蕊陣營的新紀錄，先前的紀錄是在俄亥俄州的1場造勢活動，吸引了1萬8,500人參加'''\n",
    "word_list = []\n",
    "for word in jieba.cut(s):\n",
    "    word_list.append(word)\n"
   ]
  },
  {
   "cell_type": "code",
   "execution_count": 62,
   "metadata": {
    "collapsed": false
   },
   "outputs": [
    {
     "name": "stdout",
     "output_type": "stream",
     "text": [
      "活動 5\n",
      "希拉蕊 5\n",
      "造勢 3\n",
      "美國 2\n",
      "Clinton 2\n",
      "陣營 2\n",
      "助理 2\n",
      "柯林頓 2\n",
      "參加 2\n",
      "這場 2\n",
      "表示 2\n",
      "費城 2\n"
     ]
    }
   ],
   "source": [
    "from collections import Counter\n",
    "c = Counter(word_list)\n",
    "\n",
    "for word, cnt in c.most_common(100):\n",
    "    if len(word)>=2 and cnt >= 2:\n",
    "        print(word, cnt)"
   ]
  },
  {
   "cell_type": "code",
   "execution_count": null,
   "metadata": {
    "collapsed": true
   },
   "outputs": [],
   "source": []
  }
 ],
 "metadata": {
  "kernelspec": {
   "display_name": "Python [Root]",
   "language": "python",
   "name": "Python [Root]"
  },
  "language_info": {
   "codemirror_mode": {
    "name": "ipython",
    "version": 3
   },
   "file_extension": ".py",
   "mimetype": "text/x-python",
   "name": "python",
   "nbconvert_exporter": "python",
   "pygments_lexer": "ipython3",
   "version": "3.5.2"
  }
 },
 "nbformat": 4,
 "nbformat_minor": 0
}
