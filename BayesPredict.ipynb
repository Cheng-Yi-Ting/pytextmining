{
 "cells": [
  {
   "cell_type": "code",
   "execution_count": 100,
   "metadata": {
    "collapsed": false
   },
   "outputs": [],
   "source": [
    "import sqlite3 as lite\n",
    "import jieba\n",
    "import pandas as pd\n",
    "tags = []\n",
    "corpus = []\n",
    "titles = []\n",
    "with lite.connect('news.sqlite') as db:\n",
    "    cur = db.cursor()\n",
    "    cur.execute('select summary, title, category from news_entry;')\n",
    "    data = cur.fetchall()\n",
    "    for rec in data:\n",
    "        if rec[2].encode('utf-8') in ['娛樂', '社會', '財經']:\n",
    "            corpus.append(' '.join(jieba.cut(rec[0])))\n",
    "            titles.append(rec[1])\n",
    "            tags.append(rec[2])\n"
   ]
  },
  {
   "cell_type": "code",
   "execution_count": 101,
   "metadata": {
    "collapsed": true
   },
   "outputs": [],
   "source": [
    "import jieba\n",
    "from sklearn.feature_extraction.text import CountVectorizer\n",
    "vectorizer=CountVectorizer()\n",
    "X =vectorizer.fit_transform(corpus)\n",
    "word =vectorizer.get_feature_names()\n"
   ]
  },
  {
   "cell_type": "code",
   "execution_count": 102,
   "metadata": {
    "collapsed": true
   },
   "outputs": [],
   "source": [
    "from sklearn.cross_validation import train_test_split\n",
    "train_data,test_data,train_tag,test_tag, train_title, test_title=train_test_split(X,tags,titles,test_size=0.30,random_state=42)"
   ]
  },
  {
   "cell_type": "code",
   "execution_count": 103,
   "metadata": {
    "collapsed": false
   },
   "outputs": [
    {
     "data": {
      "text/plain": [
       "MultinomialNB(alpha=0.01, class_prior=None, fit_prior=True)"
      ]
     },
     "execution_count": 103,
     "metadata": {},
     "output_type": "execute_result"
    }
   ],
   "source": [
    "from sklearn.naive_bayes import MultinomialNB\n",
    "clf= MultinomialNB(alpha=0.01)\n",
    "clf.fit(train_data,train_tag)"
   ]
  },
  {
   "cell_type": "code",
   "execution_count": 125,
   "metadata": {
    "collapsed": false
   },
   "outputs": [
    {
     "name": "stdout",
     "output_type": "stream",
     "text": [
      "2\n",
      "1\n",
      "1\n",
      "1\n",
      "2\n",
      "[0 0 0 ..., 0 0 0]\n",
      "娛樂\n"
     ]
    }
   ],
   "source": [
    "s = u'天道盟太陽會見違法詐騙行為簡單，且取得大筆金錢快速、容易，一年多前在桃園市南區成立詐騙行動中心，由23歲的黃姓男子(有多項恐嚇、傷害及毒品前科)擔任該中心行動、詐騙組組長，和騙集團合作，由海外打電話詐騙國人，並吸收多名未成少年擔任車手，在國內提款機四處取款，一年來得手詐騙金額新台幣數百萬元。'\n",
    "s = u'徐懷鈺「無法抄襲」Jolin 徐懷鈺'\n",
    "import numpy\n",
    "nparray = np.array([0] * len(vectorizer.get_feature_names()))\n",
    "ary = [ele for ele in jieba.cut(s)]\n",
    "for ele in ary:\n",
    "    try:\n",
    "        if word.index(ele.lower()) >= 0:\n",
    "            nparray[word.index(ele.lower())] = ary.count(ele)           \n",
    "    except:\n",
    "        pass\n",
    "\n",
    "a = csr_matrix(nparray, dtype=np.int8)\n",
    "print a.toarray()[0]\n",
    "\n",
    "pred=clf.predict(a[0])\n",
    "print pred[0]"
   ]
  },
  {
   "cell_type": "code",
   "execution_count": null,
   "metadata": {
    "collapsed": true
   },
   "outputs": [],
   "source": []
  }
 ],
 "metadata": {
  "kernelspec": {
   "display_name": "Python 2",
   "language": "python",
   "name": "python2"
  },
  "language_info": {
   "codemirror_mode": {
    "name": "ipython",
    "version": 2
   },
   "file_extension": ".py",
   "mimetype": "text/x-python",
   "name": "python",
   "nbconvert_exporter": "python",
   "pygments_lexer": "ipython2",
   "version": "2.7.11"
  }
 },
 "nbformat": 4,
 "nbformat_minor": 0
}
