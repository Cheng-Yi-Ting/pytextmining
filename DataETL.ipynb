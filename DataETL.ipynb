{
 "cells": [
  {
   "cell_type": "code",
   "execution_count": 1,
   "metadata": {
    "collapsed": false
   },
   "outputs": [
    {
     "name": "stdout",
     "output_type": "stream",
     "text": [
      "200\n",
      "text/html; charset=utf-8\n"
     ]
    }
   ],
   "source": [
    "import requests\n",
    "res = requests.get(http://www.appledaily.com.tw/realtimenews/section/new/1/')\n",
    "#print res.text\n",
    "print res.status_code \n",
    "print res.headers['content-type']\n"
   ]
  },
  {
   "cell_type": "markdown",
   "metadata": {},
   "source": [
    "# 使用爬蟲蒐集每日頻果要聞"
   ]
  },
  {
   "cell_type": "code",
   "execution_count": 7,
   "metadata": {
    "collapsed": false
   },
   "outputs": [
    {
     "name": "stdout",
     "output_type": "stream",
     "text": [
      "<li class=\"rtddt fun\">\n",
      "<a href=\"/realtimenews/article/fun/20150526/616690/再暗也不會尿歪！美男發明螢光馬桶蓋\" target=\"_blank\">\n",
      "<time>00:20</time>\n",
      "<h2>FUN</h2>\n",
      "<h1><font color=\"#383c40\">再暗也不會尿歪！ 美男發明螢光馬桶蓋(0)</font></h1>\n",
      "</a>\n",
      "</li>\n",
      "<li class=\"rtddt animal even hsv\">\n",
      "<a href=\"/realtimenews/article/animal/20150526/616719/孤單的小鹿　一眼認定燙傷貓\" target=\"_blank\">\n",
      "<time>00:20</time>\n",
      "<h2>動物</h2>\n",
      "<h1><font color=\"#383c40\">孤單的小鹿　一眼認定燙傷貓(0)</font></h1>\n",
      "</a>\n",
      "</li>\n",
      "<li class=\"rtddt local\">\n",
      "<a href=\"/realtimenews/article/local/20150526/616781/柯P地盤近百黑衣人砸服飾店\" target=\"_blank\">\n",
      "<time>00:20</time>\n",
      "<h2>社會</h2>\n",
      "<h1><font color=\"#383c40\">柯P地盤近百黑衣人砸服飾店(17994)</font></h1>\n",
      "</a>\n",
      "</li>\n",
      "<li class=\"rtddt fun even\">\n",
      "<a href=\"/realtimenews/article/fun/20150526/616699/車迷看過來10個破銅爛鐵搞出的酷玩意兒\" target=\"_blank\">\n",
      "<time>00:19</time>\n",
      "<h2>FUN</h2>\n",
      "<h1><font color=\"#383c40\">車迷看過來 10個破銅爛鐵搞出的酷玩意兒(0)</font></h1>\n",
      "</a>\n",
      "</li>\n",
      "<li class=\"rtddt sport\">\n",
      "<a href=\"/realtimenews/article/sports/20150526/616794/台灣一哥盧彥勳法網首戰　周二下午5點FOX現場直播\" target=\"_blank\">\n",
      "<time>00:17</time>\n",
      "<h2>體育</h2>\n",
      "<h1><font color=\"#383c40\">台灣一哥盧彥勳法網首戰　周二下午5點FO...(0)</font></h1>\n",
      "</a>\n",
      "</li>\n",
      "<li class=\"rtddt fun even hsv\">\n",
      "<a href=\"/realtimenews/article/fun/20150526/616659/【占卜】天公疼憨人你能得到福氣嗎？\" target=\"_blank\">\n",
      "<time>00:16</time>\n",
      "<h2>FUN</h2>\n",
      "<h1><font color=\"#383c40\">【占卜】天公疼憨人 你能得到福氣嗎？(0)</font></h1>\n",
      "</a>\n",
      "</li>\n",
      "<li class=\"rtddt enter\">\n",
      "<a href=\"/realtimenews/article/entertainment/20150526/612007/【今日壽星】伊東美咲《電車男》走紅　躍升柏青哥董娘\" target=\"_blank\">\n",
      "<time>00:15</time>\n",
      "<h2>娛樂</h2>\n",
      "<h1><font color=\"#ff0000\">【今日壽星】伊東美咲《電車男》走紅　躍升...(0)</font></h1>\n",
      "</a>\n",
      "</li>\n",
      "<li class=\"rtddt animal even\">\n",
      "<a href=\"/realtimenews/article/animal/20150526/616716/獵殺老犀牛　是為了防止犀牛絕種？\" target=\"_blank\">\n",
      "<time>00:14</time>\n",
      "<h2>動物</h2>\n",
      "<h1><font color=\"#ff0000\">獵殺老犀牛　是為了防止犀牛絕種？(67)</font></h1>\n",
      "</a>\n",
      "</li>\n",
      "<li class=\"rtddt blog\">\n",
      "<a href=\"/realtimenews/article/forum/20150526/616649/維持現狀與《臺灣前途決議文》\" target=\"_blank\">\n",
      "<time>00:12</time>\n",
      "<h2>論壇</h2>\n",
      "<h1><font color=\"#ff0000\">維持現狀與《臺灣前途決議文》(14)</font></h1>\n",
      "</a>\n",
      "</li>\n",
      "<li class=\"rtddt ccc even\">\n",
      "<a href=\"/realtimenews/article/3c/20150526/616658/微型掃描器　掃一圈就立馬摳比\" target=\"_blank\">\n",
      "<time>00:12</time>\n",
      "<h2>瘋啥</h2>\n",
      "<h1><font color=\"#ff0000\">微型掃描器　掃一圈就立馬摳比(26)</font></h1>\n",
      "</a>\n",
      "</li>\n",
      "<li class=\"rtddt fun\">\n",
      "<a href=\"/realtimenews/article/fun/20150526/616702/【祕密客】百年老屋華麗變身\" target=\"_blank\">\n",
      "<time>00:10</time>\n",
      "<h2>FUN</h2>\n",
      "<h1><font color=\"#ff0000\">【祕密客】百年老屋華麗變身(14)</font></h1>\n",
      "</a>\n",
      "</li>\n",
      "<li class=\"rtddt fun even\">\n",
      "<a href=\"/realtimenews/article/fun/20150526/616705/上班請勿看　超大顆洋蔥在這裡\" target=\"_blank\">\n",
      "<time>00:10</time>\n",
      "<h2>FUN</h2>\n",
      "<h1><font color=\"#383c40\">上班請勿看　超大顆洋蔥在這裡(64)</font></h1>\n",
      "</a>\n",
      "</li>\n",
      "<li class=\"rtddt enter\">\n",
      "<a href=\"/realtimenews/article/entertainment/20150526/616770/【狗仔偷拍】安室缺席Jolin慶功宴　獨嗑台菜會粉絲\" target=\"_blank\">\n",
      "<time>00:10</time>\n",
      "<h2>娛樂</h2>\n",
      "<h1><font color=\"#ff0000\">【狗仔偷拍】安室缺席Jolin慶功宴　獨...(342)</font></h1>\n",
      "</a>\n",
      "</li>\n",
      "<li class=\"rtddt blog even\">\n",
      "<a href=\"/realtimenews/article/forum/20150526/616771/江春男：以巴的政治足球\" target=\"_blank\">\n",
      "<time>00:10</time>\n",
      "<h2>論壇</h2>\n",
      "<h1><font color=\"#ff0000\">江春男：以巴的政治足球(25)</font></h1>\n",
      "</a>\n",
      "</li>\n",
      "<li class=\"rtddt fun\">\n",
      "<a href=\"/realtimenews/article/fun/20150526/616758/【旅途中】老巷弄咖啡廳　是有這麼誇張嗎？\" target=\"_blank\">\n",
      "<time>00:09</time>\n",
      "<h2>FUN</h2>\n",
      "<h1><font color=\"#ff0000\">【旅途中】老巷弄咖啡廳　是有這麼誇張嗎？(337)</font></h1>\n",
      "</a>\n",
      "</li>\n",
      "<li class=\"rtddt ccc even hsv\">\n",
      "<a href=\"/realtimenews/article/3c/20150526/616701/靠AppleWatch泡妞難度很高哩\" target=\"_blank\">\n",
      "<time>00:08</time>\n",
      "<h2>瘋啥</h2>\n",
      "<h1><font color=\"#ff0000\">靠Apple Watch泡妞  難度很高...(231)</font></h1>\n",
      "</a>\n",
      "</li>\n",
      "<li class=\"rtddt blog\">\n",
      "<a href=\"/realtimenews/article/forum/20150526/612470/小野：初老不是人生的下半場，而是延長賽\" target=\"_blank\">\n",
      "<time>00:07</time>\n",
      "<h2>論壇</h2>\n",
      "<h1><font color=\"#ff0000\">小野：初老不是人生的下半場，而是延長賽(177)</font></h1>\n",
      "</a>\n",
      "</li>\n",
      "<li class=\"rtddt blog even\">\n",
      "<a href=\"/realtimenews/article/forum/20150526/612472/陳孝忠：我愛你愛我\" target=\"_blank\">\n",
      "<time>00:07</time>\n",
      "<h2>論壇</h2>\n",
      "<h1><font color=\"#ff0000\">陳孝忠：我愛你愛我(76)</font></h1>\n",
      "</a>\n",
      "</li>\n",
      "<li class=\"rtddt local\">\n",
      "<a href=\"/realtimenews/article/local/20150526/616791/屏東迦樂醫院火警　疏散206名病患\" target=\"_blank\">\n",
      "<time>00:07</time>\n",
      "<h2>社會</h2>\n",
      "<h1><font color=\"#ff0000\">屏東迦樂醫院火警　疏散206名病患(209)</font></h1>\n",
      "</a>\n",
      "</li>\n",
      "<li class=\"rtddt inter even\">\n",
      "<a href=\"/realtimenews/article/international/20150526/616793/法航客機傳有化武　美派戰機護送\" target=\"_blank\">\n",
      "<time>00:07</time>\n",
      "<h2>國際</h2>\n",
      "<h1><font color=\"#ff0000\">法航客機傳有化武　美派戰機護送(299)</font></h1>\n",
      "</a>\n",
      "</li>\n",
      "<li class=\"rtddt ccc\">\n",
      "<a href=\"/realtimenews/article/3c/20150526/616713/攀上枝頭　神腳架哪裡都能拍\" target=\"_blank\">\n",
      "<time>00:06</time>\n",
      "<h2>瘋啥</h2>\n",
      "<h1><font color=\"#ff0000\">攀上枝頭　神腳架哪裡都能拍(127)</font></h1>\n",
      "</a>\n",
      "</li>\n",
      "<li class=\"rtddt local even\">\n",
      "<a href=\"/realtimenews/article/local/20150526/616790/竹縣蛋捲賄選案　黨部主任判刑2年\" target=\"_blank\">\n",
      "<time>00:06</time>\n",
      "<h2>社會</h2>\n",
      "<h1><font color=\"#ff0000\">竹縣蛋捲賄選案　黨部主任判刑2年(229)</font></h1>\n",
      "</a>\n",
      "</li>\n",
      "<li class=\"rtddt blog\">\n",
      "<a href=\"/realtimenews/article/forum/20150526/616639/中小學教科書應屬「公共財」\" target=\"_blank\">\n",
      "<time>00:05</time>\n",
      "<h2>論壇</h2>\n",
      "<h1><font color=\"#ff0000\">中小學教科書應屬「公共財」(73)</font></h1>\n",
      "</a>\n",
      "</li>\n",
      "<li class=\"rtddt fun even\">\n",
      "<a href=\"/realtimenews/article/fun/20150526/616643/活屍闖入婚紗照現場？\" target=\"_blank\">\n",
      "<time>00:05</time>\n",
      "<h2>FUN</h2>\n",
      "<h1><font color=\"#ff0000\">活屍闖入婚紗照現場？(237)</font></h1>\n",
      "</a>\n",
      "</li>\n",
      "<li class=\"rtddt animal hsv\">\n",
      "<a href=\"/realtimenews/article/animal/20150526/616760/眼盲心不盲熱愛大自然\" target=\"_blank\">\n",
      "<time>00:05</time>\n",
      "<h2>動物</h2>\n",
      "<h1><font color=\"#ff0000\">眼盲心不盲 熱愛大自然(91)</font></h1>\n",
      "</a>\n",
      "</li>\n",
      "<li class=\"rtddt local even\">\n",
      "<a href=\"/realtimenews/article/local/20150526/616784/台中包商浮屍桃園　無明顯外傷擇期解剖\" target=\"_blank\">\n",
      "<time>00:05</time>\n",
      "<h2>社會</h2>\n",
      "<h1><font color=\"#ff0000\">台中包商浮屍桃園　無明顯外傷擇期解剖(311)</font></h1>\n",
      "</a>\n",
      "</li>\n",
      "<li class=\"rtddt blog\">\n",
      "<a href=\"/realtimenews/article/forum/20150526/616651/馬維敏：馬英九的最後一里路\" target=\"_blank\">\n",
      "<time>00:04</time>\n",
      "<h2>論壇</h2>\n",
      "<h1><font color=\"#ff0000\">馬維敏：馬英九的最後一里路(692)</font></h1>\n",
      "</a>\n",
      "</li>\n",
      "<li class=\"rtddt blog even\">\n",
      "<a href=\"/realtimenews/article/forum/20150526/616724/南方朔：愈老愈想再上台!\" target=\"_blank\">\n",
      "<time>00:04</time>\n",
      "<h2>論壇</h2>\n",
      "<h1><font color=\"#ff0000\">南方朔：愈老愈想再上台!(506)</font></h1>\n",
      "</a>\n",
      "</li>\n",
      "<li class=\"rtddt fun\">\n",
      "<a href=\"/realtimenews/article/fun/20150526/616675/插畫家揮揮筆幫法國潮牌帆布鞋換新裝\" target=\"_blank\">\n",
      "<time>00:03</time>\n",
      "<h2>FUN</h2>\n",
      "<h1><font color=\"#ff0000\">插畫家揮揮筆 幫法國潮牌帆布鞋換新裝(304)</font></h1>\n",
      "</a>\n",
      "</li>\n",
      "<li class=\"rtddt blog even\">\n",
      "<a href=\"/realtimenews/article/forum/20150526/613602/許佑生：用嘴做出來的性福\" target=\"_blank\">\n",
      "<time>00:02</time>\n",
      "<h2>論壇</h2>\n",
      "<h1><font color=\"#ff0000\">許佑生：用嘴做出來的性福    (652)</font></h1>\n",
      "</a>\n",
      "</li>\n"
     ]
    }
   ],
   "source": [
    "import requests\n",
    "from bs4 import BeautifulSoup\n",
    "import re\n",
    "section = requests.get('http://www.appledaily.com.tw/realtimenews/section/new/1')\n",
    "soup = BeautifulSoup(section.text)\n",
    "for news in soup.select('.rtddt'):\n",
    "    print news"
   ]
  },
  {
   "cell_type": "code",
   "execution_count": 6,
   "metadata": {
    "collapsed": false
   },
   "outputs": [],
   "source": [
    "for news in soup.select('.rtddt'):    \n",
    "    main = news.select('h1')[0].text\n",
    "    category = news.select('h2')[0].text \n",
    "    time = news.select('time')[0].text \n",
    "    url = domain + news.select('a')[0]['href']    "
   ]
  },
  {
   "cell_type": "code",
   "execution_count": 9,
   "metadata": {
    "collapsed": false
   },
   "outputs": [],
   "source": [
    "import requests\n",
    "from bs4 import BeautifulSoup\n",
    "import re\n",
    "section = requests.get('http://www.appledaily.com.tw/realtimenews/section/new/1')\n",
    "soup = BeautifulSoup(section.text)\n",
    "domain = 'http://www.appledaily.com.tw'\n",
    "newsary = []\n",
    "for news in soup.select('.rtddt'):    \n",
    "    main = news.select('h1')[0].text\n",
    "    m = re.match('(.*)\\((\\d+)\\)',main)\n",
    "    if m:\n",
    "        title = m.group(1)\n",
    "        popularity = int(m.group(2))\n",
    "    category = news.select('h2')[0].text \n",
    "    time = news.select('time')[0].text \n",
    "    url = domain + news.select('a')[0]['href']\n",
    "    dic = {'title': title, 'popularity':popularity,'category':category, 'time':time, 'url':url}\n",
    "    newsary.append(dic)"
   ]
  },
  {
   "cell_type": "markdown",
   "metadata": {},
   "source": [
    "## 根據頁數蒐集"
   ]
  },
  {
   "cell_type": "code",
   "execution_count": 4,
   "metadata": {
    "collapsed": false
   },
   "outputs": [
    {
     "data": {
      "text/plain": [
       "\"\\nnewsary = []\\n\\nfor page in range(1,2):\\n    section = requests.get('http://www.appledaily.com.tw/realtimenews/section/new/%d'%(page))\\n    soup = BeautifulSoup(section.text)\\n    for news in soup.select('.rtddt a'):\\n        newsary.append(domain + news['href'])\\n\""
      ]
     },
     "execution_count": 4,
     "metadata": {},
     "output_type": "execute_result"
    }
   ],
   "source": [
    "import requests\n",
    "from bs4 import BeautifulSoup\n",
    "\n",
    "domain = 'http://www.appledaily.com.tw'\n",
    "'''\n",
    "newsary = []\n",
    "url = 'http://www.appledaily.com.tw/realtimenews/section/new/%d'\n",
    "for page in range(1,2):\n",
    "    section = requests.get(url%(page))\n",
    "    soup = BeautifulSoup(section.text)\n",
    "    for news in soup.select('.rtddt a'):\n",
    "        newsary.append(domain + news['href'])\n",
    "'''"
   ]
  },
  {
   "cell_type": "markdown",
   "metadata": {
    "collapsed": true
   },
   "source": [
    "- https://gist.github.com/bryanyang0528/dcca5614e144ad89acde\n",
    "- http://bryannotes.blogspot.tw/2014/07/python-n-gram.html\n",
    "- http://tm.itc.ntnu.edu.tw/CNLP/?q=node/5\n",
    "- http://wiki.swarma.net/index.php?title=%E4%BD%BF%E7%94%A8python%E8%BF%9B%E8%A1%8C%E6%99%AE%E9%80%82%E8%AE%A1%E7%AE%97&variant=zh-tw\n",
    "- http://wiki.swarma.net/index.php/%E8%B4%9D%E5%8F%B6%E6%96%AF%E5%AE%9A%E7%90%86%E4%B8%8E%E6%83%85%E6%84%9F%E5%88%86%E6%9E%90#Python_.E4.BB.A3.E7.A0.81.E5.8F.8A.E7.A4.BA.E4.BE.8B.EF.BC.9A.E4.BD.BF.E7.94.A8.E6.9C.B4.E7.B4.A0.E8.B4.9D.E5.8F.B6.E6.96.AF.E6.A8.A1.E5.9E.8B.E5.88.A4.E5.88.AB.E8.AE.BA.E5.9D.9B.E5.B8.96.E5.AD.90.E6.98.AF.E5.90.A6.E8.BE.B1.E9.AA.82.E6.80.A7\n",
    "http://www.dotblogs.com.tw/rickyteng/archive/2013/10/07/123389.aspx"
   ]
  },
  {
   "cell_type": "markdown",
   "metadata": {},
   "source": [
    "## 印出蒐集新聞"
   ]
  },
  {
   "cell_type": "code",
   "execution_count": 18,
   "metadata": {
    "collapsed": false
   },
   "outputs": [
    {
     "name": "stdout",
     "output_type": "stream",
     "text": [
      "30\n"
     ]
    }
   ],
   "source": [
    "print len(newsary)"
   ]
  },
  {
   "cell_type": "code",
   "execution_count": 26,
   "metadata": {
    "collapsed": false
   },
   "outputs": [
    {
     "name": "stdout",
     "output_type": "stream",
     "text": [
      "[{'category': u'\\u653f\\u6cbb', 'url': u'http://www.appledaily.com.tw/realtimenews/article/politics/20150524/615860/\\u6c11\\u9032\\u9ee8\\u570b\\u9632\\u85cd\\u76ae\\u66f8\\u3000\\u88c1\\u9000\\u8f14\\u6703\\u3001\\u589e\\u8a2d\\u7db2\\u8ecd', 'popularity': 0, 'time': u'10:38', 'title': u'\\u6c11\\u9032\\u9ee8\\u570b\\u9632\\u85cd\\u76ae\\u66f8\\u3000\\u88c1\\u9000\\u8f14\\u6703\\u3001\\u589e\\u8a2d\\u7db2\\u8ecd'}, {'category': u'\\u793e\\u6703', 'url': u'http://www.appledaily.com.tw/realtimenews/article/local/20150524/615807/\\u96d9\\u5317\\u9023\\u65e5\\u5927\\u96e8\\u3000\\u677f\\u6a4b\\u8def\\u6a39\\u8f5f\\u7136\\u5012', 'popularity': 7075, 'time': u'10:36', 'title': u'\\u96d9\\u5317\\u9023\\u65e5\\u5927\\u96e8\\u3000\\u677f\\u6a4b\\u8def\\u6a39\\u8f5f\\u7136\\u5012'}, {'category': u'\\u641c\\u5947', 'url': u'http://www.appledaily.com.tw/realtimenews/article/strange/20150524/615867/\\u6b6a\\u8170\\uff5e\\u6e96\\u5cb3\\u6bcd\\u8dcc\\u72d7\\u5403\\u5c4e\\u3000\\u7f8e\\u7537\\u6d6a\\u6f2b\\u6c42\\u5a5a\\u6210\\u9b27\\u5287', 'popularity': 0, 'time': u'10:36', 'title': u'\\u6b6a\\u8170\\uff5e\\u6e96\\u5cb3\\u6bcd\\u8dcc\\u72d7\\u5403\\u5c4e\\u3000\\u7f8e\\u7537\\u6d6a\\u6f2b\\u6c42\\u5a5a\\u6210\\u9b27\\u5287'}]\n"
     ]
    }
   ],
   "source": [
    "print newsary[0:3]"
   ]
  },
  {
   "cell_type": "code",
   "execution_count": 10,
   "metadata": {
    "collapsed": false
   },
   "outputs": [
    {
     "name": "stdout",
     "output_type": "stream",
     "text": [
      "FUN 神設計餐盤  讓料理好有戲 0\n",
      "娛樂 梁詠琪噴嚏嚇哭女兒　愛犬舔baby腳底呼... 0\n",
      "動物 好不容易獲救　隔天後卻馬上… 0\n"
     ]
    }
   ],
   "source": [
    "for news in newsary[0:3]:\n",
    "    print news['category'], news['title'], news['popularity']"
   ]
  },
  {
   "cell_type": "markdown",
   "metadata": {},
   "source": [
    "# 使用pandas 做敘述性統計"
   ]
  },
  {
   "cell_type": "code",
   "execution_count": 12,
   "metadata": {
    "collapsed": false,
    "scrolled": true
   },
   "outputs": [
    {
     "data": {
      "text/html": [
       "<div style=\"max-height:1000px;max-width:1500px;overflow:auto;\">\n",
       "<table border=\"1\" class=\"dataframe\">\n",
       "  <thead>\n",
       "    <tr style=\"text-align: right;\">\n",
       "      <th></th>\n",
       "      <th>category</th>\n",
       "      <th>popularity</th>\n",
       "      <th>time</th>\n",
       "      <th>title</th>\n",
       "      <th>url</th>\n",
       "    </tr>\n",
       "  </thead>\n",
       "  <tbody>\n",
       "    <tr>\n",
       "      <th>0</th>\n",
       "      <td> FUN</td>\n",
       "      <td>  0</td>\n",
       "      <td> 00:28</td>\n",
       "      <td>           神設計餐盤  讓料理好有戲</td>\n",
       "      <td> http://www.appledaily.com.tw/realtimenews/arti...</td>\n",
       "    </tr>\n",
       "    <tr>\n",
       "      <th>1</th>\n",
       "      <td>  娛樂</td>\n",
       "      <td>  0</td>\n",
       "      <td> 00:28</td>\n",
       "      <td> 梁詠琪噴嚏嚇哭女兒　愛犬舔baby腳底呼...</td>\n",
       "      <td> http://www.appledaily.com.tw/realtimenews/arti...</td>\n",
       "    </tr>\n",
       "    <tr>\n",
       "      <th>2</th>\n",
       "      <td>  動物</td>\n",
       "      <td>  0</td>\n",
       "      <td> 00:28</td>\n",
       "      <td>          好不容易獲救　隔天後卻馬上…</td>\n",
       "      <td> http://www.appledaily.com.tw/realtimenews/arti...</td>\n",
       "    </tr>\n",
       "    <tr>\n",
       "      <th>3</th>\n",
       "      <td>  生活</td>\n",
       "      <td>  0</td>\n",
       "      <td> 00:27</td>\n",
       "      <td>         美妝即期品開賣　每人只能買2件</td>\n",
       "      <td> http://www.appledaily.com.tw/realtimenews/arti...</td>\n",
       "    </tr>\n",
       "    <tr>\n",
       "      <th>4</th>\n",
       "      <td>  娛樂</td>\n",
       "      <td> 90</td>\n",
       "      <td> 00:25</td>\n",
       "      <td>            準爸爸池城　今搶百想戲王</td>\n",
       "      <td> http://www.appledaily.com.tw/realtimenews/arti...</td>\n",
       "    </tr>\n",
       "  </tbody>\n",
       "</table>\n",
       "<p>5 rows × 5 columns</p>\n",
       "</div>"
      ],
      "text/plain": [
       "  category  popularity   time                    title  \\\n",
       "0      FUN           0  00:28            蟡�身閮���� 霈����末���   \n",
       "1       憡��           0  00:28  璇���芸�����剖戊��������aby�喳���..   \n",
       "2       ���           0  00:28           憟賭�摰寞��脫����憭拙��駁收銝��   \n",
       "3       ��暑           0  00:27          蝢���單����鞈��瘥�犖�芾�鞎�隞�  \n",
       "4       憡��          90  00:25             皞���豢����隞���暹��脩�   \n",
       "\n",
       "                                                 url  \n",
       "0  http://www.appledaily.com.tw/realtimenews/arti...  \n",
       "1  http://www.appledaily.com.tw/realtimenews/arti...  \n",
       "2  http://www.appledaily.com.tw/realtimenews/arti...  \n",
       "3  http://www.appledaily.com.tw/realtimenews/arti...  \n",
       "4  http://www.appledaily.com.tw/realtimenews/arti...  \n",
       "\n",
       "[5 rows x 5 columns]"
      ]
     },
     "execution_count": 12,
     "metadata": {},
     "output_type": "execute_result"
    }
   ],
   "source": [
    "import pandas as pd\n",
    "newspd = pd.DataFrame(newsary)\n",
    "newspd.head()"
   ]
  },
  {
   "cell_type": "markdown",
   "metadata": {},
   "source": [
    "## 根據人氣排序"
   ]
  },
  {
   "cell_type": "code",
   "execution_count": 13,
   "metadata": {
    "collapsed": false
   },
   "outputs": [
    {
     "data": {
      "text/html": [
       "<div style=\"max-height:1000px;max-width:1500px;overflow:auto;\">\n",
       "<table border=\"1\" class=\"dataframe\">\n",
       "  <thead>\n",
       "    <tr style=\"text-align: right;\">\n",
       "      <th></th>\n",
       "      <th>category</th>\n",
       "      <th>popularity</th>\n",
       "      <th>time</th>\n",
       "      <th>title</th>\n",
       "      <th>url</th>\n",
       "    </tr>\n",
       "  </thead>\n",
       "  <tbody>\n",
       "    <tr>\n",
       "      <th>12</th>\n",
       "      <td>  社會</td>\n",
       "      <td> 22141</td>\n",
       "      <td> 00:21</td>\n",
       "      <td>       【囂張】柯P地盤近百黑衣人砸服飾店</td>\n",
       "      <td> http://www.appledaily.com.tw/realtimenews/arti...</td>\n",
       "    </tr>\n",
       "    <tr>\n",
       "      <th>24</th>\n",
       "      <td>  娛樂</td>\n",
       "      <td>  3442</td>\n",
       "      <td> 00:10</td>\n",
       "      <td> 【狗仔偷拍】安室缺席Jolin慶功宴　獨...</td>\n",
       "      <td> http://www.appledaily.com.tw/realtimenews/arti...</td>\n",
       "    </tr>\n",
       "    <tr>\n",
       "      <th>18</th>\n",
       "      <td>  娛樂</td>\n",
       "      <td>   836</td>\n",
       "      <td> 00:15</td>\n",
       "      <td> 【今日壽星】伊東美咲《電車男》走紅　躍升...</td>\n",
       "      <td> http://www.appledaily.com.tw/realtimenews/arti...</td>\n",
       "    </tr>\n",
       "    <tr>\n",
       "      <th>26</th>\n",
       "      <td> FUN</td>\n",
       "      <td>   798</td>\n",
       "      <td> 00:09</td>\n",
       "      <td>    【旅途中】老巷弄咖啡廳　是有這麼誇張嗎？</td>\n",
       "      <td> http://www.appledaily.com.tw/realtimenews/arti...</td>\n",
       "    </tr>\n",
       "    <tr>\n",
       "      <th>19</th>\n",
       "      <td>  動物</td>\n",
       "      <td>   696</td>\n",
       "      <td> 00:14</td>\n",
       "      <td>        獵殺老犀牛　是為了防止犀牛絕種？</td>\n",
       "      <td> http://www.appledaily.com.tw/realtimenews/arti...</td>\n",
       "    </tr>\n",
       "  </tbody>\n",
       "</table>\n",
       "<p>5 rows × 5 columns</p>\n",
       "</div>"
      ],
      "text/plain": [
       "   category  popularity   time                    title  \\\n",
       "12       蝷暹�       22141  00:21        ���撘萸��烈�啁�餈��暺�﹝鈭箇���ˇ摨�  \n",
       "24       憡��        3442  00:10  ���隞�����摰�恕蝻箏葉Jolin�嗅�摰氬���..   \n",
       "18       憡��         836  00:15  ����亙ˊ���隡��蝢�����頠����粥蝝��頨��...   \n",
       "26      FUN         798  00:09     �����葉���撌瑕����撱喋��舀���獐隤�撐���   \n",
       "19       ���         696  00:14         �菜捏�������舐�鈭��甇Ｙ����蝔殷�   \n",
       "\n",
       "                                                  url  \n",
       "12  http://www.appledaily.com.tw/realtimenews/arti...  \n",
       "24  http://www.appledaily.com.tw/realtimenews/arti...  \n",
       "18  http://www.appledaily.com.tw/realtimenews/arti...  \n",
       "26  http://www.appledaily.com.tw/realtimenews/arti...  \n",
       "19  http://www.appledaily.com.tw/realtimenews/arti...  \n",
       "\n",
       "[5 rows x 5 columns]"
      ]
     },
     "execution_count": 13,
     "metadata": {},
     "output_type": "execute_result"
    }
   ],
   "source": [
    "newspd.sort(['popularity'], ascending=False).head()"
   ]
  },
  {
   "cell_type": "markdown",
   "metadata": {},
   "source": [
    "## 依據各分類排行"
   ]
  },
  {
   "cell_type": "code",
   "execution_count": 19,
   "metadata": {
    "collapsed": false
   },
   "outputs": [
    {
     "name": "stdout",
     "output_type": "stream",
     "text": [
      "category\n",
      "FUN           798\n",
      "娛樂           3442\n",
      "動物            696\n",
      "生活              0\n",
      "社會          22141\n",
      "體育             23\n",
      "論壇            398\n",
      "瘋啥            476\n",
      "Name: popularity, dtype: int64\n"
     ]
    }
   ],
   "source": [
    "#import sys\n",
    "#pd.options.display.encoding = 'utf-8'\n",
    "df1 = newspd.groupby(['category'], sort=False)['popularity'].max()\n",
    "print df1"
   ]
  },
  {
   "cell_type": "markdown",
   "metadata": {},
   "source": [
    "## 抓出各分類最熱門文章"
   ]
  },
  {
   "cell_type": "code",
   "execution_count": 21,
   "metadata": {
    "collapsed": false
   },
   "outputs": [
    {
     "data": {
      "text/html": [
       "<div style=\"max-height:1000px;max-width:1500px;overflow:auto;\">\n",
       "<table border=\"1\" class=\"dataframe\">\n",
       "  <thead>\n",
       "    <tr style=\"text-align: right;\">\n",
       "      <th></th>\n",
       "      <th>category</th>\n",
       "      <th>popularity</th>\n",
       "      <th>time</th>\n",
       "      <th>title</th>\n",
       "      <th>url</th>\n",
       "    </tr>\n",
       "  </thead>\n",
       "  <tbody>\n",
       "    <tr>\n",
       "      <th>3 </th>\n",
       "      <td> 生活</td>\n",
       "      <td>     0</td>\n",
       "      <td> 00:27</td>\n",
       "      <td>         美妝即期品開賣　每人只能買2件</td>\n",
       "      <td> http://www.appledaily.com.tw/realtimenews/arti...</td>\n",
       "    </tr>\n",
       "    <tr>\n",
       "      <th>12</th>\n",
       "      <td> 社會</td>\n",
       "      <td> 22141</td>\n",
       "      <td> 00:21</td>\n",
       "      <td>       【囂張】柯P地盤近百黑衣人砸服飾店</td>\n",
       "      <td> http://www.appledaily.com.tw/realtimenews/arti...</td>\n",
       "    </tr>\n",
       "    <tr>\n",
       "      <th>16</th>\n",
       "      <td> 體育</td>\n",
       "      <td>    23</td>\n",
       "      <td> 00:17</td>\n",
       "      <td> 台灣一哥盧彥勳法網首戰　周二下午5點FO...</td>\n",
       "      <td> http://www.appledaily.com.tw/realtimenews/arti...</td>\n",
       "    </tr>\n",
       "    <tr>\n",
       "      <th>19</th>\n",
       "      <td> 動物</td>\n",
       "      <td>   696</td>\n",
       "      <td> 00:14</td>\n",
       "      <td>        獵殺老犀牛　是為了防止犀牛絕種？</td>\n",
       "      <td> http://www.appledaily.com.tw/realtimenews/arti...</td>\n",
       "    </tr>\n",
       "    <tr>\n",
       "      <th>24</th>\n",
       "      <td> 娛樂</td>\n",
       "      <td>  3442</td>\n",
       "      <td> 00:10</td>\n",
       "      <td> 【狗仔偷拍】安室缺席Jolin慶功宴　獨...</td>\n",
       "      <td> http://www.appledaily.com.tw/realtimenews/arti...</td>\n",
       "    </tr>\n",
       "  </tbody>\n",
       "</table>\n",
       "<p>5 rows × 5 columns</p>\n",
       "</div>"
      ],
      "text/plain": [
       "   category  popularity   time                    title  \\\n",
       "3        ��暑           0  00:27          蝢���單����鞈��瘥�犖�芾�鞎�隞�  \n",
       "12       蝷暹�       22141  00:21        ���撘萸��烈�啁�餈��暺�﹝鈭箇���ˇ摨�  \n",
       "16       擃��          23  00:17  �啁�銝���批膝�單�蝬脤��啜��其�銝��5暺�O...   \n",
       "19       ���         696  00:14         �菜捏�������舐�鈭��甇Ｙ����蝔殷�   \n",
       "24       憡��        3442  00:10  ���隞�����摰�恕蝻箏葉Jolin�嗅�摰氬���..   \n",
       "\n",
       "                                                  url  \n",
       "3   http://www.appledaily.com.tw/realtimenews/arti...  \n",
       "12  http://www.appledaily.com.tw/realtimenews/arti...  \n",
       "16  http://www.appledaily.com.tw/realtimenews/arti...  \n",
       "19  http://www.appledaily.com.tw/realtimenews/arti...  \n",
       "24  http://www.appledaily.com.tw/realtimenews/arti...  \n",
       "\n",
       "[5 rows x 5 columns]"
      ]
     },
     "execution_count": 21,
     "metadata": {},
     "output_type": "execute_result"
    }
   ],
   "source": [
    "idx = newspd.groupby(['category'])['popularity'].transform(max) == newspd['popularity']\n",
    "newspd[idx].head()"
   ]
  },
  {
   "cell_type": "markdown",
   "metadata": {},
   "source": [
    "## 印出每日新聞摘要"
   ]
  },
  {
   "cell_type": "code",
   "execution_count": 53,
   "metadata": {
    "collapsed": false
   },
   "outputs": [
    {
     "name": "stdout",
     "output_type": "stream",
     "text": [
      "民進黨後天將公布「國防政策藍皮書」第9、10、11、12號等4份報告，除提出裁撤退輔會的構想外，也要成立陸海空三軍之外的「第4軍種」，以資電作戰為主，編階為上將司令，肩負捍衛台灣的「數位國土」。民進黨前國安人士透露，前總統陳水扁任內進行的「玉山兵推」，在駭客僅用10分之1的能量，即可在3小時內將中華電信癱瘓，顯示政府的網路的數位作戰不勘一擊。民進黨國防小組成員表示，為使國防相關的資產與基礎設施設施免於組織性駭客與恐怖份子的網路侵襲，民進黨主席蔡英文在當選總統後，將會首先規劃成立「第4軍種」，將國軍目前的情報次長室、通資次長室、電展室、資電作戰指揮部等單位完成整合，以規劃以上將司令的編階，讓國軍的網路部隊能夠真正有錢、有權、有戰場的方式，強化國軍的網軍部隊戰力。對於兵役制度方面，藍皮書雖然沒有強調綠委蕭美琴提出的「恢復徵兵制」議題，但為滿足部隊需求，將目前實施的役男4個月的軍事訓練役，進行強化。將目前僅在新訓中心的軍事訓練役改成新訓結束後即會分發部隊，參與部隊的實際訓練，增加部隊見習的機會。此外，國軍目前推動人事精簡的「勇固案」，藍皮書明確指出，蔡英文當選後將「暫不實施」。而包括兵役制度在內的所有國防改革相關政策，選後進行開放的討論，在取得社會與朝野共識後，會在執政10個月後的第一本「四年期國防總檢討」中定案發佈。也將基於尊重軍事專業的客觀文人領軍精神，由身負聯合作戰指揮官之參謀總長主導下，發佈台灣首次的「國家軍事戰略」、「國防產業發展策略」並形成四年更新一次的慣例，達到全民國防的落實。而在裁撤退輔會方面，藍皮書指出，輔導會改隸國防部為長期目標。現階段以強化跨部會的協調整合；長程方面，在下一階段政府改造時，研擬將輔導會改隸國防部，由軍政副部長主管或另設副部長，並成立「退伍軍人事務總局」。此次一次公布4本藍皮書，包括第9號「2025年台灣軍事防衛能量」、第10號「資訊保護與戰略溝通」、第11號「精進退輔制度」、第12號「本土國防產業發展的準備」。新境界文教基金會國防政策諮詢小組表示，藍皮書主要是提供民進黨未來執政的方向，原本即規劃在5月底公布，但為避免距離總統大選愈接近，而曲解民進黨所提出的國防政策議題，才會一次公布4本。據透露，此次國防政策藍皮書的擬定，包括有陸、海、空三軍的退役上將都有參與意見的提供及政策的擬定，國防政策諮詢小組強調，就是希望藍皮書所提的內容都是切實可行的政策。（王烱華／台北報導） \n"
     ]
    }
   ],
   "source": [
    "for newsurl in newsary[0:1]:    \n",
    "    res = requests.get(newsurl['url'])\n",
    "    soup = BeautifulSoup(res.text)\n",
    "    print soup.select('#summary')[0].text"
   ]
  },
  {
   "cell_type": "code",
   "execution_count": 76,
   "metadata": {
    "collapsed": false
   },
   "outputs": [],
   "source": [
    "for newsurl in newsary:    \n",
    "    res = requests.get(newsurl['url'])\n",
    "    soup = BeautifulSoup(res.text)\n",
    "    newsurl['summary'] = soup.select('#summary')[0].text"
   ]
  },
  {
   "cell_type": "code",
   "execution_count": 79,
   "metadata": {
    "collapsed": false
   },
   "outputs": [
    {
     "name": "stdout",
     "output_type": "stream",
     "text": [
      "民進黨後天將公布「國防政策藍皮書」第9、10、11、12號等4份報告，除提出裁撤退輔會的構想外，也要成立陸海空三軍之外的「第4軍種」，以資電作戰為主，編階為上將司令，肩負捍衛台灣的「數位國土」。民進黨\n"
     ]
    }
   ],
   "source": [
    "print newsary[0]['summary'][0:100]"
   ]
  },
  {
   "cell_type": "markdown",
   "metadata": {},
   "source": [
    "## 從Facebook 討論區了解網民評論"
   ]
  },
  {
   "cell_type": "code",
   "execution_count": 34,
   "metadata": {
    "collapsed": false
   },
   "outputs": [
    {
     "name": "stdout",
     "output_type": "stream",
     "text": [
      "http://www.appledaily.com.tw/realtimenews/article/life/20150526/616767/美妝即期品開賣　每人只能買2件\n",
      "951523721608408\n"
     ]
    },
    {
     "name": "stderr",
     "output_type": "stream",
     "text": [
      "C:\\Python27\\lib\\site-packages\\requests\\packages\\urllib3\\util\\ssl_.py:79: InsecurePlatformWarning: A true SSLContext object is not available. This prevents urllib3 from configuring SSL appropriately and may cause certain SSL connections to fail. For more information, see https://urllib3.readthedocs.org/en/latest/security.html#insecureplatformwarning.\n",
      "  InsecurePlatformWarning\n"
     ]
    }
   ],
   "source": [
    "import urllib\n",
    "import json\n",
    "print newsary[3]['url']\n",
    "app_id = '409090199295451'\n",
    "app_secret = '376c1f23cbb1435959a51959d809f5e9'\n",
    "graph_url  = 'https://graph.facebook.com/v2.3/%s?access_token=%s|%s'%(urllib.quote(newsary[0]['url'].encode('utf8')), app_id, app_secret)\n",
    "res = requests.get(graph_url)\n",
    "dt = json.loads(res.text)\n",
    "post_id =  dt['og_object']['id']\n",
    "print post_id"
   ]
  },
  {
   "cell_type": "code",
   "execution_count": 39,
   "metadata": {
    "collapsed": false
   },
   "outputs": [
    {
     "name": "stderr",
     "output_type": "stream",
     "text": [
      "C:\\Python27\\lib\\site-packages\\requests\\packages\\urllib3\\util\\ssl_.py:79: InsecurePlatformWarning: A true SSLContext object is not available. This prevents urllib3 from configuring SSL appropriately and may cause certain SSL connections to fail. For more information, see https://urllib3.readthedocs.org/en/latest/security.html#insecureplatformwarning.\n",
      "  InsecurePlatformWarning\n"
     ]
    }
   ],
   "source": [
    "post_id = '938417442844934'\n",
    "import urllib\n",
    "import json\n",
    "import pandas as pd\n",
    "app_id = '409090199295451'\n",
    "app_secret = '376c1f23cbb1435959a51959d809f5e9'\n",
    "post_url  = 'https://graph.facebook.com/v2.3/%s/comments?access_token=%s|%s'%(post_id, app_id, app_secret)\n",
    "res = requests.get(post_url)\n",
    "json_data = json.loads(res.text)\n",
    "#print json_data['data']\n",
    "#df = pd.read_json(json_data['data'])\n",
    "\n"
   ]
  },
  {
   "cell_type": "code",
   "execution_count": 40,
   "metadata": {
    "collapsed": false
   },
   "outputs": [
    {
     "name": "stdout",
     "output_type": "stream",
     "text": [
      "{u'paging': {u'cursors': {u'after': u'Mg==', u'before': u'NA=='}}, u'data': [{u'from': {u'id': u'10204704242467035', u'name': u'Joy Chien'}, u'like_count': 0, u'can_remove': False, u'created_time': u'2015-05-25T17:44:09+0000', u'message': u'\\u770b\\u5f71\\u7247\\u767c\\u73fe\\u5c0f\\u8ca8\\u8eca\\u6703\\u6025\\u715e\\u6253\\u6ed1\\n\\u662f\\u56e0\\u70ba\\u524d\\u8eca\\u6025\\u715e\\n\\u5c0f\\u8ca8\\u8eca\\u6253\\u6ed1\\u5f8c\\u524d\\u8eca\\u715e\\u8eca\\u71c8\\u9084\\u4eae\\u8457\\n\\u7136\\u5f8c\\u98db\\u901f\\u5f80\\u524d\\u884c\\u99db\\n\\u6240\\u4ee5\\u96e8\\u5929\\u8eca\\u591a\\u6642\\u9084\\u662f\\u76e1\\u91cf\\u4fdd\\u6301\\u5b89\\u5168\\u8ddd\\u96e2\\u5427', u'id': u'938417442844934_938572532829425', u'user_likes': False}, {u'from': {u'id': u'1006511392693378', u'name': u'Daniel Shih'}, u'like_count': 1, u'can_remove': False, u'created_time': u'2015-05-25T15:48:54+0000', u'message': u'\\u9019\\u500b\\u8def\\u6bb5\\u4e09\\u5929\\u5169\\u982d\\u7684\\u5c31\\u6709\\u4e8b\\u6545\\u767c\\u751f,\\u660e\\u660e\\u662f\\u9053\\u8def\\u8a2d\\u8a08\\u4e0d\\u826f\\u537b\\u4e00\\u76f4\\u64fa\\u8457\\u4e0d\\u53bb\\u6539\\u5584!\\n\\u56e0\\u70ba\\u8eca\\u6d41\\u91cf\\u904e\\u5927\\u5e38\\u5e38\\u5c0e\\u81f4\\u8a72\\u8def\\u6bb5\\u6bcf\\u5929\\u585e\\u8eca,\\n\\u56e0\\u70ba\\u8eca\\u6d41\\u91cf\\u904e\\u5927\\u5e38\\u5e38\\u6709\\u4e00\\u5927\\u5806\\u767d\\u7661\\u4e0d\\u6392\\u968a\\u8981\\u5f9e\\u7b2c\\u4e09\\u7dda\\u9053\\u786c\\u63d2\\u968a,\\n\\u56e0\\u70ba\\u8eca\\u6d41\\u91cf\\u904e\\u5927\\u53c8\\u4e00\\u5927\\u5806\\u767d\\u7661\\u63d2\\u968a,\\u6240\\u4ee5\\u5c0e\\u81f4\\u8d8a\\u63a5\\u8fd1\\u5165\\u53e3\\u531d\\u9053\\u5927\\u5bb6\\u8eca\\u5b50\\u8cbc\\u8d8a\\u8fd1!\\n\\u9019\\u4e9b\\u554f\\u984c\\u9ad8\\u516c\\u5c40\\u7684\\u5b98\\u54e1\\u5230\\u5e95\\u8981\\u4e0d\\u8981\\u8655\\u7406???', u'id': u'938417442844934_938538919499453', u'user_likes': False}, {u'from': {u'id': u'826889840694186', u'name': u'Reginald Ben'}, u'like_count': 0, u'can_remove': False, u'created_time': u'2015-05-25T13:06:45+0000', u'message': u'\\u53c8\\u662f\\u8ca8\\u8eca\\u754c\\u7684\\u795e\\u8eca\\u51fa\\u7cd7\\u4e86\\u3002', u'id': u'938417442844934_938478732838805', u'user_likes': False}]}\n"
     ]
    }
   ],
   "source": [
    "print json_data"
   ]
  },
  {
   "cell_type": "code",
   "execution_count": 41,
   "metadata": {
    "collapsed": false
   },
   "outputs": [
    {
     "data": {
      "text/html": [
       "<div style=\"max-height:1000px;max-width:1500px;overflow:auto;\">\n",
       "<table border=\"1\" class=\"dataframe\">\n",
       "  <thead>\n",
       "    <tr style=\"text-align: right;\">\n",
       "      <th></th>\n",
       "      <th>created_time</th>\n",
       "      <th>like_count</th>\n",
       "      <th>message</th>\n",
       "      <th>name</th>\n",
       "    </tr>\n",
       "  </thead>\n",
       "  <tbody>\n",
       "    <tr>\n",
       "      <th>0</th>\n",
       "      <td> 2015-05-25T17:44:09+0000</td>\n",
       "      <td> 0</td>\n",
       "      <td> 看影片發現小貨車會急煞打滑\\n是因為前車急煞\\n小貨車打滑後前車煞車燈還亮著\\n然後飛速往前...</td>\n",
       "      <td>    Joy Chien</td>\n",
       "    </tr>\n",
       "    <tr>\n",
       "      <th>1</th>\n",
       "      <td> 2015-05-25T15:48:54+0000</td>\n",
       "      <td> 1</td>\n",
       "      <td> 這個路段三天兩頭的就有事故發生,明明是道路設計不良卻一直擺著不去改善!\\n因為車流量過大常常...</td>\n",
       "      <td>  Daniel Shih</td>\n",
       "    </tr>\n",
       "    <tr>\n",
       "      <th>2</th>\n",
       "      <td> 2015-05-25T13:06:45+0000</td>\n",
       "      <td> 0</td>\n",
       "      <td>                                      又是貨車界的神車出糗了。</td>\n",
       "      <td> Reginald Ben</td>\n",
       "    </tr>\n",
       "  </tbody>\n",
       "</table>\n",
       "<p>3 rows × 4 columns</p>\n",
       "</div>"
      ],
      "text/plain": [
       "               created_time  like_count  \\\n",
       "0  2015-05-25T17:44:09+0000           0   \n",
       "1  2015-05-25T15:48:54+0000           1   \n",
       "2  2015-05-25T13:06:45+0000           0   \n",
       "\n",
       "                                             message          name  \n",
       "0  ��蔣����曉�鞎刻�������皛�n�臬��箏�頠����n撠�疏頠��皛�����������鈭株�\\n�嗅�憌��敺��...     Joy Chien  \n",
       "1  ���頝舀挾銝�予�拚���停������������舫�頝航身閮���臬�銝���箄�銝���孵�!\\n���頠�����憭批虜撣�..   Daniel Shih  \n",
       "2                                       ���鞎刻����蟡���箇�鈭��  Reginald Ben  \n",
       "\n",
       "[3 rows x 4 columns]"
      ]
     },
     "execution_count": 41,
     "metadata": {},
     "output_type": "execute_result"
    }
   ],
   "source": [
    "dtarray = []\n",
    "for comment in json_data['data']:\n",
    "    dtarray.append( {'created_time':comment['created_time'], 'name':comment['from']['name'], \\\n",
    "          'message':comment['message'], 'like_count':comment['like_count']})\n",
    "posts_df = pd.DataFrame(dtarray)\n",
    "posts_df.head()"
   ]
  },
  {
   "cell_type": "markdown",
   "metadata": {},
   "source": [
    "# 使用資料庫管理新聞內容"
   ]
  },
  {
   "cell_type": "markdown",
   "metadata": {},
   "source": [
    "## 建立表格存放新聞"
   ]
  },
  {
   "cell_type": "code",
   "execution_count": 185,
   "metadata": {
    "collapsed": false
   },
   "outputs": [],
   "source": [
    "# -*- coding: utf-8 -*- \n",
    "import sqlite3\n",
    "\n",
    "db = sqlite3.connect('news.db') \n",
    "cur = db.cursor()\n",
    "cur.execute('''DROP TABLE news_entry''')\n",
    "cur.execute('''CREATE TABLE IF NOT EXISTS news_entry(\n",
    "                id INTEGER PRIMARY KEY,\n",
    "                category TEXT,\n",
    "                popularity INTEGER,\n",
    "                time VARCHAR(32),\n",
    "                title VARCHAR(256),\n",
    "                summary TEXT,\n",
    "                url VARCHAR(1024)\n",
    "                )''')\n",
    "cur.close()"
   ]
  },
  {
   "cell_type": "markdown",
   "metadata": {},
   "source": [
    "## 新增一筆資料進SQLite"
   ]
  },
  {
   "cell_type": "code",
   "execution_count": 191,
   "metadata": {
    "collapsed": false
   },
   "outputs": [
    {
     "name": "stdout",
     "output_type": "stream",
     "text": [
      "民進黨國防藍皮書　裁退輔會、增設網軍\n"
     ]
    }
   ],
   "source": [
    "col = ', ' .join(newsary[0].keys())\n",
    "val = ','.join('?'* (len(newsary[0].keys())))\n",
    "\n",
    "sql = 'insert into news_entry(%s) values(%s)'%(col, val)\n",
    "db = sqlite3.connect('news.db') \n",
    "cur = db.cursor()\n",
    "cur.execute(sql,newsary[0].values())\n",
    "cur.execute('select * from news_entry')\n",
    "rec = cur.fetchone()\n",
    "print rec[4]            \n",
    "cur.close()\n",
    "db.close()"
   ]
  },
  {
   "cell_type": "markdown",
   "metadata": {},
   "source": [
    "## 將全部資料放進SQLite"
   ]
  },
  {
   "cell_type": "code",
   "execution_count": 196,
   "metadata": {
    "collapsed": true
   },
   "outputs": [],
   "source": [
    "\n",
    "db = sqlite3.connect('news.db') \n",
    "\n",
    "cur = db.cursor()\n",
    "\n",
    "delete_sql = 'delete from news_entry'\n",
    "cur.execute(delete_sql)\n",
    "\n",
    "for news in newsary:\n",
    "    col = ', ' .join(news.keys())\n",
    "    val = ','.join('?'* (len(news.keys())))\n",
    "    sql = 'insert into news_entry(%s) values(%s)'%(col, val)\n",
    "    cur.execute(sql,news.values())\n",
    "    db.commit()\n",
    "          \n",
    "cur.close()\n",
    "db.close()"
   ]
  },
  {
   "cell_type": "markdown",
   "metadata": {},
   "source": [
    "## 讀取表格中的所有資料"
   ]
  },
  {
   "cell_type": "code",
   "execution_count": 20,
   "metadata": {
    "collapsed": false
   },
   "outputs": [
    {
     "ename": "NameError",
     "evalue": "name 'sqlite3' is not defined",
     "output_type": "error",
     "traceback": [
      "\u001b[1;31m---------------------------------------------------------------------------\u001b[0m",
      "\u001b[1;31mNameError\u001b[0m                                 Traceback (most recent call last)",
      "\u001b[1;32m<ipython-input-20-bc0f412ebbbb>\u001b[0m in \u001b[0;36m<module>\u001b[1;34m()\u001b[0m\n\u001b[1;32m----> 1\u001b[1;33m \u001b[0mdb\u001b[0m \u001b[1;33m=\u001b[0m \u001b[0msqlite3\u001b[0m\u001b[1;33m.\u001b[0m\u001b[0mconnect\u001b[0m\u001b[1;33m(\u001b[0m\u001b[1;34m'news.db'\u001b[0m\u001b[1;33m)\u001b[0m\u001b[1;33m\u001b[0m\u001b[0m\n\u001b[0m\u001b[0;32m      2\u001b[0m \u001b[0mcur\u001b[0m \u001b[1;33m=\u001b[0m \u001b[0mdb\u001b[0m\u001b[1;33m.\u001b[0m\u001b[0mcursor\u001b[0m\u001b[1;33m(\u001b[0m\u001b[1;33m)\u001b[0m\u001b[1;33m\u001b[0m\u001b[0m\n\u001b[0;32m      3\u001b[0m \u001b[0mcur\u001b[0m\u001b[1;33m.\u001b[0m\u001b[0mexecute\u001b[0m\u001b[1;33m(\u001b[0m\u001b[1;34m'select * from news_entry'\u001b[0m\u001b[1;33m)\u001b[0m\u001b[1;33m\u001b[0m\u001b[0m\n\u001b[0;32m      4\u001b[0m \u001b[0mallNews\u001b[0m \u001b[1;33m=\u001b[0m \u001b[0mcur\u001b[0m\u001b[1;33m.\u001b[0m\u001b[0mfetchall\u001b[0m\u001b[1;33m(\u001b[0m\u001b[1;33m)\u001b[0m\u001b[1;33m\u001b[0m\u001b[0m\n\u001b[0;32m      5\u001b[0m \u001b[1;32mfor\u001b[0m \u001b[0mrec\u001b[0m \u001b[1;32min\u001b[0m \u001b[0mallNews\u001b[0m\u001b[1;33m:\u001b[0m\u001b[1;33m\u001b[0m\u001b[0m\n",
      "\u001b[1;31mNameError\u001b[0m: name 'sqlite3' is not defined"
     ]
    }
   ],
   "source": [
    "db = sqlite3.connect('news.db') \n",
    "cur = db.cursor()\n",
    "cur.execute('select * from news_entry')\n",
    "allNews = cur.fetchall()\n",
    "for rec in allNews:\n",
    "    #print rec[0], rec[1], rec[2], rec[3], rec[4]\n",
    "    print rec[3]\n",
    "cur.close()\n",
    "db.close()"
   ]
  },
  {
   "cell_type": "markdown",
   "metadata": {
    "collapsed": false
   },
   "source": [
    "- http://blog.fukuball.com/ru-he-shi-yong-jieba-jie-ba-zhong-wen-fen-ci-cheng-shi/\n",
    "- https://github.com/fxsjy/jieba\n",
    "- http://www.cnblogs.com/chenbjin/p/3851165.html\n",
    "- http://blog.csdn.net/whzhcahzxh/article/details/25059227\n",
    "- http://blog.sina.com.cn/s/blog_778fe3e40101leu9.html\n",
    "    "
   ]
  },
  {
   "cell_type": "markdown",
   "metadata": {},
   "source": [
    "## 產生 2-gram"
   ]
  },
  {
   "cell_type": "code",
   "execution_count": 175,
   "metadata": {
    "collapsed": false
   },
   "outputs": [
    {
     "name": "stdout",
     "output_type": "stream",
     "text": [
      "那我\n",
      "我們\n",
      "們酸\n",
      "酸民\n",
      "民婉\n",
      "婉君\n",
      "君也\n",
      "也可\n",
      "可以\n",
      "以報\n",
      "報名\n",
      "名嗎\n"
     ]
    }
   ],
   "source": [
    "input_sentence='那我們酸民婉君也可以報名嗎'\n",
    "\n",
    "sentence  = input_sentence.decode('utf-8')\n",
    "\n",
    "for i in range(0, len(sentence) - 2 + 1):\n",
    "    print sentense[i:i+2]"
   ]
  },
  {
   "cell_type": "markdown",
   "metadata": {},
   "source": [
    "## 產生 3-gram"
   ]
  },
  {
   "cell_type": "code",
   "execution_count": 176,
   "metadata": {
    "collapsed": false
   },
   "outputs": [
    {
     "name": "stdout",
     "output_type": "stream",
     "text": [
      "那我們\n",
      "我們酸\n",
      "們酸民\n",
      "酸民婉\n",
      "民婉君\n",
      "婉君也\n",
      "君也可\n",
      "也可以\n",
      "可以報\n",
      "以報名\n",
      "報名嗎\n"
     ]
    }
   ],
   "source": [
    "for i in range(0, len(sentence) -3 + 1):\n",
    "    print sentense[i:i+3]"
   ]
  },
  {
   "cell_type": "markdown",
   "metadata": {},
   "source": [
    "## 建立 n-gram 函式"
   ]
  },
  {
   "cell_type": "code",
   "execution_count": 43,
   "metadata": {
    "collapsed": false
   },
   "outputs": [],
   "source": [
    "def ngram(input_sentence, n = 2):\n",
    "    word_dic = {}\n",
    "    sentence  = input_sentence.decode('utf-8')\n",
    "    for i in range(0, len(sentence) - n + 1):\n",
    "        if sentence[i:i+n] not in word_dic:\n",
    "            word_dic[sentence[i:i+n]] = 1\n",
    "        else:\n",
    "            word_dic[sentence[i:i+n]] = word_dic[sentence[i:i+n]] + 1\n",
    "    return word_dic"
   ]
  },
  {
   "cell_type": "markdown",
   "metadata": {},
   "source": [
    "## 測試 bigram"
   ]
  },
  {
   "cell_type": "code",
   "execution_count": 45,
   "metadata": {
    "collapsed": false
   },
   "outputs": [
    {
     "name": "stdout",
     "output_type": "stream",
     "text": [
      "婉君 報名 可以 名嗎 君也 也可 民婉 酸民 以報\n"
     ]
    }
   ],
   "source": [
    "for word in ngram('酸民婉君也可以報名嗎'):\n",
    "    print word,"
   ]
  },
  {
   "cell_type": "markdown",
   "metadata": {},
   "source": [
    "## 測試 trigram"
   ]
  },
  {
   "cell_type": "code",
   "execution_count": 437,
   "metadata": {
    "collapsed": false
   },
   "outputs": [
    {
     "name": "stdout",
     "output_type": "stream",
     "text": [
      "酸民婉\n",
      "君也可\n",
      "名嗎?\n",
      "可以報\n",
      "也可以\n",
      "們酸民\n",
      "以報名\n",
      "民婉君\n",
      "報名嗎\n",
      "那我們\n",
      "婉君也\n",
      "我們酸\n"
     ]
    }
   ],
   "source": [
    "for word in ngram('那我們酸民婉君也可以報名嗎?' ,n=3):\n",
    "    print word"
   ]
  },
  {
   "cell_type": "markdown",
   "metadata": {},
   "source": [
    "## 移除標點符號"
   ]
  },
  {
   "cell_type": "code",
   "execution_count": 235,
   "metadata": {
    "collapsed": false
   },
   "outputs": [
    {
     "data": {
      "text/plain": [
       "True"
      ]
     },
     "execution_count": 235,
     "metadata": {},
     "output_type": "execute_result"
    }
   ],
   "source": [
    "sentence = '123?'\n",
    "skip_word = '.?'\n",
    "len([word for word in sentence if word in skip_word]) > 0"
   ]
  },
  {
   "cell_type": "code",
   "execution_count": 267,
   "metadata": {
    "collapsed": false
   },
   "outputs": [],
   "source": [
    "skip_dic = '?.,、　「！】？：《」》～【'.decode('utf-8')\n",
    "def ngram(input_sentence, n = 2, skip_word= skip_dic):\n",
    "    word_dic = {}\n",
    "    sentence  = input_sentence.decode('utf-8')\n",
    "    for i in range(0, len(sentence) - n + 1):\n",
    "        invalid = len([word for word in sentence[i:i+n] if word in skip_word])\n",
    "        if sentence[i:i+n] not in word_dic and invalid ==0:\n",
    "            word_dic[sentence[i:i+n]] = 1\n",
    "        elif invalid ==0:\n",
    "            word_dic[sentence[i:i+n]] = word_dic[sentence[i:i+n]] + 1\n",
    "    return word_dic"
   ]
  },
  {
   "cell_type": "code",
   "execution_count": 248,
   "metadata": {
    "collapsed": false
   },
   "outputs": [
    {
     "name": "stdout",
     "output_type": "stream",
     "text": [
      "我們\n",
      "婉君\n",
      "報名\n",
      "們酸\n",
      "可以\n",
      "名嗎\n",
      "君也\n",
      "也可\n",
      "那我\n",
      "酸民\n",
      "以報\n"
     ]
    }
   ],
   "source": [
    "for word in ngram('那我們酸民、婉君也可以報名嗎?'):\n",
    "    print word"
   ]
  },
  {
   "cell_type": "code",
   "execution_count": 428,
   "metadata": {
    "collapsed": false
   },
   "outputs": [],
   "source": [
    "db = sqlite3.connect('news.db') \n",
    "cur = db.cursor()\n",
    "cur.execute('select * from news_entry')\n",
    "allNews = cur.fetchall()\n",
    "dic = {}\n",
    "for rec in allNews:\n",
    "    ngram_dic = ngram(rec[4])\n",
    "    for ele in ngram_dic:\n",
    "        if ele not in dic:\n",
    "            dic[ele] = ngram_dic[ele]\n",
    "        else:\n",
    "            dic[ele] = dic[ele] + ngram_dic[ele]\n",
    "cur.close()\n",
    "db.close()"
   ]
  },
  {
   "cell_type": "code",
   "execution_count": 429,
   "metadata": {
    "collapsed": false
   },
   "outputs": [
    {
     "name": "stdout",
     "output_type": "stream",
     "text": [
      ".. 14\n",
      "企】 3\n",
      "【特 3\n",
      "柯P 3\n",
      "特企 3\n",
      "體驗 2\n",
      "巨蛋 2\n",
      "路跑 2\n",
      "桃園 2\n",
      "南部 2\n",
      "15 2\n",
      "P： 2\n",
      "5分 2\n",
      "00 2\n",
      "50 2\n",
      "大巨 2\n"
     ]
    }
   ],
   "source": [
    "import operator\n",
    "words_freq = sorted(dic.iteritems(),key=operator.itemgetter(1),reverse=True)\n",
    "    \n",
    "for word in words_freq:\n",
    "    if word[1] >= 2:\n",
    "        print word[0], word[1]"
   ]
  },
  {
   "cell_type": "markdown",
   "metadata": {},
   "source": [
    "# 長詞優先演算法"
   ]
  },
  {
   "cell_type": "markdown",
   "metadata": {},
   "source": [
    "## 如何依標點符號切開字詞"
   ]
  },
  {
   "cell_type": "code",
   "execution_count": 337,
   "metadata": {
    "collapsed": false
   },
   "outputs": [
    {
     "name": "stdout",
     "output_type": "stream",
     "text": [
      "3年前就讀高雄應用大學二年級的陳顯佳\n",
      "為閃避跨越雙黃線來車\n",
      "撞上路邊\n",
      "摔斷頸椎\n",
      "頸部以下全癱\n",
      "嘴被插管\n",
      "父母每天去看他\n",
      "他都意識清醒\n",
      "眨眼流淚\n",
      "17天後他因頸椎受損抑制呼吸\n",
      "醫師用盡強力針與電擊都無效\n",
      "\n"
     ]
    }
   ],
   "source": [
    "import re\n",
    "delimiter = \"，|。|、\"  \n",
    "text = '3年前就讀高雄應用大學二年級的陳顯佳，為閃避跨越雙黃線來車，撞上路邊、摔斷頸椎，頸部以下全癱，嘴被插管，父母每天去看他，他都意識清醒、眨眼流淚，17天後他因頸椎受損抑制呼吸，醫師用盡強力針與電擊都無效，'\n",
    "for i in re.split(delimiter, text):\n",
    "    print i"
   ]
  },
  {
   "cell_type": "markdown",
   "metadata": {},
   "source": [
    "## 測試切除效果"
   ]
  },
  {
   "cell_type": "code",
   "execution_count": 364,
   "metadata": {
    "collapsed": false
   },
   "outputs": [],
   "source": [
    "def splitSentense(text, delimiter):\n",
    "    return re.split(delimiter, text)\n",
    "    \n",
    "delimiter = \"，|。|、|（|）|／|《|》|】|【|「|」|；|：\".decode('utf-8')  \n",
    "db = sqlite3.connect('news.db') \n",
    "cur = db.cursor()\n",
    "cur.execute('select * from news_entry')\n",
    "allNews = cur.fetchall()\n",
    "sentenceAry = []\n",
    "for rec in allNews:\n",
    "    text = rec[5]\n",
    "    sentenceAry += splitSentense(text,delimiter)\n",
    "cur.close()\n",
    "db.close()"
   ]
  },
  {
   "cell_type": "code",
   "execution_count": 369,
   "metadata": {
    "collapsed": false
   },
   "outputs": [
    {
     "name": "stdout",
     "output_type": "stream",
     "text": [
      "民進黨後天將公布\n",
      "國防政策藍皮書\n",
      "第9\n",
      "10\n",
      "11\n",
      "12號等4份報告\n",
      "除提出裁撤退輔會的構想外\n",
      "也要成立陸海空三軍之外的\n"
     ]
    }
   ],
   "source": [
    "for sentence in sentenceAry[0:8]:\n",
    "    print sentence"
   ]
  },
  {
   "cell_type": "markdown",
   "metadata": {},
   "source": [
    "## 移除關鍵字"
   ]
  },
  {
   "cell_type": "code",
   "execution_count": 379,
   "metadata": {
    "collapsed": false
   },
   "outputs": [
    {
     "name": "stdout",
     "output_type": "stream",
     "text": [
      "民進黨後天將公布\n",
      "將公布\n"
     ]
    }
   ],
   "source": [
    "def removeKey(text, keyword):\n",
    "    textAry= text\n",
    "    for key in keyword:\n",
    "        textAry = ''.join(textAry.split(key.decode('utf-8')))\n",
    "    return textAry\n",
    "print sentenceAry[0]\n",
    "print removeKey(sentenceAry[0], ['民進黨', '後天'])"
   ]
  },
  {
   "cell_type": "code",
   "execution_count": null,
   "metadata": {
    "collapsed": true
   },
   "outputs": [],
   "source": [
    "\n",
    "a = '民進黨後天將公布'\n",
    "removeKey(a, ['民進黨', '後天'])"
   ]
  },
  {
   "cell_type": "markdown",
   "metadata": {},
   "source": [
    "## 修改ngram 處理函式"
   ]
  },
  {
   "cell_type": "code",
   "execution_count": 392,
   "metadata": {
    "collapsed": true
   },
   "outputs": [],
   "source": [
    "def ngram(input_sentence, n = 2):\n",
    "    word_dic = {}\n",
    "    sentence  = input_sentence\n",
    "    for i in range(0, len(sentence) - n + 1):        \n",
    "        if sentence[i:i+n] not in word_dic:\n",
    "            word_dic[sentence[i:i+n]] = 1\n",
    "        else:\n",
    "            word_dic[sentence[i:i+n]] = word_dic[sentence[i:i+n]] + 1\n",
    "    return word_dic"
   ]
  },
  {
   "cell_type": "markdown",
   "metadata": {},
   "source": [
    "## 依長詞優先產生關鍵字"
   ]
  },
  {
   "cell_type": "code",
   "execution_count": 425,
   "metadata": {
    "collapsed": false,
    "scrolled": false
   },
   "outputs": [
    {
     "name": "stdout",
     "output_type": "stream",
     "text": [
      "表示 26\n",
      "沒有 22\n",
      "報導 19\n",
      "活動 17\n",
      "10 17\n",
      "台灣 17\n",
      "累積降雨 16\n",
      "毫米 16\n",
      "00 15\n",
      "積降雨量 15\n",
      "今天 15\n",
      "跑者 15\n",
      "路跑 14\n",
      "炎亞綸 14\n",
      "一個 13\n",
      "進行 13\n",
      "青棒 13\n",
      "大巨蛋 13\n",
      "新聞 13\n",
      "現場 12\n",
      "甲子園 12\n",
      "棒球 12\n",
      "蘋果 12\n",
      "的人 11\n",
      "玉山盃 11\n",
      "可以 11\n",
      "他的 11\n",
      "中華 11\n",
      "30 10\n",
      "可能 10\n"
     ]
    }
   ],
   "source": [
    "keywords=[]        \n",
    "ret_terms={}\n",
    "words_freq    = []\n",
    "for term_length in range(4,1,-1):\n",
    "    word_dic = {}\n",
    "    for sentence in sentenceAry:\n",
    "        text_list = removeKey(sentence,keywords)        \n",
    "        ngram_words = ngram(text_list,term_length) \n",
    "        for word in ngram_words:\n",
    "            if word not in word_dic:\n",
    "                word_dic[word] = 1\n",
    "            else:\n",
    "                word_dic[word] += ngram_words[word]   \n",
    "    for word in word_dic:\n",
    "        if word_dic[word] >= 5:\n",
    "            keywords.append(word.encode('utf-8'))            \n",
    "            ret_terms.update({word:word_dic[word]})\n",
    "\n",
    "sorted_terms = sorted(ret_terms.iteritems(),key=operator.itemgetter(1),reverse=True) \n",
    "for term in sorted_terms[0:30]:\n",
    "    print term[0], term[1]"
   ]
  },
  {
   "cell_type": "markdown",
   "metadata": {},
   "source": [
    "## 使用jieba"
   ]
  },
  {
   "cell_type": "code",
   "execution_count": 2,
   "metadata": {
    "collapsed": false
   },
   "outputs": [
    {
     "name": "stderr",
     "output_type": "stream",
     "text": [
      "Building prefix dict from C:\\Python27\\lib\\site-packages\\jieba\\dict.txt ...\n",
      "DEBUG:jieba:Building prefix dict from C:\\Python27\\lib\\site-packages\\jieba\\dict.txt ...\n",
      "Dumping model to file cache c:\\users\\david\\appdata\\local\\temp\\jieba.cache\n",
      "DEBUG:jieba:Dumping model to file cache c:\\users\\david\\appdata\\local\\temp\\jieba.cache\n",
      "Loading model cost 1.66599988937 seconds.\n",
      "DEBUG:jieba:Loading model cost 1.66599988937 seconds.\n",
      "Prefix dict has been built succesfully.\n",
      "DEBUG:jieba:Prefix dict has been built succesfully.\n"
     ]
    },
    {
     "name": "stdout",
     "output_type": "stream",
     "text": [
      "大\n",
      "巨蛋\n",
      "案對\n",
      "市府\n",
      "同仁\n",
      "下\n",
      "封口令\n",
      "？\n",
      "　\n",
      "柯\n",
      "P\n",
      "否認\n"
     ]
    }
   ],
   "source": [
    "import jieba\n",
    "\n",
    "sentence = \"大巨蛋案對市府同仁下封口令？　柯P否認\"\n",
    "words = jieba.cut(sentence, cut_all=False)\n",
    "for word in words:\n",
    "    print word"
   ]
  },
  {
   "cell_type": "code",
   "execution_count": 4,
   "metadata": {
    "collapsed": false
   },
   "outputs": [
    {
     "name": "stdout",
     "output_type": "stream",
     "text": [
      "大巨蛋\n",
      "案對\n",
      "市府\n",
      "同仁\n",
      "下\n",
      "封口令\n",
      "？\n",
      "　\n",
      "柯P\n",
      "否認\n"
     ]
    }
   ],
   "source": [
    "jieba.add_word('柯P',100)\n",
    "jieba.add_word('大巨蛋',100)\n",
    "sentence = \"大巨蛋案對市府同仁下封口令？　柯P否認\"\n",
    "words = jieba.cut(sentence, cut_all=False)\n",
    "for word in words:\n",
    "    print word"
   ]
  },
  {
   "cell_type": "code",
   "execution_count": 5,
   "metadata": {
    "collapsed": false
   },
   "outputs": [
    {
     "name": "stdout",
     "output_type": "stream",
     "text": [
      "大巨蛋 x\n",
      "案 ng\n",
      "對 p\n",
      "市府 n\n",
      "同仁 nr\n",
      "下 f\n",
      "封口令 n\n",
      "？ x\n",
      "　x\n",
      "柯P x\n",
      "否認 v\n"
     ]
    }
   ],
   "source": [
    "import jieba.posseg as pseg\n",
    "sentence = \"大巨蛋案對市府同仁下封口令？　柯P否認\"\n",
    "words = pseg.cut(sentence)\n",
    "\n",
    "for word in words:\n",
    "    print word.word, word.flag"
   ]
  },
  {
   "cell_type": "code",
   "execution_count": 13,
   "metadata": {
    "collapsed": false
   },
   "outputs": [
    {
     "name": "stdout",
     "output_type": "stream",
     "text": [
      " 大巨蛋 0 3\n",
      "案對 3 5\n",
      "市府 5 7\n",
      "同仁 7 9\n",
      "下 9 10\n",
      "封口令 10 13\n",
      "？ 13 14\n",
      "　14 15\n",
      "柯P 15 17\n",
      "否認 17 19\n"
     ]
    }
   ],
   "source": [
    "words = jieba.tokenize(unicode(sentence, 'utf-8'))\n",
    "\n",
    "for tw in words:\n",
    "    print tw[0], tw[1], tw[2]"
   ]
  },
  {
   "cell_type": "code",
   "execution_count": 16,
   "metadata": {
    "collapsed": false
   },
   "outputs": [
    {
     "name": "stdout",
     "output_type": "stream",
     "text": [
      "封口令\n"
     ]
    }
   ],
   "source": [
    "import jieba.analyse\n",
    "tags = jieba.analyse.extract_tags(sentence, 1)\n",
    "print \",\".join(tags)"
   ]
  },
  {
   "cell_type": "code",
   "execution_count": 18,
   "metadata": {
    "collapsed": false
   },
   "outputs": [
    {
     "name": "stdout",
     "output_type": "stream",
     "text": [
      "由身\n",
      "負聯\n",
      "合作\n",
      "戰指揮官\n",
      "之\n",
      "參謀\n",
      "總長\n",
      "主導下\n"
     ]
    }
   ],
   "source": [
    "sentence = \"由身負聯合作戰指揮官之參謀總長主導下\"\n",
    "words = jieba.cut(sentence)\n",
    "for word in words:\n",
    "    print word"
   ]
  },
  {
   "cell_type": "code",
   "execution_count": 25,
   "metadata": {
    "collapsed": false
   },
   "outputs": [
    {
     "name": "stdout",
     "output_type": "stream",
     "text": [
      "柯p\n",
      "洪智坤\n"
     ]
    }
   ],
   "source": [
    "ary = ['【更新】柯P：洪智坤洩漏公文案還沒看到公文　今處理',\n",
    "'留洪智坤 柯：殘障求職不易',\n",
    "'人事處議處洪智坤　柯P：不清楚議處結果']\n",
    "corpus = []\n",
    "for title in ary:\n",
    "    corpus.append(' '.join(jieba.cut(title)))\n",
    "from sklearn.feature_extraction.text import CountVectorizer\n",
    "vectorizer = CountVectorizer()\n",
    "X = vectorizer.fit_transform(corpus)         \n",
    "for i in vectorizer.get_feature_names():\n",
    "    print i"
   ]
  },
  {
   "cell_type": "code",
   "execution_count": 28,
   "metadata": {
    "collapsed": false
   },
   "outputs": [
    {
     "name": "stdout",
     "output_type": "stream",
     "text": [
      "[[ 0.70710678  0.70710678]\n",
      " [ 0.          0.        ]\n",
      " [ 0.70710678  0.70710678]]\n"
     ]
    }
   ],
   "source": [
    "from sklearn.feature_extraction.text import TfidfTransformer\n",
    "from sklearn.feature_extraction.text import CountVectorizer\n",
    "vectorizer = CountVectorizer()    \n",
    "transformer = TfidfTransformer()\n",
    "tfidf = transformer.fit_transform(vectorizer.fit_transform(corpus))\n",
    "    \n",
    "word = vectorizer.get_feature_names() \n",
    "weight = tfidf.toarray()    \n",
    "print weight"
   ]
  },
  {
   "cell_type": "code",
   "execution_count": 10,
   "metadata": {
    "collapsed": false
   },
   "outputs": [],
   "source": [
    "import requests\n",
    "from bs4 import BeautifulSoup\n",
    "import re\n",
    "import jieba\n",
    "section = requests.get('http://www.appledaily.com.tw/realtimenews/section/new/1')\n",
    "soup = BeautifulSoup(section.text)\n",
    "domain = 'http://www.appledaily.com.tw'\n",
    "worddic = {}\n",
    "for news in soup.select('.rtddt'):    \n",
    "    main = news.select('h1')[0].text\n",
    "    m = re.match('(.*)\\((\\d+)\\)',main)\n",
    "    if m:\n",
    "        title = m.group(1)\n",
    "        popularity = int(m.group(2))\n",
    "    for wd in jieba.cut(title):\n",
    "        if wd not in worddic:\n",
    "            worddic[wd] = 1\n",
    "        else:\n",
    "            worddic[wd] = worddic[wd] + 1\n"
   ]
  },
  {
   "cell_type": "code",
   "execution_count": 15,
   "metadata": {
    "collapsed": false
   },
   "outputs": [
    {
     "name": "stdout",
     "output_type": "stream",
     "text": [
      "{u'\\u8981': 1, u'\\u3000': 23, u'\\u7b26\\u5408': 1, u'\\u640d\\u5bb3': 1, u'\\u640d\\u53e4': 1, u'\\u81ea\\u7531': 1, u'\\u3010': 10, u'\\u6b7b\\u4ea1': 1, u'\\u8d85\\u795e': 1, u'\\u79d1\\u5927': 1, u'\\u8da8\\u52e2': 1, u'\\u7121\\u5e38': 1, u'\\u5929\\u6c23': 1, u'\\uff1a': 4, u'\\u574d\\u65b9': 1, u'\\u6b63\\u6676': 1, u'\\u9ed1\\u767d': 1, u'\\u733f\\u9ede': 1, u'\\u82b1\\u908a': 1, u'\\u5370\\u5ea6': 1, u'\\u67cf\\u5357\\u514b': 2, u'\\u53f0\\u7063': 1, u'\\u83dc\\u78bc': 1, u'\\u53c3\\u52a0': 1, u'\\u842c': 1, u'\\u7247\\u5834': 1, u'\\u5230': 1, u'\\u4e2d\\u8077': 1, u'\\u6821\\u5712': 1, u'\\u7834': 1, u'\\u62d4\\u8349': 1, u'\\u53cd\\u601d': 1, u'\\u5206\\u91cf': 1, u'\\u7562\\u696d\\u751f': 1, u'...': 9, u'\\u300a': 2, u'F1': 1, u'\\u7d66\\u8b49\\u66f8': 1, u'\\u67b6': 1, u'\\u6230\\u5ef6\\u8cfd': 1, u'\\u5efa\\u7bc9\\u7cfb': 1, u'\\u300c': 3, u'\\u5e36\\u5098': 1, u'\\u4e0d\\u65b7': 1, u'\\u7a69\\u5b9a': 1, u'\\u5f35\\u570b': 1, u'\\u5927\\u96e8': 1, u'\\u8cc7\\u672c': 1, u'Just': 1, u'\\u6771\\u6d77': 1, u'\\u9f13\\u6d6a': 1, u'\\u5468': 1, u'\\u7f8e\\u5143': 1, u'\\u5468\\u5f37': 1, u'\\u66f4\\u65b0': 5, u'\\u7576\\u840c\\u4e3b': 1, u'\\u4ecd\\u7136': 1, u'\\u4e16\\u754c': 1, u'\\u570b\\u6f14': 1, u'\\u5ef6\\u671f': 1, u'\\uff01': 3, u'\\u597d\\u8cb4': 1, u'\\u71c8': 1, u'\\u5305': 1, u'\\u9f4a\\u63da': 1, u'\\u6709': 1, u'\\u8d85\\u6a21': 1, u'\\u300b': 2, u'\\u5fc3\\u679c': 1, u'\\u5927\\u5b78\\u602a': 1, u'\\u6e9d\\u901a': 1, u'\\u50f9\\u503c': 1, u'\\u7e73\\u7a05': 1, u'\\u5c45\\u6c11': 1, u'\\u7406\\u6027': 1, u'Daydreamer': 1, u'\\u4e0d\\u5747': 1, u'\\u5347': 1, u\"'\": 1, u'\\u5929': 1, u'\\u5148\\u7576': 1, u'\\u4f4e\\u6536\\u5165': 1, u'\\u4fb5\\u8972': 1, u'\\u5433\\u5fd7\\u63da': 1, u'\\u51ac\\u76df': 1, u'\\u660e\\u661f': 1, u'\\u4f8f\\u7f85\\u7d00': 1, u'\\u4e09\\u7063': 1, u'\\u7280\\u733f': 1, u'\\u751f\\u7164': 1, u'\\u6c11\\u5831': 1, u'\\u5ac1\\u599d\\u5098': 1, u'\\u5e74\\u5e95': 1, u'\\u6c11\\u5831\\u7403': 1, u' ': 2, u'\\u983b\\u983b': 1, u'\\u8463\\u5ea7': 1, u'\\u4e4b': 2, u'\\u59ca': 1, u'\\u97d3\\u8077': 1, u'\\u52df\\u5175\\u5236': 1, u'\\u52a3\\u85e5': 1, u'\\u82d7\\u6817': 1, u'Armani': 1, u'\\u63d2': 1, u'\\u4eba\\u6578': 1, u'\\u660e\\u6b66': 1, u'\\u95d6': 1, u'\\u9ad8': 1, u'\\u8e5f': 1, u'\\u80c3\\u6563': 1, u'\\u6700\\u5feb': 1, u'\\u51fa\\u9580': 1, u'\\u96f2\\u6797\\u8b70': 1, u's': 1, u'\\u5df2': 1, u'\\u4ea4\\u901a': 1, u'\\u75c5\\u6bd2': 1, u'\\u5167\\u95a3': 1, u'\\u91cd\\u56de': 1, u'\\u88ab': 1, u'\\u6bd4': 1, u'\\u55ae\\u7e8c': 1, u'\\u516b\\u5366\\u5c71': 1, u'\\u8b66\\u65b9': 1, u'\\u65b0\\u5a18': 1, u'\\u8a55\\u9ec3\\u570b\\u6d32': 1, u'\\uff0c': 1, u'\\u4e2d\\u7522\\u968e\\u7d1a': 1, u'\\u7533\\u8acb': 1, u'\\u6216': 1, u'\\u98a8\\u6ce2': 1, u'\\u529f\\u529b': 1, u'\\u5c0f\\u5fc3\\u7ffc\\u7ffc': 1, u'\\u6674\\u96e8\\u5a03': 1, u'\\u5c08\\u6b04': 1, u'\\u5920': 1, u'\\u9019\\u7a2e': 1, u'\\u6328\\u6253': 1, u'\\u8a18\\u5f97': 1, u'\\u81f4\\u6b7b\\u7387': 1, u'\\u9432\\u5920': 1, u'\\u6436': 1, u'\\u9673': 1, u'\\u756b\\u4f5c': 1, u'4': 1, u'\\u60e1\\u5922': 1, u'\\u56c9': 1, u'\\u4e0d': 2, u'\\u53d7\\u56f0': 1, u'\\u611f\\u67d3': 1, u'\\u7af6\\u722d': 1, u'\\u6bc0\\u640d': 1, u'\\u9ad8\\u5ee3\\u573b': 1, u'\\u7bb1\\u578b': 1, u'\\u7f8e': 1, u'\\u5c0e\\u81f4': 1, u'\\u61c9\\u5c46': 1, u'\\u5831\\u5230': 1, u'\\u8b8a\\u5927': 1, u'\\u89e3\\u570d': 1, u'Gold': 1, u'\\u6838\\u5fc3': 1, u'\\u7576\\u958b': 1, u'\\u6f84\\u6ce2': 1, u'\\u5c4b\\u864e': 1, u'\\u53ef': 1, u'\\u5de8\\u86cb': 1, u'\\u7981\\u71d2': 1, u'\\u898f\\u5b9a': 1, u'\\u8eca\\u8aa4': 1, u'\\u6703': 1, u'\\u53f0\\u5851': 1, u'\\u4e86': 1, u'\\u300d': 2, u'\\u5206\\u671f': 1, u'\\u3011': 10, u'\\u805e\\u8a0a': 1, u'\\u6c92': 2, u'\\u5dee\\u8ddd': 1, u'\\u9f8d\\u9cf3': 1, u'\\u4e94\\u5929': 1, u'\\u529b\\u9080': 1, u'\\u4e09\\u5343': 1, u'\\u96fb\\u8a2a\\u5289': 1, u'\\u7f8e\\u50b5': 1, u'\\uff1f': 1, u'\\u958b\\u767c': 1, u'Selina': 1, u'\\u5171': 1, u'\\u8ca1\\u8a02': 1, u'\\u91cd\\u8981': 1, u'\\u6cbf\\u7dda': 1, u'\\u5927': 1, u'\\u7562\\u5c55': 1, u'\\u661f\\u7235': 1, u'\\u99ac': 1, u'\\u571f\\u5730': 1, u'\\u660e\\u73e0': 1, u'\\u6bb7\\u4ed4': 1, u'5': 1, u'\\u770b\\u8cfd': 1, u'\\u8e39': 1, u'\\u5bf5\\u7269': 1, u'\\u853b': 2, u'\\u71b1\\u6d6a': 1, u'\\u62dc\\u8a2a': 1, u'\\u5dbc': 1, u'\\u901a\\u904e': 1, u'\\u6301\\u7e8c': 1, u'\\u627e\\u5230': 1, u'\\u840c\\u5927\\u6703': 1, u'\\u624d': 1, u'\\u904e\\u5ea6': 1, u'\\u8212\\u570b\\u6cbb': 1, u'\\u8fa3\\u7ffb': 1, u'\\u5148\\u4e0b': 1, u'\\u6210': 1, u'\\u7956\\u96e2\\u5cf6': 1, u'\\u6236': 1, u'\\u907a\\u5931': 1, u'\\u5f35\\u9707\\u6cd5': 1, u'\\u704c\\u7c43': 1, u'800': 1, u'\\u574e\\u57ce': 1, u'\\u9060\\u96c4': 1, u'\\u6539\\u5584': 1, u'\\u76fc': 1, u'\\u8a71': 1, u'\\u53f0': 1, u'\\u5973': 1, u'\\u5fc5\\u6df9': 1, u'\\u7591\\u6d89': 1, u'\\u8ca7\\u5bcc': 2, u'\\u50b3\\u67d3\\u529b\\u5f37': 1}\n"
     ]
    }
   ],
   "source": [
    "for w in dic"
   ]
  },
  {
   "cell_type": "code",
   "execution_count": 23,
   "metadata": {
    "collapsed": false
   },
   "outputs": [
    {
     "data": {
      "image/png": "[encoded data removed]",
      "text/plain": [
       "<IPython.core.display.Image object>"
      ]
     },
     "execution_count": 23,
     "metadata": {},
     "output_type": "execute_result"
    }
   ],
   "source": [
    "from pytagcloud import create_tag_image, make_tags\n",
    "from IPython.display import Image\n",
    "from operator import itemgetter\n",
    "swd = sorted(worddic.iteritems(), key=itemgetter(1), reverse=True)\n",
    "swd = [w for w in swd[1:50] if w[0] not in '【】...'.decode('utf-8')]\n",
    "\n",
    "tags = make_tags(swd, maxsize=120)\n",
    "create_tag_image(tags, 'wc.png', size=(600,400), fontname='tw')\n",
    "Image(filename='wc.png') \n"
   ]
  },
  {
   "cell_type": "code",
   "execution_count": null,
   "metadata": {
    "collapsed": true
   },
   "outputs": [],
   "source": []
  }
 ],
 "metadata": {
  "kernelspec": {
   "display_name": "Python 2",
   "language": "python",
   "name": "python2"
  },
  "language_info": {
   "codemirror_mode": {
    "name": "ipython",
    "version": 2
   },
   "file_extension": ".py",
   "mimetype": "text/x-python",
   "name": "python",
   "nbconvert_exporter": "python",
   "pygments_lexer": "ipython2",
   "version": "2.7.3"
  }
 },
 "nbformat": 4,
 "nbformat_minor": 0
}
