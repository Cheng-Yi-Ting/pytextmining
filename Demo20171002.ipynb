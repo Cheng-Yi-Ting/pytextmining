{
 "cells": [
  {
   "cell_type": "markdown",
   "metadata": {},
   "source": [
    "## Python Basic"
   ]
  },
  {
   "cell_type": "code",
   "execution_count": 1,
   "metadata": {
    "collapsed": false
   },
   "outputs": [
    {
     "data": {
      "text/plain": [
       "5"
      ]
     },
     "execution_count": 1,
     "metadata": {},
     "output_type": "execute_result"
    }
   ],
   "source": [
    "a = 3\n",
    "b = 2\n",
    "a + b"
   ]
  },
  {
   "cell_type": "markdown",
   "metadata": {},
   "source": [
    "## GET"
   ]
  },
  {
   "cell_type": "code",
   "execution_count": 6,
   "metadata": {
    "collapsed": false
   },
   "outputs": [
    {
     "data": {
      "text/plain": [
       "<Response [200]>"
      ]
     },
     "execution_count": 6,
     "metadata": {},
     "output_type": "execute_result"
    }
   ],
   "source": [
    "import requests\n",
    "res = requests.get('http://www.appledaily.com.tw/realtimenews/section/new/')\n",
    "res"
   ]
  },
  {
   "cell_type": "code",
   "execution_count": 15,
   "metadata": {
    "collapsed": false
   },
   "outputs": [
    {
     "data": {
      "text/plain": [
       "requests.models.Response"
      ]
     },
     "execution_count": 15,
     "metadata": {},
     "output_type": "execute_result"
    }
   ],
   "source": [
    "#res.text\n",
    "type(res)"
   ]
  },
  {
   "cell_type": "markdown",
   "metadata": {},
   "source": [
    "## POST"
   ]
  },
  {
   "cell_type": "code",
   "execution_count": 5,
   "metadata": {
    "collapsed": false
   },
   "outputs": [
    {
     "data": {
      "text/plain": [
       "<Response [200]>"
      ]
     },
     "execution_count": 5,
     "metadata": {},
     "output_type": "execute_result"
    }
   ],
   "source": [
    "import requests\n",
    "url = 'https://www.thsrc.com.tw/tw/TimeTable/SearchResult'\n",
    "payload = {\n",
    "'StartStation':'977abb69-413a-4ccf-a109-0272c24fd490',\n",
    "'EndStation':'a7a04c89-900b-4798-95a3-c01c455622f4',\n",
    "'SearchDate':'2017/10/02',\n",
    "'SearchTime':'11:30',\n",
    "'SearchWay':'DepartureInMandarin'\n",
    "}\n",
    "res = requests.post(url, data = payload)\n",
    "res"
   ]
  },
  {
   "cell_type": "markdown",
   "metadata": {
    "collapsed": true
   },
   "source": [
    "## BeautifulSoup4"
   ]
  },
  {
   "cell_type": "code",
   "execution_count": 9,
   "metadata": {
    "collapsed": true
   },
   "outputs": [],
   "source": [
    "from bs4 import BeautifulSoup\n",
    "\n",
    "html_sample = '''\n",
    "<html> \n",
    " <body> \n",
    " <h1 id=\"title\">Hello World</h1> \n",
    " <a href=\"#\" class=\"link\">This is link1</a> \n",
    " <a href=\"# link2\" class=\"link\">This is link2</a> \n",
    " </body> \n",
    "</html>\n",
    "'''\n",
    "\n",
    "soup = BeautifulSoup(html_sample, 'lxml')"
   ]
  },
  {
   "cell_type": "code",
   "execution_count": 10,
   "metadata": {
    "collapsed": false
   },
   "outputs": [
    {
     "data": {
      "text/plain": [
       "<h1 id=\"title\">Hello World</h1>"
      ]
     },
     "execution_count": 10,
     "metadata": {},
     "output_type": "execute_result"
    }
   ],
   "source": [
    "soup.select_one('h1')"
   ]
  },
  {
   "cell_type": "code",
   "execution_count": 13,
   "metadata": {
    "collapsed": false
   },
   "outputs": [
    {
     "data": {
      "text/plain": [
       "170"
      ]
     },
     "execution_count": 13,
     "metadata": {},
     "output_type": "execute_result"
    }
   ],
   "source": [
    "height = 170\n",
    "heights = [170,162,180]\n",
    "heights[0]"
   ]
  },
  {
   "cell_type": "code",
   "execution_count": 16,
   "metadata": {
    "collapsed": false
   },
   "outputs": [
    {
     "name": "stdout",
     "output_type": "stream",
     "text": [
      "[<h1 id=\"title\">Hello World</h1>]\n",
      "<h1 id=\"title\">Hello World</h1>\n",
      "Hello World\n"
     ]
    }
   ],
   "source": [
    "print(soup.select('h1'))\n",
    "print(soup.select('h1')[0])\n",
    "print(soup.select('h1')[0].text)"
   ]
  },
  {
   "cell_type": "code",
   "execution_count": 17,
   "metadata": {
    "collapsed": false
   },
   "outputs": [
    {
     "data": {
      "text/plain": [
       "bs4.element.Tag"
      ]
     },
     "execution_count": 17,
     "metadata": {},
     "output_type": "execute_result"
    }
   ],
   "source": [
    "type(soup.select('h1')[0])"
   ]
  },
  {
   "cell_type": "code",
   "execution_count": 18,
   "metadata": {
    "collapsed": false
   },
   "outputs": [
    {
     "data": {
      "text/plain": [
       "[<a class=\"link\" href=\"#\">This is link1</a>,\n",
       " <a class=\"link\" href=\"# link2\">This is link2</a>]"
      ]
     },
     "execution_count": 18,
     "metadata": {},
     "output_type": "execute_result"
    }
   ],
   "source": [
    "soup.select('a')"
   ]
  },
  {
   "cell_type": "code",
   "execution_count": 22,
   "metadata": {
    "collapsed": false
   },
   "outputs": [
    {
     "name": "stdout",
     "output_type": "stream",
     "text": [
      "<a class=\"link\" href=\"#\">This is link1</a>\n",
      "This is link1\n",
      "<a class=\"link\" href=\"# link2\">This is link2</a>\n",
      "This is link2\n"
     ]
    }
   ],
   "source": [
    "alinks = soup.select('a')\n",
    "print(alinks[0])\n",
    "print(alinks[0].text)\n",
    "print(alinks[1])\n",
    "print(alinks[1].text)"
   ]
  },
  {
   "cell_type": "code",
   "execution_count": 24,
   "metadata": {
    "collapsed": false
   },
   "outputs": [
    {
     "data": {
      "text/plain": [
       "[<a class=\"link\" href=\"#\">This is link1</a>,\n",
       " <a class=\"link\" href=\"# link2\">This is link2</a>]"
      ]
     },
     "execution_count": 24,
     "metadata": {},
     "output_type": "execute_result"
    }
   ],
   "source": [
    "alinks"
   ]
  },
  {
   "cell_type": "code",
   "execution_count": 25,
   "metadata": {
    "collapsed": false
   },
   "outputs": [
    {
     "name": "stdout",
     "output_type": "stream",
     "text": [
      "This is link1\n",
      "This is link2\n"
     ]
    }
   ],
   "source": [
    "for qoo in alinks:\n",
    "    #print(qoo)\n",
    "    print(qoo.text)"
   ]
  },
  {
   "cell_type": "markdown",
   "metadata": {},
   "source": [
    "## 根據CSS 抓取"
   ]
  },
  {
   "cell_type": "code",
   "execution_count": 26,
   "metadata": {
    "collapsed": false
   },
   "outputs": [
    {
     "data": {
      "text/plain": [
       "'\\n<html> \\n <body> \\n <h1 id=\"title\">Hello World</h1> \\n <a href=\"#\" class=\"link\">This is link1</a> \\n <a href=\"# link2\" class=\"link\">This is link2</a> \\n </body> \\n</html>\\n'"
      ]
     },
     "execution_count": 26,
     "metadata": {},
     "output_type": "execute_result"
    }
   ],
   "source": [
    "html_sample"
   ]
  },
  {
   "cell_type": "code",
   "execution_count": 28,
   "metadata": {
    "collapsed": false
   },
   "outputs": [
    {
     "data": {
      "text/plain": [
       "[<h1 id=\"title\">Hello World</h1>]"
      ]
     },
     "execution_count": 28,
     "metadata": {},
     "output_type": "execute_result"
    }
   ],
   "source": [
    "# id => #\n",
    "soup.select('#title')"
   ]
  },
  {
   "cell_type": "code",
   "execution_count": 29,
   "metadata": {
    "collapsed": false
   },
   "outputs": [
    {
     "data": {
      "text/plain": [
       "[<a class=\"link\" href=\"#\">This is link1</a>,\n",
       " <a class=\"link\" href=\"# link2\">This is link2</a>]"
      ]
     },
     "execution_count": 29,
     "metadata": {},
     "output_type": "execute_result"
    }
   ],
   "source": [
    "# class => .\n",
    "soup.select('.link')"
   ]
  },
  {
   "cell_type": "code",
   "execution_count": 31,
   "metadata": {
    "collapsed": false
   },
   "outputs": [
    {
     "data": {
      "text/plain": [
       "[<h1 id=\"title\">Hello World</h1>]"
      ]
     },
     "execution_count": 31,
     "metadata": {},
     "output_type": "execute_result"
    }
   ],
   "source": [
    "# get data in h1 tag and id = title => h1#title\n",
    "soup.select('h1#title')"
   ]
  },
  {
   "cell_type": "code",
   "execution_count": 32,
   "metadata": {
    "collapsed": false
   },
   "outputs": [
    {
     "data": {
      "text/plain": [
       "[<a class=\"link\" href=\"#\">This is link1</a>,\n",
       " <a class=\"link\" href=\"# link2\">This is link2</a>]"
      ]
     },
     "execution_count": 32,
     "metadata": {},
     "output_type": "execute_result"
    }
   ],
   "source": [
    "# get data under body tag with class=link => body .link\n",
    "soup.select('body .link')"
   ]
  },
  {
   "cell_type": "code",
   "execution_count": 36,
   "metadata": {
    "collapsed": false
   },
   "outputs": [
    {
     "name": "stdout",
     "output_type": "stream",
     "text": [
      "#\n",
      "# link2\n"
     ]
    }
   ],
   "source": [
    "for qoo in soup.select('a'):\n",
    "    #print(qoo.text)\n",
    "    print(qoo['href'])"
   ]
  },
  {
   "cell_type": "markdown",
   "metadata": {},
   "source": [
    "## 文字資料蒐集實做"
   ]
  },
  {
   "cell_type": "code",
   "execution_count": 37,
   "metadata": {
    "collapsed": false
   },
   "outputs": [
    {
     "data": {
      "text/plain": [
       "<Response [200]>"
      ]
     },
     "execution_count": 37,
     "metadata": {},
     "output_type": "execute_result"
    }
   ],
   "source": [
    "import requests\n",
    "res = requests.get('http://www.appledaily.com.tw/realtimenews/section/new/')\n",
    "res"
   ]
  },
  {
   "cell_type": "code",
   "execution_count": 38,
   "metadata": {
    "collapsed": true
   },
   "outputs": [],
   "source": [
    "from bs4 import BeautifulSoup\n",
    "soup = BeautifulSoup(res.text, 'html.parser')"
   ]
  },
  {
   "cell_type": "code",
   "execution_count": 52,
   "metadata": {
    "collapsed": false
   },
   "outputs": [
    {
     "name": "stdout",
     "output_type": "stream",
     "text": [
      "台北監獄首座高樓層舍房　朝「一人一床」獄...(0) 社會 13:23 http://www.appledaily.com.tw/realtimenews/article/local/20171002/1215251/台北監獄首座高樓層舍房　朝「一人一床」獄政革新\n",
      "========================================\n",
      "​【有片】蘇澳民宅惡火　母子葬身火海(15054) 社會 10:53 http://www.appledaily.com.tw/realtimenews/article/local/20171002/1215029/​【有片】蘇澳民宅惡火　母子葬身火海\n",
      "========================================\n",
      "自掏腰包做公益七年不間斷　2018長榮空...(1) 社會 13:18 http://www.appledaily.com.tw/realtimenews/article/local/20171002/1215244/自掏腰包做公益七年不間斷　2018長榮空姐年曆今登場\n",
      "========================================\n",
      "男子躺高速公路路肩　自稱「上來歇一會兒」(9) 國際 13:17 http://www.appledaily.com.tw/realtimenews/article/international/20171002/1215252/男子躺高速公路路肩　自稱「上來歇一會兒」\n",
      "========================================\n",
      "今年少90萬人看金鐘　憲哥揪女開獎收視最...(480) 娛樂 13:12 http://www.appledaily.com.tw/realtimenews/article/entertainment/20171002/1215150/今年少90萬人看金鐘　憲哥揪女開獎收視最高\n",
      "========================================\n",
      "中信金弊案重大突破　共犯李聲凱返國投案(4771) 社會 13:10 http://www.appledaily.com.tw/realtimenews/article/local/20171002/1215232/中信金弊案重大突破　共犯李聲凱返國投案\n",
      "========================================\n",
      "彰府要罰台化12億　創環保處份最高金額(208) 社會 13:10 http://www.appledaily.com.tw/realtimenews/article/local/20171002/1215233/彰府要罰台化12億　創環保處份最高金額\n",
      "========================================\n",
      "立委爆滴滴打車將來台　交長證實：確實在談...(361) 生活 13:10 http://www.appledaily.com.tw/realtimenews/article/life/20171002/1215254/立委爆滴滴打車將來台　交長證實：確實在談合作　\n",
      "========================================\n",
      "周二開始北台灣轉涼有雨　要賞月烤肉得碰運...(3450) 生活 13:08 http://www.appledaily.com.tw/realtimenews/article/life/20171002/1215041/周二開始北台灣轉涼有雨　要賞月烤肉得碰運氣\n",
      "========================================\n",
      "OPI搭上孫芸芸美妝　用化妝包宣告「限量...(265) 時尚 13:07 http://www.appledaily.com.tw/realtimenews/article/fashion/20171002/1215001/OPI搭上孫芸芸美妝　用化妝包宣告「限量」\n",
      "========================================\n",
      "【史上首次】今年國慶日　舞台無「中華民國...(43495) 政治 13:06 http://www.appledaily.com.tw/realtimenews/article/politics/20171002/1215193/【史上首次】今年國慶日　舞台無「中華民國」國號也無國旗\n",
      "========================================\n",
      "警工會：虛偽的社會交待，名為基層的替死鬼(350) 論壇 13:06 http://www.appledaily.com.tw/realtimenews/article/forum/20171002/1215196/警工會：虛偽的社會交待，名為基層的替死鬼\n",
      "========================================\n",
      "【廚餘煉金術】港食物設計師　剩菜變旗袍(176) 國際 13:05 http://www.appledaily.com.tw/realtimenews/article/international/20171002/1215217/【廚餘煉金術】港食物設計師　剩菜變旗袍\n",
      "========================================\n",
      "加拿大政壇首見　非白人當選主要政黨領袖(120) 國際 13:05 http://www.appledaily.com.tw/realtimenews/article/international/20171002/1215228/加拿大政壇首見　非白人當選主要政黨領袖\n",
      "========================================\n",
      "1月買機票9月被詐10萬　民怨雄獅害人不...(10924) 生活 13:02 http://www.appledaily.com.tw/realtimenews/article/life/20171002/1214932/1月買機票9月被詐10萬　民怨雄獅害人不淺\n",
      "========================================\n",
      "馬尼拉台灣形象展落幕　促17.42億元商...(178) 財經 13:01 http://www.appledaily.com.tw/realtimenews/article/finance/20171002/1215245/馬尼拉台灣形象展落幕　促17.42億元商機\n",
      "========================================\n",
      "原物料下滑　豐興本周廢鋼、鋼筋雙走跌(175) 財經 13:00 http://www.appledaily.com.tw/realtimenews/article/finance/20171002/1215249/原物料下滑　豐興本周廢鋼、鋼筋雙走跌\n",
      "========================================\n",
      "徐乃麟昨親自道歉　唐從聖首發聲明「釋懷不...(36152) 娛樂 12:59 http://www.appledaily.com.tw/realtimenews/article/entertainment/20171002/1215237/徐乃麟昨親自道歉　唐從聖首發聲明「釋懷不告了」！\n",
      "========================================\n",
      " 陳睿明辱護理師！知名蛋糕店臉書切割：已...(3271) 生活 12:59 http://www.appledaily.com.tw/realtimenews/article/life/20171002/1215246/陳睿明辱護理師！知名蛋糕店臉書切割：已離職\n",
      "========================================\n",
      "謝和弦帶過世姑姑看周董演唱會　原因滿滿洋...(8802) 娛樂 12:58 http://www.appledaily.com.tw/realtimenews/article/entertainment/20171002/1215039/謝和弦帶過世姑姑看周董演唱會　原因滿滿洋蔥...\n",
      "========================================\n",
      "毒蟲父母家中吸毒像燒烤　​毒煙害死2月女...(1204) 社會 12:56 http://www.appledaily.com.tw/realtimenews/article/local/20171002/1215242/毒蟲父母家中吸毒像燒烤　​毒煙害死2月女嬰\n",
      "========================================\n",
      "監守自盜30億　理律專員逃過13年不起訴(104570) 社會 12:53 http://www.appledaily.com.tw/realtimenews/article/local/20171002/1215082/監守自盜30億　理律專員逃過13年不起訴\n",
      "========================================\n",
      "辱護理師的陳睿明曾在順成賣麵包　業者澄清...(2979) 生活 12:53 http://www.appledaily.com.tw/realtimenews/article/life/20171002/1215243/辱護理師的陳睿明曾在順成賣麵包　業者澄清：去年已離職\n",
      "========================================\n",
      "【追捕片】參加統促黨遊行卻買毒　露餡跑百...(5028) 社會 12:50 http://www.appledaily.com.tw/realtimenews/article/local/20171002/1215138/【追捕片】參加統促黨遊行卻買毒　露餡跑百公尺遭警逮\n",
      "========================================\n",
      "擴散不佳致PM2.5累積　北中22測站達...(188) 生活 12:50 http://www.appledaily.com.tw/realtimenews/article/life/20171002/1215241/擴散不佳致PM2.5累積　北中22測站達不良等級\n",
      "========================================\n",
      "國慶連假國道離峰優惠　交長擔心上路人車更...(256) 生活 12:45 http://www.appledaily.com.tw/realtimenews/article/life/20171002/1215235/國慶連假國道離峰優惠　交長擔心上路人車更多\n",
      "========================================\n",
      "美國職棒季後賽　各系列賽時程(1286) 體育 12:45 http://www.appledaily.com.tw/realtimenews/article/sports/20171002/1215238/美國職棒季後賽　各系列賽時程\n",
      "========================================\n",
      "是有那麼缺錢？　小池百合子索3萬日圓合照...(1262) 國際 12:42 http://www.appledaily.com.tw/realtimenews/article/international/20171002/1215234/是有那麼缺錢？　小池百合子索3萬日圓合照費\n",
      "========================================\n",
      "【有片】網紅主播是竹聯大哥妻　因通緝和副...(26441) 社會 12:40 http://www.appledaily.com.tw/realtimenews/article/local/20171002/1215140/【有片】網紅主播是竹聯大哥妻　因通緝和副堂主夫一併送辦\n",
      "========================================\n",
      "搶車位互罵　「了然」罰1萬「神經病」拘2...(1418) 社會 12:39 http://www.appledaily.com.tw/realtimenews/article/local/20171002/1215178/搶車位互罵　「了然」罰1萬「神經病」拘25天\n",
      "========================================\n"
     ]
    }
   ],
   "source": [
    "domain = 'http://www.appledaily.com.tw'\n",
    "\n",
    "for rec in soup.select('.rtddt a'):\n",
    "    #print(rec)\n",
    "    title    = rec.select('h1')[0].text\n",
    "    category = rec.select('h2')[0].text\n",
    "    dt       = rec.select('time')[0].text\n",
    "    link     = domain + rec['href']\n",
    "    print(title, category, dt, link)\n",
    "    print('========================================')"
   ]
  },
  {
   "cell_type": "markdown",
   "metadata": {},
   "source": [
    "## 抓取自由時報"
   ]
  },
  {
   "cell_type": "code",
   "execution_count": 53,
   "metadata": {
    "collapsed": false
   },
   "outputs": [
    {
     "data": {
      "text/plain": [
       "<Response [200]>"
      ]
     },
     "execution_count": 53,
     "metadata": {},
     "output_type": "execute_result"
    }
   ],
   "source": [
    "import requests\n",
    "res = requests.get('http://news.ltn.com.tw/list/breakingnews')\n",
    "res"
   ]
  },
  {
   "cell_type": "code",
   "execution_count": 54,
   "metadata": {
    "collapsed": true
   },
   "outputs": [],
   "source": [
    "from bs4 import BeautifulSoup\n",
    "soup = BeautifulSoup(res.text, 'html.parser')"
   ]
  },
  {
   "cell_type": "code",
   "execution_count": 63,
   "metadata": {
    "collapsed": false
   },
   "outputs": [
    {
     "name": "stdout",
     "output_type": "stream",
     "text": [
      "排水溝蓋被偷 南投「吉祥路」變不吉祥 13:56 http://news.ltn.com.tw/news/life/breakingnews/2211081\n",
      "======================================\n",
      "課綱審議程序教育部搞不清楚   管媽幫教長上課 13:54 http://news.ltn.com.tw/news/politics/breakingnews/2211082\n",
      "======================================\n",
      "J.D. Power公布最新調查 多次回訪修車廠的顧客滿意度低 13:54 http://ent.ltn.com.tw/news/breakingnews/2211071\n",
      "======================================\n",
      "（圖多）「41歲」唐綺陽皮繃肉緊 沒法令紋喊年輕 13:52 http://ent.ltn.com.tw/news/breakingnews/2211075\n",
      "======================================\n",
      "NBA》狀元郎發威！76人隊內對抗賽 西蒙斯主宰比賽 13:52 http://sports.ltn.com.tw/news/breakingnews/2211078\n",
      "======================================\n",
      "吳宗憲發威！搶佔金鐘52收視最高點 13:52 http://ent.ltn.com.tw/news/breakingnews/2211083\n",
      "======================================\n",
      "蘋果概念股氣勢再起 台股大漲81.22點 13:49 http://news.ltn.com.tw/news/business/breakingnews/2211080\n",
      "======================================\n",
      "爭馬祖建設 陳雪生問賀陳旦：心中有沒有中華民國？ 13:47 http://news.ltn.com.tw/news/politics/breakingnews/2210985\n",
      "======================================\n",
      "網友辱罵護理師 前公司急發聲明切割 13:47 http://news.ltn.com.tw/news/life/breakingnews/2211054\n",
      "======================================\n",
      "瞬間飆破4！金鐘52收視神主牌是他們 13:46 http://ent.ltn.com.tw/news/breakingnews/2211072\n",
      "======================================\n",
      "「大姊頭」行善38年   劉美枝年捐上百萬濟弱 13:42 http://news.ltn.com.tw/news/life/breakingnews/2211073\n",
      "======================================\n",
      "讓Google小姐唱歌的超簡單教學 網友：又一洗腦神曲 13:38 http://news.ltn.com.tw/news/life/breakingnews/2208448\n",
      "======================================\n",
      "網友污辱護理師是「輸卵管」 衛福部：請NCC監督 13:37 http://news.ltn.com.tw/news/life/breakingnews/2211059\n",
      "======================================\n",
      "被指是毒源？ 邱太三：台灣毒品逾7成來自中港澳 13:32 http://news.ltn.com.tw/news/politics/breakingnews/2211012\n",
      "======================================\n",
      "台南麻豆怪賊 男扮女裝偷女內衣褲犯6案 13:30 http://news.ltn.com.tw/news/society/breakingnews/2210997\n",
      "======================================\n",
      "臉書貼出統派團體回信  館長開嗆「去你的統一」 13:30 http://news.ltn.com.tw/news/life/breakingnews/2211003\n",
      "======================================\n",
      "部落聚會所 全台將興建44處 13:30 http://news.ltn.com.tw/news/life/breakingnews/2210995\n",
      "======================================\n",
      "唐從聖公審徐乃麟 老母受辱又喊不告了 13:29 http://ent.ltn.com.tw/news/breakingnews/2211058\n",
      "======================================\n",
      "年底解除歐盟IUU黃牌 綠色和平：不樂觀 13:27 http://news.ltn.com.tw/news/life/breakingnews/2211051\n",
      "======================================\n",
      "「一人一床！ 」台灣首座高樓監獄落成 增收容1300人 13:26 http://news.ltn.com.tw/news/society/breakingnews/2211045\n",
      "======================================\n"
     ]
    }
   ],
   "source": [
    "for rec in soup.select('.imm li'):\n",
    "    #print(rec)\n",
    "    title = rec.select('p')[0].text.strip()\n",
    "    dt    = rec.select('span')[0].text.strip()\n",
    "    link  = rec.select('a')[0]['href']\n",
    "    print(title, dt, link)\n",
    "    print('======================================')"
   ]
  },
  {
   "cell_type": "markdown",
   "metadata": {},
   "source": [
    "## 抓取PTT"
   ]
  },
  {
   "cell_type": "code",
   "execution_count": 64,
   "metadata": {
    "collapsed": true
   },
   "outputs": [],
   "source": [
    "import requests\n",
    "res = requests.get('https://www.ptt.cc/bbs/Tech_Job/index.html')"
   ]
  },
  {
   "cell_type": "code",
   "execution_count": 65,
   "metadata": {
    "collapsed": true
   },
   "outputs": [],
   "source": [
    "from bs4 import BeautifulSoup\n",
    "soup = BeautifulSoup(res.text, 'html.parser')"
   ]
  },
  {
   "cell_type": "code",
   "execution_count": 75,
   "metadata": {
    "collapsed": false
   },
   "outputs": [
    {
     "name": "stdout",
     "output_type": "stream",
     "text": [
      "(本文已被刪除) [beaprayguy] - 10/02 4\n",
      "===========================\n",
      "(本文已被刪除) [waterchia] - 10/02 5\n",
      "===========================\n",
      "[情報] 台積電張忠謀宣布：3奈米在台灣南科設廠 zxcvxx 10/02 8\n",
      "===========================\n",
      "Re: [心得] 一名鴻海的員工被迫跑了整個工業區 jeromeshih 10/02 29\n",
      "===========================\n",
      "[請益] 大雅 先進光電OP待遇與制度? kuma525566 10/02 2\n",
      "===========================\n",
      "[新聞] 工科剛畢業　怕被操爆讓他不想當工程師 kof70380 10/02 4\n",
      "===========================\n",
      "[聘書] Offer請益 (誠研/奧騰/致茂/華冠) cat22122082 10/02 \n",
      "===========================\n",
      "律師為您解惑－線上勞動法免費諮詢即日為勞工 … pzs 5/26 爆\n",
      "===========================\n",
      "[公告] Tech_Job板板規 2014.03.01 mmkntust 3/01 9\n",
      "===========================\n",
      "[公告] 置底 檢舉/推薦 文章 mmkntust 9/07 爆\n",
      "===========================\n",
      "[免費]工作人生顧問 zodiac 10/14 爆\n",
      "===========================\n",
      "[情報] 還我七天假 連署 trashpoking 9/20 爆\n",
      "===========================\n"
     ]
    }
   ],
   "source": [
    "for rec in soup.select('.r-ent'):\n",
    "    #print(rec)\n",
    "    title  = rec.select('.title')[0].text.strip()\n",
    "    author = rec.select('.author')[0].text.strip()\n",
    "    date   = rec.select('.date')[0].text.strip()\n",
    "    nrec   = rec.select('.nrec')[0].text.strip()\n",
    "    print(title, author, date, nrec)\n",
    "    print('===========================')"
   ]
  },
  {
   "cell_type": "markdown",
   "metadata": {},
   "source": [
    "## 抓取內容頁"
   ]
  },
  {
   "cell_type": "code",
   "execution_count": 77,
   "metadata": {
    "collapsed": false
   },
   "outputs": [],
   "source": [
    "import requests\n",
    "res = requests.get('http://www.appledaily.com.tw/realtimenews/article/entertainment/20171002/1215150/%E4%BB%8A%E5%B9%B4%E5%B0%9190%E8%90%AC%E4%BA%BA%E7%9C%8B%E9%87%91%E9%90%98%20%E6%86%B2%E5%93%A5%E6%8F%AA%E5%A5%B3%E9%96%8B%E7%8D%8E%E6%94%B6%E8%A6%96%E6%9C%80%E9%AB%98')\n",
    "#res.text"
   ]
  },
  {
   "cell_type": "code",
   "execution_count": 78,
   "metadata": {
    "collapsed": true
   },
   "outputs": [],
   "source": [
    "from bs4 import BeautifulSoup\n",
    "soup = BeautifulSoup(res.text, 'html.parser')"
   ]
  },
  {
   "cell_type": "code",
   "execution_count": 84,
   "metadata": {
    "collapsed": false
   },
   "outputs": [],
   "source": [
    "title   = soup.select('#h1')[0].text\n",
    "content = soup.select('#summary')[0].text\n",
    "dt      = soup.select('.gggs time')[0].text\n",
    "clicked = soup.select('.clicked')[0].text"
   ]
  },
  {
   "cell_type": "markdown",
   "metadata": {},
   "source": [
    "## 將內容頁抓取包裝成函數"
   ]
  },
  {
   "cell_type": "code",
   "execution_count": 89,
   "metadata": {
    "collapsed": true
   },
   "outputs": [],
   "source": [
    "import requests\n",
    "from bs4 import BeautifulSoup\n",
    "def getDetail(detail_url):\n",
    "    res = requests.get(detail_url)\n",
    "    soup = BeautifulSoup(res.text, 'html.parser')\n",
    "    title   = soup.select('#h1')[0].text\n",
    "    content = soup.select('#summary')[0].text\n",
    "    dt      = soup.select('.gggs time')[0].text\n",
    "    clicked = soup.select('.clicked')[0].text\n",
    "    dic     = {'title': title, 'content': content, 'time':dt, 'clicked':clicked}\n",
    "    return dic"
   ]
  },
  {
   "cell_type": "code",
   "execution_count": 90,
   "metadata": {
    "collapsed": false
   },
   "outputs": [
    {
     "data": {
      "text/plain": [
       "{'clicked': '人氣(7418)',\n",
       " 'content': '今年金鐘獎收視出爐，三立播出收視3.17，吸250萬觀眾收看，比起去年金鐘獎收視4.33、近340萬人收看，少了90萬人。今年收視最高點4.23則落在吳宗憲與女兒Sandy吳姍儒頒獎部份。另有鑑於觀眾收視習慣改變，近年用網路收看典禮人數也變多，今年新媒直播平台包括三立新聞網、Youtube、Vidol影音平台、YAHOO TV、LINE TV、金鐘官網、金鐘52APP等加起來就共有近400萬人收看，遠勝電視收視人數。（蔡維歆/台北報導）\\xa0',\n",
       " 'time': '2017年10月02日13:12',\n",
       " 'title': '好威！憲哥不但得獎\\u3000還跟女兒稱霸金鐘最高收視'}"
      ]
     },
     "execution_count": 90,
     "metadata": {},
     "output_type": "execute_result"
    }
   ],
   "source": [
    "getDetail('http://www.appledaily.com.tw/realtimenews/article/entertainment/20171002/1215150/%E4%BB%8A%E5%B9%B4%E5%B0%9190%E8%90%AC%E4%BA%BA%E7%9C%8B%E9%87%91%E9%90%98%20%E6%86%B2%E5%93%A5%E6%8F%AA%E5%A5%B3%E9%96%8B%E7%8D%8E%E6%94%B6%E8%A6%96%E6%9C%80%E9%AB%98')"
   ]
  },
  {
   "cell_type": "markdown",
   "metadata": {},
   "source": [
    "## 字典"
   ]
  },
  {
   "cell_type": "code",
   "execution_count": 86,
   "metadata": {
    "collapsed": false
   },
   "outputs": [
    {
     "data": {
      "text/plain": [
       "{'a': 1, 'b': 'hellow world', 'c': 300, 'd': '測試'}"
      ]
     },
     "execution_count": 86,
     "metadata": {},
     "output_type": "execute_result"
    }
   ],
   "source": [
    "dic = {'a': 1, 'b': 'hellow world', 'c':300}\n",
    "dic.get('c')\n",
    "dic['d'] = '測試'\n",
    "dic"
   ]
  },
  {
   "cell_type": "code",
   "execution_count": 96,
   "metadata": {
    "collapsed": false
   },
   "outputs": [
    {
     "data": {
      "text/plain": [
       "{'a': 1, 'b': 'hellow world', 'c': 300, 'd': '測試', 'e': 123, 'f': 'qoo'}"
      ]
     },
     "execution_count": 96,
     "metadata": {},
     "output_type": "execute_result"
    }
   ],
   "source": [
    "dic2 = {'e':123, 'f':'qoo'}\n",
    "dic.update(dic2)\n",
    "dic"
   ]
  },
  {
   "cell_type": "markdown",
   "metadata": {},
   "source": [
    "## 根據連結取得每篇內文資訊"
   ]
  },
  {
   "cell_type": "code",
   "execution_count": 93,
   "metadata": {
    "collapsed": false
   },
   "outputs": [],
   "source": [
    "import requests\n",
    "from bs4 import BeautifulSoup\n",
    "\n",
    "domain = 'http://www.appledaily.com.tw'\n",
    "\n",
    "\n",
    "def getDetail(detail_url):\n",
    "    res = requests.get(detail_url)\n",
    "    soup = BeautifulSoup(res.text, 'html.parser')\n",
    "    title   = soup.select('#h1')[0].text\n",
    "    content = soup.select('#summary')[0].text\n",
    "    dt      = soup.select('.gggs time')[0].text\n",
    "    clicked = soup.select('.clicked')[0].text if len(soup.select('.clicked')) > 0 else 0 \n",
    "    dic     = {'title': title, 'content': content, 'time':dt, 'clicked':clicked}\n",
    "    return dic\n",
    "\n",
    "res = requests.get('http://www.appledaily.com.tw/realtimenews/section/new/')\n",
    "soup = BeautifulSoup(res.text, 'html.parser')\n",
    "\n",
    "newsary = []\n",
    "for rec in soup.select('.rtddt a'):\n",
    "    ret      = {}\n",
    "    #title    = rec.select('h1')[0].text\n",
    "    ret['category'] = rec.select('h2')[0].text\n",
    "    #dt       = rec.select('time')[0].text\n",
    "    link     = domain + rec['href']\n",
    "    detail   = getDetail(link)\n",
    "    ret.update(detail)\n",
    "    newsary.append(ret)\n",
    "    \n",
    "    "
   ]
  },
  {
   "cell_type": "code",
   "execution_count": 95,
   "metadata": {
    "collapsed": false
   },
   "outputs": [
    {
     "data": {
      "text/html": [
       "<div>\n",
       "<table border=\"1\" class=\"dataframe\">\n",
       "  <thead>\n",
       "    <tr style=\"text-align: right;\">\n",
       "      <th></th>\n",
       "      <th>category</th>\n",
       "      <th>clicked</th>\n",
       "      <th>content</th>\n",
       "      <th>time</th>\n",
       "      <th>title</th>\n",
       "    </tr>\n",
       "  </thead>\n",
       "  <tbody>\n",
       "    <tr>\n",
       "      <th>0</th>\n",
       "      <td>娛樂</td>\n",
       "      <td>0</td>\n",
       "      <td>衛視電影台舉辦《目擊者》全台首播媒體記者會，2位女主角許瑋甯及柯佳嬿今出席活動，許瑋甯以《紅...</td>\n",
       "      <td>2017年10月02日14:42</td>\n",
       "      <td>「鬼附身」入圍女配！許瑋甯開心到爆炸　柯佳嬿微鬱卒</td>\n",
       "    </tr>\n",
       "    <tr>\n",
       "      <th>1</th>\n",
       "      <td>財經</td>\n",
       "      <td>0</td>\n",
       "      <td>台積電（2330）10月將歡慶創立30周年，有「半導體教父」之稱的台積電董事長張忠謀在公司3...</td>\n",
       "      <td>2017年10月02日14:38</td>\n",
       "      <td>半導體教父張忠謀　用30年打造台灣的驕傲</td>\n",
       "    </tr>\n",
       "    <tr>\n",
       "      <th>2</th>\n",
       "      <td>國際</td>\n",
       "      <td>人氣(47166)</td>\n",
       "      <td>多年堅持獨立的西班牙北部加泰隆尼亞自治區（Catalonia）周日（1日）舉行全球關注的獨立...</td>\n",
       "      <td>2017年10月02日14:37</td>\n",
       "      <td>【不斷更新】彭博：就在周五　加泰隆尼亞可能宣布獨立</td>\n",
       "    </tr>\n",
       "    <tr>\n",
       "      <th>3</th>\n",
       "      <td>娛樂</td>\n",
       "      <td>0</td>\n",
       "      <td>美國實境節目女星凱莉傑納（Kylie Jenner）上月底傳出懷孕喜訊，20歲的她自創美妝品...</td>\n",
       "      <td>2017年10月02日14:36</td>\n",
       "      <td>好野人！豐臀金么妹走「孕」　砸210萬買童裝</td>\n",
       "    </tr>\n",
       "    <tr>\n",
       "      <th>4</th>\n",
       "      <td>社會</td>\n",
       "      <td>人氣(53741)</td>\n",
       "      <td>​（更新：新增動新聞）新北市板橋分局警方今天破獲黑幫不法集團，逮捕以竹聯幫雷堂房姓副堂主〈2...</td>\n",
       "      <td>2017年10月02日14:35</td>\n",
       "      <td>【有片】網紅主播是竹聯大哥妻　因通緝和副堂主夫一併送辦</td>\n",
       "    </tr>\n",
       "    <tr>\n",
       "      <th>5</th>\n",
       "      <td>政治</td>\n",
       "      <td>0</td>\n",
       "      <td>第24屆海洋使徒世界大會，今天起至10月6日連5天在高雄舉行。海洋使徒世界大會是由教廷促進整...</td>\n",
       "      <td>2017年10月02日14:35</td>\n",
       "      <td>台灣首辦海洋使徒世界大會　高雄今開幕</td>\n",
       "    </tr>\n",
       "    <tr>\n",
       "      <th>6</th>\n",
       "      <td>社會</td>\n",
       "      <td>人氣(3)</td>\n",
       "      <td>搶救台灣希望聯盟（簡稱救台盟）今年初在臉書粉絲團PO出多名小孩舉牌反對校方教導同志性教育的照...</td>\n",
       "      <td>2017年10月02日14:34</td>\n",
       "      <td>批救台盟教小孩說謊　2網紅挨告誹謗結果…</td>\n",
       "    </tr>\n",
       "    <tr>\n",
       "      <th>7</th>\n",
       "      <td>地產</td>\n",
       "      <td>0</td>\n",
       "      <td>刺激買氣，房仲業者祭出多樣花招！2017下半年民眾購屋信心明顯回升，交易量也跟著受到牽引，農...</td>\n",
       "      <td>2017年10月02日14:34</td>\n",
       "      <td>刺激第4季買氣　房仲豁出去要抽iPad</td>\n",
       "    </tr>\n",
       "    <tr>\n",
       "      <th>8</th>\n",
       "      <td>體育</td>\n",
       "      <td>人氣(7295)</td>\n",
       "      <td>(新增影片)美國職棒季後賽將從台灣時間後天(4日)開打，率先登場的是美國聯盟外卡賽，由洋基與...</td>\n",
       "      <td>2017年10月02日14:33</td>\n",
       "      <td>【有片】外卡驟死賽　洋基推新秀對決雙城老將</td>\n",
       "    </tr>\n",
       "    <tr>\n",
       "      <th>9</th>\n",
       "      <td>社會</td>\n",
       "      <td>人氣(6)</td>\n",
       "      <td>真的好心過度也很麻煩！新竹市環保局顏姓清潔隊員，是資源回收車駕駛，他在執行資源回收工作時，因...</td>\n",
       "      <td>2017年10月02日14:33</td>\n",
       "      <td>好心送回收物給老婦賣錢　2清潔隊員遭判刑</td>\n",
       "    </tr>\n",
       "    <tr>\n",
       "      <th>10</th>\n",
       "      <td>社會</td>\n",
       "      <td>人氣(62)</td>\n",
       "      <td>台中警方偵辦劣酒案，發現台中豐原鎌村路605巷的「平和光」酒廠涉嫌，該酒廠每天只有上、下班時...</td>\n",
       "      <td>2017年10月02日14:32</td>\n",
       "      <td>葡萄酒沒有葡萄　劣酒4倍暴利銷婚宴會館</td>\n",
       "    </tr>\n",
       "    <tr>\n",
       "      <th>11</th>\n",
       "      <td>生活</td>\n",
       "      <td>人氣(99)</td>\n",
       "      <td>（更新：新增影片）花蓮東大門夜市攤商「億大雪花冰店」研發的巧克力香蕉冰磚，上月底參加2017...</td>\n",
       "      <td>2017年10月02日14:30</td>\n",
       "      <td>【有片】跌破眼鏡　花蓮夜市冰磚獲發明技術鉑金獎</td>\n",
       "    </tr>\n",
       "    <tr>\n",
       "      <th>12</th>\n",
       "      <td>國際</td>\n",
       "      <td>0</td>\n",
       "      <td>泰國呵叻府一間木屋的新主人，在檢查水井時驚見水中浸有人類頭骨和部份骸骨，立即報警。泰國網報導...</td>\n",
       "      <td>2017年10月02日14:30</td>\n",
       "      <td>泰男花364萬買農舍　檢查赫見水井有人骨</td>\n",
       "    </tr>\n",
       "    <tr>\n",
       "      <th>13</th>\n",
       "      <td>生活</td>\n",
       "      <td>人氣(14)</td>\n",
       "      <td>嶄新的基隆車站南站廣場於今日正式啟用，鐵工局表示，新的廣場地面層，可串聯由舊站至停車場(南北...</td>\n",
       "      <td>2017年10月02日14:30</td>\n",
       "      <td>基隆車站南站今啟用　基隆新站越夜越美麗</td>\n",
       "    </tr>\n",
       "    <tr>\n",
       "      <th>14</th>\n",
       "      <td>社會</td>\n",
       "      <td>人氣(104)</td>\n",
       "      <td>宜蘭蘇澳鎮天主路一處透天厝民宅，今天清晨6時許竄出大火及濃煙，警消獲報後緊急搶救，但屋內一對...</td>\n",
       "      <td>2017年10月02日14:29</td>\n",
       "      <td>母子葬身火海　消防火調疑電線走火所致</td>\n",
       "    </tr>\n",
       "    <tr>\n",
       "      <th>15</th>\n",
       "      <td>國際</td>\n",
       "      <td>人氣(5493)</td>\n",
       "      <td>美國賭城拉斯維加斯發生槍擊事件。一名槍手在當地鄉村音樂節慶典上開槍，目前傳出有多人受傷。警方...</td>\n",
       "      <td>2017年10月02日14:28</td>\n",
       "      <td>【不斷更新】槍手闖美賭城音樂會　CNN：多人中彈送醫</td>\n",
       "    </tr>\n",
       "    <tr>\n",
       "      <th>16</th>\n",
       "      <td>生活</td>\n",
       "      <td>人氣(1288)</td>\n",
       "      <td>「幾次見面下來，覺得鄭捷就是一般人，就像我們的同學、朋友那樣的一般人。」24歲社工巫馥彤先前...</td>\n",
       "      <td>2017年10月02日14:23</td>\n",
       "      <td>她挺鄭捷護胖妹　被院長拍桌罵造反</td>\n",
       "    </tr>\n",
       "    <tr>\n",
       "      <th>17</th>\n",
       "      <td>娛樂</td>\n",
       "      <td>人氣(272)</td>\n",
       "      <td>創作天后陳綺貞「Acoustic cheer ego房間裡的音樂會 台北站」，原定今日中午1...</td>\n",
       "      <td>2017年10月02日14:20</td>\n",
       "      <td>udn售票網休克！陳綺貞粉絲今晚6點重新搶票</td>\n",
       "    </tr>\n",
       "    <tr>\n",
       "      <th>18</th>\n",
       "      <td>社會</td>\n",
       "      <td>人氣(865)</td>\n",
       "      <td>台灣歷史最悠久的輪胎製造商南港輪胎（2101）2014年爆發老臣陳啟清向22家原料商收回扣5...</td>\n",
       "      <td>2017年10月02日14:19</td>\n",
       "      <td>南港輪胎內鬼收回扣5億　吐還贓款再判賠4551萬利息</td>\n",
       "    </tr>\n",
       "    <tr>\n",
       "      <th>19</th>\n",
       "      <td>生活</td>\n",
       "      <td>人氣(59474)</td>\n",
       "      <td>（新增影片）網友陳睿明拍影片昨上傳《YouTube》、《臉書》，批評護士或護理師「鬧夠了吧，...</td>\n",
       "      <td>2017年10月02日14:18</td>\n",
       "      <td>網友辱護理師「一群輸卵管」　衛福部嚴厲譴責還要提告</td>\n",
       "    </tr>\n",
       "    <tr>\n",
       "      <th>20</th>\n",
       "      <td>政治</td>\n",
       "      <td>人氣(1684)</td>\n",
       "      <td>（新增進度）隸屬空軍499聯隊的上校王同義，5年前的10月3日在法國受訓期間不幸失事殉職，由...</td>\n",
       "      <td>2017年10月02日14:18</td>\n",
       "      <td>【更新】罹難飛官王同義祭日前夕　蔡英文弔念：台灣空軍武德的典範</td>\n",
       "    </tr>\n",
       "    <tr>\n",
       "      <th>21</th>\n",
       "      <td>生活</td>\n",
       "      <td>人氣(3365)</td>\n",
       "      <td>網友陳睿明拍攝一部批評護理師的影片引發公憤，台灣護師醫療產業工會繼昨晚在《臉書》粉絲專頁發出...</td>\n",
       "      <td>2017年10月02日14:16</td>\n",
       "      <td>「絕不姑息！」護師工會吉了　按鈴申告陳睿明</td>\n",
       "    </tr>\n",
       "    <tr>\n",
       "      <th>22</th>\n",
       "      <td>政治</td>\n",
       "      <td>人氣(2495)</td>\n",
       "      <td>台北市長柯文哲說前總統陳水扁裝病，事後澄清是口誤。今高雄市長陳菊被媒體詢問，國慶邀請函沒有國...</td>\n",
       "      <td>2017年10月02日14:13</td>\n",
       "      <td>陳菊：我看國慶邀請函有國旗　高市府更正</td>\n",
       "    </tr>\n",
       "    <tr>\n",
       "      <th>23</th>\n",
       "      <td>論壇</td>\n",
       "      <td>人氣(545)</td>\n",
       "      <td>王守誠／海洋大學應用地球科學所博士生台灣是地熱溫泉資源大國，工研院及科技部團隊推測的地熱資源...</td>\n",
       "      <td>2017年10月02日14:12</td>\n",
       "      <td>請問中油：台灣地熱資源這麼豐富 何時才能達成發電目標</td>\n",
       "    </tr>\n",
       "    <tr>\n",
       "      <th>24</th>\n",
       "      <td>生活</td>\n",
       "      <td>人氣(336)</td>\n",
       "      <td>周三就是中秋節，非連假，高速公路局表示，預估交通量介於平日與例假日之間，都會區週邊景點將出現...</td>\n",
       "      <td>2017年10月02日14:12</td>\n",
       "      <td>首例！中秋節只放一天　國道取消20公里免費優惠</td>\n",
       "    </tr>\n",
       "    <tr>\n",
       "      <th>25</th>\n",
       "      <td>財經</td>\n",
       "      <td>人氣(21653)</td>\n",
       "      <td>台積電（2330）在台股收盤後發布重大訊息，董事長張忠謀將於2018年6月退休，公司由雙首長...</td>\n",
       "      <td>2017年10月02日14:12</td>\n",
       "      <td>張忠謀宣布明年6月退休　劉德音接台積電董事長</td>\n",
       "    </tr>\n",
       "    <tr>\n",
       "      <th>26</th>\n",
       "      <td>社會</td>\n",
       "      <td>人氣(8032)</td>\n",
       "      <td>雲林東勢一名男子去年起10月起開車80多公里遠赴台南麻豆，戴假髮、穿連身裙扮成女人，連犯三起...</td>\n",
       "      <td>2017年10月02日14:09</td>\n",
       "      <td>被倒債6千萬人生變調　前富商扮女人偷胸罩</td>\n",
       "    </tr>\n",
       "    <tr>\n",
       "      <th>27</th>\n",
       "      <td>財經</td>\n",
       "      <td>人氣(1381)</td>\n",
       "      <td>蘋果備受矚目的新機iPhone X，預計11月3日在全球開賣，但先前陸續傳出，因為零組件良率...</td>\n",
       "      <td>2017年10月02日14:09</td>\n",
       "      <td>iPhone X還未上市　台韓陸續有真機現身</td>\n",
       "    </tr>\n",
       "    <tr>\n",
       "      <th>28</th>\n",
       "      <td>財經</td>\n",
       "      <td>人氣(159)</td>\n",
       "      <td>美國高通公司與臺南市政府、遠傳電信、工業技術研究院及華碩今天共同宣布擴大臺南市雲遊學暨高通「...</td>\n",
       "      <td>2017年10月02日14:06</td>\n",
       "      <td>高通 4G教育行動教室再升級</td>\n",
       "    </tr>\n",
       "    <tr>\n",
       "      <th>29</th>\n",
       "      <td>時尚</td>\n",
       "      <td>人氣(945)</td>\n",
       "      <td>「龐克教母」薇薇安魏斯伍德（Vivienne Westwood）高齡76歲，依然活耀於時尚圈...</td>\n",
       "      <td>2017年10月02日14:05</td>\n",
       "      <td>76歲龐克教母分享保養祕訣　每周只洗一次澡</td>\n",
       "    </tr>\n",
       "  </tbody>\n",
       "</table>\n",
       "</div>"
      ],
      "text/plain": [
       "   category    clicked                                            content  \\\n",
       "0        娛樂          0  衛視電影台舉辦《目擊者》全台首播媒體記者會，2位女主角許瑋甯及柯佳嬿今出席活動，許瑋甯以《紅...   \n",
       "1        財經          0  台積電（2330）10月將歡慶創立30周年，有「半導體教父」之稱的台積電董事長張忠謀在公司3...   \n",
       "2        國際  人氣(47166)  多年堅持獨立的西班牙北部加泰隆尼亞自治區（Catalonia）周日（1日）舉行全球關注的獨立...   \n",
       "3        娛樂          0  美國實境節目女星凱莉傑納（Kylie Jenner）上月底傳出懷孕喜訊，20歲的她自創美妝品...   \n",
       "4        社會  人氣(53741)  ​（更新：新增動新聞）新北市板橋分局警方今天破獲黑幫不法集團，逮捕以竹聯幫雷堂房姓副堂主〈2...   \n",
       "5        政治          0  第24屆海洋使徒世界大會，今天起至10月6日連5天在高雄舉行。海洋使徒世界大會是由教廷促進整...   \n",
       "6        社會      人氣(3)  搶救台灣希望聯盟（簡稱救台盟）今年初在臉書粉絲團PO出多名小孩舉牌反對校方教導同志性教育的照...   \n",
       "7        地產          0  刺激買氣，房仲業者祭出多樣花招！2017下半年民眾購屋信心明顯回升，交易量也跟著受到牽引，農...   \n",
       "8        體育   人氣(7295)  (新增影片)美國職棒季後賽將從台灣時間後天(4日)開打，率先登場的是美國聯盟外卡賽，由洋基與...   \n",
       "9        社會      人氣(6)  真的好心過度也很麻煩！新竹市環保局顏姓清潔隊員，是資源回收車駕駛，他在執行資源回收工作時，因...   \n",
       "10       社會     人氣(62)  台中警方偵辦劣酒案，發現台中豐原鎌村路605巷的「平和光」酒廠涉嫌，該酒廠每天只有上、下班時...   \n",
       "11       生活     人氣(99)  （更新：新增影片）花蓮東大門夜市攤商「億大雪花冰店」研發的巧克力香蕉冰磚，上月底參加2017...   \n",
       "12       國際          0  泰國呵叻府一間木屋的新主人，在檢查水井時驚見水中浸有人類頭骨和部份骸骨，立即報警。泰國網報導...   \n",
       "13       生活     人氣(14)  嶄新的基隆車站南站廣場於今日正式啟用，鐵工局表示，新的廣場地面層，可串聯由舊站至停車場(南北...   \n",
       "14       社會    人氣(104)  宜蘭蘇澳鎮天主路一處透天厝民宅，今天清晨6時許竄出大火及濃煙，警消獲報後緊急搶救，但屋內一對...   \n",
       "15       國際   人氣(5493)  美國賭城拉斯維加斯發生槍擊事件。一名槍手在當地鄉村音樂節慶典上開槍，目前傳出有多人受傷。警方...   \n",
       "16       生活   人氣(1288)  「幾次見面下來，覺得鄭捷就是一般人，就像我們的同學、朋友那樣的一般人。」24歲社工巫馥彤先前...   \n",
       "17       娛樂    人氣(272)  創作天后陳綺貞「Acoustic cheer ego房間裡的音樂會 台北站」，原定今日中午1...   \n",
       "18       社會    人氣(865)  台灣歷史最悠久的輪胎製造商南港輪胎（2101）2014年爆發老臣陳啟清向22家原料商收回扣5...   \n",
       "19       生活  人氣(59474)  （新增影片）網友陳睿明拍影片昨上傳《YouTube》、《臉書》，批評護士或護理師「鬧夠了吧，...   \n",
       "20       政治   人氣(1684)  （新增進度）隸屬空軍499聯隊的上校王同義，5年前的10月3日在法國受訓期間不幸失事殉職，由...   \n",
       "21       生活   人氣(3365)  網友陳睿明拍攝一部批評護理師的影片引發公憤，台灣護師醫療產業工會繼昨晚在《臉書》粉絲專頁發出...   \n",
       "22       政治   人氣(2495)  台北市長柯文哲說前總統陳水扁裝病，事後澄清是口誤。今高雄市長陳菊被媒體詢問，國慶邀請函沒有國...   \n",
       "23       論壇    人氣(545)  王守誠／海洋大學應用地球科學所博士生台灣是地熱溫泉資源大國，工研院及科技部團隊推測的地熱資源...   \n",
       "24       生活    人氣(336)  周三就是中秋節，非連假，高速公路局表示，預估交通量介於平日與例假日之間，都會區週邊景點將出現...   \n",
       "25       財經  人氣(21653)  台積電（2330）在台股收盤後發布重大訊息，董事長張忠謀將於2018年6月退休，公司由雙首長...   \n",
       "26       社會   人氣(8032)  雲林東勢一名男子去年起10月起開車80多公里遠赴台南麻豆，戴假髮、穿連身裙扮成女人，連犯三起...   \n",
       "27       財經   人氣(1381)  蘋果備受矚目的新機iPhone X，預計11月3日在全球開賣，但先前陸續傳出，因為零組件良率...   \n",
       "28       財經    人氣(159)  美國高通公司與臺南市政府、遠傳電信、工業技術研究院及華碩今天共同宣布擴大臺南市雲遊學暨高通「...   \n",
       "29       時尚    人氣(945)  「龐克教母」薇薇安魏斯伍德（Vivienne Westwood）高齡76歲，依然活耀於時尚圈...   \n",
       "\n",
       "                time                            title  \n",
       "0   2017年10月02日14:42       「鬼附身」入圍女配！許瑋甯開心到爆炸　柯佳嬿微鬱卒   \n",
       "1   2017年10月02日14:38             半導體教父張忠謀　用30年打造台灣的驕傲  \n",
       "2   2017年10月02日14:37        【不斷更新】彭博：就在周五　加泰隆尼亞可能宣布獨立  \n",
       "3   2017年10月02日14:36           好野人！豐臀金么妹走「孕」　砸210萬買童裝  \n",
       "4   2017年10月02日14:35      【有片】網紅主播是竹聯大哥妻　因通緝和副堂主夫一併送辦  \n",
       "5   2017年10月02日14:35               台灣首辦海洋使徒世界大會　高雄今開幕  \n",
       "6   2017年10月02日14:34             批救台盟教小孩說謊　2網紅挨告誹謗結果…  \n",
       "7   2017年10月02日14:34              刺激第4季買氣　房仲豁出去要抽iPad  \n",
       "8   2017年10月02日14:33            【有片】外卡驟死賽　洋基推新秀對決雙城老將  \n",
       "9   2017年10月02日14:33             好心送回收物給老婦賣錢　2清潔隊員遭判刑  \n",
       "10  2017年10月02日14:32              葡萄酒沒有葡萄　劣酒4倍暴利銷婚宴會館  \n",
       "11  2017年10月02日14:30          【有片】跌破眼鏡　花蓮夜市冰磚獲發明技術鉑金獎  \n",
       "12  2017年10月02日14:30             泰男花364萬買農舍　檢查赫見水井有人骨  \n",
       "13  2017年10月02日14:30              基隆車站南站今啟用　基隆新站越夜越美麗  \n",
       "14  2017年10月02日14:29               母子葬身火海　消防火調疑電線走火所致  \n",
       "15  2017年10月02日14:28       【不斷更新】槍手闖美賭城音樂會　CNN：多人中彈送醫  \n",
       "16  2017年10月02日14:23                 她挺鄭捷護胖妹　被院長拍桌罵造反  \n",
       "17  2017年10月02日14:20           udn售票網休克！陳綺貞粉絲今晚6點重新搶票  \n",
       "18  2017年10月02日14:19       南港輪胎內鬼收回扣5億　吐還贓款再判賠4551萬利息  \n",
       "19  2017年10月02日14:18        網友辱護理師「一群輸卵管」　衛福部嚴厲譴責還要提告  \n",
       "20  2017年10月02日14:18  【更新】罹難飛官王同義祭日前夕　蔡英文弔念：台灣空軍武德的典範  \n",
       "21  2017年10月02日14:16            「絕不姑息！」護師工會吉了　按鈴申告陳睿明  \n",
       "22  2017年10月02日14:13              陳菊：我看國慶邀請函有國旗　高市府更正  \n",
       "23  2017年10月02日14:12       請問中油：台灣地熱資源這麼豐富 何時才能達成發電目標  \n",
       "24  2017年10月02日14:12          首例！中秋節只放一天　國道取消20公里免費優惠  \n",
       "25  2017年10月02日14:12           張忠謀宣布明年6月退休　劉德音接台積電董事長  \n",
       "26  2017年10月02日14:09             被倒債6千萬人生變調　前富商扮女人偷胸罩  \n",
       "27  2017年10月02日14:09           iPhone X還未上市　台韓陸續有真機現身  \n",
       "28  2017年10月02日14:06                   高通 4G教育行動教室再升級  \n",
       "29  2017年10月02日14:05            76歲龐克教母分享保養祕訣　每周只洗一次澡  "
      ]
     },
     "execution_count": 95,
     "metadata": {},
     "output_type": "execute_result"
    }
   ],
   "source": [
    "import pandas\n",
    "newsdf = pandas.DataFrame(newsary)\n",
    "newsdf"
   ]
  },
  {
   "cell_type": "code",
   "execution_count": null,
   "metadata": {
    "collapsed": true
   },
   "outputs": [],
   "source": []
  }
 ],
 "metadata": {
  "kernelspec": {
   "display_name": "Python 3",
   "language": "python",
   "name": "python3"
  },
  "language_info": {
   "codemirror_mode": {
    "name": "ipython",
    "version": 3
   },
   "file_extension": ".py",
   "mimetype": "text/x-python",
   "name": "python",
   "nbconvert_exporter": "python",
   "pygments_lexer": "ipython3",
   "version": "3.6.0"
  }
 },
 "nbformat": 4,
 "nbformat_minor": 2
}
