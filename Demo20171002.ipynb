{
 "cells": [
  {
   "cell_type": "markdown",
   "metadata": {},
   "source": [
    "## Python Basic"
   ]
  },
  {
   "cell_type": "code",
   "execution_count": 1,
   "metadata": {
    "collapsed": false
   },
   "outputs": [
    {
     "data": {
      "text/plain": [
       "5"
      ]
     },
     "execution_count": 1,
     "metadata": {},
     "output_type": "execute_result"
    }
   ],
   "source": [
    "a = 3\n",
    "b = 2\n",
    "a + b"
   ]
  },
  {
   "cell_type": "markdown",
   "metadata": {},
   "source": [
    "## GET"
   ]
  },
  {
   "cell_type": "code",
   "execution_count": 6,
   "metadata": {
    "collapsed": false
   },
   "outputs": [
    {
     "data": {
      "text/plain": [
       "<Response [200]>"
      ]
     },
     "execution_count": 6,
     "metadata": {},
     "output_type": "execute_result"
    }
   ],
   "source": [
    "import requests\n",
    "res = requests.get('http://www.appledaily.com.tw/realtimenews/section/new/')\n",
    "res"
   ]
  },
  {
   "cell_type": "code",
   "execution_count": 15,
   "metadata": {
    "collapsed": false
   },
   "outputs": [
    {
     "data": {
      "text/plain": [
       "requests.models.Response"
      ]
     },
     "execution_count": 15,
     "metadata": {},
     "output_type": "execute_result"
    }
   ],
   "source": [
    "#res.text\n",
    "type(res)"
   ]
  },
  {
   "cell_type": "markdown",
   "metadata": {},
   "source": [
    "## POST"
   ]
  },
  {
   "cell_type": "code",
   "execution_count": 5,
   "metadata": {
    "collapsed": false
   },
   "outputs": [
    {
     "data": {
      "text/plain": [
       "<Response [200]>"
      ]
     },
     "execution_count": 5,
     "metadata": {},
     "output_type": "execute_result"
    }
   ],
   "source": [
    "import requests\n",
    "url = 'https://www.thsrc.com.tw/tw/TimeTable/SearchResult'\n",
    "payload = {\n",
    "'StartStation':'977abb69-413a-4ccf-a109-0272c24fd490',\n",
    "'EndStation':'a7a04c89-900b-4798-95a3-c01c455622f4',\n",
    "'SearchDate':'2017/10/02',\n",
    "'SearchTime':'11:30',\n",
    "'SearchWay':'DepartureInMandarin'\n",
    "}\n",
    "res = requests.post(url, data = payload)\n",
    "res"
   ]
  },
  {
   "cell_type": "markdown",
   "metadata": {
    "collapsed": true
   },
   "source": [
    "## BeautifulSoup4"
   ]
  },
  {
   "cell_type": "code",
   "execution_count": 9,
   "metadata": {
    "collapsed": true
   },
   "outputs": [],
   "source": [
    "from bs4 import BeautifulSoup\n",
    "\n",
    "html_sample = '''\n",
    "<html> \n",
    " <body> \n",
    " <h1 id=\"title\">Hello World</h1> \n",
    " <a href=\"#\" class=\"link\">This is link1</a> \n",
    " <a href=\"# link2\" class=\"link\">This is link2</a> \n",
    " </body> \n",
    "</html>\n",
    "'''\n",
    "\n",
    "soup = BeautifulSoup(html_sample, 'lxml')"
   ]
  },
  {
   "cell_type": "code",
   "execution_count": 10,
   "metadata": {
    "collapsed": false
   },
   "outputs": [
    {
     "data": {
      "text/plain": [
       "<h1 id=\"title\">Hello World</h1>"
      ]
     },
     "execution_count": 10,
     "metadata": {},
     "output_type": "execute_result"
    }
   ],
   "source": [
    "soup.select_one('h1')"
   ]
  },
  {
   "cell_type": "code",
   "execution_count": 13,
   "metadata": {
    "collapsed": false
   },
   "outputs": [
    {
     "data": {
      "text/plain": [
       "170"
      ]
     },
     "execution_count": 13,
     "metadata": {},
     "output_type": "execute_result"
    }
   ],
   "source": [
    "height = 170\n",
    "heights = [170,162,180]\n",
    "heights[0]"
   ]
  },
  {
   "cell_type": "code",
   "execution_count": 16,
   "metadata": {
    "collapsed": false
   },
   "outputs": [
    {
     "name": "stdout",
     "output_type": "stream",
     "text": [
      "[<h1 id=\"title\">Hello World</h1>]\n",
      "<h1 id=\"title\">Hello World</h1>\n",
      "Hello World\n"
     ]
    }
   ],
   "source": [
    "print(soup.select('h1'))\n",
    "print(soup.select('h1')[0])\n",
    "print(soup.select('h1')[0].text)"
   ]
  },
  {
   "cell_type": "code",
   "execution_count": 17,
   "metadata": {
    "collapsed": false
   },
   "outputs": [
    {
     "data": {
      "text/plain": [
       "bs4.element.Tag"
      ]
     },
     "execution_count": 17,
     "metadata": {},
     "output_type": "execute_result"
    }
   ],
   "source": [
    "type(soup.select('h1')[0])"
   ]
  },
  {
   "cell_type": "code",
   "execution_count": 18,
   "metadata": {
    "collapsed": false
   },
   "outputs": [
    {
     "data": {
      "text/plain": [
       "[<a class=\"link\" href=\"#\">This is link1</a>,\n",
       " <a class=\"link\" href=\"# link2\">This is link2</a>]"
      ]
     },
     "execution_count": 18,
     "metadata": {},
     "output_type": "execute_result"
    }
   ],
   "source": [
    "soup.select('a')"
   ]
  },
  {
   "cell_type": "code",
   "execution_count": 22,
   "metadata": {
    "collapsed": false
   },
   "outputs": [
    {
     "name": "stdout",
     "output_type": "stream",
     "text": [
      "<a class=\"link\" href=\"#\">This is link1</a>\n",
      "This is link1\n",
      "<a class=\"link\" href=\"# link2\">This is link2</a>\n",
      "This is link2\n"
     ]
    }
   ],
   "source": [
    "alinks = soup.select('a')\n",
    "print(alinks[0])\n",
    "print(alinks[0].text)\n",
    "print(alinks[1])\n",
    "print(alinks[1].text)"
   ]
  },
  {
   "cell_type": "code",
   "execution_count": 24,
   "metadata": {
    "collapsed": false
   },
   "outputs": [
    {
     "data": {
      "text/plain": [
       "[<a class=\"link\" href=\"#\">This is link1</a>,\n",
       " <a class=\"link\" href=\"# link2\">This is link2</a>]"
      ]
     },
     "execution_count": 24,
     "metadata": {},
     "output_type": "execute_result"
    }
   ],
   "source": [
    "alinks"
   ]
  },
  {
   "cell_type": "code",
   "execution_count": 25,
   "metadata": {
    "collapsed": false
   },
   "outputs": [
    {
     "name": "stdout",
     "output_type": "stream",
     "text": [
      "This is link1\n",
      "This is link2\n"
     ]
    }
   ],
   "source": [
    "for qoo in alinks:\n",
    "    #print(qoo)\n",
    "    print(qoo.text)"
   ]
  },
  {
   "cell_type": "markdown",
   "metadata": {},
   "source": [
    "## 根據CSS 抓取"
   ]
  },
  {
   "cell_type": "code",
   "execution_count": 26,
   "metadata": {
    "collapsed": false
   },
   "outputs": [
    {
     "data": {
      "text/plain": [
       "'\\n<html> \\n <body> \\n <h1 id=\"title\">Hello World</h1> \\n <a href=\"#\" class=\"link\">This is link1</a> \\n <a href=\"# link2\" class=\"link\">This is link2</a> \\n </body> \\n</html>\\n'"
      ]
     },
     "execution_count": 26,
     "metadata": {},
     "output_type": "execute_result"
    }
   ],
   "source": [
    "html_sample"
   ]
  },
  {
   "cell_type": "code",
   "execution_count": 28,
   "metadata": {
    "collapsed": false
   },
   "outputs": [
    {
     "data": {
      "text/plain": [
       "[<h1 id=\"title\">Hello World</h1>]"
      ]
     },
     "execution_count": 28,
     "metadata": {},
     "output_type": "execute_result"
    }
   ],
   "source": [
    "# id => #\n",
    "soup.select('#title')"
   ]
  },
  {
   "cell_type": "code",
   "execution_count": 29,
   "metadata": {
    "collapsed": false
   },
   "outputs": [
    {
     "data": {
      "text/plain": [
       "[<a class=\"link\" href=\"#\">This is link1</a>,\n",
       " <a class=\"link\" href=\"# link2\">This is link2</a>]"
      ]
     },
     "execution_count": 29,
     "metadata": {},
     "output_type": "execute_result"
    }
   ],
   "source": [
    "# class => .\n",
    "soup.select('.link')"
   ]
  },
  {
   "cell_type": "code",
   "execution_count": 31,
   "metadata": {
    "collapsed": false
   },
   "outputs": [
    {
     "data": {
      "text/plain": [
       "[<h1 id=\"title\">Hello World</h1>]"
      ]
     },
     "execution_count": 31,
     "metadata": {},
     "output_type": "execute_result"
    }
   ],
   "source": [
    "# get data in h1 tag and id = title => h1#title\n",
    "soup.select('h1#title')"
   ]
  },
  {
   "cell_type": "code",
   "execution_count": 32,
   "metadata": {
    "collapsed": false
   },
   "outputs": [
    {
     "data": {
      "text/plain": [
       "[<a class=\"link\" href=\"#\">This is link1</a>,\n",
       " <a class=\"link\" href=\"# link2\">This is link2</a>]"
      ]
     },
     "execution_count": 32,
     "metadata": {},
     "output_type": "execute_result"
    }
   ],
   "source": [
    "# get data under body tag with class=link => body .link\n",
    "soup.select('body .link')"
   ]
  },
  {
   "cell_type": "code",
   "execution_count": 36,
   "metadata": {
    "collapsed": false
   },
   "outputs": [
    {
     "name": "stdout",
     "output_type": "stream",
     "text": [
      "#\n",
      "# link2\n"
     ]
    }
   ],
   "source": [
    "for qoo in soup.select('a'):\n",
    "    #print(qoo.text)\n",
    "    print(qoo['href'])"
   ]
  },
  {
   "cell_type": "markdown",
   "metadata": {},
   "source": [
    "## 文字資料蒐集實做"
   ]
  },
  {
   "cell_type": "code",
   "execution_count": 37,
   "metadata": {
    "collapsed": false
   },
   "outputs": [
    {
     "data": {
      "text/plain": [
       "<Response [200]>"
      ]
     },
     "execution_count": 37,
     "metadata": {},
     "output_type": "execute_result"
    }
   ],
   "source": [
    "import requests\n",
    "res = requests.get('http://www.appledaily.com.tw/realtimenews/section/new/')\n",
    "res"
   ]
  },
  {
   "cell_type": "code",
   "execution_count": 38,
   "metadata": {
    "collapsed": true
   },
   "outputs": [],
   "source": [
    "from bs4 import BeautifulSoup\n",
    "soup = BeautifulSoup(res.text, 'html.parser')"
   ]
  },
  {
   "cell_type": "code",
   "execution_count": 52,
   "metadata": {
    "collapsed": false
   },
   "outputs": [
    {
     "name": "stdout",
     "output_type": "stream",
     "text": [
      "台北監獄首座高樓層舍房　朝「一人一床」獄...(0) 社會 13:23 http://www.appledaily.com.tw/realtimenews/article/local/20171002/1215251/台北監獄首座高樓層舍房　朝「一人一床」獄政革新\n",
      "========================================\n",
      "​【有片】蘇澳民宅惡火　母子葬身火海(15054) 社會 10:53 http://www.appledaily.com.tw/realtimenews/article/local/20171002/1215029/​【有片】蘇澳民宅惡火　母子葬身火海\n",
      "========================================\n",
      "自掏腰包做公益七年不間斷　2018長榮空...(1) 社會 13:18 http://www.appledaily.com.tw/realtimenews/article/local/20171002/1215244/自掏腰包做公益七年不間斷　2018長榮空姐年曆今登場\n",
      "========================================\n",
      "男子躺高速公路路肩　自稱「上來歇一會兒」(9) 國際 13:17 http://www.appledaily.com.tw/realtimenews/article/international/20171002/1215252/男子躺高速公路路肩　自稱「上來歇一會兒」\n",
      "========================================\n",
      "今年少90萬人看金鐘　憲哥揪女開獎收視最...(480) 娛樂 13:12 http://www.appledaily.com.tw/realtimenews/article/entertainment/20171002/1215150/今年少90萬人看金鐘　憲哥揪女開獎收視最高\n",
      "========================================\n",
      "中信金弊案重大突破　共犯李聲凱返國投案(4771) 社會 13:10 http://www.appledaily.com.tw/realtimenews/article/local/20171002/1215232/中信金弊案重大突破　共犯李聲凱返國投案\n",
      "========================================\n",
      "彰府要罰台化12億　創環保處份最高金額(208) 社會 13:10 http://www.appledaily.com.tw/realtimenews/article/local/20171002/1215233/彰府要罰台化12億　創環保處份最高金額\n",
      "========================================\n",
      "立委爆滴滴打車將來台　交長證實：確實在談...(361) 生活 13:10 http://www.appledaily.com.tw/realtimenews/article/life/20171002/1215254/立委爆滴滴打車將來台　交長證實：確實在談合作　\n",
      "========================================\n",
      "周二開始北台灣轉涼有雨　要賞月烤肉得碰運...(3450) 生活 13:08 http://www.appledaily.com.tw/realtimenews/article/life/20171002/1215041/周二開始北台灣轉涼有雨　要賞月烤肉得碰運氣\n",
      "========================================\n",
      "OPI搭上孫芸芸美妝　用化妝包宣告「限量...(265) 時尚 13:07 http://www.appledaily.com.tw/realtimenews/article/fashion/20171002/1215001/OPI搭上孫芸芸美妝　用化妝包宣告「限量」\n",
      "========================================\n",
      "【史上首次】今年國慶日　舞台無「中華民國...(43495) 政治 13:06 http://www.appledaily.com.tw/realtimenews/article/politics/20171002/1215193/【史上首次】今年國慶日　舞台無「中華民國」國號也無國旗\n",
      "========================================\n",
      "警工會：虛偽的社會交待，名為基層的替死鬼(350) 論壇 13:06 http://www.appledaily.com.tw/realtimenews/article/forum/20171002/1215196/警工會：虛偽的社會交待，名為基層的替死鬼\n",
      "========================================\n",
      "【廚餘煉金術】港食物設計師　剩菜變旗袍(176) 國際 13:05 http://www.appledaily.com.tw/realtimenews/article/international/20171002/1215217/【廚餘煉金術】港食物設計師　剩菜變旗袍\n",
      "========================================\n",
      "加拿大政壇首見　非白人當選主要政黨領袖(120) 國際 13:05 http://www.appledaily.com.tw/realtimenews/article/international/20171002/1215228/加拿大政壇首見　非白人當選主要政黨領袖\n",
      "========================================\n",
      "1月買機票9月被詐10萬　民怨雄獅害人不...(10924) 生活 13:02 http://www.appledaily.com.tw/realtimenews/article/life/20171002/1214932/1月買機票9月被詐10萬　民怨雄獅害人不淺\n",
      "========================================\n",
      "馬尼拉台灣形象展落幕　促17.42億元商...(178) 財經 13:01 http://www.appledaily.com.tw/realtimenews/article/finance/20171002/1215245/馬尼拉台灣形象展落幕　促17.42億元商機\n",
      "========================================\n",
      "原物料下滑　豐興本周廢鋼、鋼筋雙走跌(175) 財經 13:00 http://www.appledaily.com.tw/realtimenews/article/finance/20171002/1215249/原物料下滑　豐興本周廢鋼、鋼筋雙走跌\n",
      "========================================\n",
      "徐乃麟昨親自道歉　唐從聖首發聲明「釋懷不...(36152) 娛樂 12:59 http://www.appledaily.com.tw/realtimenews/article/entertainment/20171002/1215237/徐乃麟昨親自道歉　唐從聖首發聲明「釋懷不告了」！\n",
      "========================================\n",
      " 陳睿明辱護理師！知名蛋糕店臉書切割：已...(3271) 生活 12:59 http://www.appledaily.com.tw/realtimenews/article/life/20171002/1215246/陳睿明辱護理師！知名蛋糕店臉書切割：已離職\n",
      "========================================\n",
      "謝和弦帶過世姑姑看周董演唱會　原因滿滿洋...(8802) 娛樂 12:58 http://www.appledaily.com.tw/realtimenews/article/entertainment/20171002/1215039/謝和弦帶過世姑姑看周董演唱會　原因滿滿洋蔥...\n",
      "========================================\n",
      "毒蟲父母家中吸毒像燒烤　​毒煙害死2月女...(1204) 社會 12:56 http://www.appledaily.com.tw/realtimenews/article/local/20171002/1215242/毒蟲父母家中吸毒像燒烤　​毒煙害死2月女嬰\n",
      "========================================\n",
      "監守自盜30億　理律專員逃過13年不起訴(104570) 社會 12:53 http://www.appledaily.com.tw/realtimenews/article/local/20171002/1215082/監守自盜30億　理律專員逃過13年不起訴\n",
      "========================================\n",
      "辱護理師的陳睿明曾在順成賣麵包　業者澄清...(2979) 生活 12:53 http://www.appledaily.com.tw/realtimenews/article/life/20171002/1215243/辱護理師的陳睿明曾在順成賣麵包　業者澄清：去年已離職\n",
      "========================================\n",
      "【追捕片】參加統促黨遊行卻買毒　露餡跑百...(5028) 社會 12:50 http://www.appledaily.com.tw/realtimenews/article/local/20171002/1215138/【追捕片】參加統促黨遊行卻買毒　露餡跑百公尺遭警逮\n",
      "========================================\n",
      "擴散不佳致PM2.5累積　北中22測站達...(188) 生活 12:50 http://www.appledaily.com.tw/realtimenews/article/life/20171002/1215241/擴散不佳致PM2.5累積　北中22測站達不良等級\n",
      "========================================\n",
      "國慶連假國道離峰優惠　交長擔心上路人車更...(256) 生活 12:45 http://www.appledaily.com.tw/realtimenews/article/life/20171002/1215235/國慶連假國道離峰優惠　交長擔心上路人車更多\n",
      "========================================\n",
      "美國職棒季後賽　各系列賽時程(1286) 體育 12:45 http://www.appledaily.com.tw/realtimenews/article/sports/20171002/1215238/美國職棒季後賽　各系列賽時程\n",
      "========================================\n",
      "是有那麼缺錢？　小池百合子索3萬日圓合照...(1262) 國際 12:42 http://www.appledaily.com.tw/realtimenews/article/international/20171002/1215234/是有那麼缺錢？　小池百合子索3萬日圓合照費\n",
      "========================================\n",
      "【有片】網紅主播是竹聯大哥妻　因通緝和副...(26441) 社會 12:40 http://www.appledaily.com.tw/realtimenews/article/local/20171002/1215140/【有片】網紅主播是竹聯大哥妻　因通緝和副堂主夫一併送辦\n",
      "========================================\n",
      "搶車位互罵　「了然」罰1萬「神經病」拘2...(1418) 社會 12:39 http://www.appledaily.com.tw/realtimenews/article/local/20171002/1215178/搶車位互罵　「了然」罰1萬「神經病」拘25天\n",
      "========================================\n"
     ]
    }
   ],
   "source": [
    "domain = 'http://www.appledaily.com.tw'\n",
    "\n",
    "for rec in soup.select('.rtddt a'):\n",
    "    #print(rec)\n",
    "    title    = rec.select('h1')[0].text\n",
    "    category = rec.select('h2')[0].text\n",
    "    dt       = rec.select('time')[0].text\n",
    "    link     = domain + rec['href']\n",
    "    print(title, category, dt, link)\n",
    "    print('========================================')"
   ]
  },
  {
   "cell_type": "markdown",
   "metadata": {},
   "source": [
    "## 抓取自由時報"
   ]
  },
  {
   "cell_type": "code",
   "execution_count": 53,
   "metadata": {
    "collapsed": false
   },
   "outputs": [
    {
     "data": {
      "text/plain": [
       "<Response [200]>"
      ]
     },
     "execution_count": 53,
     "metadata": {},
     "output_type": "execute_result"
    }
   ],
   "source": [
    "import requests\n",
    "res = requests.get('http://news.ltn.com.tw/list/breakingnews')\n",
    "res"
   ]
  },
  {
   "cell_type": "code",
   "execution_count": 54,
   "metadata": {
    "collapsed": true
   },
   "outputs": [],
   "source": [
    "from bs4 import BeautifulSoup\n",
    "soup = BeautifulSoup(res.text, 'html.parser')"
   ]
  },
  {
   "cell_type": "code",
   "execution_count": 63,
   "metadata": {
    "collapsed": false
   },
   "outputs": [
    {
     "name": "stdout",
     "output_type": "stream",
     "text": [
      "排水溝蓋被偷 南投「吉祥路」變不吉祥 13:56 http://news.ltn.com.tw/news/life/breakingnews/2211081\n",
      "======================================\n",
      "課綱審議程序教育部搞不清楚   管媽幫教長上課 13:54 http://news.ltn.com.tw/news/politics/breakingnews/2211082\n",
      "======================================\n",
      "J.D. Power公布最新調查 多次回訪修車廠的顧客滿意度低 13:54 http://ent.ltn.com.tw/news/breakingnews/2211071\n",
      "======================================\n",
      "（圖多）「41歲」唐綺陽皮繃肉緊 沒法令紋喊年輕 13:52 http://ent.ltn.com.tw/news/breakingnews/2211075\n",
      "======================================\n",
      "NBA》狀元郎發威！76人隊內對抗賽 西蒙斯主宰比賽 13:52 http://sports.ltn.com.tw/news/breakingnews/2211078\n",
      "======================================\n",
      "吳宗憲發威！搶佔金鐘52收視最高點 13:52 http://ent.ltn.com.tw/news/breakingnews/2211083\n",
      "======================================\n",
      "蘋果概念股氣勢再起 台股大漲81.22點 13:49 http://news.ltn.com.tw/news/business/breakingnews/2211080\n",
      "======================================\n",
      "爭馬祖建設 陳雪生問賀陳旦：心中有沒有中華民國？ 13:47 http://news.ltn.com.tw/news/politics/breakingnews/2210985\n",
      "======================================\n",
      "網友辱罵護理師 前公司急發聲明切割 13:47 http://news.ltn.com.tw/news/life/breakingnews/2211054\n",
      "======================================\n",
      "瞬間飆破4！金鐘52收視神主牌是他們 13:46 http://ent.ltn.com.tw/news/breakingnews/2211072\n",
      "======================================\n",
      "「大姊頭」行善38年   劉美枝年捐上百萬濟弱 13:42 http://news.ltn.com.tw/news/life/breakingnews/2211073\n",
      "======================================\n",
      "讓Google小姐唱歌的超簡單教學 網友：又一洗腦神曲 13:38 http://news.ltn.com.tw/news/life/breakingnews/2208448\n",
      "======================================\n",
      "網友污辱護理師是「輸卵管」 衛福部：請NCC監督 13:37 http://news.ltn.com.tw/news/life/breakingnews/2211059\n",
      "======================================\n",
      "被指是毒源？ 邱太三：台灣毒品逾7成來自中港澳 13:32 http://news.ltn.com.tw/news/politics/breakingnews/2211012\n",
      "======================================\n",
      "台南麻豆怪賊 男扮女裝偷女內衣褲犯6案 13:30 http://news.ltn.com.tw/news/society/breakingnews/2210997\n",
      "======================================\n",
      "臉書貼出統派團體回信  館長開嗆「去你的統一」 13:30 http://news.ltn.com.tw/news/life/breakingnews/2211003\n",
      "======================================\n",
      "部落聚會所 全台將興建44處 13:30 http://news.ltn.com.tw/news/life/breakingnews/2210995\n",
      "======================================\n",
      "唐從聖公審徐乃麟 老母受辱又喊不告了 13:29 http://ent.ltn.com.tw/news/breakingnews/2211058\n",
      "======================================\n",
      "年底解除歐盟IUU黃牌 綠色和平：不樂觀 13:27 http://news.ltn.com.tw/news/life/breakingnews/2211051\n",
      "======================================\n",
      "「一人一床！ 」台灣首座高樓監獄落成 增收容1300人 13:26 http://news.ltn.com.tw/news/society/breakingnews/2211045\n",
      "======================================\n"
     ]
    }
   ],
   "source": [
    "for rec in soup.select('.imm li'):\n",
    "    #print(rec)\n",
    "    title = rec.select('p')[0].text.strip()\n",
    "    dt    = rec.select('span')[0].text.strip()\n",
    "    link  = rec.select('a')[0]['href']\n",
    "    print(title, dt, link)\n",
    "    print('======================================')"
   ]
  },
  {
   "cell_type": "markdown",
   "metadata": {},
   "source": [
    "## 抓取PTT"
   ]
  },
  {
   "cell_type": "code",
   "execution_count": 64,
   "metadata": {
    "collapsed": true
   },
   "outputs": [],
   "source": [
    "import requests\n",
    "res = requests.get('https://www.ptt.cc/bbs/Tech_Job/index.html')"
   ]
  },
  {
   "cell_type": "code",
   "execution_count": 65,
   "metadata": {
    "collapsed": true
   },
   "outputs": [],
   "source": [
    "from bs4 import BeautifulSoup\n",
    "soup = BeautifulSoup(res.text, 'html.parser')"
   ]
  },
  {
   "cell_type": "code",
   "execution_count": 75,
   "metadata": {
    "collapsed": false
   },
   "outputs": [
    {
     "name": "stdout",
     "output_type": "stream",
     "text": [
      "(本文已被刪除) [beaprayguy] - 10/02 4\n",
      "===========================\n",
      "(本文已被刪除) [waterchia] - 10/02 5\n",
      "===========================\n",
      "[情報] 台積電張忠謀宣布：3奈米在台灣南科設廠 zxcvxx 10/02 8\n",
      "===========================\n",
      "Re: [心得] 一名鴻海的員工被迫跑了整個工業區 jeromeshih 10/02 29\n",
      "===========================\n",
      "[請益] 大雅 先進光電OP待遇與制度? kuma525566 10/02 2\n",
      "===========================\n",
      "[新聞] 工科剛畢業　怕被操爆讓他不想當工程師 kof70380 10/02 4\n",
      "===========================\n",
      "[聘書] Offer請益 (誠研/奧騰/致茂/華冠) cat22122082 10/02 \n",
      "===========================\n",
      "律師為您解惑－線上勞動法免費諮詢即日為勞工 … pzs 5/26 爆\n",
      "===========================\n",
      "[公告] Tech_Job板板規 2014.03.01 mmkntust 3/01 9\n",
      "===========================\n",
      "[公告] 置底 檢舉/推薦 文章 mmkntust 9/07 爆\n",
      "===========================\n",
      "[免費]工作人生顧問 zodiac 10/14 爆\n",
      "===========================\n",
      "[情報] 還我七天假 連署 trashpoking 9/20 爆\n",
      "===========================\n"
     ]
    }
   ],
   "source": [
    "for rec in soup.select('.r-ent'):\n",
    "    #print(rec)\n",
    "    title  = rec.select('.title')[0].text.strip()\n",
    "    author = rec.select('.author')[0].text.strip()\n",
    "    date   = rec.select('.date')[0].text.strip()\n",
    "    nrec   = rec.select('.nrec')[0].text.strip()\n",
    "    print(title, author, date, nrec)\n",
    "    print('===========================')"
   ]
  },
  {
   "cell_type": "code",
   "execution_count": null,
   "metadata": {
    "collapsed": true
   },
   "outputs": [],
   "source": []
  }
 ],
 "metadata": {
  "kernelspec": {
   "display_name": "Python 3",
   "language": "python",
   "name": "python3"
  },
  "language_info": {
   "codemirror_mode": {
    "name": "ipython",
    "version": 3
   },
   "file_extension": ".py",
   "mimetype": "text/x-python",
   "name": "python",
   "nbconvert_exporter": "python",
   "pygments_lexer": "ipython3",
   "version": "3.6.0"
  }
 },
 "nbformat": 4,
 "nbformat_minor": 2
}
