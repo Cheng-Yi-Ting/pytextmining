{
 "cells": [
  {
   "cell_type": "code",
   "execution_count": 1,
   "metadata": {
    "collapsed": true
   },
   "outputs": [],
   "source": [
    "! pip freeze > requirements.txt"
   ]
  },
  {
   "cell_type": "code",
   "execution_count": null,
   "metadata": {
    "collapsed": true
   },
   "outputs": [],
   "source": [
    "! pip install -r requirements.txt"
   ]
  },
  {
   "cell_type": "markdown",
   "metadata": {},
   "source": [
    "## 英文斷詞"
   ]
  },
  {
   "cell_type": "code",
   "execution_count": 2,
   "metadata": {
    "collapsed": false
   },
   "outputs": [
    {
     "data": {
      "text/plain": [
       "['this', 'is', 'a', 'book']"
      ]
     },
     "execution_count": 2,
     "metadata": {},
     "output_type": "execute_result"
    }
   ],
   "source": [
    "s = 'this is a book'\n",
    "s.split()"
   ]
  },
  {
   "cell_type": "markdown",
   "metadata": {},
   "source": [
    "## Jieba\n",
    "- C:\\ProgramData\\Anaconda3\\Lib\\site-packages\\jieba"
   ]
  },
  {
   "cell_type": "code",
   "execution_count": 3,
   "metadata": {
    "collapsed": false
   },
   "outputs": [
    {
     "name": "stdout",
     "output_type": "stream",
     "text": [
      "Requirement already satisfied: jieba in c:\\programdata\\anaconda3\\lib\\site-packages\n"
     ]
    }
   ],
   "source": [
    "! pip install jieba"
   ]
  },
  {
   "cell_type": "code",
   "execution_count": 3,
   "metadata": {
    "collapsed": false
   },
   "outputs": [
    {
     "name": "stdout",
     "output_type": "stream",
     "text": [
      "那\n",
      "酸民\n",
      "婉君\n",
      "也\n",
      "可以\n",
      "報名\n",
      "嗎\n",
      "?\n"
     ]
    }
   ],
   "source": [
    "import jieba\n",
    "s = '那酸民婉君也可以報名嗎?'\n",
    "jieba.add_word('酸民')\n",
    "jieba.add_word('婉君')\n",
    "for w in jieba.cut(s):\n",
    "    print(w)"
   ]
  },
  {
   "cell_type": "code",
   "execution_count": 8,
   "metadata": {
    "collapsed": false
   },
   "outputs": [
    {
     "data": {
      "text/plain": [
       "['中央研究院院士',\n",
       " '我國駐WTO代表團常任代表朱敬一撰文質疑',\n",
       " '此次稅改股利分離課稅是圖利富人',\n",
       " '總統蔡英文接受中央社專訪時指出',\n",
       " '',\n",
       " '尊重他的看法',\n",
       " '',\n",
       " '財政部也會再向朱敬一說明',\n",
       " '不過稅改要看整體',\n",
       " '不能只看一部分',\n",
       " '她強調',\n",
       " '稅改要減輕一般所得者和中小企業的負擔',\n",
       " '希望讓受薪者和一般所得者',\n",
       " '生活安全感好一點',\n",
       " '',\n",
       " '但整體稅收損失不能太大',\n",
       " '']"
      ]
     },
     "execution_count": 8,
     "metadata": {},
     "output_type": "execute_result"
    }
   ],
   "source": [
    "import re\n",
    "article = '''中央研究院院士、我國駐WTO代表團常任代表朱敬一撰文質疑，此次稅改股利分離課稅是圖利富人。總統蔡英文接受中央社專訪時指出，「尊重他的看法」，財政部也會再向朱敬一說明，不過稅改要看整體，不能只看一部分。她強調，稅改要減輕一般所得者和中小企業的負擔，希望讓受薪者和一般所得者「生活安全感好一點」，但整體稅收損失不能太大。'''\n",
    "re.split('、|。|，|「|」', article)"
   ]
  },
  {
   "cell_type": "code",
   "execution_count": 1,
   "metadata": {
    "collapsed": false
   },
   "outputs": [
    {
     "name": "stderr",
     "output_type": "stream",
     "text": [
      "Building prefix dict from the default dictionary ...\n",
      "Loading model from cache C:\\Users\\User\\AppData\\Local\\Temp\\jieba.cache\n",
      "Loading model cost 4.729 seconds.\n",
      "Prefix dict has been built succesfully.\n"
     ]
    },
    {
     "name": "stdout",
     "output_type": "stream",
     "text": [
      "Full Mode: 大/ 巨蛋/ 案/ 對/ 市府/ 同仁/ 下/ 封口/ 封口令/ 口令/ / / / 柯/ P/ 否/ 認\n",
      "Default Mode: 大/ 巨蛋/ 案對/ 市府/ 同仁/ 下/ 封口令/ ？/ 　/ 柯/ P/ 否認\n"
     ]
    }
   ],
   "source": [
    "import jieba\n",
    "\n",
    "seg_list = jieba.cut(\"大巨蛋案對市府同仁下封口令？　柯P否認\", cut_all=True)\n",
    "print(\"Full Mode:\", \"/ \".join(seg_list))\n",
    "\n",
    "seg_list = jieba.cut(\"大巨蛋案對市府同仁下封口令？　柯P否認\", cut_all=False)\n",
    "print(\"Default Mode:\", \"/ \".join(seg_list))\n"
   ]
  },
  {
   "cell_type": "code",
   "execution_count": 2,
   "metadata": {
    "collapsed": true
   },
   "outputs": [],
   "source": [
    "#jieba.set_dictionary('userdict.txt')\n",
    "jieba.load_userdict('userdict.txt')"
   ]
  },
  {
   "cell_type": "code",
   "execution_count": 3,
   "metadata": {
    "collapsed": false
   },
   "outputs": [
    {
     "name": "stdout",
     "output_type": "stream",
     "text": [
      "Default Mode: 大巨蛋/ 案對/ 市府/ 同仁/ 下/ 封口令/ ？/ 　/ 柯P/ 否認\n"
     ]
    }
   ],
   "source": [
    "import jieba\n",
    "seg_list = jieba.cut(\"大巨蛋案對市府同仁下封口令？　柯P否認\", cut_all=False)\n",
    "print(\"Default Mode:\", \"/ \".join(seg_list))\n"
   ]
  },
  {
   "cell_type": "code",
   "execution_count": 6,
   "metadata": {
    "collapsed": false
   },
   "outputs": [
    {
     "name": "stdout",
     "output_type": "stream",
     "text": [
      "大巨蛋/x\n",
      "案/ng\n",
      "對/p\n",
      "市府/n\n",
      "同仁/nr\n",
      "下/f\n",
      "封口令/n\n",
      "？/x\n",
      "　/x\n",
      "柯P/x\n",
      "否認/v\n"
     ]
    }
   ],
   "source": [
    "import jieba.posseg as pseg\n",
    "jieba.load_userdict('userdict.txt')\n",
    "for w in pseg.cut(\"大巨蛋案對市府同仁下封口令？　柯P否認\"):\n",
    "    print(w)"
   ]
  },
  {
   "cell_type": "code",
   "execution_count": 7,
   "metadata": {
    "collapsed": false
   },
   "outputs": [
    {
     "name": "stdout",
     "output_type": "stream",
     "text": [
      "大巨蛋 0 3\n",
      "案對 3 5\n",
      "市府 5 7\n",
      "同仁 7 9\n",
      "下 9 10\n",
      "封口令 10 13\n",
      "？ 13 14\n",
      "　 14 15\n",
      "柯P 15 17\n",
      "否認 17 19\n"
     ]
    }
   ],
   "source": [
    "sentence = \"大巨蛋案對市府同仁下封口令？　柯P否認\"\n",
    "words = jieba.tokenize(sentence)\n",
    "\n",
    "for tw in words:\n",
    "    print(tw[0], tw[1], tw[2])"
   ]
  },
  {
   "cell_type": "markdown",
   "metadata": {},
   "source": [
    "## n-gram"
   ]
  },
  {
   "cell_type": "code",
   "execution_count": 9,
   "metadata": {
    "collapsed": false
   },
   "outputs": [
    {
     "data": {
      "text/plain": [
       "'那我'"
      ]
     },
     "execution_count": 9,
     "metadata": {},
     "output_type": "execute_result"
    }
   ],
   "source": [
    "s = '那我們酸民婉君也可以報名嗎?'\n",
    "s[0:2]"
   ]
  },
  {
   "cell_type": "code",
   "execution_count": 10,
   "metadata": {
    "collapsed": false
   },
   "outputs": [
    {
     "name": "stdout",
     "output_type": "stream",
     "text": [
      "那我\n",
      "我們\n",
      "們酸\n",
      "酸民\n",
      "民婉\n",
      "婉君\n",
      "君也\n",
      "也可\n",
      "可以\n",
      "以報\n",
      "報名\n",
      "名嗎\n",
      "嗎?\n"
     ]
    }
   ],
   "source": [
    "s = '那我們酸民婉君也可以報名嗎?'\n",
    "\n",
    "for i in range(0, len(s) - 2 + 1):\n",
    "    print(s[i:i+2])"
   ]
  },
  {
   "cell_type": "code",
   "execution_count": 11,
   "metadata": {
    "collapsed": false
   },
   "outputs": [
    {
     "name": "stdout",
     "output_type": "stream",
     "text": [
      "那我們\n",
      "我們酸\n",
      "們酸民\n",
      "酸民婉\n",
      "民婉君\n",
      "婉君也\n",
      "君也可\n",
      "也可以\n",
      "可以報\n",
      "以報名\n",
      "報名嗎\n",
      "名嗎?\n"
     ]
    }
   ],
   "source": [
    "for i in range(0, len(s) - 3 + 1):\n",
    "    print(s[i:i+3])"
   ]
  },
  {
   "cell_type": "code",
   "execution_count": 12,
   "metadata": {
    "collapsed": false
   },
   "outputs": [
    {
     "data": {
      "text/plain": [
       "Counter({'a': 2, 'b': 2, 'c': 1})"
      ]
     },
     "execution_count": 12,
     "metadata": {},
     "output_type": "execute_result"
    }
   ],
   "source": [
    "a = ['a', 'b', 'c', 'a', 'b']\n",
    "from collections import Counter\n",
    "c = Counter(a)\n",
    "c"
   ]
  },
  {
   "cell_type": "code",
   "execution_count": 13,
   "metadata": {
    "collapsed": true
   },
   "outputs": [],
   "source": [
    "from collections import Counter\n",
    "def ngram(s, n = 2):\n",
    "    words = []\n",
    "    for i in range(0, len(s) - n + 1):\n",
    "        words.append(s[i:i+n])\n",
    "    c = Counter(words)\n",
    "    return c"
   ]
  },
  {
   "cell_type": "code",
   "execution_count": 14,
   "metadata": {
    "collapsed": true
   },
   "outputs": [],
   "source": [
    "article = '''中央研究院院士、我國駐WTO代表團常任代表朱敬一撰文質疑，此次稅改股利分離課稅是圖利富人。總統蔡英文接受中央社專訪時指出，「尊重他的看法」，財政部也會再向朱敬一說明，不過稅改要看整體，不能只看一部分。她強調，稅改要減輕一般所得者和中小企業的負擔，希望讓受薪者和一般所得者「生活安全感好一點」，但整體稅收損失不能太大。\n",
    "蔡總統指出，國民黨執政時，把公司營利事業所得稅降到17%、個人所得稅往上調，造成經濟發展需要的投資人和專業人員，在所得稅上負擔比較大，因此需要調整；另外，稅改也要減輕創新和中小型企業的負擔，同時顧慮到整體稅收的損失不能太大。\n",
    "蔡總統表示，在這幾個原則下，稅改把營所稅從17%調高到20%，符合國際趨勢，不會太高；為了要讓創新和中小型企業減輕負擔，保留盈餘加徵營所稅則由10%降至5%。她說，大型企業在股市或資本市場集資比較容易，中小企業比較難，因此，讓中小企業的保留盈餘可做未來投資很重要。\n",
    "蔡總統指出，經濟發展裡需要的高級專業人才薪資很高，但他們對經濟發展效能大，因此稍微降低他們的賦稅負擔，綜所稅從45%降到40%，希望留住人才，這也大致符合國際趨勢。蔡總統還說，稅改還讓一般所得者有比較大扣除額，如果受薪者和一般所得者的稅負擔減輕，增加可支配所得，生活安全感更好一點，比較願意消費。（政治中心／台北報導）'''"
   ]
  },
  {
   "cell_type": "code",
   "execution_count": 22,
   "metadata": {
    "collapsed": false
   },
   "outputs": [
    {
     "data": {
      "text/plain": [
       "[('，稅改', 4),\n",
       " ('一般所', 4),\n",
       " ('般所得', 4),\n",
       " ('所得者', 4),\n",
       " ('負擔，', 4),\n",
       " ('蔡總統', 4),\n",
       " ('指出，', 3),\n",
       " ('和中小', 3),\n",
       " ('中小企', 3),\n",
       " ('小企業', 3)]"
      ]
     },
     "execution_count": 22,
     "metadata": {},
     "output_type": "execute_result"
    }
   ],
   "source": [
    "res = ngram(article, 3)\n",
    "res.most_common(10)"
   ]
  },
  {
   "cell_type": "code",
   "execution_count": 34,
   "metadata": {
    "collapsed": false
   },
   "outputs": [],
   "source": [
    "import re\n",
    "sentence_ary = re.split('、|，|」|「|。|；|／|\\n|（|）', article)"
   ]
  },
  {
   "cell_type": "code",
   "execution_count": 37,
   "metadata": {
    "collapsed": false
   },
   "outputs": [
    {
     "data": {
      "text/plain": [
       "'我國駐WTO代表團常任代表撰文質疑'"
      ]
     },
     "execution_count": 37,
     "metadata": {},
     "output_type": "execute_result"
    }
   ],
   "source": [
    "s = '我國駐WTO代表團常任代表朱敬一撰文質疑'\n",
    "#method 1\n",
    "s.replace('朱敬一', '')\n",
    "\n",
    "#method 2\n",
    "''.join(s.split('朱敬一'))"
   ]
  },
  {
   "cell_type": "code",
   "execution_count": 38,
   "metadata": {
    "collapsed": false
   },
   "outputs": [
    {
     "data": {
      "text/plain": [
       "'我國駐WTO常任代表撰文質疑'"
      ]
     },
     "execution_count": 38,
     "metadata": {},
     "output_type": "execute_result"
    }
   ],
   "source": [
    "def removeKey(s, keywords):\n",
    "    for keyword in keywords:\n",
    "        s = s.replace(keyword , '')\n",
    "    return s\n",
    "\n",
    "s = '我國駐WTO代表團常任代表朱敬一撰文質疑'\n",
    "removeKey(s, ['朱敬一', '代表團'])"
   ]
  },
  {
   "cell_type": "code",
   "execution_count": 40,
   "metadata": {
    "collapsed": false
   },
   "outputs": [
    {
     "data": {
      "text/plain": [
       "['我國',\n",
       " '國駐',\n",
       " '駐W',\n",
       " 'WT',\n",
       " 'TO',\n",
       " 'O代',\n",
       " '代表',\n",
       " '表團',\n",
       " '團常',\n",
       " '常任',\n",
       " '任代',\n",
       " '代表',\n",
       " '表朱',\n",
       " '朱敬',\n",
       " '敬一',\n",
       " '一撰',\n",
       " '撰文',\n",
       " '文質',\n",
       " '質疑']"
      ]
     },
     "execution_count": 40,
     "metadata": {},
     "output_type": "execute_result"
    }
   ],
   "source": [
    "def ngram(s, n = 2):\n",
    "    words = []\n",
    "    for i in range(0, len(s) - n + 1):\n",
    "        words.append(s[i:i+n])\n",
    "    return words\n",
    "s = '我國駐WTO代表團常任代表朱敬一撰文質疑'\n",
    "ngram(s, 2)"
   ]
  },
  {
   "cell_type": "code",
   "execution_count": 45,
   "metadata": {
    "collapsed": false
   },
   "outputs": [
    {
     "name": "stdout",
     "output_type": "stream",
     "text": [
      "一般所得 4\n",
      "般所得者 4\n",
      "中小企業 3\n",
      "經濟發展 3\n"
     ]
    }
   ],
   "source": [
    "from collections import Counter\n",
    "keywords = []\n",
    "\n",
    "words = []\n",
    "for sentence in sentence_ary:\n",
    "    ngram_words = ngram(sentence, 4)\n",
    "    words.extend(ngram_words)\n",
    "c = Counter(words)\n",
    "for k, v in c.items():\n",
    "    if v >= 3:\n",
    "        #print(k,v)\n",
    "        keywords.append(k)"
   ]
  },
  {
   "cell_type": "code",
   "execution_count": 48,
   "metadata": {
    "collapsed": false
   },
   "outputs": [
    {
     "data": {
      "text/plain": [
       "['稅改', '總統', '所得', '中小', '企業', '負擔', '比較']"
      ]
     },
     "execution_count": 48,
     "metadata": {},
     "output_type": "execute_result"
    }
   ],
   "source": [
    "from collections import Counter\n",
    "keywords = []\n",
    "\n",
    "for n in range(4,1,-1):\n",
    "    words = []\n",
    "    for sentence in sentence_ary:\n",
    "        sentence = removeKey(sentence, keywords)\n",
    "        ngram_words = ngram(sentence, n)\n",
    "        words.extend(ngram_words)\n",
    "    c = Counter(words)\n",
    "    for k, v in c.items():\n",
    "        if v >= 5:\n",
    "            #print(k,v)\n",
    "            keywords.append(k)\n",
    "keywords"
   ]
  },
  {
   "cell_type": "markdown",
   "metadata": {},
   "source": [
    "## 長詞優先法完整實做"
   ]
  },
  {
   "cell_type": "code",
   "execution_count": 49,
   "metadata": {
    "collapsed": true
   },
   "outputs": [],
   "source": [
    "article = '''台積電董事長張忠謀日前曾說，他反對政府的五加二產業，並指政府只要做好基礎建設就好，不要管太多。總統蔡英文接受中央社專訪時首度回應指出，五加二計畫不是創造新產業，絕對不會是那種古老時代、國家在經濟發展的初期，挑幾個產業然後就說要發展。她還說，和平電廠鐵塔倒塌、815大停電等事件，嚴格來說，不是缺電的問題，而是天災與人為疏失。\n",
    "蔡總統說，台灣過去有這樣的例子，例如，汽車產業是被挑出來的、半導體產業也是被挑出來的，有的成功，有的失敗；很多國家在經濟發展過程中，必須要把有限資源集中在幾個重要的產業上，讓它能夠快速成長，然後帶著經濟往前走，「我們確實已經脫離了那種模式，我們現在要做是在現有的產業基礎上，去讓它更有競爭力、更能夠轉型。」\n",
    "蔡總統指出，五加二的基礎產業其實都已存在，而且是有相當規模的產業，智慧機械是最明顯例子，台灣的機械產業做得很好，ICT產業也做得很好，為何不在這個基礎上，鼓勵業者把兩者結合起來，就是下一個世代的智慧機械。她也強調，「政府不是指定你只能做這個，不能做那個」，而是在現有的產業基礎上，快速地讓產業升級，讓它可以移到下個階段的競爭力。\n",
    "蔡總統表示，要發展這些產業，有些基礎工程，不是企業自己可以做得出來，那就是政府要做的，例如硬體的基礎設備、軟體的能力、數位的基礎建設，都要替企業備齊；因此，政府對於企業界在意的「五缺」（缺水、缺電、缺地、缺工、缺人才），十分重視，會積極處理，尤其對於缺電的議題。\n",
    "蔡總統指出，和平電廠鐵塔倒塌、815大停電等事件，嚴格來說，不是缺電的問題，而是天災與人為疏失，它暴露整個供電系統的問題，包括輸電系統、人員嚴謹度等問題。她說，雖然一般認為備轉容量率大概7%或8%就夠，但這事件過後，她確實有拜託經濟部去考慮，把備轉容量拉到10%。（政治中心／台北報導）'''"
   ]
  },
  {
   "cell_type": "code",
   "execution_count": 58,
   "metadata": {
    "collapsed": false
   },
   "outputs": [
    {
     "data": {
      "text/plain": [
       "['五加二',\n",
       " '缺電的',\n",
       " '的問題',\n",
       " '蔡總統',\n",
       " '的產業',\n",
       " '基礎上',\n",
       " '的基礎',\n",
       " '政府',\n",
       " '要做',\n",
       " '指出',\n",
       " '不是',\n",
       " '產業',\n",
       " '經濟',\n",
       " '發展',\n",
       " '事件',\n",
       " '問題',\n",
       " '而是',\n",
       " '出來',\n",
       " '讓它',\n",
       " '機械',\n",
       " '做得',\n",
       " '企業']"
      ]
     },
     "execution_count": 58,
     "metadata": {},
     "output_type": "execute_result"
    }
   ],
   "source": [
    "import re\n",
    "\n",
    "def ngram(s, n = 2):\n",
    "    words = []\n",
    "    for i in range(0, len(s) - n + 1):\n",
    "        words.append(s[i:i+n])\n",
    "    return words\n",
    "\n",
    "def removeKey(s, keywords):\n",
    "    for keyword in keywords:\n",
    "        s = s.replace(keyword , '')\n",
    "    return s\n",
    "\n",
    "\n",
    "\n",
    "sentence_ary = re.split('、|，|」|「|。|；|／|\\n|（|）', article)\n",
    "\n",
    "keywords = []\n",
    "for n in range(6,1,-1):\n",
    "    words = []\n",
    "    for sentence in sentence_ary:\n",
    "        sentence = removeKey(sentence, keywords)\n",
    "        ngram_words = ngram(sentence, n)\n",
    "        words.extend(ngram_words)\n",
    "    c = Counter(words)\n",
    "    for k, v in c.items():\n",
    "        if v >= 3:\n",
    "            keywords.append(k)\n",
    "keywords"
   ]
  },
  {
   "cell_type": "code",
   "execution_count": null,
   "metadata": {
    "collapsed": true
   },
   "outputs": [],
   "source": []
  }
 ],
 "metadata": {
  "kernelspec": {
   "display_name": "Python 3",
   "language": "python",
   "name": "python3"
  },
  "language_info": {
   "codemirror_mode": {
    "name": "ipython",
    "version": 3
   },
   "file_extension": ".py",
   "mimetype": "text/x-python",
   "name": "python",
   "nbconvert_exporter": "python",
   "pygments_lexer": "ipython3",
   "version": "3.6.0"
  }
 },
 "nbformat": 4,
 "nbformat_minor": 2
}
